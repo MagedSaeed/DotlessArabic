{
 "cells": [
  {
   "cell_type": "code",
   "execution_count": 16,
   "metadata": {},
   "outputs": [],
   "source": [
    "from tqdm.auto import tqdm\n",
    "from sacremoses.tokenize import MosesTokenizer\n",
    "from sacrebleu import BLEU\n",
    "\n",
    "from dotless_arabic.processing import undot\n",
    "from dotless_arabic.experiments.dots_retrieval.src.utils import add_dots_to_undotted_text\n",
    "from dotless_arabic.datasets.iwslt2017.collect import collect_parallel_test_dataset_for_translation,collect_parallel_train_dataset_for_translation,collect_parallel_val_dataset_for_translation\n",
    "from dotless_arabic.experiments.translation.src.models import TranslationTransformer\n",
    "from dotless_arabic.experiments.translation.src.utils import get_best_checkpoint,get_source_tokenizer,get_target_tokenizer, get_blue_score\n",
    "from dotless_arabic.experiments.translation.src.processing import process_ar,process_en\n",
    "from dotless_arabic.tokenizers import SentencePieceTokenizer,WordTokenizer"
   ]
  },
  {
   "cell_type": "code",
   "execution_count": 2,
   "metadata": {},
   "outputs": [],
   "source": [
    "tqdm.pandas()"
   ]
  },
  {
   "cell_type": "code",
   "execution_count": 3,
   "metadata": {},
   "outputs": [
    {
     "data": {
      "application/vnd.jupyter.widget-view+json": {
       "model_id": "454f0ee00fb749a2905ac5b3bcc44150",
       "version_major": 2,
       "version_minor": 0
      },
      "text/plain": [
       "Map:   0%|          | 0/231713 [00:00<?, ? examples/s]"
      ]
     },
     "metadata": {},
     "output_type": "display_data"
    },
    {
     "data": {
      "application/vnd.jupyter.widget-view+json": {
       "model_id": "dba7f0bff23f4e04925fc5b21229adbb",
       "version_major": 2,
       "version_minor": 0
      },
      "text/plain": [
       "Map:   0%|          | 0/888 [00:00<?, ? examples/s]"
      ]
     },
     "metadata": {},
     "output_type": "display_data"
    },
    {
     "data": {
      "application/vnd.jupyter.widget-view+json": {
       "model_id": "569c7f7127544e4ebff2acd3ce798aaa",
       "version_major": 2,
       "version_minor": 0
      },
      "text/plain": [
       "Map:   0%|          | 0/1205 [00:00<?, ? examples/s]"
      ]
     },
     "metadata": {},
     "output_type": "display_data"
    },
    {
     "data": {
      "application/vnd.jupyter.widget-view+json": {
       "model_id": "1a71b7632a6e42a1bf8f74e79c9f0b51",
       "version_major": 2,
       "version_minor": 0
      },
      "text/plain": [
       "  0%|          | 0/231713 [00:00<?, ?it/s]"
      ]
     },
     "metadata": {},
     "output_type": "display_data"
    },
    {
     "data": {
      "application/vnd.jupyter.widget-view+json": {
       "model_id": "7185c5e6a11b45148480e3157f7d07bd",
       "version_major": 2,
       "version_minor": 0
      },
      "text/plain": [
       "  0%|          | 0/888 [00:00<?, ?it/s]"
      ]
     },
     "metadata": {},
     "output_type": "display_data"
    },
    {
     "data": {
      "application/vnd.jupyter.widget-view+json": {
       "model_id": "86f72cf637794a939eb94b59f12c40ba",
       "version_major": 2,
       "version_minor": 0
      },
      "text/plain": [
       "  0%|          | 0/1205 [00:00<?, ?it/s]"
      ]
     },
     "metadata": {},
     "output_type": "display_data"
    },
    {
     "data": {
      "application/vnd.jupyter.widget-view+json": {
       "model_id": "f06acecbd634415f88e9dea68cf4b9e8",
       "version_major": 2,
       "version_minor": 0
      },
      "text/plain": [
       "  0%|          | 0/231713 [00:00<?, ?it/s]"
      ]
     },
     "metadata": {},
     "output_type": "display_data"
    },
    {
     "data": {
      "application/vnd.jupyter.widget-view+json": {
       "model_id": "a95695de3c3b4ff7b3d13ba17a42c72b",
       "version_major": 2,
       "version_minor": 0
      },
      "text/plain": [
       "  0%|          | 0/888 [00:00<?, ?it/s]"
      ]
     },
     "metadata": {},
     "output_type": "display_data"
    },
    {
     "data": {
      "application/vnd.jupyter.widget-view+json": {
       "model_id": "58977dad030b4656a32ef28d2683d7a4",
       "version_major": 2,
       "version_minor": 0
      },
      "text/plain": [
       "  0%|          | 0/1205 [00:00<?, ?it/s]"
      ]
     },
     "metadata": {},
     "output_type": "display_data"
    },
    {
     "data": {
      "application/vnd.jupyter.widget-view+json": {
       "model_id": "60f445b57a06423aa7a3b0b1bba68438",
       "version_major": 2,
       "version_minor": 0
      },
      "text/plain": [
       "  0%|          | 0/231713 [00:00<?, ?it/s]"
      ]
     },
     "metadata": {},
     "output_type": "display_data"
    },
    {
     "data": {
      "application/vnd.jupyter.widget-view+json": {
       "model_id": "568518abbf234feba48f00ed7a2b05dd",
       "version_major": 2,
       "version_minor": 0
      },
      "text/plain": [
       "  0%|          | 0/888 [00:00<?, ?it/s]"
      ]
     },
     "metadata": {},
     "output_type": "display_data"
    },
    {
     "data": {
      "application/vnd.jupyter.widget-view+json": {
       "model_id": "6d261bf94d1e4419be291f6f1ddeb7aa",
       "version_major": 2,
       "version_minor": 0
      },
      "text/plain": [
       "  0%|          | 0/1205 [00:00<?, ?it/s]"
      ]
     },
     "metadata": {},
     "output_type": "display_data"
    },
    {
     "data": {
      "application/vnd.jupyter.widget-view+json": {
       "model_id": "41a0fbc9bf7b4dbd8afe6fc1ca89f4c4",
       "version_major": 2,
       "version_minor": 0
      },
      "text/plain": [
       "  0%|          | 0/231713 [00:00<?, ?it/s]"
      ]
     },
     "metadata": {},
     "output_type": "display_data"
    },
    {
     "name": "stdout",
     "output_type": "stream",
     "text": [
      "Training SentencePiece ...\n"
     ]
    },
    {
     "data": {
      "application/vnd.jupyter.widget-view+json": {
       "model_id": "d4ac855e25224b269884e601241fc23e",
       "version_major": 2,
       "version_minor": 0
      },
      "text/plain": [
       "0it [00:00, ?it/s]"
      ]
     },
     "metadata": {},
     "output_type": "display_data"
    },
    {
     "name": "stdout",
     "output_type": "stream",
     "text": [
      "Training SentencePiece ...\n"
     ]
    }
   ],
   "source": [
    "train_dataset = collect_parallel_train_dataset_for_translation()\n",
    "val_dataset = collect_parallel_val_dataset_for_translation()\n",
    "test_dataset = collect_parallel_test_dataset_for_translation()\n",
    "\n",
    "def processing_map(example):\n",
    "    example[\"ar\"] = process_ar(example[\"ar\"])\n",
    "    example[\"en\"] = process_en(example[\"en\"])\n",
    "    return example\n",
    "\n",
    "train_dataset = train_dataset.map(\n",
    "    processing_map,\n",
    "    load_from_cache_file=False,\n",
    ").to_pandas()\n",
    "val_dataset = val_dataset.map(\n",
    "    processing_map,\n",
    "    load_from_cache_file=False,\n",
    ").to_pandas()\n",
    "test_dataset = test_dataset.map(\n",
    "    processing_map,\n",
    "    load_from_cache_file=False,\n",
    ").to_pandas()\n",
    "\n",
    "moses_tokenizer = MosesTokenizer()\n",
    "train_dataset[\"en\"] = train_dataset[\"en\"].progress_map(\n",
    "    lambda text: moses_tokenizer.tokenize(text, return_str=True)\n",
    ")\n",
    "val_dataset[\"en\"] = val_dataset[\"en\"].progress_map(\n",
    "    lambda text: moses_tokenizer.tokenize(text, return_str=True)\n",
    ")\n",
    "test_dataset[\"en\"] = test_dataset[\"en\"].progress_map(\n",
    "    lambda text: moses_tokenizer.tokenize(text, return_str=True)\n",
    ")\n",
    "train_dataset[\"ar\"] = train_dataset[\"ar\"].progress_map(\n",
    "    lambda text: moses_tokenizer.tokenize(text, return_str=True)\n",
    ")\n",
    "val_dataset[\"ar\"] = val_dataset[\"ar\"].progress_map(\n",
    "    lambda text: moses_tokenizer.tokenize(text, return_str=True)\n",
    ")\n",
    "test_dataset[\"ar\"] = test_dataset[\"ar\"].progress_map(\n",
    "    lambda text: moses_tokenizer.tokenize(text, return_str=True)\n",
    ")\n",
    "\n",
    "dotted_ar_test_dataset = test_dataset[\"ar\"]\n",
    "\n",
    "train_dataset[\"ar\"] = list(\n",
    "    map(\n",
    "        undot,\n",
    "        tqdm(train_dataset[\"ar\"]),\n",
    "    )\n",
    ")\n",
    "val_dataset[\"ar\"] = list(\n",
    "    map(\n",
    "        undot,\n",
    "        tqdm(val_dataset[\"ar\"]),\n",
    "    )\n",
    ")\n",
    "test_dataset[\"ar\"] = list(\n",
    "    map(\n",
    "        undot,\n",
    "        tqdm(test_dataset[\"ar\"]),\n",
    "    )\n",
    ")\n",
    "\n",
    "\n",
    "source_tokenizer = get_source_tokenizer(\n",
    "    train_dataset=train_dataset,\n",
    "    tokenizer_class=SentencePieceTokenizer,\n",
    "    source_language_code='en',\n",
    "    undot_text=False,\n",
    ")\n",
    "target_tokenizer = get_target_tokenizer(\n",
    "    train_dataset=train_dataset,\n",
    "    tokenizer_class=SentencePieceTokenizer,\n",
    "    target_language_code='ar',\n",
    "    undot_text=True,\n",
    ")"
   ]
  },
  {
   "cell_type": "code",
   "execution_count": 6,
   "metadata": {},
   "outputs": [
    {
     "name": "stdout",
     "output_type": "stream",
     "text": [
      "checkpiont epoch=22-val_loss=3.171-step=83282.ckpt found.\n"
     ]
    },
    {
     "data": {
      "text/plain": [
       "TranslationTransformer(\n",
       "  (transformer): Transformer(\n",
       "    (encoder): TransformerEncoder(\n",
       "      (layers): ModuleList(\n",
       "        (0-5): 6 x TransformerEncoderLayer(\n",
       "          (self_attn): MultiheadAttention(\n",
       "            (out_proj): NonDynamicallyQuantizableLinear(in_features=512, out_features=512, bias=True)\n",
       "          )\n",
       "          (linear1): Linear(in_features=512, out_features=2048, bias=True)\n",
       "          (dropout): Dropout(p=0.1, inplace=False)\n",
       "          (linear2): Linear(in_features=2048, out_features=512, bias=True)\n",
       "          (norm1): LayerNorm((512,), eps=1e-05, elementwise_affine=True)\n",
       "          (norm2): LayerNorm((512,), eps=1e-05, elementwise_affine=True)\n",
       "          (dropout1): Dropout(p=0.1, inplace=False)\n",
       "          (dropout2): Dropout(p=0.1, inplace=False)\n",
       "        )\n",
       "      )\n",
       "      (norm): LayerNorm((512,), eps=1e-05, elementwise_affine=True)\n",
       "    )\n",
       "    (decoder): TransformerDecoder(\n",
       "      (layers): ModuleList(\n",
       "        (0-5): 6 x TransformerDecoderLayer(\n",
       "          (self_attn): MultiheadAttention(\n",
       "            (out_proj): NonDynamicallyQuantizableLinear(in_features=512, out_features=512, bias=True)\n",
       "          )\n",
       "          (multihead_attn): MultiheadAttention(\n",
       "            (out_proj): NonDynamicallyQuantizableLinear(in_features=512, out_features=512, bias=True)\n",
       "          )\n",
       "          (linear1): Linear(in_features=512, out_features=2048, bias=True)\n",
       "          (dropout): Dropout(p=0.1, inplace=False)\n",
       "          (linear2): Linear(in_features=2048, out_features=512, bias=True)\n",
       "          (norm1): LayerNorm((512,), eps=1e-05, elementwise_affine=True)\n",
       "          (norm2): LayerNorm((512,), eps=1e-05, elementwise_affine=True)\n",
       "          (norm3): LayerNorm((512,), eps=1e-05, elementwise_affine=True)\n",
       "          (dropout1): Dropout(p=0.1, inplace=False)\n",
       "          (dropout2): Dropout(p=0.1, inplace=False)\n",
       "          (dropout3): Dropout(p=0.1, inplace=False)\n",
       "        )\n",
       "      )\n",
       "      (norm): LayerNorm((512,), eps=1e-05, elementwise_affine=True)\n",
       "    )\n",
       "  )\n",
       "  (src_tok_emb): TokenEmbedding(\n",
       "    (embedding): Embedding(4000, 512, padding_idx=1)\n",
       "  )\n",
       "  (tgt_tok_emb): TokenEmbedding(\n",
       "    (embedding): Embedding(4000, 512, padding_idx=1)\n",
       "  )\n",
       "  (positional_encoding): PositionalEncoding(\n",
       "    (dropout): Dropout(p=0.1, inplace=False)\n",
       "  )\n",
       "  (dense): Linear(in_features=512, out_features=4000, bias=True)\n",
       ")"
      ]
     },
     "execution_count": 6,
     "metadata": {},
     "output_type": "execute_result"
    }
   ],
   "source": [
    "model = TranslationTransformer.load_from_checkpoint(get_best_checkpoint(\n",
    "    is_dotted=False,\n",
    "    source_language_code='en',\n",
    "    target_language_code='ar',\n",
    "    source_tokenizer_class=SentencePieceTokenizer,\n",
    "    target_tokenizer_class=SentencePieceTokenizer,\n",
    "))\n",
    "model"
   ]
  },
  {
   "cell_type": "markdown",
   "metadata": {},
   "source": [
    "### using `get_bleu_score_method`"
   ]
  },
  {
   "cell_type": "code",
   "execution_count": 18,
   "metadata": {},
   "outputs": [
    {
     "data": {
      "application/vnd.jupyter.widget-view+json": {
       "model_id": "703ff810ed7c47d2b33bbf626f79c501",
       "version_major": 2,
       "version_minor": 0
      },
      "text/plain": [
       "  0%|          | 0/1205 [00:00<?, ?it/s]"
      ]
     },
     "metadata": {},
     "output_type": "display_data"
    },
    {
     "data": {
      "application/vnd.jupyter.widget-view+json": {
       "model_id": "e9fe021435914b80b2a5e496cb1ae39e",
       "version_major": 2,
       "version_minor": 0
      },
      "text/plain": [
       "  0%|          | 0/1205 [00:00<?, ?it/s]"
      ]
     },
     "metadata": {},
     "output_type": "display_data"
    },
    {
     "name": "stdout",
     "output_type": "stream",
     "text": [
      "Source: Today I'm going to speak to you about the last 30 years of architectural history.\n",
      "Prediction: اليوم سوف اتجذب اليكم عن ال30 سنة الاخيرة من التاريخ المعماري.\n",
      "Target: سأحدثكم اليوم عن 30 عاما من تاريخ الهندسة.\n",
      "********************************************************************************\n",
      "Source: That's a lot to pack into 18 minutes.\n",
      "Prediction: وهذا كبير جدا للحزمة في 18 دقيقة.\n",
      "Target: هذا أمر كبير جدا لألخصه في 18 دقيقة.\n",
      "********************************************************************************\n",
      "Source: It's a complex topic, so we're just going to dive right in at a complex place: New Jersey.\n",
      "Prediction: انه موضوع معقد ، لذلك سيقوم بالغوص مباشرة في مكان معقد: نيو جيرسي.\n",
      "Target: إنه موضوع معقد ، لذلك فإننا سنتوجه مباشرة إلى مكان معقد: إلى نيو جيرسي ،\n",
      "********************************************************************************\n",
      "Source: Because 30 years ago, I'm from Jersey, and I was six, and I lived there in my parents' house in a town called Livingston, and this was my childhood bedroom.\n",
      "Prediction: لانه منذ 30 عاما ، انا من جيرسي ، كين في السادسة من عمري ، وكتب هناك في منزل والداي في مدينة تدعي لانسيبسيون ، وكانت هذه هي غرفة نوم الطفولة.\n",
      "Target: لأنه منذ 30 سنة ، أنا من نيوجيرسي ، كنت في السادسة من عمري ، وكنت أعيش هناك مع والدي في مدينة تدعى ليفينغستون ، وكانت هذه غرفة نومي.\n",
      "********************************************************************************\n",
      "Source: Around the corner from my bedroom was the bathroom that I used to share with my sister.\n",
      "Prediction: كان خلاف الزاوية من غرفة يومي هو الحمام الذي كتب اشاركه مع اختي.\n",
      "Target: عند زاوية غرفتي كان هناك حمام أتقاسمه مع أختي.\n",
      "********************************************************************************\n",
      "Source: And in between my bedroom and the bathroom was a balcony that overlooked the family room.\n",
      "Prediction: و بين غرفة يومي و حمام الحمام كان شرفها قد سربت غرفة العايلة.\n",
      "Target: وبين غرفتي والحمام كانت هناك شرفة تطل على غرفة المعيشة.\n",
      "********************************************************************************\n",
      "Source: And that's where everyone would hang out and watch TV, so that every time that I walked from my bedroom to the bathroom, everyone would see me, and every time I took a shower and would come back in a towel, everyone would see me.\n",
      "Prediction: و هذا هو المكان الذي يمكن للجميع ان يخرج و يشاهد التلفاز ، و بحيث كلما دخلت من غرفتي الي الحمام ، كان الجميع برويني ، و كل مرة اخذت حماما ، و يعودون الي البديل ، الجميع براوني.\n",
      "Target: وهناك حيث كان يجتمع الجميع لمشاهدة التلفاز ، لذلك فإنه في كل مرة أذهب من غرفتي إلى الحمام ، كان الجميع يراني ، وفي كل مرة أستحم وأخرج ملتحفا فوطتي ، كان الجميع يراني.\n",
      "********************************************************************************\n",
      "Source: And I looked like this.\n",
      "Prediction: وبسدويني هكذا..\n",
      "Target: كنت أبدو هكذا.\n",
      "********************************************************************************\n",
      "Source: I was awkward, insecure, and I hated it.\n",
      "Prediction: كتب مخرجه ، غير مرغوب ، وكتبت قد كرهت.\n",
      "Target: كنت أحس بالغرابة ، وعدم الأمان ، فكنت أكره هذا الشعور.\n",
      "********************************************************************************\n",
      "Source: I hated that walk, I hated that balcony, I hated that room, and I hated that house.\n",
      "Prediction: كنب اكره تلك المشية ، و اكرة السرقة ، وكرهت تلك الغرفة ، و كرهت ذلك المنزل. افرعوا في ذلك المنزل.\n",
      "Target: كنت أكره ذلك الممشى ، تلك الشرفة ، كنت أكره تلك الغرفة ، وذلك البيت.\n",
      "********************************************************************************\n",
      "Source: And that's architecture.\n",
      "Prediction: و هذا هو الهندسة المعمارية.\n",
      "Target: وتلك هي الهندسة المعمارية.\n",
      "********************************************************************************\n",
      "Source: Done.\n",
      "Prediction: اختيار.\n",
      "Target: انتهى.\n",
      "********************************************************************************\n",
      "Source: That feeling, those emotions that I felt, that's the power of architecture, because architecture is not about math and it's not about zoning, it's about those visceral, emotional connections that we feel to the places that we occupy.\n",
      "Prediction: هذا الشعور ، تلك العواطف التي احسست انها قوة الهندسة المعمارية ، لان العمارة ليست عن الرياضيات وليست حول التقسيم ، انها عن تلك الروابط العاطفية التي تشعر انها في اماكن تشغلها.\n",
      "Target: ذلك الشعور ، تلك الأحاسيس التي أحسها ، تلك هي قوة الهندسة المعمارية ، لأن الهندسة المعمارية ليست رياضيات وتقسيما. بل هي تلك التقاطعات الحسية المشحونة التي نحسها في الأماكن التي نشغلها.\n",
      "********************************************************************************\n",
      "Source: And it's no surprise that we feel that way, because according to the EPA, Americans spend 90 percent of their time indoors.\n",
      "Prediction: وليس من المفاجي ان يشعر بهذه الطريقة ، لانه وفقا ل EPA ، فان الاميركيين يقضون 90 في المية من وقتهم في الداخل.\n",
      "Target: ولا غرابة في أننا نحس على هذا النحو ، لأنه بحسب وكالة حماية البيئة ، فإن الأمريكيين يقضون 90 في المئة من أوقاتهم في الخارج.\n",
      "********************************************************************************\n",
      "Source: That's 90 percent of our time surrounded by architecture.\n",
      "Prediction: هذا ال 90% من وقتيا محاط بالعمارة.\n",
      "Target: يعني 90 في المئة من أوقاتنا ونحن محاطون بالهندسة.\n",
      "********************************************************************************\n",
      "Source: That's huge.\n",
      "Prediction: هذا امر ضخم.\n",
      "Target: هذا أمر هائل.\n",
      "********************************************************************************\n",
      "Source: That means that architecture is shaping us in ways that we didn't even realize.\n",
      "Prediction: ان هذا يعني ان العمارة هي تشكلنا بطرق لم يكن يدركها.\n",
      "Target: ما يعني أن الهندسة تحدد من نكون بطرق لم نكن نعيها بالأساس ،\n",
      "********************************************************************************\n",
      "Source: That makes us a little bit gullible and very, very predictable.\n",
      "Prediction: هذا يجعل متا ملمون قليلا ومتوقع جدا.\n",
      "Target: ما يجعلنا سذجا شيئا ما ، ويمكن التنبؤ بما نريد بسهولة جدا.\n",
      "********************************************************************************\n",
      "Source: It means that when I show you a building like this, I know what you think: You think \"power\" and \"stability\" and \"democracy.\"\n",
      "Prediction: يعني ذلك انه عندما انين لكم ميني مثل هذا ، انا اعرف ما يفكر به: يعتقد انك قوة و \"الاستقرار\" و \"الديمقراطية\".\n",
      "Target: هذا يعني أنه حين أريكم مبنى كهذا ، أعلم بماذا ستفكرون: ستفكرون ب \"القوة 'و' الاستقرار\" و \"الديمقراطية.\"\n",
      "********************************************************************************\n",
      "Source: And I know you think that because it's based on a building that was build 2,500 years ago by the Greeks.\n",
      "Prediction: و انا اعلم انكم يعتقدون ذلك لانه مبني علي متني كان بناء قبل 2500 سنة من قبل الاغريق.\n",
      "Target: وأعرف أنكم تفكرون على هذا النحو لأنه مبني على أساس بناء أسس منذ 2500 سنت خلت من طرف اليونانيين.\n",
      "********************************************************************************\n",
      "Source: This is a trick.\n",
      "Prediction: هذه المباراة هي الحيلة.\n",
      "Target: هذه هي الخدعة.\n",
      "********************************************************************************\n",
      "Source: This is a trigger that architects use to get you to create an emotional connection to the forms that we build our buildings out of.\n",
      "Prediction: هذا هو سحر استغلال المعماري الذي يستخدمه لك لانشاء اتصال عاطفي للاشكال التي تبنتها من مباباتنا.\n",
      "Target: هذا هو المحفز الذي يستعمله المهندسون لكي يخلقوا لديكم ذلك الرابط العاطفي مع الأشكال التي نبني بها البنايات.\n",
      "********************************************************************************\n",
      "Source: It's a predictable emotional connection, and we've been using this trick for a long, long time.\n",
      "Prediction: انها عبارة عن اتصال عاطفي معقول و كنا نستخدم هذه الحيلة لوقت طويل و طويل\n",
      "Target: إنه رابط عاطفي متوقع ، وقد استعملناه منذ زمن طويل جدا.\n",
      "********************************************************************************\n",
      "Source: We used it [200] years ago to build banks.\n",
      "Prediction: استخدمناها منذ 200 سنة مضت لبناء البنوك.\n",
      "Target: استعملناه منذ 200 سنة لبناء الأبناك.\n",
      "********************************************************************************\n",
      "Source: We used it in the 19th century to build art museums.\n",
      "Prediction: استخدمناها في القرن التاسع عشر لبناء متاحف فنية.\n",
      "Target: استعملناه في القرن 19 لبناء المتاحف الفنية.\n",
      "********************************************************************************\n",
      "Source: And in the 20th century in America, we used it to build houses.\n",
      "Prediction: و في القرن العشرين في امريكا ، قميا باستخدامه لبناء المنازل.\n",
      "Target: وفي القرن ال20 في الولايات المتحدة الأمريكية ، استعملناه لبناء المنازل.\n",
      "********************************************************************************\n",
      "Source: And look at these solid, stable little soldiers facing the ocean and keeping away the elements.\n",
      "Prediction: وانظري الي هذه الجنود الصليبيين الصغار المستقرة الذين يواجهون المحيط ويبقون علي عناصر.\n",
      "Target: أنظروا إلى هؤلاء الجنود اليافعين المستقرين وذوي الصلابة ، المواجهين للمحيط ليبعدوا الأخطار ،\n",
      "********************************************************************************\n",
      "Source: This is really, really useful, because building things is terrifying.\n",
      "Prediction: هذا الابطال مفيد حقا ، لان بناء الاشياء مخيفة.\n",
      "Target: هذا أمر مفيد جدا. لأن بناء الأشياء أمر مرعب.\n",
      "********************************************************************************\n",
      "Source: It's expensive, it takes a long time, and it's very complicated.\n",
      "Prediction: انها مكلفة ، انها تتطلب وقت طويل ، وهي معقدة جدا.\n",
      "Target: فهو مكلف ، ويتطلب وقتا طويلا ، كما أنه معقد جدا ،\n",
      "********************************************************************************\n",
      "Source: And the people that build things -- developers and governments -- they're naturally afraid of innovation, and they'd rather just use those forms that they know you'll respond to.\n",
      "Prediction: والناس الذين يقومون ببناء الاشياء - - المطورون والحكومات - - انهم يخافون طبيعيا من الابتكار ، ويفضلون استخدام هذه الاشكال التي يعرفون انها سيستجيبون.\n",
      "Target: ومن يقوم ببناء هذه الأشياء - - المطورون والحكومات - - يخافون بشكل طبيعي من الابتكار ، ومن الأفضل أن يستعملوا فقط تلك الأشكال التي يعلمون أنكم ستجاوبون معها.\n",
      "********************************************************************************\n",
      "Source: That's how we end up with buildings like this.\n",
      "Prediction: هكذا تنتهي بنا المطاف مع مباني مثل هذه.\n",
      "Target: لذلك فإننا نحصل في النهاية على بنايات كهذه.\n",
      "********************************************************************************\n",
      "Source: This is a nice building.\n",
      "Prediction: هذا التسلسل جميل في البناء.\n",
      "Target: هذه بناية جميلة.\n",
      "********************************************************************************\n",
      "Source: This is the Livingston Public Library that was completed in 2004 in my hometown, and, you know, it's got a dome and it's got this round thing and columns, red brick, and you can kind of guess what Livingston is trying to say with this building: children, property values and history.\n",
      "Prediction: هذا الاتحاد هو مكتبة لانسيون العامة التي تم الانتهاء بها في عام 2004 في بلدي ، وكما يعلمون ، لديها فبه نادية ولديه هذا الشيء الحرح والعموم ، الطوب الحمراء ، ويمكنك تخمين ما يحاول ان تقول مع هذه الانابيب.\n",
      "Target: هذه هي مكتبة ليفنغستون العامة التي تم الانتهاء منها سنة 2004 في مسقط رأسي ، ولديها ، كما تعلمون ، قبة وذلك الشيء الدائري ، وبها أعمدة ، وآجور أحمر ، وبإمكانكم أن تخمنوا ما تحاول ليفنغستون أن تقوله من خلال هذه البناية: الأطفال ، قيم الممتلكات وتاريخها.\n",
      "********************************************************************************\n",
      "Source: But it doesn't have much to do with what a library actually does today.\n",
      "Prediction: لكن ليس لها علاقة كبيرة بما تفعله المكتبة اليوم.\n",
      "Target: لكن ليست لها أوجه تشابه كثيرة مع ما تقوم به المكتبات اليوم.\n",
      "********************************************************************************\n",
      "Source: That same year, in 2004, on the other side of the country, another library was completed, and it looks like this.\n",
      "Prediction: في نفس السنة ، في 2004 ، في الجانب الآحر من البلاد ، ثم اكتمل مكتبة اخري ، ويبدوا هكذا.\n",
      "Target: في تلك السنة نفسها ، 2004 ، في الجانب الآخر من البلاد ، تم الانتهاء من بناء مكتبة أخرى. كانت تبدو هكذا.\n",
      "********************************************************************************\n",
      "Source: It's in Seattle.\n",
      "Prediction: انها في سياتل. الروح الخبيثة.\n",
      "Target: في سياتل.\n",
      "********************************************************************************\n",
      "Source: This library is about how we consume media in a digital age.\n",
      "Prediction: هذه المكتبة هي عن كيفية استهلاكتا الاعلام في عصر رقمي.\n",
      "Target: تدور فكرة هذه المكتبة عن كيفية استهلاكنا للإعلام في الزمن الرقمي.\n",
      "********************************************************************************\n",
      "Source: It's about a new kind of public amenity for the city, a place to gather and read and share.\n",
      "Prediction: انها حول نوع جديد من الصحة العامة للمدينة ، مكان لجمع و يقرء.\n",
      "Target: فهي تشكل نوعا من المناعة العمومية للمدينة ، مكان للتجمع وللقراءة ولمشاركة الآراء.\n",
      "********************************************************************************\n",
      "Source: So how is it possible that in the same year, in the same country, two buildings, both called libraries, look so completely different?\n",
      "Prediction: بالتالي كيف يمكن ذلك في نفس السنة في نفس البلد ، في نفس البلد ، اثنتان ، كلاهما من المكتبات ، ان يبدو مختلفا تماما ؟\n",
      "Target: إذن كيف أنه من الممكن أنه في نفس السنة ، في نفس الدولة ، تبدو بنايتان ، كلتاهما مكتبتان ، بشكلين مختلفين تماما ؟\n",
      "********************************************************************************\n",
      "Source: And the answer is that architecture works on the principle of a pendulum.\n",
      "Prediction: وحيث ان الجواب هو ان العمارة يعمل علي مبدا البندول.\n",
      "Target: والجواب أن الهندسة تعمل بمبدأ عقارب الساعة.\n",
      "********************************************************************************\n",
      "Source: On the one side is innovation, and architects are constantly pushing, pushing for new technologies, new typologies, new solutions for the way that we live today.\n",
      "Prediction: علي الجانب الاول من الجانب هو الابتكار ، والمعماريون يدفعون باستمرار ، يدفعون للتكنولوجيا الجديدة ، والتعديلات الجديدة ، حلول جديدة للطريقة التي يعيش بها اليوم.\n",
      "Target: في الجهة الأولى نجد الابتكار ، حيث يدفع المهندسون باستمرار في اتجاه تبني تكنولوجيا حديثة ، دراسة رموز جديدة ، حلول جديدة للكيفية التي نعيش بها اليوم.\n",
      "********************************************************************************\n",
      "Source: And we push and we push and we push until we completely alienate all of you.\n",
      "Prediction: و يضغط و بضغط و بضغط و ينحرف حتي ينتقد كلكم تماما.\n",
      "Target: ذلك أننا ندفع وندفع وندفع حتى نجعلكم تنفرون جميعا.\n",
      "********************************************************************************\n",
      "Source: We wear all black, we get very depressed, you think we're adorable, we're dead inside because we've got no choice.\n",
      "Prediction: نجن برتدي كل الاسود ، و يصاب بالاكتيان ، و يعتقدون اننا مرياومين ، و نحن مينين في الداخل لاننا لم يكن لدينا اي خيار.\n",
      "Target: نرتدي ملابس سوداء ، ونكتئب ، فتعتقدون أننا محببون ، فنموت في دواخلنا لأنه بالنهاية ليس لنا خيار آخر.\n",
      "********************************************************************************\n",
      "Source: We have to go to the other side and reengage those symbols that we know you love.\n",
      "Prediction: يجب ان يذهب الي الجانب الآحر واعادة تكوين تلك الرموز التي يعلمها تحتك.\n",
      "Target: علينا أن نتوجه إلى الجهة الأخرى لنشرك مرة أخرى تلك الرموز التي نعلم أنكم تحبونها.\n",
      "********************************************************************************\n",
      "Source: So we do that, and you're happy, we feel like sellouts, so we start experimenting again and we push the pendulum back and back and forth and back and forth we've gone for the last 300 years, and certainly for the last 30 years.\n",
      "Prediction: اذا نحن بفعل ذلك ، و ابي سعيد ، نحن بشعر مثل الايجار ، و يبدا بالبجارب مرة اخري و يدفعنا للوراء و ذهابا وايابا و ذهنيا للخلق و ذهبيا لل 300 سنة الماضية ، و بالتاكيد في الثلاثين سنة الماضية.\n",
      "Target: نفعل هذا فتصبحون سعداء ، نشعر وكأنها خيانة ، فنبدأ في الاختبار مرة أخرى فنعيد العقرب إلى الوراء ثم إلى الأمام ونعيد الكرة وقد قمنا بهذا خلال 300 سنة الماضية. وبالتأكيد خلال ال30 سنة الماضية.\n",
      "********************************************************************************\n",
      "Source: Okay, 30 years ago we were coming out of the '70s.\n",
      "Prediction: حسنا ، قتل 30 سنة كنا نخرج من السبعينيات.\n",
      "Target: منذ 30 سنة مضت ، كنا خرجنا للتو من السبعينات.\n",
      "********************************************************************************\n",
      "Source: Architects had been busy experimenting with something called brutalism.\n",
      "Prediction: العمارة المتحولة كانت مشغولة عن تجربة شيء يسمي الوحشية.\n",
      "Target: كان المهندسون حينها منشغلين باختبار شيء يدعى العمارة الوحشية.\n",
      "********************************************************************************\n",
      "Source: It's about concrete.\n",
      "Prediction: انها عن الاسمنت. النقانق.\n",
      "Target: أمر له صلة بالإسمنت.\n",
      "********************************************************************************\n",
      "Source: You can guess this.\n",
      "Prediction: يمكنك تخمين ذلك.\n",
      "Target: يمكنكم أن تخمنوا ذلك.\n",
      "********************************************************************************\n",
      "Source: Small windows, dehumanizing scale.\n",
      "Prediction: تتوافد الشواقد ، مقياس البشريبيك.\n",
      "Target: نوافذ صغيرة ، بمقاييس لاإنسانية.\n",
      "********************************************************************************\n",
      "Source: This is really tough stuff.\n",
      "Prediction: هذا السريان شيء صعب حقا.\n",
      "Target: هذا أمر صعب للغاية.\n",
      "********************************************************************************\n",
      "Source: So as we get closer to the '80s, we start to reengage those symbols.\n",
      "Prediction: لذا فكلما اقتربنا من الثمانينيات ، بدانا في اعادة بناء تلك الرموز.\n",
      "Target: نقترب من الثمانينات ، وبدأنا نشرك هذه الرموز.\n",
      "********************************************************************************\n",
      "Source: We push the pendulum back into the other direction.\n",
      "Prediction: يقوم بادخال البندول الي اتجاه اجري. يفرض الرصد.\n",
      "Target: فندفع العقرب إلى الجهة الأخرى.\n",
      "********************************************************************************\n",
      "Source: We take these forms that we know you love and we update them.\n",
      "Prediction: تاخذ هذه الاشكال التي تعرف انك تحتها وتجعلها مميزة\n",
      "Target: نأخذ تلك الأشكال التي نعلم أنكم تحبونها فنقوم بتحديثها.\n",
      "********************************************************************************\n",
      "Source: We add neon and we add pastels and we use new materials.\n",
      "Prediction: نجن نضيق الين و تصنف المعوقات و تستخدم مواد جديدة.\n",
      "Target: نضيف النيون ونضيف الباستيل ونستعمل مواد جديدة.\n",
      "********************************************************************************\n",
      "Source: And you love it.\n",
      "Prediction: و يحبها.\n",
      "Target: فتحبونها.\n",
      "********************************************************************************\n",
      "Source: And we can't give you enough of it.\n",
      "Prediction: و بالتشويش لا يمكننا ان نعطيك ما يكفي من ذلك.\n",
      "Target: فلا نستطيع إشباعكم بالقدر الكافي.\n",
      "********************************************************************************\n",
      "Source: We take Chippendale armoires and we turned those into skyscrapers, and skyscrapers can be medieval castles made out of glass.\n",
      "Prediction: ياخذ ابطال \"البشيندر\" ويحولها الي ناطحات سحاب ، وبامكان ناطحات السحاب ان تكون معادية من القرون المليء من الزجاج.\n",
      "Target: نأخذ الخزائن الإنكليزية فنحولها إلى ناطحات سحاب ، فيمكنها أن تكون قصورا زجاجية من العصور الوسطى.\n",
      "********************************************************************************\n",
      "Source: Forms got big, forms got bold and colorful.\n",
      "Prediction: اصبحت مقاطعات كبيرة ، وسمعت وقاعات كبيرة.\n",
      "Target: كبرت الأحجام ، أصبحت ملونة وأكثر حدة.\n",
      "********************************************************************************\n",
      "Source: Dwarves became columns.\n",
      "Prediction: اصبح ذبذبات الانابيب. و بدية.\n",
      "Target: أصبح الأقزام بحجم الأعمدة.\n",
      "********************************************************************************\n",
      "Source: Swans grew to the size of buildings.\n",
      "Prediction: كثرت سوطان \"تساوي حجم المباني\"\n",
      "Target: كبر البجع ليصبح بحجم المباني.\n",
      "********************************************************************************\n",
      "Source: It was crazy.\n",
      "Prediction: كان جنوبا.\n",
      "Target: كان ذلك جنونيا.\n",
      "********************************************************************************\n",
      "Source: But it's the '80s, it's cool.\n",
      "Prediction: لكن تتابعها هي الثمانينات ، انها رايعة.\n",
      "Target: لكنها الثمانينيات ، فالأمر إذن رائع.\n",
      "********************************************************************************\n",
      "Source: We're all hanging out in malls and we're all moving to the suburbs, and out there, out in the suburbs, we can create our own architectural fantasies.\n",
      "Prediction: نحن جميعا يتسكع في مراكز الامواج وينتقل جميعا الي الضواحي ، والخارج ، في الضواحي ، يمكننا ان بخلق خيالنا المعماري.\n",
      "Target: نلتقي جميعا في المجمعات التجارية وننتقل جميعا لنعيش في الضواحي ، وهناك ، في الضواحي ، يمكن أن نخلق خيالات هندسية.\n",
      "********************************************************************************\n",
      "Source: And those fantasies, they can be Mediterranean or French or Italian.\n",
      "Prediction: وهذه الجبال قد تكون طروادة او فرنسية او ايطالية.\n",
      "Target: وهذه الخيالات يمكن أن تكون متوسطية أو فرنسية أو إيطالية.\n",
      "********************************************************************************\n",
      "Source: Possibly with endless breadsticks.\n",
      "Prediction: تنساخ مع طيور م لا تهاهي من الخبر. مع روايج مزعجة.\n",
      "Target: ربما قد تكون لها أعواد خبزية لا متناهية.\n",
      "********************************************************************************\n",
      "Source: This is the thing about postmodernism.\n",
      "Prediction: هذا هو الشيء حول الحداثة. التقرير.\n",
      "Target: هذه هي فكرة ما بعد التحضر.\n",
      "********************************************************************************\n",
      "Source: This is the thing about symbols.\n",
      "Prediction: هذا هو الشيء الذي يدور حول الرموز.\n",
      "Target: هذه هي الفكرة التي تدور حول الرموز.\n",
      "********************************************************************************\n",
      "Source: They're easy, they're cheap, because instead of making places, we're making memories of places.\n",
      "Prediction: التسليمون سهلون ، رخيصة ، لانه بدلا من صنع اماكن ، يقوم بصنع ذكريات من الاماكن البديلة.\n",
      "Target: فهي سهلة ، رخيصة ، لأننا عوضا عن بناء أمكنة ، فإننا نصنع ذكريات عن الأمكنة.\n",
      "********************************************************************************\n",
      "Source: Because I know, and I know all of you know, this isn't Tuscany.\n",
      "Prediction: لايني اعلم ، وانا اعلم انكم كلكم يعلمون ، هذه ليست تسوساكي.\n",
      "Target: لأنني أعلم ، وأعلم أنكم جميع تعلمون ، أن هذه ليست توسكاني.\n",
      "********************************************************************************\n",
      "Source: This is Ohio.\n",
      "Prediction: هذا هو اوهايو....\n",
      "Target: بل أوهايو.\n",
      "********************************************************************************\n",
      "Source: So architects get frustrated, and we start pushing the pendulum back into the other direction.\n",
      "Prediction: لذا يتم الاحباط المعماريون ، ويبدا بدفع المتتددين الي الاتجاه الآحر.\n",
      "Target: لذا فالمهندسون قلقون ، لذلك نبدأ في إعادة عقارب الساعة إلى الجهة الأخرى.\n",
      "********************************************************************************\n",
      "Source: In the late '80s and early' 90s, we start experimenting with something called deconstructivism.\n",
      "Prediction: في اواخر الثمانينات والتسعينات ، بدانا تجربة شيء يسمي فكرته. نفسية.\n",
      "Target: في نهاية الثمانينات وأوائل التسعينات ، بدأنا باختبار ما نسميه حركة الهدم.\n",
      "********************************************************************************\n",
      "Source: We throw out historical symbols, we rely on new, computer-aided design techniques, and we come up with new compositions, forms crashing into forms.\n",
      "Prediction: برمي رموز تاريخية ، تعتمد علي تقنيات تصميم جديدة ، ومتاصل علي الكمبيوتر ، و توصلنا الي تركيبات جديدة ، بشكل بشكل زراعية في اشكال.\n",
      "Target: بدأنا بإلقاء الرموز التاريخية بعيدا ، واعتمدنا على تقنيات تصميم جديدة مدعومة بالحاسوب ، وخرجنا بمجموعة من التركيبات الجديدة ، من حطام إلى أشكال.\n",
      "********************************************************************************\n",
      "Source: This is academic and heady stuff, it's super unpopular, we totally alienate you.\n",
      "Prediction: هذا النادي هو اكاديمي وراس الاشياء ، انه غير واضح ، نجن لا يفرق فيه تماما.\n",
      "Target: هذه أمور أكاديمية وصعبة ، وليست محبوبة تماما. نحن نخذلكم بشكل كبير.\n",
      "********************************************************************************\n",
      "Source: Ordinarily, the pendulum would just swing back into the other direction.\n",
      "Prediction: في الواقع ، البندول سيرجع الي الاتجاه الآحر.\n",
      "Target: عادة ما يتأرجح العقرب وحده ليعود إلى الجهة الأخرى.\n",
      "********************************************************************************\n",
      "Source: And then, something amazing happened.\n",
      "Prediction: ثم حدث شيء مدهش.\n",
      "Target: بعد ذلك حصل أمر رائع.\n",
      "********************************************************************************\n",
      "Source: In 1997, this building opened.\n",
      "Prediction: في عام 1997 ، افتتح هذا المبني.\n",
      "Target: سنة 1997 ، تم افتتاح هذا المبنى.\n",
      "********************************************************************************\n",
      "Source: This is the Guggenheim Bilbao, by Frank Gehry.\n",
      "Prediction: هذه هي الحجة \"غوغنهييه\" بيلاو من قبل \"فرانك جيري\"\n",
      "Target: هذا هو غوغنهايم بيلباو لمهندسه فرانك غيهري.\n",
      "********************************************************************************\n",
      "Source: And this building fundamentally changes the world's relationship to architecture.\n",
      "Prediction: وهذا المبني يقوم بتغيير اساسيات العلاقة في العالم مع الهندسة المعمارية.\n",
      "Target: وهذا المبنى قد غير جذريا علاقة العالم بالهندسة.\n",
      "********************************************************************************\n",
      "Source: Paul Goldberger said that Bilbao was one of those rare moments when critics, academics, and the general public were completely united around a building.\n",
      "Prediction: قال \"بول فول جولدبرجر\" ان \"بلباو\" كانت من تلك اللحظات النادرة عندما كان النقاد والاركادينان العامة كانوا متحدين تماما حول بناء.\n",
      "Target: قال بول غولد برجر أن بيلباو كانت واحدة من تلك العلامات الفارقة حين يتحد النقاد والأكاديميون والعموم بشكل كامل بخصوص مبنى ما.\n",
      "********************************************************************************\n",
      "Source: The New York Times called this building a miracle.\n",
      "Prediction: ميني صحيفة نيويورك تايمز تسمي هذا النيابة معجزة.\n",
      "Target: اعتبرت نيو يورك تايمز هذا المبنى كمعجزة.\n",
      "********************************************************************************\n",
      "Source: Tourism in Bilbao increased 2,500 percent after this building was completed.\n",
      "Prediction: ارتفع سرعة التحوط في بلباو 2, 500 في المية بعد ان اكملت هذا المبني.\n",
      "Target: تضاعفت السياحة في بيلباو بنسبة 2500 في المئة بعد الانتهاء من هذا المبنى.\n",
      "********************************************************************************\n",
      "Source: So all of a sudden, everybody wants one of these buildings: L.A., Seattle, Chicago, New York, Cleveland, Springfield.\n",
      "Prediction: اذا فجاة ، الجميع بريد واحدة من هذه المباني: لوس انجلوس ، سياتل ، شيكاغو ، نيويورك ، كليفلاند ، شييشنفيلد.\n",
      "Target: فجأة ، أصبح الجميع يرغب في واحدة من هذه البنايات: لوس أنجلوس ، سياتل ، شيكاغو ، نيو يورك ، كليفلاند ، سبرينغفيلد.\n",
      "********************************************************************************\n",
      "Source: Everybody wants one, and Gehry is everywhere.\n",
      "Prediction: كل شخص يريد واحد ، وجهازي في كل مكان.\n",
      "Target: الكل أراد مبنى مماثلا ، وأصبح غيهري يجوب كل مكان.\n",
      "********************************************************************************\n",
      "Source: He is our very first starchitect.\n",
      "Prediction: ان المسببة له هو اول معمارتنا المكرسة.\n",
      "Target: إنه أول مهندس يصبح نجما.\n",
      "********************************************************************************\n",
      "Source: Now, how is it possible that these forms -- they're wild and radical -- how is it possible that they become so ubiquitous throughout the world?\n",
      "Prediction: الآن ، كيف من الممكن ان هذه الاشكال - - انها جامحة وزادته - - كيف يمكن ان تصبح في كل مكان في العالم ؟ النزاهة ؟\n",
      "Target: الآن ، كيف من الممكن لهذه الأشكال - - الجامحة والتقليدية - - كيف يمكنها أن تكون في أرجاء العالم ؟\n",
      "********************************************************************************\n",
      "Source: And it happened because media so successfully galvanized around them that they quickly taught us that these forms mean culture and tourism.\n",
      "Prediction: ويتم ذلك تحدث لان الاعلام نجحب في الحوار حولهم وبهذا علمونا بسرعة ان هذه الاشكال تعني الثقافة والسياحة.\n",
      "Target: حصل هذا لأن الإعلام نجح جدا في ليعلمنا بسرعة أن هذه الأشكال تعني الثقافة والسياحة.\n",
      "********************************************************************************\n",
      "Source: We created an emotional reaction to these forms.\n",
      "Prediction: خلقنا ردة فعل عاطفية لهذه الاشكال. ردت فعلها\n",
      "Target: فخلقنا ردة فعل عاطفية اتجاه هذه الأشكال.\n",
      "********************************************************************************\n",
      "Source: So did every mayor in the world.\n",
      "Prediction: لذلك فعل كل عمدة في العالم.\n",
      "Target: وكذلك فعل كل عمدة مدينة في العالم.\n",
      "********************************************************************************\n",
      "Source: So every mayor knew that if they had these forms, they had culture and tourism.\n",
      "Prediction: ادا كل عمدة كان يعلم انه اذا كان لديهم هذه الاشكال ، كان لديهم ثقافة وشرحه.\n",
      "Target: إذ أن كل عمدة يعلم أنه إن كانت لمدينته أشكال كهذه ، فهي تمتلك الثقافة والسياحة.\n",
      "********************************************************************************\n",
      "Source: This phenomenon at the turn of the new millennium happened to a few other starchitects.\n",
      "Prediction: ظاهرة هذه الظاهرة في نهاية جيل الالفية الجديدة حدثت في بعض المهندسين الآحرين.\n",
      "Target: حصلت هذه الظاهرة مع بداية الألفية الجديدة لبعض من المهندسين النجوم الآخرين.\n",
      "********************************************************************************\n",
      "Source: It happened to Zaha and it happened to Libeskind, and what happened to these elite few architects at the turn of the new millennium could actually start to happen to the entire field of architecture, as digital media starts to increase the speed with which we consume information.\n",
      "Prediction: تحدث في رايا و حدث ذلك في لبتشكيريا و ما حدث لهولاء المهندسين المعماريين في نهاية الالفية الجديدة قد تبدا في الحدوث الي مجال العمارة ، وبما ان وسايل الاعلام الرقمية برفع السرعة التي تستهلك المعلومات.\n",
      "Target: حصلت مع زاها ليبسكايند ، وما حصل مع هذه النخبة القليلة من المهندسين مع بداية الألفية الجديدة كان ليبدأ في التأثير على مجال الهندسة ككل ، حيث بدأ الإعلام الرقمي في زيادة السرعة التي نستهلك بها المعلومات.\n",
      "********************************************************************************\n",
      "Source: Because think about how you consume architecture.\n",
      "Prediction: لانه فكر في كيف تستهلك الهندسة المعمارية.\n",
      "Target: فكروا كيف أنكم تستهلكون الهندسة.\n",
      "********************************************************************************\n",
      "Source: A thousand years ago, you would have had to have walked to the village next door to see a building.\n",
      "Prediction: منذ الف سنة مضت ، كان عليك ان تذهب الي القرية بجانب الباب. ليزي مبني.\n",
      "Target: مند 1000 سنة ، كان عليكم أن تسيروا باتجاه القرية المجاورة لتروا بناية ما.\n",
      "********************************************************************************\n",
      "Source: Transportation speeds up: You can take a boat, you can take a plane, you can be a tourist.\n",
      "Prediction: تسرع عملية النقل في الارتفاع: يمكنك اخذ قارب ، يمكنك اخذ طابرة ، يمكنك ان تكون سياحية.\n",
      "Target: تزداد سرعة المواصلات: يمكنك أن تبحر في سفينة ، أن تستقل طائرة ، أن تكون سائحا.\n",
      "********************************************************************************\n",
      "Source: Technology speeds up: You can see it in a newspaper, on TV, until finally, we are all architectural photographers, and the building has become disembodied from the site.\n",
      "Prediction: تسريع التكنلوجيا: يمكنكم روبتها في الصحف ، علي التلفاز ، جني في النهاية ، نحن جميع مصورين معماريين ، واصبح المبني محررين من الموقع.\n",
      "Target: تزداد سرعة التكنولوجيا: يمكن أن تراها في الجريدة ، أو على التلفاز ، في النهاية ، كلنا مهندسون مصورون ، وقد تم تحرير روح البناية من الموقع\n",
      "********************************************************************************\n",
      "Source: Architecture is everywhere now, and that means that the speed of communication has finally caught up to the speed of architecture.\n",
      "Prediction: العمارة في كل مكان الآن ، وهذا يعني ان سرعة الاتصالات قد تمسك اخيرا بسرعة العمارة.\n",
      "Target: الهندسة في كل مكان الآن ، وهذا ما يعني أن سرعة التواصل قد لحقت أخيرا بسرعة الهندسة.\n",
      "********************************************************************************\n",
      "Source: Because architecture actually moves quite quickly.\n",
      "Prediction: لان الهندسة المعمارية تتحرك بسرعة.\n",
      "Target: لأن الهندسة تتحرك بسرعة نوعا ما.\n",
      "********************************************************************************\n",
      "Source: It doesn't take long to think about a building.\n",
      "Prediction: ولا يتطلب الامر الكبير للتفكير في بناء.\n",
      "Target: لا يتطلب التفكير في تصميم بناية وقتا طويلا.\n",
      "********************************************************************************\n",
      "sacre bleu 7.655\n",
      "sacre bleu signature: nrefs:1|case:mixed|eff:no|tok:13a|smooth:exp|version:2.3.1\n"
     ]
    },
    {
     "data": {
      "text/plain": [
       "7.655"
      ]
     },
     "execution_count": 18,
     "metadata": {},
     "output_type": "execute_result"
    }
   ],
   "source": [
    "get_blue_score(\n",
    "    model=model,\n",
    "    max_sequence_length=80,\n",
    "    source_language_code='en',\n",
    "    target_language_code='ar',\n",
    "    add_dots_to_predictions=True,\n",
    "    decode_with_beam_search=False,\n",
    "    source_tokenizer=source_tokenizer,\n",
    "    target_tokenizer=target_tokenizer,\n",
    "    source_sentences=test_dataset['en'],\n",
    "    target_sentences=dotted_ar_test_dataset,\n",
    ")"
   ]
  },
  {
   "cell_type": "markdown",
   "metadata": {},
   "source": [
    "### bleu score from scratch"
   ]
  },
  {
   "cell_type": "code",
   "execution_count": 7,
   "metadata": {},
   "outputs": [
    {
     "data": {
      "application/vnd.jupyter.widget-view+json": {
       "model_id": "abdb643fc99445c4a85c42e89b76b209",
       "version_major": 2,
       "version_minor": 0
      },
      "text/plain": [
       "  0%|          | 0/1205 [00:00<?, ?it/s]"
      ]
     },
     "metadata": {},
     "output_type": "display_data"
    },
    {
     "name": "stderr",
     "output_type": "stream",
     "text": [
      "/home/majed_alshaibani/Experiments/DotlessArabic/dotless_arabic/tokenizers.py:324: UserWarning: sentencepiece tokenizer cannot split text unless with PBE mode. It needs to be trained first!\n",
      "  warnings.warn(\n"
     ]
    }
   ],
   "source": [
    "preds = [\n",
    "            model.translate(\n",
    "                max_sequence_length=80,\n",
    "                input_sentence=sentence,\n",
    "                source_tokenizer=source_tokenizer,\n",
    "                target_tokenizer=target_tokenizer,\n",
    "            )\n",
    "            for sentence in tqdm(test_dataset['en'])\n",
    "    ]"
   ]
  },
  {
   "cell_type": "code",
   "execution_count": 9,
   "metadata": {},
   "outputs": [],
   "source": [
    "preds = list(\n",
    "        map(\n",
    "            lambda text: text.replace(\"<eos>\", \"\").replace(\"<bos>\", \"\").strip(),\n",
    "            preds,\n",
    "        )\n",
    "    )"
   ]
  },
  {
   "cell_type": "code",
   "execution_count": 51,
   "metadata": {},
   "outputs": [
    {
     "name": "stderr",
     "output_type": "stream",
     "text": [
      "That's 100 lines that end in a tokenized period ('.')\n",
      "It looks like you forgot to detokenize your test data, which may hurt your score.\n",
      "If you insist your data is detokenized, or don't care, you can suppress this message with the `force` parameter.\n"
     ]
    },
    {
     "data": {
      "text/plain": [
       "BLEU = 8.07 33.8/11.7/5.0/2.2 (BP = 1.000 ratio = 1.072 hyp_len = 20191 ref_len = 18833)"
      ]
     },
     "execution_count": 51,
     "metadata": {},
     "output_type": "execute_result"
    }
   ],
   "source": [
    "bleu = BLEU(lowercase=False)\n",
    "bleu.corpus_score(list(map(add_dots_to_undotted_text,preds)),[list(dotted_ar_test_dataset)])"
   ]
  },
  {
   "cell_type": "code",
   "execution_count": null,
   "metadata": {},
   "outputs": [],
   "source": []
  }
 ],
 "metadata": {
  "kernelspec": {
   "display_name": "dotless-arabic",
   "language": "python",
   "name": "python3"
  },
  "language_info": {
   "codemirror_mode": {
    "name": "ipython",
    "version": 3
   },
   "file_extension": ".py",
   "mimetype": "text/x-python",
   "name": "python",
   "nbconvert_exporter": "python",
   "pygments_lexer": "ipython3",
   "version": "3.10.12"
  }
 },
 "nbformat": 4,
 "nbformat_minor": 2
}
