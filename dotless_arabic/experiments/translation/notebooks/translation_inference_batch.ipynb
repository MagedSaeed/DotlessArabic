{
 "cells": [
  {
   "cell_type": "code",
   "execution_count": 1,
   "metadata": {},
   "outputs": [],
   "source": [
    "import os\n",
    "import nltk\n",
    "import torch\n",
    "import heapq\n",
    "import random"
   ]
  },
  {
   "cell_type": "code",
   "execution_count": 2,
   "metadata": {},
   "outputs": [],
   "source": [
    "import torch.nn.functional as F"
   ]
  },
  {
   "cell_type": "code",
   "execution_count": 3,
   "metadata": {},
   "outputs": [],
   "source": [
    "from pytorch_lightning.utilities.model_summary import ModelSummary\n",
    "from pytorch_lightning import seed_everything\n",
    "from tqdm.auto import tqdm"
   ]
  },
  {
   "cell_type": "code",
   "execution_count": 4,
   "metadata": {},
   "outputs": [],
   "source": [
    "from sacremoses import MosesTokenizer"
   ]
  },
  {
   "cell_type": "code",
   "execution_count": 5,
   "metadata": {},
   "outputs": [],
   "source": [
    "import numpy as np"
   ]
  },
  {
   "cell_type": "code",
   "execution_count": 6,
   "metadata": {},
   "outputs": [
    {
     "name": "stderr",
     "output_type": "stream",
     "text": [
      "[2024-03-25 17:09:21,379 - farasapy_logger - WARNING]: Be careful with large lines as they may break on interactive mode. You may switch to Standalone mode for such cases.\n"
     ]
    }
   ],
   "source": [
    "from dotless_arabic.experiments.translation.src.settings import (\n",
    "    configure_environment,\n",
    ")\n",
    "from dotless_arabic.tokenizers import SentencePieceTokenizer"
   ]
  },
  {
   "cell_type": "code",
   "execution_count": 7,
   "metadata": {},
   "outputs": [],
   "source": [
    "from dotless_arabic.experiments.translation.src.processing import (\n",
    "    process_en,\n",
    "    process_ar,\n",
    ")\n",
    "from dotless_arabic.experiments.translation.src.utils import get_source_tokenizer, get_target_tokenizer\n",
    "from dotless_arabic.callbacks import EpochTimerCallback\n",
    "from dotless_arabic.experiments.translation.src.datasets import get_dataloader\n",
    "from dotless_arabic.experiments.translation.src.models import TranslationTransformer\n",
    "from dotless_arabic.experiments.translation.src.utils import get_best_checkpoint, get_sequence_length, train_translator\n",
    "from dotless_arabic.experiments.translation.src.utils import get_blue_score\n",
    "from dotless_arabic.experiments.translation.src import constants\n",
    "from dotless_arabic.experiments.translation.src.utils import create_features_from_text_list"
   ]
  },
  {
   "cell_type": "code",
   "execution_count": 8,
   "metadata": {},
   "outputs": [
    {
     "data": {
      "text/plain": [
       "'cuda'"
      ]
     },
     "execution_count": 8,
     "metadata": {},
     "output_type": "execute_result"
    }
   ],
   "source": [
    "constants.DEVICE"
   ]
  },
  {
   "cell_type": "code",
   "execution_count": 9,
   "metadata": {},
   "outputs": [],
   "source": [
    "constants.DEVICE = 'cuda:0'"
   ]
  },
  {
   "cell_type": "code",
   "execution_count": 10,
   "metadata": {},
   "outputs": [],
   "source": [
    "seed = 42"
   ]
  },
  {
   "cell_type": "code",
   "execution_count": 11,
   "metadata": {},
   "outputs": [
    {
     "name": "stderr",
     "output_type": "stream",
     "text": [
      "[nltk_data] Downloading package stopwords to\n",
      "[nltk_data]     /home/majed_alshaibani/nltk_data...\n",
      "[nltk_data]   Package stopwords is already up-to-date!\n",
      "Global seed set to 42\n"
     ]
    }
   ],
   "source": [
    "random.seed(seed)\n",
    "torch.cuda.empty_cache()  # to free gpu memory\n",
    "nltk.download(\"stopwords\")\n",
    "seed_everything(seed, workers=True)\n",
    "os.environ[\"WANDB_MODE\"] = \"disabled\"\n",
    "torch.autograd.set_detect_anomaly(True)\n",
    "os.environ[\"CUDA_LAUNCH_BLOCKING\"] = \"1\"  # to see CUDA errors"
   ]
  },
  {
   "cell_type": "code",
   "execution_count": 12,
   "metadata": {},
   "outputs": [],
   "source": [
    "from dotless_arabic.datasets.iwslt2017.collect import (\n",
    "    collect_parallel_train_dataset_for_translation,\n",
    "    collect_parallel_val_dataset_for_translation,\n",
    "    collect_parallel_test_dataset_for_translation,\n",
    ")"
   ]
  },
  {
   "cell_type": "code",
   "execution_count": 13,
   "metadata": {},
   "outputs": [],
   "source": [
    "train_dataset = collect_parallel_train_dataset_for_translation()\n",
    "val_dataset = collect_parallel_val_dataset_for_translation()\n",
    "test_dataset = collect_parallel_test_dataset_for_translation()"
   ]
  },
  {
   "cell_type": "code",
   "execution_count": 14,
   "metadata": {},
   "outputs": [],
   "source": [
    "train_dataset = train_dataset.to_pandas()\n",
    "val_dataset = val_dataset.to_pandas()\n",
    "test_dataset = test_dataset.to_pandas()"
   ]
  },
  {
   "cell_type": "code",
   "execution_count": 15,
   "metadata": {},
   "outputs": [],
   "source": [
    "tqdm.pandas()"
   ]
  },
  {
   "cell_type": "code",
   "execution_count": 16,
   "metadata": {},
   "outputs": [
    {
     "data": {
      "application/vnd.jupyter.widget-view+json": {
       "model_id": "e6235747b155411480e1d058b39c6958",
       "version_major": 2,
       "version_minor": 0
      },
      "text/plain": [
       "  0%|          | 0/231713 [00:00<?, ?it/s]"
      ]
     },
     "metadata": {},
     "output_type": "display_data"
    },
    {
     "data": {
      "application/vnd.jupyter.widget-view+json": {
       "model_id": "18dd9a4998c44cd0bc0f16f0b8cd1036",
       "version_major": 2,
       "version_minor": 0
      },
      "text/plain": [
       "  0%|          | 0/888 [00:00<?, ?it/s]"
      ]
     },
     "metadata": {},
     "output_type": "display_data"
    },
    {
     "data": {
      "application/vnd.jupyter.widget-view+json": {
       "model_id": "1e6ddc3189c14dfaab182a355c101f55",
       "version_major": 2,
       "version_minor": 0
      },
      "text/plain": [
       "  0%|          | 0/1205 [00:00<?, ?it/s]"
      ]
     },
     "metadata": {},
     "output_type": "display_data"
    },
    {
     "data": {
      "application/vnd.jupyter.widget-view+json": {
       "model_id": "8f60717d6c0a4ccfb146d6b9e7b48405",
       "version_major": 2,
       "version_minor": 0
      },
      "text/plain": [
       "  0%|          | 0/231713 [00:00<?, ?it/s]"
      ]
     },
     "metadata": {},
     "output_type": "display_data"
    },
    {
     "data": {
      "application/vnd.jupyter.widget-view+json": {
       "model_id": "cad950cb72e946b88e83338fcf0e0eff",
       "version_major": 2,
       "version_minor": 0
      },
      "text/plain": [
       "  0%|          | 0/888 [00:00<?, ?it/s]"
      ]
     },
     "metadata": {},
     "output_type": "display_data"
    },
    {
     "data": {
      "application/vnd.jupyter.widget-view+json": {
       "model_id": "7149b0f985c845a1b76ca1e2bfbf8e0d",
       "version_major": 2,
       "version_minor": 0
      },
      "text/plain": [
       "  0%|          | 0/1205 [00:00<?, ?it/s]"
      ]
     },
     "metadata": {},
     "output_type": "display_data"
    }
   ],
   "source": [
    "train_dataset[\"ar\"] = train_dataset[\"ar\"].progress_map(lambda text: process_ar(text))\n",
    "val_dataset[\"ar\"] = val_dataset[\"ar\"].progress_map(lambda text: process_ar(text))\n",
    "test_dataset[\"ar\"] = test_dataset[\"ar\"].progress_map(lambda text: process_ar(text))\n",
    "\n",
    "train_dataset[\"en\"] = train_dataset[\"en\"].progress_map(lambda text: process_en(text))\n",
    "val_dataset[\"en\"] = val_dataset[\"en\"].progress_map(lambda text: process_en(text))\n",
    "test_dataset[\"en\"] = test_dataset[\"en\"].progress_map(lambda text: process_en(text))"
   ]
  },
  {
   "cell_type": "code",
   "execution_count": 17,
   "metadata": {},
   "outputs": [
    {
     "data": {
      "application/vnd.jupyter.widget-view+json": {
       "model_id": "41dc608620844465a13e0c6008b0f61f",
       "version_major": 2,
       "version_minor": 0
      },
      "text/plain": [
       "  0%|          | 0/231713 [00:00<?, ?it/s]"
      ]
     },
     "metadata": {},
     "output_type": "display_data"
    },
    {
     "data": {
      "application/vnd.jupyter.widget-view+json": {
       "model_id": "d0952e0285da42ceaf7171a9746280ec",
       "version_major": 2,
       "version_minor": 0
      },
      "text/plain": [
       "  0%|          | 0/888 [00:00<?, ?it/s]"
      ]
     },
     "metadata": {},
     "output_type": "display_data"
    },
    {
     "data": {
      "application/vnd.jupyter.widget-view+json": {
       "model_id": "b4351d62edcc4c1081152c76f587c6bf",
       "version_major": 2,
       "version_minor": 0
      },
      "text/plain": [
       "  0%|          | 0/1205 [00:00<?, ?it/s]"
      ]
     },
     "metadata": {},
     "output_type": "display_data"
    },
    {
     "data": {
      "application/vnd.jupyter.widget-view+json": {
       "model_id": "4f6e119bac5c437eaffe7cefebd04bbc",
       "version_major": 2,
       "version_minor": 0
      },
      "text/plain": [
       "  0%|          | 0/231713 [00:00<?, ?it/s]"
      ]
     },
     "metadata": {},
     "output_type": "display_data"
    },
    {
     "data": {
      "application/vnd.jupyter.widget-view+json": {
       "model_id": "6de624f9e75a428098947bfd426766a3",
       "version_major": 2,
       "version_minor": 0
      },
      "text/plain": [
       "  0%|          | 0/888 [00:00<?, ?it/s]"
      ]
     },
     "metadata": {},
     "output_type": "display_data"
    },
    {
     "data": {
      "application/vnd.jupyter.widget-view+json": {
       "model_id": "82b1e11de9024363b3483454bcc3426c",
       "version_major": 2,
       "version_minor": 0
      },
      "text/plain": [
       "  0%|          | 0/1205 [00:00<?, ?it/s]"
      ]
     },
     "metadata": {},
     "output_type": "display_data"
    }
   ],
   "source": [
    "moses_tokenizer = MosesTokenizer()\n",
    "train_dataset[\"en\"] = train_dataset[\"en\"].progress_map(\n",
    "    lambda text: moses_tokenizer.tokenize(\n",
    "        text,\n",
    "        return_str=True,\n",
    "    )\n",
    ")\n",
    "val_dataset[\"en\"] = val_dataset[\"en\"].progress_map(\n",
    "    lambda text: moses_tokenizer.tokenize(\n",
    "        text,\n",
    "        return_str=True,\n",
    "    )\n",
    ")\n",
    "test_dataset[\"en\"] = test_dataset[\"en\"].progress_map(\n",
    "    lambda text: moses_tokenizer.tokenize(\n",
    "        text,\n",
    "        return_str=True,\n",
    "    )\n",
    ")\n",
    "train_dataset[\"ar\"] = train_dataset[\"ar\"].progress_map(\n",
    "    lambda text: moses_tokenizer.tokenize(\n",
    "        text,\n",
    "        return_str=True,\n",
    "    )\n",
    ")\n",
    "val_dataset[\"ar\"] = val_dataset[\"ar\"].progress_map(\n",
    "    lambda text: moses_tokenizer.tokenize(\n",
    "        text,\n",
    "        return_str=True,\n",
    "    )\n",
    ")\n",
    "test_dataset[\"ar\"] = test_dataset[\"ar\"].progress_map(\n",
    "    lambda text: moses_tokenizer.tokenize(\n",
    "        text,\n",
    "        return_str=True,\n",
    "    )\n",
    ")"
   ]
  },
  {
   "cell_type": "code",
   "execution_count": 18,
   "metadata": {},
   "outputs": [],
   "source": [
    "source_tokenizer_class = SentencePieceTokenizer\n",
    "target_tokenizer_class = SentencePieceTokenizer\n",
    "source_language_code = \"ar\"\n",
    "target_language_code = \"en\""
   ]
  },
  {
   "cell_type": "code",
   "execution_count": 19,
   "metadata": {},
   "outputs": [
    {
     "data": {
      "application/vnd.jupyter.widget-view+json": {
       "model_id": "d18a4c557ccd479b9626b84d058ad820",
       "version_major": 2,
       "version_minor": 0
      },
      "text/plain": [
       "  0%|          | 0/231713 [00:00<?, ?it/s]"
      ]
     },
     "metadata": {},
     "output_type": "display_data"
    },
    {
     "name": "stdout",
     "output_type": "stream",
     "text": [
      "Training SentencePiece ...\n"
     ]
    },
    {
     "data": {
      "application/vnd.jupyter.widget-view+json": {
       "model_id": "7ec9d7a0d96f48eeab435644e54c6dc4",
       "version_major": 2,
       "version_minor": 0
      },
      "text/plain": [
       "  0%|          | 0/231713 [00:00<?, ?it/s]"
      ]
     },
     "metadata": {},
     "output_type": "display_data"
    },
    {
     "name": "stdout",
     "output_type": "stream",
     "text": [
      "Training SentencePiece ...\n"
     ]
    }
   ],
   "source": [
    "source_tokenizer = get_source_tokenizer(\n",
    "    train_dataset=train_dataset,\n",
    "    tokenizer_class=source_tokenizer_class,\n",
    "    source_language_code=source_language_code,\n",
    "    undot_text=False,\n",
    ")\n",
    "target_tokenizer = get_target_tokenizer(\n",
    "    train_dataset=train_dataset,\n",
    "    tokenizer_class=target_tokenizer_class,\n",
    "    target_language_code=target_language_code,\n",
    "    undot_text=False,\n",
    ")"
   ]
  },
  {
   "cell_type": "code",
   "execution_count": 20,
   "metadata": {},
   "outputs": [
    {
     "data": {
      "application/vnd.jupyter.widget-view+json": {
       "model_id": "5780c0daff374de180befc086e113656",
       "version_major": 2,
       "version_minor": 0
      },
      "text/plain": [
       "  0%|          | 0/231713 [00:00<?, ?it/s]"
      ]
     },
     "metadata": {},
     "output_type": "display_data"
    },
    {
     "name": "stderr",
     "output_type": "stream",
     "text": [
      "/home/majed_alshaibani/Experiments/DotlessArabic/dotless_arabic/tokenizers.py:324: UserWarning: sentencepiece tokenizer cannot split text unless with PBE mode. It needs to be trained first!\n",
      "  warnings.warn(\n"
     ]
    },
    {
     "data": {
      "application/vnd.jupyter.widget-view+json": {
       "model_id": "e45446f2028543ec9c0a3c57b852fcca",
       "version_major": 2,
       "version_minor": 0
      },
      "text/plain": [
       "  0%|          | 0/231713 [00:00<?, ?it/s]"
      ]
     },
     "metadata": {},
     "output_type": "display_data"
    },
    {
     "data": {
      "application/vnd.jupyter.widget-view+json": {
       "model_id": "a8d7c18f64b74765bcf66978a77168b8",
       "version_major": 2,
       "version_minor": 0
      },
      "text/plain": [
       "  0%|          | 0/231713 [00:00<?, ?it/s]"
      ]
     },
     "metadata": {},
     "output_type": "display_data"
    },
    {
     "data": {
      "application/vnd.jupyter.widget-view+json": {
       "model_id": "fa8757b8cd9e4e57927e60d91129586f",
       "version_major": 2,
       "version_minor": 0
      },
      "text/plain": [
       "  0%|          | 0/231713 [00:00<?, ?it/s]"
      ]
     },
     "metadata": {},
     "output_type": "display_data"
    },
    {
     "data": {
      "text/plain": [
       "91"
      ]
     },
     "execution_count": 20,
     "metadata": {},
     "output_type": "execute_result"
    }
   ],
   "source": [
    "source_max_sequence_length = get_sequence_length(\n",
    "    dataset=list(\n",
    "        map(\n",
    "            source_tokenizer.split_text,\n",
    "            tqdm(train_dataset[source_language_code]),\n",
    "        )\n",
    "    ),\n",
    ")\n",
    "\n",
    "target_max_sequence_length = get_sequence_length(\n",
    "    dataset=list(\n",
    "        map(\n",
    "            target_tokenizer.split_text,\n",
    "            tqdm(train_dataset[target_language_code]),\n",
    "        )\n",
    "    )\n",
    ")\n",
    "\n",
    "sequence_length = max(source_max_sequence_length, target_max_sequence_length)\n",
    "sequence_length"
   ]
  },
  {
   "cell_type": "code",
   "execution_count": 21,
   "metadata": {},
   "outputs": [
    {
     "name": "stdout",
     "output_type": "stream",
     "text": [
      "best ckpt: NMT/ar_to_en/SentencePieceTokenizer_to_SentencePieceTokenizer/dotted/checkpoints/epoch=26-val_loss=2.568-step=145503.ckpt\n"
     ]
    },
    {
     "data": {
      "text/plain": [
       "TranslationTransformer(\n",
       "  (train_ppl): Perplexity()\n",
       "  (val_ppl): Perplexity()\n",
       "  (test_ppl): Perplexity()\n",
       "  (transformer): Transformer(\n",
       "    (encoder): TransformerEncoder(\n",
       "      (layers): ModuleList(\n",
       "        (0-5): 6 x TransformerEncoderLayer(\n",
       "          (self_attn): MultiheadAttention(\n",
       "            (out_proj): NonDynamicallyQuantizableLinear(in_features=512, out_features=512, bias=True)\n",
       "          )\n",
       "          (linear1): Linear(in_features=512, out_features=2048, bias=True)\n",
       "          (dropout): Dropout(p=0.1, inplace=False)\n",
       "          (linear2): Linear(in_features=2048, out_features=512, bias=True)\n",
       "          (norm1): LayerNorm((512,), eps=1e-05, elementwise_affine=True)\n",
       "          (norm2): LayerNorm((512,), eps=1e-05, elementwise_affine=True)\n",
       "          (dropout1): Dropout(p=0.1, inplace=False)\n",
       "          (dropout2): Dropout(p=0.1, inplace=False)\n",
       "        )\n",
       "      )\n",
       "      (norm): LayerNorm((512,), eps=1e-05, elementwise_affine=True)\n",
       "    )\n",
       "    (decoder): TransformerDecoder(\n",
       "      (layers): ModuleList(\n",
       "        (0-5): 6 x TransformerDecoderLayer(\n",
       "          (self_attn): MultiheadAttention(\n",
       "            (out_proj): NonDynamicallyQuantizableLinear(in_features=512, out_features=512, bias=True)\n",
       "          )\n",
       "          (multihead_attn): MultiheadAttention(\n",
       "            (out_proj): NonDynamicallyQuantizableLinear(in_features=512, out_features=512, bias=True)\n",
       "          )\n",
       "          (linear1): Linear(in_features=512, out_features=2048, bias=True)\n",
       "          (dropout): Dropout(p=0.1, inplace=False)\n",
       "          (linear2): Linear(in_features=2048, out_features=512, bias=True)\n",
       "          (norm1): LayerNorm((512,), eps=1e-05, elementwise_affine=True)\n",
       "          (norm2): LayerNorm((512,), eps=1e-05, elementwise_affine=True)\n",
       "          (norm3): LayerNorm((512,), eps=1e-05, elementwise_affine=True)\n",
       "          (dropout1): Dropout(p=0.1, inplace=False)\n",
       "          (dropout2): Dropout(p=0.1, inplace=False)\n",
       "          (dropout3): Dropout(p=0.1, inplace=False)\n",
       "        )\n",
       "      )\n",
       "      (norm): LayerNorm((512,), eps=1e-05, elementwise_affine=True)\n",
       "    )\n",
       "  )\n",
       "  (src_tok_emb): TokenEmbedding(\n",
       "    (embedding): Embedding(4000, 512, padding_idx=1)\n",
       "  )\n",
       "  (tgt_tok_emb): TokenEmbedding(\n",
       "    (embedding): Embedding(4000, 512, padding_idx=1)\n",
       "  )\n",
       "  (positional_encoding): PositionalEncoding(\n",
       "    (dropout): Dropout(p=0.1, inplace=False)\n",
       "  )\n",
       "  (dense): Linear(in_features=512, out_features=4000, bias=True)\n",
       ")"
      ]
     },
     "execution_count": 21,
     "metadata": {},
     "output_type": "execute_result"
    }
   ],
   "source": [
    "model = TranslationTransformer.load_from_checkpoint(\n",
    "        get_best_checkpoint(\n",
    "            is_dotted=True,\n",
    "            source_language_code=source_language_code,\n",
    "            target_language_code=target_language_code,\n",
    "            source_tokenizer_class=source_tokenizer_class,\n",
    "            target_tokenizer_class=target_tokenizer_class,\n",
    "        ),\n",
    "        map_location=constants.DEVICE\n",
    "    )\n",
    "model"
   ]
  },
  {
   "cell_type": "markdown",
   "metadata": {},
   "source": [
    "## Greedy"
   ]
  },
  {
   "cell_type": "markdown",
   "metadata": {},
   "source": [
    "get the score, on-by-one"
   ]
  },
  {
   "cell_type": "code",
   "execution_count": 22,
   "metadata": {},
   "outputs": [
    {
     "data": {
      "application/vnd.jupyter.widget-view+json": {
       "model_id": "6ccd7b3967fa48e28293ed017b07083d",
       "version_major": 2,
       "version_minor": 0
      },
      "text/plain": [
       "  0%|          | 0/1205 [00:00<?, ?it/s]"
      ]
     },
     "metadata": {},
     "output_type": "display_data"
    },
    {
     "data": {
      "application/vnd.jupyter.widget-view+json": {
       "model_id": "8ff8dc08bb0e46b9ab8867030c76c2e7",
       "version_major": 2,
       "version_minor": 0
      },
      "text/plain": [
       "  0%|          | 0/1205 [00:00<?, ?it/s]"
      ]
     },
     "metadata": {},
     "output_type": "display_data"
    },
    {
     "name": "stdout",
     "output_type": "stream",
     "text": [
      "Source: سأحدثكم اليوم عن 30 عاما من تاريخ الهندسة.\n",
      "Prediction: i'm going to talk to you today about 30 years of the history of engineering.\n",
      "Target: today i'm going to speak to you about the last 30 years of architectural history.\n",
      "********************************************************************************\n",
      "Source: هذا أمر كبير جدا لألخصه في 18 دقيقة.\n",
      "Prediction: this is a very big thing to summarize in 18 minutes.\n",
      "Target: that's a lot to pack into 18 minutes.\n",
      "********************************************************************************\n",
      "Source: إنه موضوع معقد ، لذلك فإننا سنتوجه مباشرة إلى مكان معقد: إلى نيو جيرسي ،\n",
      "Prediction: it's a complicated topic, so we're going to head right into a complex place: to new jersey.\n",
      "Target: it's a complex topic, so we're just going to dive right in at a complex place: new jersey.\n",
      "********************************************************************************\n",
      "Source: لأنه منذ 30 سنة ، أنا من نيوجيرسي ، كنت في السادسة من عمري ، وكنت أعيش هناك مع والدي في مدينة تدعى ليفينغستون ، وكانت هذه غرفة نومي.\n",
      "Prediction: because 30 years ago, i was from new jersey, i was six years old, and i was living there with my father in a town called levittgenston, and this was a bedroom.\n",
      "Target: because 30 years ago, i'm from jersey, and i was six, and i lived there in my parents' house in a town called livingston, and this was my childhood bedroom.\n",
      "********************************************************************************\n",
      "Source: عند زاوية غرفتي كان هناك حمام أتقاسمه مع أختي.\n",
      "Prediction: at the corner of my room, there was a bathroom that i shared with my sister.\n",
      "Target: around the corner from my bedroom was the bathroom that i used to share with my sister.\n",
      "********************************************************************************\n",
      "sacre bleu 30.242\n",
      "sacre bleu signature: nrefs:1|case:lc|eff:no|tok:13a|smooth:exp|version:2.3.1\n"
     ]
    },
    {
     "data": {
      "text/plain": [
       "30.242"
      ]
     },
     "execution_count": 22,
     "metadata": {},
     "output_type": "execute_result"
    }
   ],
   "source": [
    "get_blue_score(\n",
    "            model=model,\n",
    "            is_dotted=True,\n",
    "            show_translations_for=5,\n",
    "            decode_with_beam_search=False,\n",
    "            source_tokenizer=source_tokenizer,\n",
    "            target_tokenizer=target_tokenizer,\n",
    "            save_predictions_and_targets=False,\n",
    "            max_sequence_length=sequence_length,\n",
    "            source_language_code=source_language_code,\n",
    "            target_language_code=target_language_code,\n",
    "            source_sentences=test_dataset[source_language_code],\n",
    "            target_sentences=test_dataset[target_language_code],\n",
    "        )"
   ]
  },
  {
   "cell_type": "code",
   "execution_count": 23,
   "metadata": {},
   "outputs": [],
   "source": [
    "def batch_translate(\n",
    "    model,\n",
    "    input_sentences,\n",
    "    source_tokenizer=source_tokenizer,\n",
    "    target_tokenizer=target_tokenizer,\n",
    "    max_sequence_length=sequence_length,\n",
    "    # temperature=0.1,\n",
    "    temperature=0,\n",
    "    batch_size=64,\n",
    "):\n",
    "    model.eval()\n",
    "    with torch.no_grad():\n",
    "        encoded_input_sentences = (\n",
    "            torch.tensor(\n",
    "                create_features_from_text_list(\n",
    "                    use_tqdm=False,\n",
    "                    text_list=input_sentences,\n",
    "                    tokenizer=source_tokenizer,\n",
    "                    sequence_length=max_sequence_length,\n",
    "                )\n",
    "            )\n",
    "            .view(-1, max_sequence_length)\n",
    "            .to(model.device)\n",
    "        )\n",
    "        # decrease batch size untill it is divisible by the encoded_input_sentences size\n",
    "        actual_batch_size = batch_size\n",
    "        if actual_batch_size > encoded_input_sentences.size(0):\n",
    "            actual_batch_size = encoded_input_sentences.size(0)\n",
    "        while encoded_input_sentences.size(0) % actual_batch_size != 0:\n",
    "            actual_batch_size -= 1\n",
    "        assert actual_batch_size >= 0, 'could not find a proper batch size'\n",
    "        if batch_size != actual_batch_size:\n",
    "            print(f'changing batch size from {batch_size} to {actual_batch_size} to fit inputs of size {encoded_input_sentences.size(0)}')\n",
    "        # reshape encoded_input_sentences to [batch_size,max_sequence_length]\n",
    "        encoded_input_sentences = encoded_input_sentences.view(\n",
    "            -1,\n",
    "            actual_batch_size,\n",
    "            max_sequence_length,\n",
    "        )\n",
    "        predictions = list()\n",
    "        for batch in tqdm(encoded_input_sentences):\n",
    "            target = \"<bos> \"\n",
    "            encoded_target = [\n",
    "                [target_tokenizer.token_to_id(token) for token in target.split()]\n",
    "                for _ in range(len(batch))\n",
    "            ]\n",
    "            finished_sequences = [False]*len(batch)\n",
    "            for t in range(max_sequence_length):\n",
    "                if all(finished_sequences):\n",
    "                    # print(f'finished all sequences in the batch while we are in token {t}, early stopping')\n",
    "                    break\n",
    "                outputs = model(\n",
    "                    src=batch,\n",
    "                    trg=torch.LongTensor(encoded_target)\n",
    "                    .view(len(batch), -1)\n",
    "                    .to(model.device),\n",
    "                )\n",
    "                outputs = outputs[:, -1, :]\n",
    "                # if temperature > 0:\n",
    "                #     outputs = torch.softmax(outputs / temperature, dim=-1)\n",
    "                #     next_word_id = torch.multinomial(outputs, num_samples=1).item()\n",
    "                # else:\n",
    "                next_words_ids = torch.argmax(outputs, dim=-1)\n",
    "                for i,(target, next_word_id) in enumerate(zip(encoded_target, next_words_ids)):\n",
    "                    next_word_id = next_word_id.item()\n",
    "                    target.append(next_word_id)\n",
    "                    if next_word_id == target_tokenizer.token_to_id(\"<eos>\"):\n",
    "                        finished_sequences[i] = True\n",
    "\n",
    "            batch_predictions = []\n",
    "            for target in encoded_target:\n",
    "                prediction = target_tokenizer.detokenize(\n",
    "                    target_tokenizer.decode(target)\n",
    "                )\n",
    "                if \"<eos>\" in prediction:\n",
    "                    prediction = prediction[: prediction.index(\"<eos>\") + 5]\n",
    "                prediction = (\n",
    "                    prediction.replace(\"<bos>\", \"<bos> \")\n",
    "                    .replace(\"<eos>\", \" <eos>\")\n",
    "                    .strip()\n",
    "                )\n",
    "                batch_predictions.append(prediction)\n",
    "            predictions += batch_predictions\n",
    "        return predictions"
   ]
  },
  {
   "cell_type": "markdown",
   "metadata": {},
   "source": [
    "get the scores as batches"
   ]
  },
  {
   "cell_type": "code",
   "execution_count": 24,
   "metadata": {},
   "outputs": [
    {
     "data": {
      "application/vnd.jupyter.widget-view+json": {
       "model_id": "368223beb5164b6aa28cbbce8fe6b427",
       "version_major": 2,
       "version_minor": 0
      },
      "text/plain": [
       "  0%|          | 0/5 [00:00<?, ?it/s]"
      ]
     },
     "metadata": {},
     "output_type": "display_data"
    }
   ],
   "source": [
    "preds = batch_translate(\n",
    "    model=model,\n",
    "    input_sentences=test_dataset[source_language_code],\n",
    "    batch_size=241,\n",
    ")"
   ]
  },
  {
   "cell_type": "code",
   "execution_count": 25,
   "metadata": {},
   "outputs": [
    {
     "data": {
      "application/vnd.jupyter.widget-view+json": {
       "model_id": "f2f00be67bbd40cda43dda015bdf1531",
       "version_major": 2,
       "version_minor": 0
      },
      "text/plain": [
       "  0%|          | 0/1205 [00:00<?, ?it/s]"
      ]
     },
     "metadata": {},
     "output_type": "display_data"
    },
    {
     "data": {
      "application/vnd.jupyter.widget-view+json": {
       "model_id": "11aa6ceac65242499fcccc3552965266",
       "version_major": 2,
       "version_minor": 0
      },
      "text/plain": [
       "  0%|          | 0/1205 [00:00<?, ?it/s]"
      ]
     },
     "metadata": {},
     "output_type": "display_data"
    },
    {
     "name": "stdout",
     "output_type": "stream",
     "text": [
      "Source: سأحدثكم اليوم عن 30 عاما من تاريخ الهندسة.\n",
      "Prediction: i'm going to talk to you today about 30 years of the history of engineering.\n",
      "Target: today i'm going to speak to you about the last 30 years of architectural history.\n",
      "********************************************************************************\n",
      "Source: هذا أمر كبير جدا لألخصه في 18 دقيقة.\n",
      "Prediction: this is a very big thing to summarize in 18 minutes.\n",
      "Target: that's a lot to pack into 18 minutes.\n",
      "********************************************************************************\n",
      "Source: إنه موضوع معقد ، لذلك فإننا سنتوجه مباشرة إلى مكان معقد: إلى نيو جيرسي ،\n",
      "Prediction: it's a complicated topic, so we're going to head right into a complex place: to new jersey.\n",
      "Target: it's a complex topic, so we're just going to dive right in at a complex place: new jersey.\n",
      "********************************************************************************\n",
      "Source: لأنه منذ 30 سنة ، أنا من نيوجيرسي ، كنت في السادسة من عمري ، وكنت أعيش هناك مع والدي في مدينة تدعى ليفينغستون ، وكانت هذه غرفة نومي.\n",
      "Prediction: because 30 years ago, i was from new jersey, i was six years old, and i was living there with my father in a town called levittgenston, and this was a bedroom.\n",
      "Target: because 30 years ago, i'm from jersey, and i was six, and i lived there in my parents' house in a town called livingston, and this was my childhood bedroom.\n",
      "********************************************************************************\n",
      "Source: عند زاوية غرفتي كان هناك حمام أتقاسمه مع أختي.\n",
      "Prediction: at the corner of my room, there was a bathroom that i shared with my sister.\n",
      "Target: around the corner from my bedroom was the bathroom that i used to share with my sister.\n",
      "********************************************************************************\n",
      "sacre bleu 30.242\n",
      "sacre bleu signature: nrefs:1|case:lc|eff:no|tok:13a|smooth:exp|version:2.3.1\n"
     ]
    },
    {
     "data": {
      "text/plain": [
       "30.242"
      ]
     },
     "execution_count": 25,
     "metadata": {},
     "output_type": "execute_result"
    }
   ],
   "source": [
    "get_blue_score(\n",
    "            model=model,\n",
    "            is_dotted=True,\n",
    "            predictions=preds,\n",
    "            show_translations_for=5,\n",
    "            decode_with_beam_search=False,\n",
    "            source_tokenizer=source_tokenizer,\n",
    "            target_tokenizer=target_tokenizer,\n",
    "            save_predictions_and_targets=False,\n",
    "            max_sequence_length=sequence_length,\n",
    "            source_language_code=source_language_code,\n",
    "            target_language_code=target_language_code,\n",
    "            source_sentences=test_dataset[source_language_code],\n",
    "            target_sentences=test_dataset[target_language_code],\n",
    "        )"
   ]
  },
  {
   "cell_type": "markdown",
   "metadata": {},
   "source": [
    "## Beam Search"
   ]
  },
  {
   "cell_type": "code",
   "execution_count": 26,
   "metadata": {},
   "outputs": [],
   "source": [
    "class BeamNode:\n",
    "    def __init__(self, tokens, score):\n",
    "        self.tokens = tokens\n",
    "        self.score = score\n",
    "\n",
    "\n",
    "class Beam:\n",
    "    def __init__(\n",
    "        self,\n",
    "        beam_width=4,\n",
    "    ):\n",
    "        self.nodes = []\n",
    "        self.beam_width = beam_width\n",
    "\n",
    "    def add(self, node):\n",
    "        self.nodes.append(node)\n",
    "\n",
    "    def get_topk(self):\n",
    "        return heapq.nlargest(\n",
    "            self.beam_width,\n",
    "            self.nodes,\n",
    "            key=lambda node: Beam.ordering_function(node),\n",
    "        )\n",
    "\n",
    "    def has_finished(self):\n",
    "        return all(\n",
    "            [\n",
    "                node.tokens[-1] == target_tokenizer.token_to_id(\"<eos>\")\n",
    "                for node in self.nodes\n",
    "            ]\n",
    "        )\n",
    "\n",
    "    @classmethod\n",
    "    def ordering_function(\n",
    "        cls,\n",
    "        node,\n",
    "        length_penalty_alpha=0.6,\n",
    "        minimum_penalty_tokens_length=5,\n",
    "    ):\n",
    "        tokens = node.tokens\n",
    "        eos_id = target_tokenizer.token_to_id(\"<eos>\")\n",
    "        if eos_id in tokens:\n",
    "            tokens = tokens[: tokens.index(eos_id) + 1]\n",
    "        return node.score / (\n",
    "            (len(tokens) + minimum_penalty_tokens_length) ** length_penalty_alpha\n",
    "        )"
   ]
  },
  {
   "cell_type": "code",
   "execution_count": 27,
   "metadata": {},
   "outputs": [],
   "source": [
    "def beam_search(\n",
    "    model,\n",
    "    encoded_input_sentences,\n",
    "    target_tokenizer,\n",
    "    max_sequence_length,\n",
    "    beam_width,\n",
    "):\n",
    "    predictions = []\n",
    "    for batch in tqdm(encoded_input_sentences):\n",
    "        beams = [Beam(beam_width) for _ in range(batch.size()[0])]\n",
    "        for beam in beams:\n",
    "            beam.add(\n",
    "                BeamNode(tokens=[target_tokenizer.token_to_id(\"<bos>\")], score=0.0)\n",
    "            )\n",
    "        for t in range(max_sequence_length):\n",
    "            next_beams = [\n",
    "                Beam(beam_width) for _ in range(len(batch))\n",
    "            ]  # Initialize here\n",
    "            best_beams_nodes = [beam.get_topk() for beam in beams]\n",
    "            for k in range(beam_width):\n",
    "                if k >= len(best_beams_nodes[0]):\n",
    "                    continue\n",
    "                encoded_targets = [\n",
    "                    topk_nodes[k].tokens for topk_nodes in best_beams_nodes\n",
    "                ]\n",
    "                outputs = model(\n",
    "                    src=batch,\n",
    "                    trg=torch.LongTensor(encoded_targets).to(model.device),\n",
    "                )\n",
    "                outputs = F.softmax(outputs[:, -1, :], dim=-1)\n",
    "                # topk_scores, topk_indices = torch.topk(outputs, beam_width)\n",
    "                topk_scores, topk_indices = torch.topk(outputs, beam_width)\n",
    "                batch_next_token_id = topk_indices.view(batch.size()[0], beam_width)\n",
    "                batch_next_token_score = torch.log(\n",
    "                    topk_scores.view(\n",
    "                        batch.size()[0],\n",
    "                        beam_width,\n",
    "                    )\n",
    "                )\n",
    "                for beam_index, beam in enumerate(next_beams):\n",
    "                    # Check if this sequence has already reached <eos>\n",
    "                    if best_beams_nodes[beam_index][k].tokens[\n",
    "                        -1\n",
    "                    ] == target_tokenizer.token_to_id(\"<eos>\"):\n",
    "                        beam.add(\n",
    "                            BeamNode(\n",
    "                                tokens=best_beams_nodes[beam_index][k].tokens\n",
    "                                + [target_tokenizer.token_to_id(\"<eos>\")],\n",
    "                                score=best_beams_nodes[beam_index][k].score,\n",
    "                            )\n",
    "                        )\n",
    "                    else:\n",
    "                        for k2 in range(beam_width):\n",
    "                            beam.add(\n",
    "                                BeamNode(\n",
    "                                    tokens=best_beams_nodes[beam_index][k].tokens\n",
    "                                    + [batch_next_token_id[beam_index][k2].item()],\n",
    "                                    score=best_beams_nodes[beam_index][k].score\n",
    "                                    + batch_next_token_score[beam_index][k2].item(),\n",
    "                                )\n",
    "                            )\n",
    "            beams = next_beams  # Update beams for the next timestep\n",
    "            if all(beam.has_finished() for beam in beams):\n",
    "                break\n",
    "\n",
    "        batch_predictions = []\n",
    "        for beam in beams:\n",
    "            best_node = max(beam.nodes, key=lambda node: Beam.ordering_function(node))\n",
    "            translated_tokens = best_node.tokens\n",
    "            translated_tokens = [\n",
    "                target_tokenizer.id_to_token(token_id) for token_id in translated_tokens\n",
    "            ]\n",
    "            translated_sequence = target_tokenizer.detokenize(translated_tokens).strip()\n",
    "            if \"<eos>\" in translated_sequence:\n",
    "                translated_sequence = translated_sequence[\n",
    "                    : translated_sequence.index(\"<eos>\") + 5\n",
    "                ]\n",
    "            translated_sequence = (\n",
    "                translated_sequence.replace(\"<bos>\", \"<bos> \")\n",
    "                .replace(\"<eos>\", \" <eos>\")\n",
    "                .strip()\n",
    "            )\n",
    "            batch_predictions.append(translated_sequence)\n",
    "        predictions += batch_predictions\n",
    "    return predictions\n",
    "\n",
    "\n",
    "def batch_translate_with_beam_search(\n",
    "    model,\n",
    "    input_sentences,\n",
    "    max_sequence_length=sequence_length,\n",
    "    source_tokenizer=source_tokenizer,\n",
    "    target_tokenizer=target_tokenizer,\n",
    "    batch_size=2,\n",
    "    beam_width=4,\n",
    "):\n",
    "    model.eval()\n",
    "    with torch.no_grad():\n",
    "        encoded_input_sentences = (\n",
    "            torch.tensor(\n",
    "                create_features_from_text_list(\n",
    "                    use_tqdm=False,\n",
    "                    text_list=input_sentences,\n",
    "                    tokenizer=source_tokenizer,\n",
    "                    sequence_length=max_sequence_length,\n",
    "                )\n",
    "            )\n",
    "            .view(-1, max_sequence_length)\n",
    "            .to(model.device)\n",
    "        )\n",
    "        actual_batch_size = batch_size\n",
    "        if actual_batch_size > encoded_input_sentences.size(0):\n",
    "            actual_batch_size = encoded_input_sentences.size(0)\n",
    "        while encoded_input_sentences.size(0) % actual_batch_size != 0:\n",
    "            actual_batch_size -= 1\n",
    "        assert actual_batch_size >= 0, \"could not find a proper batch size\"\n",
    "        if batch_size != actual_batch_size:\n",
    "            print(\n",
    "                f\"changing batch size from {batch_size} to {actual_batch_size} to fit inputs of size {encoded_input_sentences.size(0)}\"\n",
    "            )\n",
    "        # reshape encoded_input_sentences to [batch_size,max_sequence_length]\n",
    "        batched_encoded_input_sentences = encoded_input_sentences.view(\n",
    "            -1,\n",
    "            actual_batch_size,\n",
    "            max_sequence_length,\n",
    "        )\n",
    "        predictions = beam_search(\n",
    "            model,\n",
    "            batched_encoded_input_sentences,\n",
    "            target_tokenizer,\n",
    "            max_sequence_length,\n",
    "            beam_width,\n",
    "        )\n",
    "        return predictions"
   ]
  },
  {
   "cell_type": "markdown",
   "metadata": {},
   "source": [
    "get preds in batches with beam search"
   ]
  },
  {
   "cell_type": "code",
   "execution_count": 28,
   "metadata": {},
   "outputs": [
    {
     "data": {
      "application/vnd.jupyter.widget-view+json": {
       "model_id": "acf1be8ea61140b39479753435f1c396",
       "version_major": 2,
       "version_minor": 0
      },
      "text/plain": [
       "  0%|          | 0/5 [00:00<?, ?it/s]"
      ]
     },
     "metadata": {},
     "output_type": "display_data"
    }
   ],
   "source": [
    "preds = batch_translate_with_beam_search(\n",
    "    model=model,\n",
    "    input_sentences=test_dataset[source_language_code],\n",
    "    batch_size=241,\n",
    ")"
   ]
  },
  {
   "cell_type": "code",
   "execution_count": 29,
   "metadata": {},
   "outputs": [
    {
     "data": {
      "text/plain": [
       "['<bos> i &apos;m going to talk to you today about 30 years of the history of engineering . <eos>',\n",
       " '<bos> this is a very big thing to summarize in 18 minutes . <eos>',\n",
       " '<bos> it &apos;s a complicated topic , so we &apos;re going to direct a complex place : to new jersey . <eos>',\n",
       " '<bos> because 30 years ago , i was from new jersey , i was six years old , and i was living there with my father in a town named levittgenston , and this was a bedroom . <eos>',\n",
       " '<bos> at the corner of my room , there was a bathroom that i shared with my sister . <eos>',\n",
       " '<bos> and between my room and the bathroom , there was a balcony overlooking the living room . <eos>',\n",
       " '<bos> and that &apos;s where everybody would gather to watch tv , so every time i would go from my room to the bathroom , everyone would see me , and every time i bathed and pulled out my anchor , everybody would see me . <eos>',\n",
       " '<bos> i was looking like this . <eos>',\n",
       " '<bos> i was weird , i didn &apos;t feel secure , so i hated that feeling . <eos>',\n",
       " '<bos> i used to hate that walk , that balcony , i hated that room , that home . <eos>',\n",
       " '<bos> and that &apos;s architecture . <eos>',\n",
       " '<bos> it &apos;s gone . <eos>',\n",
       " '<bos> that feeling , those feelings that i feel , that &apos;s the power of architecture , because architecture isn &apos;t mathematics and coordination. it &apos;s those charged sensory intersections that we feel in the places we operate . <eos>',\n",
       " '<bos> it &apos;s no wonder that we feel like this , because by the way , the american people spend 90 percent of their time outside . <eos>',\n",
       " '<bos> 90 percent of our time is surrounded by engineering . <eos>',\n",
       " '<bos> that &apos;s a huge thing . <eos>',\n",
       " '<bos> what that means is that engineering determines who we are in ways we never knew . <eos>',\n",
       " '<bos> what makes us something naive , and we can predict what we want is very easily . <eos>',\n",
       " '<bos> that means that when i show you a building like this , i know what you &apos;re going to think about : &quot; power &quot; and &quot; stability &quot; and &quot; democracy . &quot; <eos>',\n",
       " '<bos> and i know you &apos;re thinking that way , because it &apos;s based on the basis of building the basis of 2,500 cents taken by the greeks . <eos>',\n",
       " '<bos> that &apos;s the trick . <eos>',\n",
       " '<bos> this is the incentive that engineers use to create that emotional connection with the forms that we build buildings . <eos>',\n",
       " '<bos> it &apos;s a predictable emotional connection , and we &apos;ve been using it for a very , very long time . <eos>',\n",
       " '<bos> we &apos;ve been using it for 200 years to build up banks . <eos>',\n",
       " '<bos> we used it in the 19th century to build artifacts . <eos>',\n",
       " '<bos> in the 20th century in the united states , we used it to build houses . <eos>',\n",
       " '<bos> look at these young , stable , hard-wired soldiers , heading for the ocean to take the risks . <eos>',\n",
       " '<bos> this is very useful , because building things is horrifying . <eos>',\n",
       " '<bos> it &apos;s expensive , it takes a long time , and it &apos;s too complicated . <eos>',\n",
       " '<bos> and those who build these things -- developers and governments -- are naturally afraid of innovation , and they &apos;d better use only the forms that they know you &apos;re going to respond to . <eos>',\n",
       " '<bos> so we end up having buildings like this . <eos>',\n",
       " '<bos> this is a beautiful building . <eos>',\n",
       " '<bos> this is the library of lipstonstone , which was finished in 2004 in my hometown , and it &apos;s got a dome and that circular thing , with a column , with a red , and you can guess what levitton is trying to say through this building : children , assets and history . <eos>',\n",
       " '<bos> but it doesn &apos;t have much similarities with what libraries are doing today . <eos>',\n",
       " '<bos> that same year , 2004 , on the other side of the country , was finished building another library. it looked like this . <eos>',\n",
       " '<bos> in seattle . <eos>',\n",
       " '<bos> this library is about how we &apos;re used to media in digital time . <eos>',\n",
       " '<bos> they &apos;re sort of a public immune to the city , a place to gather , to read and to share opinions . <eos>',\n",
       " '<bos> so how is it possible that in the same year , in the same country , two buildings , both of them are written , completely different <eos>',\n",
       " '<bos> and the answer is that engineering works on the principle of per hour . <eos>',\n",
       " '<bos> on the first side we find innovation , where engineers are constantly pushing the direction of building new technologies , studying new symbols , new solutions of how we live today . <eos>',\n",
       " '<bos> that &apos;s that we pay and push and we push until we all turn around . <eos>',\n",
       " '<bos> we &apos;re wearing black clothes , we &apos;re depressed , you think we &apos;re loving , we &apos;re dying in us , because ultimately we have no other choice . <eos>',\n",
       " '<bos> we &apos;ve got to go to the other side to engage again with the symbols that we know you love . <eos>',\n",
       " '<bos> we do this , and we feel like a concrete , and we start testing again , and then we go backwards and backwards , and we &apos;ve done this for the last 300 years , and certainly over the last 30 years . <eos>',\n",
       " '<bos> thirty years ago , we just came out of the 1970s . <eos>',\n",
       " '<bos> the engineers were then busy testing something called brutal architecture . <eos>',\n",
       " '<bos> it &apos;s very concrete . <eos>',\n",
       " '<bos> you can guess . <eos>',\n",
       " '<bos> small windows , inhuman measurements . <eos>',\n",
       " '<bos> this is very difficult . <eos>',\n",
       " '<bos> coming closer to the 1980s , we started sharing these symbols . <eos>',\n",
       " '<bos> so we push the scorpion to the other side . <eos>',\n",
       " '<bos> we take those shapes that we know you love and we update them . <eos>',\n",
       " '<bos> we add neon , we add paris , we use new materials . <eos>',\n",
       " '<bos> you open it up . <eos>',\n",
       " '<bos> we can &apos;t satisfy you enough . <eos>',\n",
       " '<bos> we take the english lockers and we turn them into skyscrapers , they can be a little glass from the middle ages . <eos>',\n",
       " '<bos> as the sizes became bigger , and more severe . <eos>',\n",
       " '<bos> the pygmies become the size of the column . <eos>',\n",
       " '<bos> the tower becomes the size of buildings . <eos>',\n",
       " '<bos> it was crazy . <eos>',\n",
       " '<bos> but it &apos;s the 1980s , so it &apos;s great . <eos>',\n",
       " '<bos> we all meet in commercial communities and we all move to live in suburbs , and there , in suburbs , we can create geometric imagination . <eos>',\n",
       " '<bos> and these options can be medium or french or italian . <eos>',\n",
       " '<bos> maybe they have infinite bread . <eos>',\n",
       " '<bos> this is the post- attendance idea . <eos>',\n",
       " '<bos> that &apos;s the idea that &apos;s about symbols . <eos>',\n",
       " '<bos> they &apos;re easy , cheap , because instead of building places , we make memories of places . <eos>',\n",
       " '<bos> because i know , and i know you all know , this is not my medium . <eos>',\n",
       " '<bos> it &apos;s actually ohio . <eos>',\n",
       " '<bos> so engineers are worried , so we start to bring the clock to the other side . <eos>',\n",
       " '<bos> in the late &apos; 80s and early &apos; 90s , we started to test what we call the demolition movement . <eos>',\n",
       " '<bos> we started throwing historical symbols away , and we used new design techniques supported by the computer , and we came up with a bunch of new structures , from crashing into shapes . <eos>',\n",
       " '<bos> these are academic and hard things , and they &apos;re not completely liked. we &apos;re doing a lot . <eos>',\n",
       " '<bos> the punishment often swooshes back to the other side . <eos>',\n",
       " '<bos> and then something wonderful happened . <eos>',\n",
       " '<bos> in 1997 , this building was open . <eos>',\n",
       " '<bos> this is the guggenheim bellubo of his frank gehry engineer . <eos>',\n",
       " '<bos> and this building has radically changed the relationship of the world with engineering . <eos>',\n",
       " '<bos> paul goldberg said that billbo was one of those superstar signs when critics and academics are completely defined by a building . <eos>',\n",
       " '<bos> new york times considered this building as a miracle . <eos>',\n",
       " '<bos>  tourism doubled in billbo by 2500 percent after we finished this building . <eos>',\n",
       " '<bos> suddenly , everybody wanted one of these buildings : los angeles , seattle , chicago , new york , cleveland , springs . <eos>',\n",
       " '<bos> everyone wanted a similar building , and it became a instinct running around . <eos>',\n",
       " '<bos> he &apos;s the first engineer to become a star . <eos>',\n",
       " '<bos> now , how is it possible for these forms -- universities and conventional -- how could they be all over the world <eos>',\n",
       " '<bos> this happened because the media was so successful in telling us quickly that these shapes mean culture and tourism . <eos>',\n",
       " '<bos> so we created an emotional response towards these shapes . <eos>',\n",
       " '<bos> and so did every city mayor in the world . <eos>',\n",
       " '<bos> so each mayor knows that if his city has forms like this , they have culture and tourism . <eos>',\n",
       " '<bos> this phenomenon happened with the beginning of the new millennium for some of the other engineers . <eos>',\n",
       " '<bos> i got along with her corkscrew , and what happened with this few elite engineers with the beginning of the new millennium , was to begin to impact the geometry as a whole , where digital media began to increase the speed at which we consume information . <eos>',\n",
       " '<bos> think about how you consume engineering . <eos>',\n",
       " '<bos> from 1,000 years ago , you had to walk towards the neighboring village to see a building . <eos>',\n",
       " '<bos> the speed of transport increases : you can sail in a ship , use an airplane , be a tourist . <eos>',\n",
       " '<bos> technology is increasing : you can see it on the newspaper , on tv , in the end , we &apos;re all photographers , and the spirit of the building has been released from the site . <eos>',\n",
       " '<bos> engineering is everywhere now , and that means that the speed of communication is finally achieved at the speed of engineering . <eos>',\n",
       " '<bos> because engineering is moving pretty quickly . <eos>',\n",
       " '<bos> you don &apos;t need to think about designing a long time-lapse building . <eos>',\n",
       " '<bos> it &apos;s the building that takes a long time , three or four years , and at that time it &apos;s going to design an engineer or eight or another building before it knows whether the building was designed four years ago or not . <eos>',\n",
       " '<bos> so there &apos;s no feedback loop in engineering . <eos>',\n",
       " '<bos> so you end up with buildings like this . <eos>',\n",
       " '<bos> not only is brutal architecture and only two years , it &apos;s a 20-year-old movement . <eos>',\n",
       " '<bos> twenty years ago , we &apos;d been out there with buildings like this , because we didn &apos;t know how much you hated . <eos>',\n",
       " '<bos> it won &apos;t happen again , i think , because we live on the edge of one of the great engineering revolutions since the invention of concrete , iron , elevator , and what has been with it from a media revolution . <eos>',\n",
       " '<bos> so my theory is that when the media applys to the dance of an hour , it starts to move faster and faster , until it gets more like a synchronous side , and that really sets the difference between creativity and symbols , between engineers , between you and the general public . <eos>',\n",
       " '<bos> we can now create emotionally charged symbols of something completely new . <eos>',\n",
       " '<bos> let me show you how this works by a project that i just recently finished . <eos>',\n",
       " '<bos> we &apos;ve been brought to replace this building that has demolished . <eos>',\n",
       " '<bos> this is a city center called the &quot; the pinez &quot; in feyerland in new york state . <eos>',\n",
       " '<bos> it &apos;s a tourist cluster . <eos>',\n",
       " '<bos> we proposed a building that was about courage , it was different from all the buildings in the population , and we were scared , and our client was scared , and the population was scared , and we created a series of real forms of settings and put them on facebook , and we put it on instagram , and we let people start doing what they &apos;re doing : sharing it . <eos>',\n",
       " '<bos> but that meant that before the building was finished two years ago , the building was already part of the community , and when the settings seemed exactly identical to the final product , there would be no surprise . <eos>',\n",
       " '<bos> this was already a part of the community , and then in the first summer , when people started ramping and sharing images of building on social media , the building was no longer just a building but it became an advertising , because these aren &apos;t just images of a building , they &apos;re your pictures of this building . <eos>',\n",
       " '<bos> and when you use it to see your story , it becomes part of your narrative , and what you &apos;re doing is shortening the way on our collective memory , and creating these passionate symbols for us to understand them . <eos>',\n",
       " '<bos> that means we don &apos;t need greeks anymore to fill us with what we need to think about engineering . <eos>',\n",
       " '<bos> we can tell each other what we think about engineering , because social media has not only changed our relationship to each other , but it &apos;s also the relationship between us and buildings . <eos>',\n",
       " '<bos> think for a moment in the pioneers of the librarians there in lingenton . <eos>',\n",
       " '<bos> if that building were going to be built today , the first thing they would do was go online and find new libraries . <eos>',\n",
       " '<bos> they &apos;ll be surprised by examples of testing , about creativity , and think deeper about what the library is . <eos>',\n",
       " '<bos> that &apos;s the ammunition . <eos>',\n",
       " '<bos> that &apos;s the ammunition they can take with them for the mayor of levittston , and the linguistic people , let &apos;s say , there &apos;s not a single definition of what the library is today . <eos>',\n",
       " '<bos> and let &apos;s be part of this . <eos>',\n",
       " '<bos> highly experimentation gives them freedom to test them . <eos>',\n",
       " '<bos> everything is different now . <eos>',\n",
       " '<bos> the engineers are no longer these mysterious creatures that use inspirational words and drawings , and they &apos;ve never come back to the public that &apos;s expressed , that customers who will never accept anything they &apos;ve never seen before . <eos>',\n",
       " '<bos> engineers listen to you , and you &apos;re not afraid of engineering . <eos>',\n",
       " '<bos> that means that the dancing of the clock forward and backwards from one way to another , from one movement to another , no longer meaning . <eos>',\n",
       " '<bos> we can move forward and find valuable solutions to the problems our society faces . <eos>',\n",
       " '<bos> that &apos;s the end of the history of engineering , which means that tomorrow &apos;s building will look very different than the buildings of today . <eos>',\n",
       " '<bos> which means that the public spaces in the old city of archipelago can be unique and designed in the ways in which a new city works . <eos>',\n",
       " '<bos> what that means is that a parrot in brooklyn can be a slave there , not to be a historical tradition of the red wave we think of as a player . <eos>',\n",
       " '<bos> that means that robots are going to build our buildings , because we &apos;re finally ready to accommodate the shapes that they &apos;re going to produce . <eos>',\n",
       " '<bos> it also means that the buildings are going to be synthesized with the air of nature and not the opposite . <eos>',\n",
       " '<bos> that means that a parking lot in miami beach in florida , it can be a place for sports and loga and you can also marry there late at night . <eos>',\n",
       " '<bos> that means that three engineers dream of swimming in the east river in new york city , and they collect about half a million dollars from people who collected their cause , no longer have one client . <eos>',\n",
       " '<bos> that means that there &apos;s no smaller building than to be creative in , like this little ellipse wing , it &apos;s strong and nervous like the animals that are designed to observe . <eos>',\n",
       " '<bos> and that means that no one should be beautiful to be liked , like this ugly building in spain , where the engineers drilled a hole , filled it with a straw , and chewed the concrete around it , and when the concrete drought , let someone come and clean the straw so that this little hidden room remains the rest of it . <eos>',\n",
       " '<bos> which became one of the most magical places to see spanish . <eos>',\n",
       " '<bos> because it doesn &apos;t matter if a cow is our daughter or a robot from a building . <eos>',\n",
       " '<bos> it doesn &apos;t matter how we build , what matters is what we build . <eos>',\n",
       " '<bos> the engineers already know how to build eco-friendly buildings that are smarter and easier to use . <eos>',\n",
       " '<bos> we were just waiting for all of you to like it . <eos>',\n",
       " '<bos> and finally , we &apos;re never on the other side . <eos>',\n",
       " '<bos> find an engineer , use an engineer , work with us to design better buildings , better cities , and a better world , because standards are high . <eos>',\n",
       " '<bos> the buildings don &apos;t reflect our society , they define its features through the simplest space : local libraries , houses in which we raise our children , and the path that they take from the bedroom to the bathroom . <eos>',\n",
       " '<bos> thank you . <eos>',\n",
       " '<bos> this is my niece steel . <eos>',\n",
       " '<bos> she just turned year and started walking . <eos>',\n",
       " '<bos> and she walks that great way , like all the children in their first year , where they &apos;re going . <eos>',\n",
       " '<bos> they &apos;re absolutely wonderful . <eos>',\n",
       " '<bos> and one of their favorite things about right now is that she stares herself in the mirror . <eos>',\n",
       " '<bos> she certainly loves her reflection on the mirror . <eos>',\n",
       " '<bos> she laughs and sweats and kisses and kisses herself those large wet kisses . <eos>',\n",
       " '<bos> it &apos;s a beautiful thing . <eos>',\n",
       " '<bos> and it seemed that all her friends were doing this , and my mother also told me that i was doing it , and that invited me to think when did i stop doing it <eos>',\n",
       " '<bos> when did it suddenly become unwanted to love our appearance <eos>',\n",
       " '<bos> because obviously we don &apos;t like our appearance . <eos>',\n",
       " '<bos> every month , 10,000 people are looking at google , &quot; am i ugly &quot; <eos>',\n",
       " '<bos> this is fi , 13 years old and living in denver . <eos>',\n",
       " '<bos> and like any teenager you want to be loved and accepted . <eos>',\n",
       " '<bos> it &apos;s a sunday night . <eos>',\n",
       " '<bos> she &apos;s ready for school next week . <eos>',\n",
       " '<bos> she &apos;s a little scared and she &apos;s a disaster because even though her mother tells her all the time , she &apos;s beautiful every day in school , somebody tells her she &apos;s ugly . <eos>',\n",
       " '<bos> and because of the difference between her mother and what her peers say at school doesn &apos;t know who she is . <eos>',\n",
       " '<bos> so imagine a video of herself , and you put it on youtube , and you ask people , and you ask them to write a comment , &quot; am i beautiful or ugly &quot; <eos>',\n",
       " '<bos> ok , so far , i &apos;ve got 13,000 comments . <eos>',\n",
       " '<bos> some of the comments are disgusting , and they don &apos;t even look at it . <eos>',\n",
       " '<bos> this is an adolescent girl with a normal health appearance that receives feedback like this in the most sensitive time of her life . <eos>',\n",
       " '<bos> thousands of people are publishing videos like this , most of them teenage girls are communicating this way . <eos>',\n",
       " '<bos> but what did he get them to do that <eos>',\n",
       " '<bos> well teenagers these days are rarely alone . <eos>',\n",
       " '<bos> they &apos;re under pressure to be online all the time ; they &apos;re talking ; they &apos;re texting and they &apos;re liking . <eos>',\n",
       " '<bos> and they comment and post -- that &apos;s never finished -- we &apos;ve never had this connection in this constant , instant , instantaneous way and young age . <eos>',\n",
       " '<bos> as one mother told me , there &apos;s a party in their bedroom every night . <eos>',\n",
       " '<bos> simply , there &apos;s no privacy . <eos>',\n",
       " '<bos> and the social pressures that go with this are tough . <eos>',\n",
       " '<bos> this is an environment of continuous connectivity for our children that is trained to value themselves according to the number of likes they get and the kind of comments they receive . <eos>',\n",
       " '<bos> there is no separation between life online and life outside . <eos>',\n",
       " '<bos> it &apos;s hard to distinguish what &apos;s real and what &apos;s false . <eos>',\n",
       " '<bos> it &apos;s also very hard to distinguish what &apos;s original and what &apos;s digitally manipulated . <eos>',\n",
       " '<bos> what &apos;s important about everyday events <eos>',\n",
       " '<bos> where are they looking for inspiration <eos>',\n",
       " '<bos> let &apos;s see the kinds of images that fill girls &apos; news sources these days . <eos>',\n",
       " '<bos> unemployment contradictions are making platforms . <eos>',\n",
       " '<bos> one of the usual is re-drawning wave features , and we &apos;re seeing disasters of the press . <eos>',\n",
       " '<bos> it &apos;s about the space between the two thighs . <eos>',\n",
       " '<bos> and these derivatives encourage the loss of appetite . <eos>',\n",
       " '<bos> these trends have a very materialistic view of women in public culture . <eos>',\n",
       " '<bos> it &apos;s not hard to find out what girls compare themselves to . <eos>',\n",
       " '<bos> but boys aren &apos;t that good either . <eos>',\n",
       " '<bos> we &apos;re looking at them as broad dementia and hypergiene muscles as sports and singers , but what &apos;s the problem with all of this <eos>',\n",
       " '<bos> of course , we want our children to arise as masturbated individuals , but with a culture that is obsessed with shape , we raise them . <eos>',\n",
       " '<bos> by spending time and effort looking at their appearance as their social and physical skills . <eos>',\n",
       " '<bos> they start to deteriorate . <eos>',\n",
       " '<bos> six out of 10 girls choose not to do a task to believe that they &apos;re not so beautiful . <eos>',\n",
       " '<bos> we &apos;re not talking about secondary activities , but fundamental activities to mature them as individuals , as people who are contributed to the community , about 100 percent , about 15 of all teenagers . <eos>',\n",
       " '<bos> they pull out the conversations in the classroom who don &apos;t engage because they don &apos;t want to . <eos>',\n",
       " '<bos> i went to their appearance , one in five out of school when it wasn &apos;t satisfied , let &apos;s talk about tests when you think you don &apos;t look so well . <eos>',\n",
       " '<bos> specifically , if you think you &apos;re not graceful . <eos>',\n",
       " '<bos> it &apos;s going to reduce your grade . <eos>',\n",
       " '<bos> those who don &apos;t worry about this have been fixed in finland and the united states and china , regardless of what your real weight is . <eos>',\n",
       " '<bos> and to illustrate more , we &apos;re talking about . <eos>',\n",
       " '<bos> you think about your shape and not your real shape . <eos>',\n",
       " '<bos> the lack of trust in the appearance of reducing the school level and destroying health when adolescents are lower , they exercise less , they don &apos;t eat fruit and vegetables . <eos>',\n",
       " '<bos> and they do unhealthy diets . <eos>',\n",
       " '<bos> it leads to eating disorders and decreases with self-worth . <eos>',\n",
       " '<bos> that makes it more affected by other people &apos;s opinions and is exposed to depression , and all these things make them more alcoholic and drug abuse . <eos>',\n",
       " '<bos> and unhealthy food and cosmetic surgery and engaging in sexual practices and harm themselves . <eos>',\n",
       " '<bos> behind the perfect body is playing hospitals . <eos>',\n",
       " '<bos> our government costs billions of dollars every year and we don &apos;t stop it , women who think they &apos;re toxic . <eos>',\n",
       " '<bos> no matter whether they do so , they actually miss the work more , to do a job interview the day they don &apos;t feel confident . <eos>',\n",
       " '<bos> let &apos;s think about the impact of this on our economy . <eos>',\n",
       " '<bos> and what will we do if we overcome this , we allow these possibilities to be in the interest of each and every one of us <eos>',\n",
       " '<bos> but how do we do that <eos>',\n",
       " '<bos> talking alone is about problems . <eos>',\n",
       " '<bos> it &apos;s not enough to solve it . <eos>',\n",
       " '<bos> if we want to make a difference , we need to do something . <eos>',\n",
       " '<bos> there are three ways to make change , first of all , the awareness of trust in the form , and we have to teach teenagers . <eos>',\n",
       " '<bos> how to overcome the stressfulness of idealism and how they build their self-esteem . <eos>',\n",
       " '<bos> it &apos;s good to have programs that mean that now , but unfortunately . <eos>',\n",
       " '<bos> most of them don &apos;t come in with the results ; the recession is shocked when i realized that a lot of these good programs are good . <eos>',\n",
       " '<bos> it gets worse than unintended , and that &apos;s why we have to make sure that our children are not receiving programs that only leave positive effects . <eos>',\n",
       " '<bos> it &apos;s always left an effect that has shown that the best vessels are addressing basic aspects . <eos>',\n",
       " '<bos> the first of these is family impacts and friends and second relationships , the impact of the media and celebrities , and then dealing with harassments , and so peers , how we compete and compare ourselves to others based on our forms and talk about appearance , and another self-esteem . <eos>',\n",
       " '<bos> these six key points for anyone who &apos;s seriously beginning to educate effectively . <eos>',\n",
       " '<bos> education and awareness are very important , but this problem requires all of us who are initiative to be a good role model for women and girls that are close to it . <eos>',\n",
       " '<bos> and challenge the reality of women in our societies . <eos>',\n",
       " '<bos> we don &apos;t have to judge leadership efficiency by climbing hairs or chests or expecting success to play olympics because they don &apos;t run necks for beauty . <eos>',\n",
       " '<bos> we need to see people with their actions . <eos>',\n",
       " '<bos> we need to take care of the kinds of images that we spread and the comments that we write in social networks . <eos>',\n",
       " '<bos> we &apos;ve got to put people on the efforts they &apos;ve done and the business they &apos;ve done , not in their forms . <eos>',\n",
       " '<bos> let me ask you when was the last time you ever had a mirror <eos>',\n",
       " '<bos> and finally , we have to work together as communities and governments and entrepreneurs to change this culture to raise our children to appreciate their own self-esteem and respect , our differences and belonging . <eos>',\n",
       " '<bos> we need to get the people who are active in the community as the most powerful people in the world . <eos>',\n",
       " '<bos> we highlight them , and when we do that , then we can make change . <eos>',\n",
       " '<bos> we want to create a world where our children feel free to be the best they can be , where they don &apos;t care about what they aspire to or achieve what they want in life . <eos>',\n",
       " '<bos> think about what this is going to mean for anyone in your life . <eos>',\n",
       " '<bos> who &apos;s risked <eos>',\n",
       " '<bos> is it your wife <eos>',\n",
       " '<bos> your sister <eos>',\n",
       " '<bos> your daughter <eos>',\n",
       " '<bos> his son , brother <eos>',\n",
       " '<bos> your girlfriend , or it could be the woman who is removed from you now . <eos>',\n",
       " '<bos> what would it mean for her if she moved from that critical sound inside of her voice , which worries her to make her legs longer , or to take her thinner , or her abdomen , or her nostalgia , or her nostalgia <eos>',\n",
       " '<bos> what would it mean for her if she beat us up and divide her possibilities <eos>',\n",
       " '<bos> today , our culture is in the picture . <eos>',\n",
       " '<bos> but let &apos;s show our kids the truth . <eos>',\n",
       " '<bos> let &apos;s show them that their appearance is just one part of their identity and that we love them for their own selves and their actions and the feelings that they feel . <eos>',\n",
       " '<bos> let &apos;s integrate self-worth into our curriculum . <eos>',\n",
       " '<bos> let &apos;s change the way we compare ourselves to others . <eos>',\n",
       " '<bos> let &apos;s work together as communities of roots to governments to make happy kids today , making changemakers trust themselves tomorrow . <eos>',\n",
       " '<bos> let &apos;s do that . <eos>',\n",
       " '<bos> on november 5 , 1990 , a man named mr.ira entered a hotel in manhattan and murdered the rabbi kahn , a jewish leader . <eos>',\n",
       " '<bos> it wasn &apos;t that the murder was essentially murdered , but when a prisoner was spent on lighter issues , he was planning on other men &apos;s attacks on tens of sites in new york city , including spending and jewish temples and the headquarters of the united nations . <eos>',\n",
       " '<bos> luckily , these diagrams were frustrated by a client in the federal investigation . <eos>',\n",
       " '<bos> unfortunately , in 1993 , the world trade center did not shut down . <eos>',\n",
       " '<bos> we were finally convicted to be involved in the process . <eos>',\n",
       " '<bos> mr. fate is my father . <eos>',\n",
       " '<bos> i was born in pittsburgh , in pennsylvania in 1983 , an egyptian engineer , and who was a loving american , was a primary teacher , and he did everything he could to make me live a happy childhood . <eos>',\n",
       " '<bos> my seven-year-old life began to change . <eos>',\n",
       " '<bos> when my father showed me on the side of islam a few people , including the majority of muslims , they wouldn &apos;t see him . <eos>',\n",
       " '<bos> my own experience says that when people take their time to communicate with each other , it doesn &apos;t take effort to realize that in all , we &apos;re all expecting the same things in life . <eos>',\n",
       " '<bos> but in every religion , in every society , you &apos;ll find a few people who are passionately attached to their beliefs that they feel that they have to use all the means to get people to live as they do . <eos>',\n",
       " '<bos> a few months before his arrest , he sat down and explained to me that during the weekends , some of his friends and some of his friends were going to exercise the protection at long island to exercise the goals . <eos>',\n",
       " '<bos> and he told me that i was going to spend the next morning . <eos>',\n",
       " '<bos> we &apos;ve arrived in the field of protecting calvin , which was , without the knowledge of our own group , observed by the fbi . <eos>',\n",
       " '<bos> when my role to shoot , my father helped me hold the gun on my shoulder and explain to me how i should target the target 30 yards away . <eos>',\n",
       " '<bos> that day , the last bullet was shot by the little orange light that was on the top of the goal and what was surprising to everybody , especially to me , that the whole goal had exploded . <eos>',\n",
       " '<bos> my uncle turned to the rest of the men , and he said to arabic , &quot; my son is a father . &quot; <eos>',\n",
       " '<bos> that &apos;s the shell of that lion . <eos>',\n",
       " '<bos> and apparently they burst into this comment , but it took a few years to understand exactly what they thought was funny . <eos>',\n",
       " '<bos> they thought they saw in me the same destruction that my father was able to do . <eos>',\n",
       " '<bos> these guys were eventually convicted of a mission of putting a small truck that was loaded with 1,500 pounds of explosives on the ground floor of an arctic parking lot for the world trade center , causing the explosion of six people to kill more than 1,000 people . <eos>',\n",
       " '<bos> these guys were my role models . <eos>',\n",
       " '<bos> these were people who called &quot; amoe , &quot; which means &quot; uncle . &quot; <eos>',\n",
       " '<bos> at the age of 19 , i had moved 20 times in my life , settling down that in my childhood , and i hadn &apos;t really given me a chance to identify many friends . <eos>',\n",
       " '<bos> every time i start to feel comfortable to someone , it &apos;s the time that we collect our bags to move to the next city . <eos>',\n",
       " '<bos> and being the new student in the classroom , i &apos;ve often been vulnerable . <eos>',\n",
       " '<bos> i was hiding my identity for my classmates to avoid my target , but it turned out that , being a quiet kid and celestial in the classroom , was making a good vicious ammunition . <eos>',\n",
       " '<bos> so often , i would spend my day at home looking at books and watching tv or playing video games . <eos>',\n",
       " '<bos> and for those reasons , i was missing social skills , at least as appreciated , and growing up in a fanatical house , i couldn &apos;t be prepared to face the real world . <eos>',\n",
       " '<bos> i grew up judging people based on arbitrary scales , like race or religion . <eos>',\n",
       " '<bos> so what opened my eyes <eos>',\n",
       " '<bos> one of my first experiments that challenged my thinking was during the presidential election of the year 2000 . <eos>',\n",
       " '<bos> during my assistant program at the university i was a member of the youngsters &apos; national council in philadelphia . <eos>',\n",
       " '<bos> my own group of young violence , and being a victim of most of my life , that was a subject that i was particularly excited about . <eos>',\n",
       " '<bos> the members of the group were from all different life scenes . <eos>',\n",
       " '<bos> one day , at the end of the council , i discovered that one of the children i believed was jewish . <eos>',\n",
       " '<bos> now , it took me several days to show these details on the roof , and i realized there was no natural hostage among us . <eos>',\n",
       " '<bos> i &apos;ve never had a jewish friend before , and i &apos;ve honestly felt that i &apos;ve been able to transcend a obstacle that i &apos;ve had my entire life to believe that it &apos;s impossible to overcome . <eos>',\n",
       " '<bos> a major transformation point happened when i found a summer job at bush gardens , which is an entertainment garden . <eos>',\n",
       " '<bos> there , i met people of various beliefs and cultures , and it turns out that that experience was essential in the evolution of my personality . <eos>',\n",
       " '<bos> for most of my life , i &apos;ve been told that homosexuality is a tail , and therefore , all gay people have a negative effect . <eos>',\n",
       " '<bos> and i happened to have the opportunity to work with gay actors in a display there , and then i soon discovered that some of them were kind of nice , and fewer people judged . <eos>',\n",
       " '<bos> i was harassed as a child when i was creating a kind of empathy for other people , and it seems unnatural to me that i would never treat nice people in any other way other than i would like to treat them . <eos>',\n",
       " '<bos> thanks to that feeling , i was able to compare the stereotypes i received when i was a kid with real life experience and deal with people . <eos>',\n",
       " '<bos> i don &apos;t know what it &apos;s like to be gay , but i know what it means to be prone to something outside of my will . <eos>',\n",
       " '<bos> then came &quot; the daily shuh . &quot; <eos>',\n",
       " '<bos> so john stewart was forcing me , every night i had to be intellectually honest with myself about my thumb and helped me realize that it had nothing to do with sweat or religion or his sexual orientation of his personality . <eos>',\n",
       " '<bos> it was sometimes my father &apos;s character for me when i was in need of the father . <eos>',\n",
       " '<bos> the inspiration can come from an unexpected place , and as a jewish comedian , he &apos;s done a lot more positive on my vision of the world than my extremist father did , i don &apos;t have a loss for me . <eos>',\n",
       " '<bos> one day , i was talking to my mother about how my worldview has been changing , and she told me something that i will always carry in my heart as long as i live . <eos>',\n",
       " '<bos> she looked into the eye tired of carrying them enough brainpower in his life , and she said , &quot; i &apos;ve been tired of hatting people . &quot; <eos>',\n",
       " '<bos> in that moment , i realized how much negative energy it takes to carry that hatred inside you . <eos>',\n",
       " '<bos> zack abraham is not my real name . <eos>',\n",
       " '<bos> i changed it when my family decided to cut her connection to my father and start a new life . <eos>',\n",
       " '<bos> so why didn &apos;t i go public and put myself in a potentially risky situation <eos>',\n",
       " '<bos> well , it &apos;s simple . <eos>',\n",
       " '<bos> i &apos;m doing this hopefully that there might be somebody who &apos;s forced to use violence might listen to my story and realize that there &apos;s a better way , that if you &apos;re vulnerable to that violence , and an non-toxic ideology , it &apos;s not tired . <eos>',\n",
       " '<bos> instead , i chose to use my experience to fight against terrorism , against prejudice . <eos>',\n",
       " '<bos> i do this for the victims of terrorism and their loved ones , and pain and loss and the right loss that the terrorism has forced them to live . <eos>',\n",
       " '<bos> for the victims of terrorism , i &apos;m going to speak out loudly against these new businesses and religion what my father did . <eos>',\n",
       " '<bos> and basically , i &apos;m standing here as evidence that violence is not about religion or race , and that the son doesn &apos;t have to follow my father &apos;s line . <eos>',\n",
       " '<bos> i &apos;m not my father . <eos>',\n",
       " '<bos> thank you. thank you , all of you. thank you all. thank you very much . <eos>',\n",
       " '<bos> now , you have a film displayed inside your head . <eos>',\n",
       " '<bos> it &apos;s a wonderful multi-touch movie . <eos>',\n",
       " '<bos> and it &apos;s showing a 3d view and the technology of the sound that you see and hear right now , but that &apos;s just the beginning . <eos>',\n",
       " '<bos> your movie has a smell , a shoe , a touch . <eos>',\n",
       " '<bos> it &apos;s got a sense of your body , your pain , your hunger and your brutality . <eos>',\n",
       " '<bos> it has emotions , from anger and happiness . <eos>',\n",
       " '<bos> it also has memories , like watching your childhood being run in front of you . <eos>',\n",
       " '<bos> and there &apos;s this pitch-pong comment going on in your conscious thinking . <eos>',\n",
       " '<bos> and at the heart of this film you &apos;re experiencing it all directly . <eos>',\n",
       " '<bos> this film is your stream of consciousness , the experience of mind and world . <eos>',\n",
       " '<bos> consciousness is one of the fundamental facts of human existence . <eos>',\n",
       " '<bos> each of us is conscious . <eos>',\n",
       " '<bos> everyone has their own internal film , you and you are too . <eos>',\n",
       " '<bos> there &apos;s nothing we know a lot about in a direct way . <eos>',\n",
       " '<bos> at least , i know about my consciousness directly . <eos>',\n",
       " '<bos> i can &apos;t be sure you &apos;re conscious . <eos>',\n",
       " '<bos> and consciousness also makes life worth living . <eos>',\n",
       " '<bos> if we &apos;re not conscious , nothing in our lives will be meaningful or valuable . <eos>',\n",
       " '<bos> but at the same time , consciousness is one of the most mysterious phenomena in the universe . <eos>',\n",
       " '<bos> why are we conscious <eos>',\n",
       " '<bos> why do we have these inner films <eos>',\n",
       " '<bos> why isn &apos;t just robots processing all these inputs , producing all these outputs , without testing this inner film at all <eos>',\n",
       " '<bos> right now , no one has the answers to these questions . <eos>',\n",
       " '<bos> i &apos;m going to suggest that if we want to integrate consciousness into science , there might need some radical ideas . <eos>',\n",
       " '<bos> some people say consciousness is impossible . <eos>',\n",
       " '<bos> science is objective in its nature . <eos>',\n",
       " '<bos> it &apos;s self-aware . <eos>',\n",
       " '<bos> so there can be no science of consciousness . <eos>',\n",
       " '<bos> for a large part of the 20th century this was the dominant view . <eos>',\n",
       " '<bos> psychologists have studied behavioral behavior , and neuroscientists have studied anguish , and no one even mentioned consciousness . <eos>',\n",
       " '<bos> until 30 years ago , when ted started , there was very little scientific research on consciousness . <eos>',\n",
       " '<bos> now , about 20 years ago , this all started to change . <eos>',\n",
       " '<bos> neurologists like francis crick and physicists like roger bannos said it was time for science to study consciousness . <eos>',\n",
       " '<bos> and since then , there &apos;s been a real explosion , a scientific research boom . <eos>',\n",
       " '<bos> and this was a great job. it was special . <eos>',\n",
       " '<bos> but it had some major restrictions so far . <eos>',\n",
       " '<bos> the axis of consciousness has been in recent years looking for interrelated relationships , interrelated relationships between certain areas of the brain and certain states of consciousness . <eos>',\n",
       " '<bos> we &apos;ve seen some of that kind of work from nancy kwischer and the wonderful work that i did a few minutes ago . <eos>',\n",
       " '<bos> now we understand a lot better , for example , the kinds of brain regions that go with conscious experience to see faces or to feel pain or to feel happiness . <eos>',\n",
       " '<bos> but that &apos;s the science of interrelated relationships . <eos>',\n",
       " '<bos> it &apos;s not explanation . <eos>',\n",
       " '<bos> we know that these regions in the brain fit in certain kinds of conscious experience , but we don &apos;t know why they go along with them . <eos>',\n",
       " '<bos> i &apos;d like to illustrate this by saying that this kind of work of neuroscience answeres some of the questions that we want to answer about consciousness , questions about what some brain regions do and what they relate to . <eos>',\n",
       " '<bos> but in a way , these are the easy problems . <eos>',\n",
       " '<bos> without criticizing neuroscientists . <eos>',\n",
       " '<bos> there &apos;s really no easy in the problems of consciousness . <eos>',\n",
       " '<bos> but it doesn &apos;t take the real mystery in the nomination of this subject : why should all the physical processing of the brain have to be aware basically <eos>',\n",
       " '<bos> why is there such an internal film <eos>',\n",
       " '<bos> now , we have nothing to explain . <eos>',\n",
       " '<bos> you might say , let &apos;s just give neuroscience a few years . <eos>',\n",
       " '<bos> it will turn to another emergent phenomenon like traffic congestion , like hurricane , like life , and we will find a solution to it . <eos>',\n",
       " '<bos> classic emergencies are all cases of emergent behavior , how traffic congestion works , how hurricane works , how living organism breeds and adapts and contracts , all questions about the subjective work . <eos>',\n",
       " '<bos> you can apply that to the human brain to explain some of the behaviors and function of the human brain as emergent phenomena : how to walk , how to talk , how to play chess , all of these questions about behavior . <eos>',\n",
       " '<bos> but when it comes to consciousness , the questions become about behavior among easy problems . <eos>',\n",
       " '<bos> when it comes to the hard problem , the question becomes , why does all this behavior have a self-expressed experience <eos>',\n",
       " '<bos> and here , the standard model of evolution , and even the standard model of neuroscience , doesn &apos;t really have much to say . <eos>',\n",
       " '<bos> now , i &apos;m somebody who &apos;s a science guy in the heart . <eos>',\n",
       " '<bos> i want a scientific theory of consciousness that works , and for a long time , i put my head on the wall looking for a theory of consciousness in terms of pure physics that might work . <eos>',\n",
       " '<bos> but i finally made it to the conclusion that it didn &apos;t work only for systematic reasons . <eos>',\n",
       " '<bos> and that &apos;s a long story , but the basic idea is that what you get from the purely reductionistic explanations in physics , and in terms of brain-based terms , are stories of how the system works ; it &apos;s built , it &apos;s dynamic , and it &apos;s a behavior that comes out , and it &apos;s great for solving easy problems <eos>',\n",
       " '<bos> this is something completely new , and this is always another question . <eos>',\n",
       " '<bos> so i think we &apos;re sort of in trouble here . <eos>',\n",
       " '<bos> we have this wonderful series of explanations , we &apos;re familiar with that , but the physics explains chemistry , and chemistry is broken by biology , and biology loses parts of psychology . <eos>',\n",
       " '<bos> but consciousness doesn &apos;t seem to fit into this image . <eos>',\n",
       " '<bos> on the one hand , it &apos;s muslim that we &apos;re conscious . <eos>',\n",
       " '<bos> on the other hand , we don &apos;t know how to contain it in our scientific vision of the world . <eos>',\n",
       " '<bos> so i think consciousness now is a kind of anomaly , and it &apos;s a kind of thing that we need to integrate into our vision of the world , but we don &apos;t see how that is yet . <eos>',\n",
       " '<bos> in the face of an anomalies like this , you might need radical ideas , and i think we might need an idea or two that looks first crazy before we can deal with consciousness in science . <eos>',\n",
       " '<bos> now , there &apos;s a few slides of what these crazy ideas might be . <eos>',\n",
       " '<bos> my friend dan dennett , who &apos;s here today , has one . <eos>',\n",
       " '<bos> his crazy idea is that there is no problem of consciousness . <eos>',\n",
       " '<bos> the whole idea of inner film involves some kind of illusion or confusion . <eos>',\n",
       " '<bos> in fact , all we have to do is explain the objective functions , the brain behaviors , and then we have explained everything that needs to be explained . <eos>',\n",
       " '<bos> well , i say , i wish it more force . <eos>',\n",
       " '<bos> this is the kind of radical ideas that we need to explore if you want to get a purely reductionistic theory of consciousness based on your brain . <eos>',\n",
       " '<bos> at the same time , for me and for many other people , this opinion is very close to denying the attorney &apos;s awareness to simply be satisfied . <eos>',\n",
       " '<bos> so i &apos;m going to go in a different direction . <eos>',\n",
       " '<bos> in the remaining time , i want to explore two crazy ideas that i think might have some hope . <eos>',\n",
       " '<bos> the first crazy idea is that consciousness is the basis . <eos>',\n",
       " '<bos> sometimes physicists take some aspects of the universe as basic : space , time and mass . <eos>',\n",
       " '<bos> and they assume basic laws that control them , like gravity or quantum mechanics . <eos>',\n",
       " '<bos> these properties and rules are not legitimate in any fundamental way . <eos>',\n",
       " '<bos> instead , it &apos;s taken as a mushroom , and that &apos;s where we build the world . <eos>',\n",
       " '<bos> now occasionally , the list of principles is comprised . <eos>',\n",
       " '<bos> in the 19th century , maxwell found that you cannot explain electromagnetic phenomena in terms of the current principles of space and time and mass and newton &apos;s laws have made fundamental laws of electromagnetism and hypothesis as a fundamental element of those laws . <eos>',\n",
       " '<bos> i think that &apos;s the situation we &apos;re in with consciousness . <eos>',\n",
       " '<bos> if you can &apos;t explain consciousness in present-day principles of space and time and mass and charge , then , from the door of reason , we need to expand the list . <eos>',\n",
       " '<bos> the natural thing to do is to hypothesize self-awareness as a fundamental , fundamental building block of nature . <eos>',\n",
       " '<bos> that doesn &apos;t mean that suddenly you can &apos;t apply science to it . <eos>',\n",
       " '<bos> this opens up your way of applying science to it . <eos>',\n",
       " '<bos> what we need then is to study the fundamental rules that regulate consciousness , laws that relate to other fundamentalities : space , time , mass and physical processes . <eos>',\n",
       " '<bos> physicians sometimes say we want basic rules so simple that they can write on the front part of the t-shirt . <eos>',\n",
       " '<bos> well i think something like this is the kind of situation we &apos;re in relation to consciousness . <eos>',\n",
       " '<bos> we want basic rules so simple that we can write them on the front part of the t-shirt . <eos>',\n",
       " '<bos> we don &apos;t know what those rules are yet , but that &apos;s what we &apos;re looking for . <eos>',\n",
       " '<bos> the second crazy idea is that consciousness can be global . <eos>',\n",
       " '<bos> every system can have some degrees of consciousness . <eos>',\n",
       " '<bos> sometimes this view is called &quot; pipelines , &quot; &quot; pinnacles , &quot; &quot; refer to general , &quot; &quot; &quot; ppc , &quot; &quot; refer to mind , &quot; every conscious system , not just humans , dogs and flies , but even rubber microbes . &quot; <eos>',\n",
       " '<bos> even the photon has a certain degree of consciousness . <eos>',\n",
       " '<bos> the point is not that photons are intelligent or they think . <eos>',\n",
       " '<bos> and it &apos;s not that the photons describe it as anxiety because it thinks , &quot; unfortunately , i &apos;m always moving close to the speed of light . <eos>',\n",
       " '<bos> i &apos;ve never been able to slow down until i smell the flowers . &quot; <eos>',\n",
       " '<bos> no , not like that . <eos>',\n",
       " '<bos> but the idea is that photons may have some components of self-expression , some primitive presentations of consciousness . <eos>',\n",
       " '<bos> this might sound a little bit tempting to you . <eos>',\n",
       " '<bos> i mean , why would anyone think of this crazy thing <eos>',\n",
       " '<bos> some of the motivations come from the first crazy idea , which is that consciousness is essential . <eos>',\n",
       " '<bos> if consciousness is essential , such as space and time and mass , it &apos;s natural to assume it might be global too , like they are . <eos>',\n",
       " '<bos> it &apos;s worth remembering that even though the idea is intuitive to us , it &apos;s less intuitive for people than different cultures , where the human brain is more connected to nature . <eos>',\n",
       " '<bos> the deeper motivation comes from the idea that perhaps the most simple and powerful way to find the basic rules that connect consciousness to physical processing are linking consciousness to information . <eos>',\n",
       " '<bos> wherever there is information processing , there is consciousness . <eos>',\n",
       " '<bos> treating complex information , as in humans , means complex consciousness . <eos>',\n",
       " '<bos> and processing simple information means simple consciousness . <eos>',\n",
       " '<bos> and what &apos;s really exciting is that , in recent years , the neuroscientist julio tony took this kind of theory and developed accurately with mathematical theory . <eos>',\n",
       " '<bos> it &apos;s got a mathematical measure of the integration of information called fi , and it measures the amount of information integrated within the system . <eos>',\n",
       " '<bos> and fi is supposed to correspond to consciousness . <eos>',\n",
       " '<bos> so in the human brain , there &apos;s an incredible amount of integrated information , a high degree of fi , and a huge amount of consciousness . <eos>',\n",
       " '<bos> in the mouse , there &apos;s an average degree of information integration , and that &apos;s still important , and a very important amount of consciousness . <eos>',\n",
       " '<bos> but when we come down to the maggots , the microbes , the particles , they have the amount of fi . <eos>',\n",
       " '<bos> the amount of information is integrated too , but it &apos;s still above zero . <eos>',\n",
       " '<bos> in tony &apos;s theory , there will still be zero degrees of consciousness . <eos>',\n",
       " '<bos> in fact , he suggests a fundamental law of consciousness : the higher the fi , the greater consciousness . <eos>',\n",
       " '<bos> now , i don &apos;t know if this theory is true , but it &apos;s actually what i think the leading theory of consciousness now , and it &apos;s been used to integrate a whole bunch of scientific data , and it has a beautiful property that it &apos;s actually very simple to write on the frontal part of a t-shirt . <eos>',\n",
       " '<bos> the other and final motivation is that the general psychological trend can help us integrate consciousness into the physical world . <eos>',\n",
       " '<bos> and , very often , physicists and philosophers have noticed that physics is strangely abstract . <eos>',\n",
       " '<bos> they describe the structure of reality using a set of equations , but they don &apos;t tell us about the reality that lies behind them . <eos>',\n",
       " '<bos> as stephen hawking says , what puts the fire into the equations <eos>',\n",
       " '<bos> well , by the opinion of psychological , you can leave the equations of physics as they are , but you can make them describe the flow of consciousness . <eos>',\n",
       " '<bos> this is really what physics does at the end , describing the flow of consciousness . <eos>',\n",
       " '<bos> from this point of view , it &apos;s consciousness that puts fire into equations . <eos>',\n",
       " '<bos> by the way , consciousness doesn &apos;t lie outside the physical world as a kind of addition . <eos>',\n",
       " '<bos> it &apos;s right there at the heart of the physical world . <eos>',\n",
       " '<bos> and this view of view , i think , has the potential to change the appearance of nature , and it may have some very serious social and moral consequences . <eos>',\n",
       " '<bos> and some of these consequences may be unexpected . <eos>',\n",
       " '<bos> i thought i shouldn &apos;t eat anything that had consciousness , so i had to be a vegetarian . <eos>',\n",
       " '<bos> now , if you &apos;re supporting the face of &quot; psychoanalyst &quot; and you take this view , it &apos;s going to become very hungry . <eos>',\n",
       " '<bos> so i think when you think about it , that &apos;s going to change your views , whereas what matters for moral purposes and meaningful considerations , is not really the reality of consciousness , but the degree of consciousness and complexity of it . <eos>',\n",
       " '<bos> it &apos;s natural to ask about consciousness in other systems , like computers . <eos>',\n",
       " '<bos> how about the artificial intelligence system , samantha <eos>',\n",
       " '<bos> is it conscious <eos>',\n",
       " '<bos> well , if you take a psychological view , it certainly has complex information processing and complex information , so it &apos;s very likely that the answer is yes , it &apos;s conscious . <eos>',\n",
       " '<bos> if that &apos;s true , that raises serious ethical issues around the development of intelligent computer systems and ethics to close . <eos>',\n",
       " '<bos> finally , you may be asking about the consciousness of all groups , this planet . <eos>',\n",
       " '<bos> do the country have its own consciousness <eos>',\n",
       " '<bos> or at a more local level , is an integral group like the audience at the ted conference , do we now have a collective consciousness of ted , an inner ted group different from the internal ted group to every part of our collection <eos>',\n",
       " '<bos> i don &apos;t know the answer to that question , but i think it &apos;s at least a question worth considering . <eos>',\n",
       " '<bos> well , that &apos;s a psychological view , that &apos;s a radical vision , and i don &apos;t know if it &apos;s true . <eos>',\n",
       " '<bos> i &apos;m actually more confident about the first crazy idea , which is consciousness is essential , than my trust in the second idea , which is generally considered . <eos>',\n",
       " '<bos> i mean , the perspective raises a number of questions and a number of challenges , such as how these small pieces of consciousness are added to the kind of complex consciousness that we know and love . <eos>',\n",
       " '<bos> if we can answer those questions , we &apos;re going to run the right path towards a serious theory of consciousness . <eos>',\n",
       " '<bos> and if we can &apos;t , this is probably the hardest problem with science and philosophy . <eos>',\n",
       " '<bos> we can &apos;t expect to solve it overnight . <eos>',\n",
       " '<bos> but i think we &apos;ll find a solution for it eventually . <eos>',\n",
       " '<bos> understanding consciousness is the real key , i think , to understand the universe and to understand ourselves , both . <eos>',\n",
       " '<bos> we might just need the idea of crazy right . <eos>',\n",
       " '<bos> thank you . <eos>',\n",
       " '<bos> i grew up in a very small village in victoria . <eos>',\n",
       " '<bos> me was a normal nature . <eos>',\n",
       " '<bos> i went to school and i quit my friends , and i came across with my little sisters . <eos>',\n",
       " '<bos> all of that was normal . <eos>',\n",
       " '<bos> and when i was 15 , one of the people in our local community called my family and wanted to nurture me for a community &apos;s accomplishment prize . <eos>',\n",
       " '<bos> and my dad said , &quot; that &apos;s really nice , but there &apos;s a single problem with that . <eos>',\n",
       " '<bos> it &apos;s actually not done . &quot; and they were right about it , you know . <eos>',\n",
       " '<bos> i went to school , i got good grades , i had a small job after school at my mom &apos;s school to filter poetry , and i spent a lot of time watching &quot; the vessel of blood vessels &quot; and &quot; doson ray . &quot; <eos>',\n",
       " '<bos> yeah , i know. what a contradiction . <eos>',\n",
       " '<bos> but that was true . <eos>',\n",
       " '<bos> i never did anything outside the box . <eos>',\n",
       " '<bos> i wasn &apos;t doing anything that would be considered an achievement if i pulled out the barrier . <eos>',\n",
       " '<bos> years later , i was in the second school of melbourne high school , and i was 20 minutes before the semester of the year 11 , and he raised his hand and said , &quot; miss , when are you going to start throwing your word &quot; <eos>',\n",
       " '<bos> and i said , &quot; what word &quot; <eos>',\n",
       " '<bos> you know , i &apos;ve been explaining to them about the famous law for 20 minutes . <eos>',\n",
       " '<bos> and he said , &quot; you know , your motivational speech . <eos>',\n",
       " '<bos> you know , when people come into school , they usually say inspirational things . <eos>',\n",
       " '<bos> &quot; they &apos;re usually in the big room . &quot; <eos>',\n",
       " '<bos> and it turned out to me : it was this only boy &apos;s experience with special needs as inspiration . <eos>',\n",
       " '<bos> but it &apos;s not , for this boy and not his tail , i mean , that &apos;s true for so many of us . <eos>',\n",
       " '<bos> for many of us , pensioners are not our teachers , our doctors , our nails . <eos>',\n",
       " '<bos> we are not real people. we are there to inspire . <eos>',\n",
       " '<bos> and in fact , i &apos;m sitting on this stage looking like i &apos;m in this wheelchair and you &apos;re probably kind of expecting me to inspire you. right yeah . <eos>',\n",
       " '<bos> well , ladies and gentlemen , i &apos;m afraid i &apos;m going to hide your hopes dramatically . <eos>',\n",
       " '<bos> i &apos;m not here to inspire you . <eos>',\n",
       " '<bos> i &apos;m here to tell you that we got lied around disability . <eos>',\n",
       " '<bos> yes , they have sold the lie that says deficit is a bad thing . <eos>',\n",
       " '<bos> it &apos;s a bad thing , and being able to live with deficits that make you extraordinary . <eos>',\n",
       " '<bos> it &apos;s not a bad thing and it doesn &apos;t make you exceptional . <eos>',\n",
       " '<bos> in the last few years , we &apos;ve been able to deploy this lie even further through social media . <eos>',\n",
       " '<bos> you &apos;ve probably seen pictures like this : &quot; the only deficit in life is bad behavior . &quot; <eos>',\n",
       " '<bos> or this one : &quot; sorry , unacceptable . &quot; actually . <eos>',\n",
       " '<bos> or this one : &quot; before you stop , try ! &quot; <eos>',\n",
       " '<bos> these are just a bunch of examples , but there are more of them . <eos>',\n",
       " '<bos> you know , you may have seen this little girl without hand drawing a picture of her mouth holding the pen in her mouth . <eos>',\n",
       " '<bos> or you may have seen a child running on artificial fibers of carbon fiber . <eos>',\n",
       " '<bos> and these pictures , there are many of them that are what we call the &quot; pornography . &quot; <eos>',\n",
       " '<bos> and i use the term intentionally , because it embody one group of people to benefit another group of people . <eos>',\n",
       " '<bos> so in this case , we embody disabilities for uncertainty . <eos>',\n",
       " '<bos> the purpose of these pictures is to inspire you , to motivate you to look at them and think , &quot; well , whatever my life is bad , i can be worse . <eos>',\n",
       " '<bos> i could have been that guy . &quot; <eos>',\n",
       " '<bos> but what if i was that person <eos>',\n",
       " '<bos> i didn &apos;t count how many times i was approached by strangers to tell me that they thought i was courageous or inspiring. and this was before my work kind of appeared to the advertisement . <eos>',\n",
       " '<bos> they were congratulating my ability to get up in the morning and remember my name . <eos>',\n",
       " '<bos> and that confined us and turned us into an instrument of these images , these images with special needs and make them a tool for ordinary people . <eos>',\n",
       " '<bos> they &apos;re there to look at them and then you think that everything is not bad for you , to make everything that worries you in perspective . <eos>',\n",
       " '<bos> and life as a disabled person is really , really hard . <eos>',\n",
       " '<bos> it &apos;s true that we &apos;re crossing some odds . <eos>',\n",
       " '<bos> but those things that we &apos;re beyond are not the ones that you think . <eos>',\n",
       " '<bos> it &apos;s not about our bodies . <eos>',\n",
       " '<bos> i use the term &quot; disabled people , &quot; because i &apos;m involved in what &apos;s called the social model of disability , which tells us that we are more disabled by our society in which we live in our bodies or our diagnosis . <eos>',\n",
       " '<bos> and so , i &apos;ve been in this body for a long time . <eos>',\n",
       " '<bos> and i love it very much . <eos>',\n",
       " '<bos> he does the things that he needs to do , and i &apos;ve learned to use it on top of his capabilities as you &apos;ve done , and that &apos;s what the children in those photos do too . <eos>',\n",
       " '<bos> they &apos;re not doing anything extraordinary about nature . <eos>',\n",
       " '<bos> they &apos;re using their bodies , according to the highest performance . <eos>',\n",
       " '<bos> so is it fair to insert them into this way , to spread those images <eos>',\n",
       " '<bos> when people say &quot; you &apos;re the source of inspiration , &quot; they mean it as a compliment . <eos>',\n",
       " '<bos> and i know why this is happening . <eos>',\n",
       " '<bos> it &apos;s because of the lie , which they have sold to us that disability makes you an extraordinary , special person . <eos>',\n",
       " '<bos> in fact don &apos;t . <eos>',\n",
       " '<bos> and i know what you &apos;re thinking . <eos>',\n",
       " '<bos> you know , i &apos;m making fun of inspiration , and you &apos;re thinking , &quot; oh my god , steel , don &apos;t you sometimes inspire you &quot; <eos>',\n",
       " '<bos> and the thing is , yeah . <eos>',\n",
       " '<bos> you learn from other disabled people all the time . <eos>',\n",
       " '<bos> but i don &apos;t know that i &apos;m more fortunate than them . <eos>',\n",
       " '<bos> i &apos;m learning that it &apos;s a brilliant idea to use a barrage to pick up things that have fallen off of you. i &apos;m learning that amazing trick how to charge your phone battery through a wheelchair . <eos>',\n",
       " '<bos> radio ! <eos>',\n",
       " '<bos> we &apos;re learning from each other , our forces and our contraceptives , not against our bodies and our diagnosis , but against a world that excites us and our bodies . <eos>',\n",
       " '<bos> i really believe that this lie that dependence on disability is a great darkness . <eos>',\n",
       " '<bos> it makes life hard for us . <eos>',\n",
       " '<bos> and that saying , &quot; the only disability in life is bad behavior , &quot; the reason that nonsense is because it &apos;s not real , is because of the social model of disability . <eos>',\n",
       " '<bos> there &apos;s not enough smiles for a ladder that &apos;s converted into an electrical stadium . <eos>',\n",
       " '<bos> we smile on a tv screen won &apos;t make the textbook appear for deaf people . <eos>',\n",
       " '<bos> there &apos;s not enough standing in the middle of a library and radiation in a positive card that will convert all those books into braille . <eos>',\n",
       " '<bos> it will never happen . <eos>',\n",
       " '<bos> i really want to live in a world where disability is not the exception , it is the natural thing . <eos>',\n",
       " '<bos> i want to live in a world where a 15-year-old girl is sitting in her room watching &quot; in the lethal league of blood vessels &quot; not referred to it but she &apos;s right for it because she &apos;s watching it . <eos>',\n",
       " '<bos> i want to live in a world where we don &apos;t have low expectations of disabled people that we &apos;re just praying to get out of bed and remember our name in the morning . <eos>',\n",
       " '<bos> i want to live in a world where we value the real achievements of disabled people , and i want to live in a world where a kid at 11 o &apos;clock high school is not surprising at all because his teacher uses a chair . <eos>',\n",
       " '<bos> disability doesn &apos;t make you special , thank you. it asks you what you think you know makes you special . <eos>',\n",
       " '<bos> what does the integrated reality and football have to do with sensory communication <eos>',\n",
       " '<bos> and what is the speed of flying the unsuspecting anniversary <eos>',\n",
       " '<bos> unfortunately , i &apos;m not only going to answer one of these questions , so please try to give you your frustrations . <eos>',\n",
       " '<bos> when most people actually think about the &quot; mandate &quot; film , they think &quot; maine , &quot; and tom cruise wave around his hands in the air , but the integrated reality is not a science fiction . <eos>',\n",
       " '<bos> augmented reality is something that &apos;s going to happen in our lives , and it &apos;s going to happen because we have the tools to achieve that , and people have to realize that the integrated reality is going to change our lives just as much as the internet and cell phone . <eos>',\n",
       " '<bos> so how do we get to augmented reality <eos>',\n",
       " '<bos> the first step is the step i &apos;m wearing right now , google glass . <eos>',\n",
       " '<bos> i &apos;m sure google glass is familiar to many of you . <eos>',\n",
       " '<bos> what you might not compose is that google glass is a device that allows you to see what i see . <eos>',\n",
       " '<bos> you &apos;re going to be allowed to experience the feeling of being a professional athlete in the field . <eos>',\n",
       " '<bos> now , the only way to be in the field is to try and describe it to you . <eos>',\n",
       " '<bos> i have to use words . <eos>',\n",
       " '<bos> i have to create a framework for you guys to fill in your imaginations . <eos>',\n",
       " '<bos> with google glass , we can put this under a helmet , and we can feel what the enemy looks like at the field at 100 miles an hour , the blood flows in your ears . <eos>',\n",
       " '<bos> you can feel something like a 250-pound man running around and trying to cut your head all over . <eos>',\n",
       " '<bos> and i was at the recipient end of this and not feeling good . <eos>',\n",
       " '<bos> now , i &apos;ve got some shots to show you what google &apos;s like under a helmet to give you this sense . <eos>',\n",
       " '<bos> unfortunately , it &apos;s not shots from my local football role because i think emerging technology is what happens when you float a submarine , but we do what we can . <eos>',\n",
       " '<bos> so , let &apos;s watch some videos . <eos>',\n",
       " '<bos> ca : come on . <eos>',\n",
       " '<bos> ah , exposure to collision is terrible . <eos>',\n",
       " '<bos> so let &apos;s get a little closer . <eos>',\n",
       " '<bos> right <eos>',\n",
       " '<bos> come on ! <eos>',\n",
       " '<bos> ca : so as you can see , it &apos;s a simple sense of what you &apos;re exposing to a football field from the point of view of personality . <eos>',\n",
       " '<bos> now , you may have noticed that there are some people who are not there : the rest of the team . <eos>',\n",
       " '<bos> we have a video of that from the university of washington . <eos>',\n",
       " '<bos> public player : come on , mice 54 ! mice 54 ! <eos>',\n",
       " '<bos> &quot; blue 8 ! blue 8 ! come on ! &quot; <eos>',\n",
       " '<bos> ah ! <eos>',\n",
       " '<bos> ca : again , this makes you a little bit closer to what it &apos;s like to be in the playground , but that &apos;s not even as close to being at the local football . <eos>',\n",
       " '<bos> the encouraged people want that experience . <eos>',\n",
       " '<bos> they want to be in the playground . <eos>',\n",
       " '<bos> they want to be their favorite players , and they &apos;ve already talked to me through youtube , through twitter , and they said , &quot; can that apply to the main player <eos>',\n",
       " '<bos> on the back player <eos>',\n",
       " '<bos> we want that experience . &quot; <eos>',\n",
       " '<bos> well , once we get that experience with jubo and google glass , how do you overload the user <eos>',\n",
       " '<bos> how do we step the next step <eos>',\n",
       " '<bos> well , we step by a so-called olympic revelation , and i &apos;m sure many of you are familiar with it . <eos>',\n",
       " '<bos> the october is described as one of the most real-time virtual equipment ever invented , and that &apos;s not false false . <eos>',\n",
       " '<bos> i &apos;m going to show you that &apos;s not a false claw on this video . <eos>',\n",
       " '<bos> man : ah ! ah ! <eos>',\n",
       " '<bos> no ! no ! i don &apos;t want to play again ! no ! <eos>',\n",
       " '<bos> oh , my god ! aaaaaah ! <eos>',\n",
       " '<bos> ca : so this is a man &apos;s experience on the death train , afraid for his life . <eos>',\n",
       " '<bos> how would you experience that encouraging experience when we &apos;re showing it to a video of adrianne peter that goes through the line , paying a strong arm before he runs the land <eos>',\n",
       " '<bos> how would you experience that encouraging experience when macy &apos;s running through the field and putting the ball behind the network , or fredder sent the ball in wimldington <eos>',\n",
       " '<bos> how would you experience that encouraging experience when it &apos;s sliding down the mountain at more than 70 miles an hour as an olympic hill <eos>',\n",
       " '<bos> i think grown-ups can rise . <eos>',\n",
       " '<bos> but that &apos;s not the integrated reality yet . <eos>',\n",
       " '<bos> that &apos;s just virtual reality . <eos>',\n",
       " '<bos> how do we transform integrated reality <eos>',\n",
       " '<bos> we turn to reality that &apos;s compacted when coaches and managers and suppliers look at this information that goes out of people &apos;s desire to watch and say , &quot; how can we use this to make our team better <eos>',\n",
       " '<bos> how do we use this to win games &quot; <eos>',\n",
       " '<bos> because the difference always uses technology to win games . <eos>',\n",
       " '<bos> they like to win. this gives them money . <eos>',\n",
       " '<bos> so a brief historical glimpse of technology in the role of the local football . <eos>',\n",
       " '<bos> in 1965 , bolt colt put a wrist in the middle so that he could call games faster . <eos>',\n",
       " '<bos> they won the super bowl this year . <eos>',\n",
       " '<bos> the other difference is they deleted . <eos>',\n",
       " '<bos> the game sees more people because it &apos;s getting more interesting . <eos>',\n",
       " '<bos> it was faster . <eos>',\n",
       " '<bos> in 1994 , the local football role was put inside the headquarters and then the defense later . <eos>',\n",
       " '<bos> witnesses watch more people because they were faster . <eos>',\n",
       " '<bos> it was more fun . <eos>',\n",
       " '<bos> in 2023 , imagine you &apos;re a player coming back to the crowd and you &apos;ve been shown to play your next to your face entirely on your transparent plastics that you &apos;re wearing right now . <eos>',\n",
       " '<bos> no more worry about game forgetting . <eos>',\n",
       " '<bos> there &apos;s no more concern about carrying a game layer to remind you . <eos>',\n",
       " '<bos> just get out and interact . <eos>',\n",
       " '<bos> and the coaches really want it , because the incomplete task causes the loss of the game and hates the loss of the game . <eos>',\n",
       " '<bos> the loss of games shows you your separation from work as a coach . <eos>',\n",
       " '<bos> they don &apos;t want to . <eos>',\n",
       " '<bos> but compact reality isn &apos;t just a better game layer . <eos>',\n",
       " '<bos> augmented reality is also a way to get all that data and use it in real time to improve how you play a game . <eos>',\n",
       " '<bos> how could that be <eos>',\n",
       " '<bos> well , a very simple setup is a camera in every corner of the stadium that &apos;s pointed down and gives you a view of the top of everyone down there . <eos>',\n",
       " '<bos> you also have information from helmet sensors and accelerators that are being done right now . <eos>',\n",
       " '<bos> you take all that information , you make it flow to your players . <eos>',\n",
       " '<bos> the good difference makes them flow in a way that players can use . <eos>',\n",
       " '<bos> and the bad people produce more information . <eos>',\n",
       " '<bos> that determines the good difference . <eos>',\n",
       " '<bos> from bad. now , your information technology department is as important as the kaabin . <eos>',\n",
       " '<bos> the mining of data is not for geeks anymore . <eos>',\n",
       " '<bos> it could also be for cylinders who know <eos>',\n",
       " '<bos> what would that look like in the playground <eos>',\n",
       " '<bos> well , imagine you &apos;re a major middle player . <eos>',\n",
       " '<bos> i took the passing and i went backwards . <eos>',\n",
       " '<bos> you &apos;re exploring the courtyard of a free speech. all of a sudden , a bright flash on the left-hand side of the condom , you &apos;re learning that the invisible state is running toward you . <eos>',\n",
       " '<bos> in the normal case , you won &apos;t see it , but the integrated reality system teaches you to . <eos>',\n",
       " '<bos> you step into the target . <eos>',\n",
       " '<bos> another flash is attention to a free future . <eos>',\n",
       " '<bos> the ball is passed , but you &apos;re hit at the moment of the passing . <eos>',\n",
       " '<bos> the ball is away from its trajectory . <eos>',\n",
       " '<bos> you don &apos;t know where it &apos;s going to land . <eos>',\n",
       " '<bos> anyway , on the rest of the future , he sees a patch of grass lighting up and he knows that he has to edit . <eos>',\n",
       " '<bos> it goes , it holds the ball , it runs , it touches the earth . <eos>',\n",
       " '<bos> the crowd goes enthusiastic , and the encouraged people with it every step in the way , watching every perspective . <eos>',\n",
       " '<bos> now this is something that will create a huge distortion in the game . <eos>',\n",
       " '<bos> it &apos;s going to make as many people watch , because people want this experiment . <eos>',\n",
       " '<bos> the encouraged people want to be in the playground . <eos>',\n",
       " '<bos> they want to be their favorite player . <eos>',\n",
       " '<bos> the integrated reality would be part of sports , because it &apos;s very profitable except . <eos>',\n",
       " '<bos> but the question i &apos;m going to ask you is this what we can use integrated reality <eos>',\n",
       " '<bos> will we use it just for our food , for our fun , for our pleasure as the familiar <eos>',\n",
       " '<bos> because i think we can use the integrated reality of something more . <eos>',\n",
       " '<bos> i &apos;m sure we &apos;ve been able to use merger reality as a way of promoting sensory communication throughout human species itself , by literally showing someone what they look like to take somewhere else . <eos>',\n",
       " '<bos> we know the value of this technology for mathematical courses . <eos>',\n",
       " '<bos> it &apos;s worth reaching a billion dollars a year . <eos>',\n",
       " '<bos> but what is the value of this technology for a teacher in a classroom trying to show a conference how damaging he is from a victim <eos>',\n",
       " '<bos> what is the value of this technology for an uganda or a russian trying to show the world how it is to be living under persecution <eos>',\n",
       " '<bos> what is the value of this two writer hudsfeld , or neil george tyson , trying to inspire a generation of children to think about space and science more than the four reports a year or the karajan <eos>',\n",
       " '<bos> ladies and gentlemen , the integrated reality is coming . <eos>',\n",
       " '<bos> the questions we ask , the choices we make , the challenges we face , as usual , are coming back to us . <eos>',\n",
       " '<bos> thank you . <eos>',\n",
       " '<bos> i recently got retired from taking california roads after serving 23 years . <eos>',\n",
       " '<bos> most of that time i &apos;ve spent a period in the south of marinine county , which includes the golden gate bridge . <eos>',\n",
       " '<bos> the bridge is a creative building , known worldwide on the aesthetic view of san francisco , the pacific ocean , and its inspiring engineering . <eos>',\n",
       " '<bos> unfortunately , he &apos;s also a committed suicide factor , where he &apos;s the most suicidal place in the world to try to suicide . <eos>',\n",
       " '<bos> the golden gate bridge opened in 1937 . <eos>',\n",
       " '<bos> joseph stewart , the head of engineers , who are responsible for building the bridge quoted him and he says , &quot; the bridge is practically anti- suicide . <eos>',\n",
       " '<bos> a transition from the bridge is not practical and not possible . &quot; <eos>',\n",
       " '<bos> but then more than 1,600 people jumped in to get them out of that bridge . <eos>',\n",
       " '<bos> some believe that passing between the towers of the bridge will lead them to another dimension , this bridge carries a romantic idea of falling from who &apos;s going to move from your pain and sadness , and the water at the bottom is going to wash your soul . <eos>',\n",
       " '<bos> but let me tell you what actually happens when the bridge uses suicide . <eos>',\n",
       " '<bos> after free falling four or five seconds , the body hits the water quickly reaches 75 miles an hour . <eos>',\n",
       " '<bos> that trauma breaks bone , which hacks after that organism . <eos>',\n",
       " '<bos> a lot of people die of collision . <eos>',\n",
       " '<bos> they don &apos;t die in general , they float with no force , and then they sink . <eos>',\n",
       " '<bos> i don &apos;t think those who choose this way of suicide realize how horrifying death is that way . <eos>',\n",
       " '<bos> that &apos;s the connection . <eos>',\n",
       " '<bos> except for the bounce around the virgin , there &apos;s 32 inches of bridge parallel . <eos>',\n",
       " '<bos> this is where most of these people stand before they kill themselves . <eos>',\n",
       " '<bos> and from my experience , i can tell you that if you get to that speech , and in your own moment of life , it &apos;s very , very difficult to reclaim . <eos>',\n",
       " '<bos> i took this public image of my past while this young woman was talking to the officer looking at her life . <eos>',\n",
       " '<bos> and i can tell you very happy that we &apos;ve been able to successfully reclaim that day we can bring it back from fence . <eos>',\n",
       " '<bos> when i started working on a bridge , we weren &apos;t formal training coaches . <eos>',\n",
       " '<bos> we had to meet these calls . <eos>',\n",
       " '<bos> it wasn &apos;t just bad for those who tried to commit suicide , it was also for officers . <eos>',\n",
       " '<bos> it &apos;s been a long way since then . <eos>',\n",
       " '<bos> now , ancient officers and psychiatrists train new officers . <eos>',\n",
       " '<bos> this is jason garbage . <eos>',\n",
       " '<bos> i met jason on june 22 last year when i received a call from a case that was suspected to try to suicide sitting in the middle of the bridge . <eos>',\n",
       " '<bos> i responded , and when i arrived , i watched jason talking to the bridge officer . <eos>',\n",
       " '<bos> jason was 32 years old and he came on a plane from new jersey . <eos>',\n",
       " '<bos> in fact , it came here twice before this time from new jersey to try to suicide from over this bridge . <eos>',\n",
       " '<bos> after about an hour of talking to jason , he asked if we knew the story of the pandora box . <eos>',\n",
       " '<bos> if you remember in the greek myth , zos created pandora , sent her to the ground with a box , and then told her , &quot; never open the box . &quot; <eos>',\n",
       " '<bos> but one day , he was curious , and he pushed it to open the box . <eos>',\n",
       " '<bos> it took both sides and sadness , and all sorts of evil against humans . <eos>',\n",
       " '<bos> the only good in that box was hope . <eos>',\n",
       " '<bos> then we asked jason , &quot; what would happen if you opened the box and there was no hope &quot; <eos>',\n",
       " '<bos> i then shut up for a moment , money on his right , and then traveled . <eos>',\n",
       " '<bos> this is the young , smart guy from new jersey who &apos;s just making suicide . <eos>',\n",
       " '<bos> i talk to my father jason that night , and i think as i &apos;m talking to them , it doesn &apos;t seem like i &apos;ve done everything i can and i can , because the next day , i &apos;m calling the ink for the family to check me out . <eos>',\n",
       " '<bos> they asked him to do that . <eos>',\n",
       " '<bos> the indirect damage to suicide affects many people . <eos>',\n",
       " '<bos> so i &apos;m going to ask you this question : what are you going to do if one of your family members and your loved ones <eos>',\n",
       " '<bos> what would you say <eos>',\n",
       " '<bos> how are you going to know what you &apos;re going to say <eos>',\n",
       " '<bos> in my experience , it &apos;s not just talking , it &apos;s listening . <eos>',\n",
       " '<bos> i listen to understanding . <eos>',\n",
       " '<bos> don &apos;t argue , don &apos;t blame , don &apos;t tell that person that you feel them , because you probably don &apos;t feel . <eos>',\n",
       " '<bos> once you &apos;re there , it could be the turning point that they need . <eos>',\n",
       " '<bos> if someone feels suicidal , don &apos;t fear they &apos;re facing and asking . <eos>',\n",
       " '<bos> one way to ask this question is this : &quot; other people in similar circumstances have thought about ending their lives ; have you ever been drawn to these ideas &quot; <eos>',\n",
       " '<bos> the face of the person directly could save his life and be a turning point for him . <eos>',\n",
       " '<bos> some of the other signals that you can see : despair , believe that life is horrible and that it will never improve ; disability , belief that nothing can do about it ; retreat from social life ; lose desire in life . <eos>',\n",
       " '<bos> i had this talk a few days ago , and after i got an email from a woman i want to read her letter to you . <eos>',\n",
       " '<bos> she lost her son in january 19 , and she sent me this mail just a few days ago , and after she agreed and i &apos;ll read you it . <eos>',\n",
       " '<bos> &quot; hello , kevin. i expect you &apos;re at ted now . <eos>',\n",
       " '<bos> there must be a great experience there . <eos>',\n",
       " '<bos> i think i &apos;m supposed to walk on the bridge at the weekend . <eos>',\n",
       " '<bos> so i wanted to leave you a note . <eos>',\n",
       " '<bos> i &apos;m hoping that people get my talk back home and tell their friends who tell their friends , etc . <eos>',\n",
       " '<bos> i &apos;m still a little bit more sensitive , but i &apos;m already beginning to realize that these moments that mike won &apos;t come home . <eos>',\n",
       " '<bos> mike was driving his car from palloma to san francisco to watch a san francisco 49 match with his father in january 19th . <eos>',\n",
       " '<bos> but he didn &apos;t reach forever . <eos>',\n",
       " '<bos> i called the petela police and reported that night he lost it . <eos>',\n",
       " '<bos> and the next morning , an officer came home and told me that a mike was standing next to a bridge . <eos>',\n",
       " '<bos> and he observed him jumping off the bridge at 8 : 58 p.m. today . <eos>',\n",
       " '<bos> thank you very much for the will of those who were just the temporary temporary , too vulnerable to don &apos;t have themselves . <eos>',\n",
       " '<bos> who of us didn &apos;t even feel vulnerable without mental illness <eos>',\n",
       " '<bos> it &apos;s very hard to eradicate . <eos>',\n",
       " '<bos> let me get you into unbelievable . <eos>',\n",
       " '<bos> the golden gate bridge was supposed to be for our beautiful gulf , not for grave . <eos>',\n",
       " '<bos> my wish is for you to stay this week , fake . &quot; <eos>',\n",
       " '<bos> i can &apos;t imagine her courage to go to the bridge and walk the way her son asked that day , and her courage only continues to live . <eos>',\n",
       " '<bos> i want to introduce you to a man who i describe with hope and courage . <eos>',\n",
       " '<bos> on march 11th , 2005 , i responded to a call on the radio as likely to attempt suicide on the sidewalk near the north tower . <eos>',\n",
       " '<bos> my motorcycle drove on the pedestrian path and noticed that man , kevin bertha , standing on the sidewalk . <eos>',\n",
       " '<bos> when he saw me , he immediately passed the pedestrian barrier , and he stood on that little tube that wrapped on the tower . <eos>',\n",
       " '<bos> and the whole hour and a half , i listened to kevin talking about his depression and desperation . <eos>',\n",
       " '<bos> how did he decide that day to come back from that barrier and give his life another chance . <eos>',\n",
       " '<bos> when kevin came back , i converted him . <eos>',\n",
       " '<bos> &quot; this is a new beginning , this is a new life . &quot; <eos>',\n",
       " '<bos> but i asked him , &quot; what was it that made you come back and give life and hope another chance &quot; <eos>',\n",
       " '<bos> you know what he said to me <eos>',\n",
       " '<bos> he said , &quot; you listened to me . <eos>',\n",
       " '<bos> she let me speak , and she just listened to me . &quot; <eos>',\n",
       " '<bos> shortly after this , i got a message from the mother of kevin , and here &apos;s the message with me now , and i want to read it to you . <eos>',\n",
       " '<bos> &quot; dear mr. brazz , nothing will wipe out what happened on march 11 , but you &apos;re one of the reasons why we stayed here today . <eos>',\n",
       " '<bos> it was perfectly advertised how he was going to miss the scar . <eos>',\n",
       " '<bos> he was diagnosed with a mental illness now regularly . <eos>',\n",
       " '<bos> i adopted kevin when he was six months old , and i didn &apos;t know at all with his inheritance , but thanks to god , we know that now . <eos>',\n",
       " '<bos> how to recover as he says . <eos>',\n",
       " '<bos> we thank god for your existence . <eos>',\n",
       " '<bos> the entrance and the city of you , the firefly firefly . &quot; <eos>',\n",
       " '<bos> and at the bottom of the message i wrote , &quot; ham , when i visited san francisco public hospital that night , they had written your name as the patient . <eos>',\n",
       " '<bos> i swear that i wanted hard to correct that mistake . &quot; <eos>',\n",
       " '<bos> today , how did he become an active father and an active member of society <eos>',\n",
       " '<bos> he speaks frankly about the events of that day and about his depression in the hope that his story inspires others . <eos>',\n",
       " '<bos> the suicide is not just something i &apos;ve faced in my work . <eos>',\n",
       " '<bos> it &apos;s personal . <eos>',\n",
       " '<bos> my grandfather is committing suicide by poisoning himself . <eos>',\n",
       " '<bos> even though that verb is over his own pain , it has brought me a chance to recognize him . <eos>',\n",
       " '<bos> that &apos;s what suicide does . <eos>',\n",
       " '<bos> participants , or people who think suicide , don &apos;t want to hurt someone else . <eos>',\n",
       " '<bos> they just want to finish their own pain . <eos>',\n",
       " '<bos> usually , it &apos;s done in three ways : sleep , drugs , alcohol or death . <eos>',\n",
       " '<bos> in my work , i &apos;ve been responding to hundreds of calls trying to suicide and mental illness around the bridge . <eos>',\n",
       " '<bos> and those accidents that i was the direct official in were lost only two conditions , but they are many . <eos>',\n",
       " '<bos> one of them was jason . <eos>',\n",
       " '<bos> the other one was a guy who talked to him about an hour . <eos>',\n",
       " '<bos> and as i was talking to him , i shake my hand three times . <eos>',\n",
       " '<bos> at the final shake , he looked at me , and he said , &quot; kevin , i &apos;m sorry , but i have to go . &quot; <eos>',\n",
       " '<bos> and then they stood up . <eos>',\n",
       " '<bos> excuse me , totally horrifying . <eos>',\n",
       " '<bos> i want to tell you too , that the vast majority of the people we meet on that bridge are not on suicide . <eos>',\n",
       " '<bos> also , those few who jumped off the bridge and lived and could talk about their experience , that one or two percent , most of them said that in that moment the barrier they had made a mistake , they knew they had made a mistake and they wanted to live again . <eos>',\n",
       " '<bos> what i tell people is , the bridge doesn &apos;t just get marine in san francisco , but it connects people together as well . <eos>',\n",
       " '<bos> that connection or the bridge that we &apos;re creating , is something that each one of us should fight for . <eos>',\n",
       " '<bos> the suicide is preventable . <eos>',\n",
       " '<bos> there &apos;s help , there &apos;s hope . <eos>',\n",
       " '<bos> thank you very much . <eos>',\n",
       " '<bos> the world makes you become something different than you are , but , inside you , you know who you are , and that question burns in you : how do you become <eos>',\n",
       " '<bos> maybe i &apos;m unique , but i &apos;m not alone , i &apos;m not alone at all . <eos>',\n",
       " '<bos> so when i became a fashion pet , i finally felt like i was going to make the dream i &apos;d always dreamed of since i was a kid . <eos>',\n",
       " '<bos> my external character corresponds to my inner reality , with myself . <eos>',\n",
       " '<bos> for a number of complex reasons , i &apos;ll come to it later , when i look at this picture , then i feel like i &apos;ve achieved it. i &apos;ve achieved it . <eos>',\n",
       " '<bos> but in october , i realized i was just at the beginning . <eos>',\n",
       " '<bos> everyone , we &apos;ve been put inside boxes by our parents , because of religion , because of society , because of moments of history , even to our own bodies . <eos>',\n",
       " '<bos> some people have the courage to break that down , and don &apos;t accept the boundaries imposed on them because of their skin color or because of beliefs around them . <eos>',\n",
       " '<bos> these people are a continuous threat to the status quo , which is not acceptable . <eos>',\n",
       " '<bos> in my case , over the last nine years , some my neighbors , some of my friends and colleagues and even my own agent , did not know about my history . <eos>',\n",
       " '<bos> i think , vaguely , this is what &apos;s called breakfast . <eos>',\n",
       " '<bos> and this is secret . <eos>',\n",
       " '<bos> i was recorded at birth as a boy based on the outside shape of my genitals . <eos>',\n",
       " '<bos> i remember when i was five years old in the philippines , walking around the house , i always put a shirt on my head . <eos>',\n",
       " '<bos> my mother was asking me , &quot; how can you wear that t-shirt on your head all the time &quot; <eos>',\n",
       " '<bos> i was saying , &quot; mom , that &apos;s my hair , i &apos;m a girl . &quot; <eos>',\n",
       " '<bos> i knew how to define myself . <eos>',\n",
       " '<bos> sex was an absolute fact , unchanging reality , but now we know it &apos;s more resilient , more complex and mysterious . <eos>',\n",
       " '<bos> because of my success , i didn &apos;t have the courage to share my story , not because i think i &apos;m wrong , but because of how the world deals with us , and that we hope to live freely . <eos>',\n",
       " '<bos> every day , i &apos;m very grateful that i &apos;m a woman . <eos>',\n",
       " '<bos> i have a mother and father and family who accept my reality as much as i would like to be . <eos>',\n",
       " '<bos> many are not that fortunate . <eos>',\n",
       " '<bos> there &apos;s normally old in asian culture celebrating the amount of sex . <eos>',\n",
       " '<bos> there &apos;s a buddhist goddess . <eos>',\n",
       " '<bos> there are hindu gods , the goddess of immigration . <eos>',\n",
       " '<bos> and that &apos;s when i was eight , i was celebrating the philippines with those secrets . <eos>',\n",
       " '<bos> i was at the front of the theater , and i remember , that beautiful lady appeared in front of me precisely , and i remember that moment something inside of me saying , this is what i want to be . <eos>',\n",
       " '<bos> so when i was 15 years old , i still dressed a boy dress , and i met a woman named t.l. <eos>',\n",
       " '<bos> she was the director of an erotic transgendered agency . <eos>',\n",
       " '<bos> that night she asked me , &quot; how didn &apos;t you join me with beauty contests &quot; <eos>',\n",
       " '<bos> she convinced me that if you wanted it , it would cost the recording and the clothes , and that night , i &apos;d won the swimming clothes and the killer in the long dress and take the second center in the competition between 40 participants . <eos>',\n",
       " '<bos> that moment changed my life . <eos>',\n",
       " '<bos> and all of a sudden , i was introduced to the world &apos;s beautiful competition . <eos>',\n",
       " '<bos> and it &apos;s not used to be the first profession that is the queen of transgender beauty , but i dedicated the opportunity . <eos>',\n",
       " '<bos> so from 15 years to 17 years i &apos;ve shared most of those competitions , i &apos;ve even joined a contest that was literally on a diameter truck. or at some time , a contest that was reconciled alongside an arizona plant , and when it rained , and in the philippines it had to transfer the contest to a person & <eos>',\n",
       " '<bos> i &apos;ve lived with strangers , especially when we travel to far-flung distances in the philippines . <eos>',\n",
       " '<bos> but , more importantly , i met some of my best friends from that community . <eos>',\n",
       " '<bos> in 2001 , my mother , who moved to san francisco , called me and said that i was approved as a permission for america , which meant i could move to america . <eos>',\n",
       " '<bos> i did . <eos>',\n",
       " '<bos> my mother told me , &quot; mommy , i &apos;m fun . <eos>',\n",
       " '<bos> here with my friends , i love traveling , being a beautiful queen . &quot; <eos>',\n",
       " '<bos> but two weeks later , she called and she said , &quot; you know , in america , you can change your name and your gender &quot; <eos>',\n",
       " '<bos> that &apos;s all i needed to hear . <eos>',\n",
       " '<bos> my mother also told me to put an e-got in my name . <eos>',\n",
       " '<bos> she also had me when i had surgery in thailand in my 19th year . <eos>',\n",
       " '<bos> it &apos;s amazing , where in some of the poorest cities in thailand their performance is considered to be better and more honest and more secure in those surgery . <eos>',\n",
       " '<bos> then in the united states , you have to have surgery before you change the name and sex . <eos>',\n",
       " '<bos> so , in 2001 , i moved to san francisco , and i remember when i wanted to get a driver &apos;s license in california , and my name was genna and the sex marker was &quot; female . &quot; <eos>',\n",
       " '<bos> that was a powerful moment . <eos>',\n",
       " '<bos> for some people , the personal identity is to drive or even get alcohol , for me , it was my license to live , to feel binding . <eos>',\n",
       " '<bos> and all of a sudden , i felt the fear started to melt . <eos>',\n",
       " '<bos> i felt able to achieve my dream and move to live in new york as a opposition . <eos>',\n",
       " '<bos> many are not fortunate . <eos>',\n",
       " '<bos> i think it &apos;s because of this woman named alice knight . <eos>',\n",
       " '<bos> she &apos;s from new york , and she &apos;s a young lady who &apos;s actually living her bravely , but hatred surrounds her life . <eos>',\n",
       " '<bos> and for the majority of my community , this is the reality of our lives . <eos>',\n",
       " '<bos> our suicide rate is 99 times higher than the general average . <eos>',\n",
       " '<bos> on the 20th of november , we organize a universal pause for the anniversary of the transformer day . <eos>',\n",
       " '<bos> i &apos;m here on this stage thanks to a long history of people who have struggled and stood against injustice . <eos>',\n",
       " '<bos> this is maracha bay and johnson and syria . <eos>',\n",
       " '<bos> today , this particular moment , this is my real moment . <eos>',\n",
       " '<bos> i could no longer live my truth for myself and my only alone . <eos>',\n",
       " '<bos> i &apos;d like to better help others live their lives without shame or fear . <eos>',\n",
       " '<bos> i &apos;m here , scribbled , and even one day , no need to stop the 20th of november . <eos>',\n",
       " '<bos> my inner reality made me accept myself . <eos>',\n",
       " '<bos> can you <eos>',\n",
       " '<bos> thank you very much . <eos>',\n",
       " '<bos> thank you very much , thank you very much. cg : jenn , a quick question for you . <eos>',\n",
       " '<bos> i &apos;m wondering what you &apos;re going to say , especially for parents , but broadly , for friends , family , for anyone who finds themselves confronted with a child or someone who &apos;s faced with a sex recipient who &apos;s identified , what can you say to that person &apos;s family to help them become better , more emotional and more <eos>',\n",
       " '<bos> jc : well , first of all , i &apos;m very lucky . <eos>',\n",
       " '<bos> the support system , especially with my mother &apos;s support , and my family , itself , was very strong . <eos>',\n",
       " '<bos> i remember every moment i would train a young , transgendered woman , advise them , or sometimes when they call me and tell me that their parents don &apos;t accept that. i would pick up the phone and call my mother , &quot; mom , can you talk to that woman &quot; <eos>',\n",
       " '<bos> and sometimes it works , and sometimes it doesn &apos;t work , but that &apos;s just the sex in our design , right <eos>',\n",
       " '<bos> i mean , we &apos;ve all been classified when we &apos;re born , and so what i &apos;m trying to do is start that conversation is that sometimes the specific sex of us don &apos;t agree , and that &apos;s why there has to be a space that people self-define , and that conversation that we have to be with parents , and colleagues . <eos>',\n",
       " '<bos> the transgender movement , still , is at the beginning , compared to how gay people began . <eos>',\n",
       " '<bos> it &apos;s still a lot to do . <eos>',\n",
       " '<bos> there must be some understanding . <eos>',\n",
       " '<bos> there can be a space to ask and ask questions , and i hope all of you will be my allies . <eos>',\n",
       " '<bos> kp : thank you very much , that was great. jc : thank you . <eos>',\n",
       " '<bos> in many male and tribal societies , parents are usually defined by their children , but i am one of the few who know to their daughter , and i am proud of this thing . <eos>',\n",
       " '<bos> i started boring her campaign for education and defending her rights , in 2007 , and when she was honored for her efforts in 2011 , the national peace prize was becoming very famous in her country . <eos>',\n",
       " '<bos> before all that , she was my daughter , but now , i am her father . <eos>',\n",
       " '<bos> ladies and gentlemen , if we look at human history , the story of women is a dark story , inequality , violence and exploitation . <eos>',\n",
       " '<bos> you see , in male communities , from the beginning , when a girl is born , her birth is not celebrated . <eos>',\n",
       " '<bos> and they &apos;re not welcome , whether they &apos;re mother or their father . <eos>',\n",
       " '<bos> the neighbors come in , they don &apos;t bless the father . <eos>',\n",
       " '<bos> mothers are not very comfortable with her birthday . <eos>',\n",
       " '<bos> when the first girl , the first daughter , mother is very sad . <eos>',\n",
       " '<bos> when the second daughter is born , the mother is hit , and when she &apos;s expected to be born , she &apos;s born a third girl , the mother feels guilty as a criminal . <eos>',\n",
       " '<bos> it &apos;s not just the mother who suffers , it &apos;s the girl , the newborn , when she grows up , who suffers too . <eos>',\n",
       " '<bos> at age five , when she has to be at school , the girl stays at home while her brothers go to school . <eos>',\n",
       " '<bos> and up to 12 years old , in a way , lives a good life . <eos>',\n",
       " '<bos> you can have fun . <eos>',\n",
       " '<bos> they can play with their friends on the streets , and they can move on the streets like a butter . <eos>',\n",
       " '<bos> but when she becomes a teenager , when she enters her 13-year-old , she never leaves home without facilities . <eos>',\n",
       " '<bos> they &apos;re imprisoned between four walls in their home . <eos>',\n",
       " '<bos> she &apos;s not an individual at all . <eos>',\n",
       " '<bos> it becomes what &apos;s called honor of honor , brother and family , and if you go beyond that honor , you might be killed . <eos>',\n",
       " '<bos> and it &apos;s interesting that chronic honor code doesn &apos;t only affect the lives of a girl , it also affects the lives of males in her family . <eos>',\n",
       " '<bos> i know a family of seven sisters and one brothers , and that one brother , migrated to the bay , to make a living for his seven sisters and his father , because he thought he would be professionals if he learned from his seven sisters and came out of the house to make a living for themselves . <eos>',\n",
       " '<bos> that brother , he sacrificed his joy and happiness for something called honor . <eos>',\n",
       " '<bos> there &apos;s another habit in male societies called volunteerism . <eos>',\n",
       " '<bos> &quot; good girl &quot; is supposed to be very quiet and very modest and very compelling . <eos>',\n",
       " '<bos> that &apos;s the standard . <eos>',\n",
       " '<bos> good girl must be very quiet . <eos>',\n",
       " '<bos> it &apos;s supposed to be silent , and it &apos;s supposed to break her father &apos;s decisions , and her mother &apos;s older decisions , even if she doesn &apos;t like it . <eos>',\n",
       " '<bos> if she &apos;s married to a man who doesn &apos;t like him or a older man , she has to accept that , because she doesn &apos;t want to look at her as &quot; non-profit . &quot; <eos>',\n",
       " '<bos> if you marry at a very young age , you have to accept that . <eos>',\n",
       " '<bos> otherwise they will call them unpredictable . <eos>',\n",
       " '<bos> and what happens at the end <eos>',\n",
       " '<bos> in the words of poetry , they &apos;re married , they &apos;re placed in bed and then they &apos;re in more children and girls . <eos>',\n",
       " '<bos> and the irony of the situation is that this mother , she &apos;s going to learn the same as her daughter and the same honor lesson for her children . <eos>',\n",
       " '<bos> and this vicious cycle goes on and on . <eos>',\n",
       " '<bos> ladies and gentlemen , we put millions of women in a different way if we think about women and men in a different way , if women and men in male and tribal societies in developed countries , if they could break down some of the habits of family and community , if they could abolish the racial regulations in their countries , which would have to do it . <eos>',\n",
       " '<bos> whether i was born malaria , and for the first time , believe me , i don &apos;t like newborns , i &apos;d be honest with you , but when i looked in her eyes and believed me , i got a great honor . <eos>',\n",
       " '<bos> and before she was born a long time ago , i thought about her name , and i was fascinated with my long-term struggle in afghanistan . <eos>',\n",
       " '<bos> her name was malaya from mahdad , my daughter called her back . <eos>',\n",
       " '<bos> a few days after malaria was born , my daughter was born -- my cousin came to my cousin -- and she was a coincidence -- came home and brought the family tree , the yosavi family , looked at the tree , and i saw that she was tracking the history of 300 years of our ancestors . <eos>',\n",
       " '<bos> but they were all men , and i picked up my pen , added a line of name , and i wrote &quot; malala . &quot; <eos>',\n",
       " '<bos> and when i grew up , it became four and a half years old , i recorded it at my school . <eos>',\n",
       " '<bos> now you may ask , why do i remember recording it in a school <eos>',\n",
       " '<bos> i have to mention this thing . <eos>',\n",
       " '<bos> this may be a concept that is implicit in canada , and in america and in many developed countries but in poor countries , in male and tribal communities , this thing is an important event in the lives of a girl . <eos>',\n",
       " '<bos> to go to school means to know her identity and her name . <eos>',\n",
       " '<bos> telling in school means it &apos;s entered the world of dreams and the world of finance , where it can discover its underlying power in its future life . <eos>',\n",
       " '<bos> i have five sisters , none of them could go to school , but you &apos;ll be surprised. it &apos;s two weeks , when i was filling up the canadian mandate , when i was filling up the family section with demand , i couldn &apos;t remember the last names of some of my sisters . <eos>',\n",
       " '<bos> and the reason for that is that i &apos;ve never seen in my life , they &apos;re all written in a document . <eos>',\n",
       " '<bos> that &apos;s why he invited me to appreciate my daughter . <eos>',\n",
       " '<bos> the thing my father couldn &apos;t give my sisters to his sisters , i thought i had to change . <eos>',\n",
       " '<bos> i &apos;ve always appreciated the intelligence and goodness that my daughter has . <eos>',\n",
       " '<bos> i encouraged her to sit with me when my friends were coming . <eos>',\n",
       " '<bos> i would encourage her to go with me to many meetings . <eos>',\n",
       " '<bos> and all these good values , which i &apos;ve been dumping into personality . <eos>',\n",
       " '<bos> she wasn &apos;t just her. she was just bored . <eos>',\n",
       " '<bos> i &apos;ve transferred all these good values for my students from girls and boys alike . <eos>',\n",
       " '<bos> learning is used as a tool for editing . <eos>',\n",
       " '<bos> i learned to my students , i learned from girls , not to learn to give up . <eos>',\n",
       " '<bos> i taught my students from the boys not to learn a lesson called fake honor . <eos>',\n",
       " '<bos> my dear brothers and sisters , we were striving for extra rights for women and we were struggling to have more , more room for women in the community . <eos>',\n",
       " '<bos> but we have a new phenomenon . <eos>',\n",
       " '<bos> it was a killer of human rights and particularly for women &apos;s rights . <eos>',\n",
       " '<bos> it was called &quot; demand . &quot; <eos>',\n",
       " '<bos> that means completely excluded to women &apos;s engagement in all the political , economic and social activities . <eos>',\n",
       " '<bos> hundreds of schools have blown up . <eos>',\n",
       " '<bos> she prevented girls from going to school . <eos>',\n",
       " '<bos> and women were forced to dress up and they were not allowed to go to markets . <eos>',\n",
       " '<bos> the musicians were broken , the girls and the singers were born . <eos>',\n",
       " '<bos> millions have been suffering , but a few of them have talked , and it &apos;s been the most horrible thing to be surrounded by people like those who kill and fight , and to be talking about your rights . <eos>',\n",
       " '<bos> it was really the most horrible thing . <eos>',\n",
       " '<bos> at the age of 10 , i stood bored , i stood up for the right to education . <eos>',\n",
       " '<bos> i wrote a note for the bbc , i volunteered themselves for documentaries of new york times that i spoke on every platform i could talk about . <eos>',\n",
       " '<bos> her voice was more powerful . <eos>',\n",
       " '<bos> it &apos;s all over the world . <eos>',\n",
       " '<bos> and that &apos;s why the taliban &apos;s movement couldn &apos;t afford it , on october 9th , 2012 , got shot on their head very close distance . <eos>',\n",
       " '<bos> it was like the day of my family and me . <eos>',\n",
       " '<bos> the world turned into a big black hole . <eos>',\n",
       " '<bos> when my child was living and dying , whispered into my wife &apos;s ear , &quot; did i get what happened to my daughter and daughter &quot; <eos>',\n",
       " '<bos> but they suddenly said , &quot; please don &apos;t hurt yourself . <eos>',\n",
       " '<bos> i stood on the right side . <eos>',\n",
       " '<bos> i put your life at stake for the right , for peace , for education , your daughter was inspired by you and joined you . <eos>',\n",
       " '<bos> both were on the right path and god would protect it . &quot; <eos>',\n",
       " '<bos> these few words made a lot to me , and i didn &apos;t ask this question again . <eos>',\n",
       " '<bos> when malala was in the hospital , she was a very mother-in-law measurement and she had a headache because her face &apos;s face was cut off , and i was seeing a shadow camping on my wife &apos;s face . <eos>',\n",
       " '<bos> but my daughter didn &apos;t complain about it every day . <eos>',\n",
       " '<bos> she was saying to us , &quot; i &apos;m doing fine with my wave smile and my nailing in my face . <eos>',\n",
       " '<bos> i &apos;ll be fine , please don &apos;t worry . &quot; <eos>',\n",
       " '<bos> they were our enemies and our addresses , and they did our surveys . <eos>',\n",
       " '<bos> my dear brothers and sisters , our flexibility taught us in the most part , i &apos;m glad to share with you that even though it &apos;s a symbol of the rights of a child and a woman , it &apos;s like any 16-year-old girl . <eos>',\n",
       " '<bos> she cryes when she doesn &apos;t complete her homework . <eos>',\n",
       " '<bos> she &apos;s looking at her brother , and i &apos;m very happy about that . <eos>',\n",
       " '<bos> people ask me , what &apos;s the special thing in my breeding that made a bold , very courageous , that made it speak and be balanced <eos>',\n",
       " '<bos> and i say , don &apos;t ask me what i did . <eos>',\n",
       " '<bos> but ask me what i didn &apos;t . <eos>',\n",
       " '<bos> i didn &apos;t tell her wings. that &apos;s it . <eos>',\n",
       " '<bos> thank you very much . <eos>',\n",
       " '<bos> thank you. thank you very much. thank you . <eos>',\n",
       " '<bos> i had a brain surgery 15 years ago , and since then , brain surgery has become passionate for me . <eos>',\n",
       " '<bos> i &apos;m an engineer . <eos>',\n",
       " '<bos> first of all , let me just say that i joined up recently to google earth in the gounder of shows at google x and surgical science that i &apos;m going to talk about today is a work i &apos;ve been working before i joined up with google earth . <eos>',\n",
       " '<bos> well , they say , there &apos;s a shame when you have a brain surgery . <eos>',\n",
       " '<bos> are you still intelligent or not <eos>',\n",
       " '<bos> and the answer is no , can you gain intelligence again <eos>',\n",
       " '<bos> after my neurosurgery , i removed and i had to deal with that . <eos>',\n",
       " '<bos> it wasn &apos;t part of the gray matter in the brain , but it was a deadly part of the matter that controls the hormones and main neurons . <eos>',\n",
       " '<bos> right after the surgery , i had to decide how many drugs i had to take every day , and if i had to eat these materials , i would die within hours . <eos>',\n",
       " '<bos> every day , 15 years ago , every day i had to decide to build and mix of chemicals , and eat them , to survive . <eos>',\n",
       " '<bos> and you &apos;ve had lots of hard decisions . <eos>',\n",
       " '<bos> but fortunately , i &apos;m passionate about experimentation , and so , i decided to try and find the best doses because there was no clear references to that . <eos>',\n",
       " '<bos> i started an experiment with mixes , and i was shocked to think about how a simple change in the mixture is happening dramatically with my own sense of self , my thinking about other people &apos;s behavior . <eos>',\n",
       " '<bos> one of the exciting positions : for two months , i actually did a standardized , standardized , 20-year-old experiment that shocked my ideas . <eos>',\n",
       " '<bos> i &apos;ve been angry all the time , and i &apos;m thinking about sex continuously , and i &apos;m also the smartest person ever , and i &apos;m also -- -- -- and of course , over the years i &apos;ve met somewhat young people , or god at a little less level than that thinking . <eos>',\n",
       " '<bos> it was my extreme case . <eos>',\n",
       " '<bos> but , what struck me , i wasn &apos;t trying to be pessimistic . <eos>',\n",
       " '<bos> i was actually trying to be , with some feeling of losing safety , solving a problem i &apos;m facing in front of me , but that didn &apos;t work . <eos>',\n",
       " '<bos> so i couldn &apos;t have done that . <eos>',\n",
       " '<bos> i &apos;ve changed doses . <eos>',\n",
       " '<bos> but , that experience , i think , gave me an appreciation for men and maybe it &apos;s going to happen to them , and i &apos;m also understanding men has become better since then . <eos>',\n",
       " '<bos> what i &apos;ve been trying to do is modify and balanced hormones and neural transfers and like trying to reclaim the missing intelligence of the disease and surgery , my creative ideas and sneak ideas . <eos>',\n",
       " '<bos> and i &apos;m often thinking through pictures , and even then my way to get these mental images that i &apos;ve used in prototypes , if you will , my thoughts , different ideas of scale , and the unusual experience . <eos>',\n",
       " '<bos> this kind of thinking isn &apos;t new . <eos>',\n",
       " '<bos> so philosophers like &quot; huam , &quot; and &quot; discords , &quot; and &quot; hobbes , &quot; they saw that in a similar way . <eos>',\n",
       " '<bos> all of them thought that mental images and ideas were the same . <eos>',\n",
       " '<bos> and there are those who are contradicting that right now , and many debates about how the brain works , but for me it &apos;s simple : the images , the majority of us , are essential in creative and creatively . <eos>',\n",
       " '<bos> so a few years later , i &apos;ve balance myself and i &apos;ve had many living mental images with a great level of elegance and psychological analysis of that . <eos>',\n",
       " '<bos> and i &apos;m actually working on how do i get these pictures in my brain to a computer screen faster <eos>',\n",
       " '<bos> can you imagine , if you can , a filmmaker , she can &apos;t just use her imagination and bring it out in front of the world <eos>',\n",
       " '<bos> or a musician who &apos;s able to make music out of a brain <eos>',\n",
       " '<bos> these are amazing potential and a means of creators to signal their ideas at the speed of light . <eos>',\n",
       " '<bos> and the fact is , despite the obstacles to do that , it extends perception of brain scanning systems . <eos>',\n",
       " '<bos> so let me introduce you to a reason why i think we &apos;re a little bit closer to this with two talks from two of the best neurotransmitters . <eos>',\n",
       " '<bos> both of them used fmri and functional mri technology to photograph the brain , and this is a picture of the brain in advance of gorgian and his colleagues at harvard university . <eos>',\n",
       " '<bos> in the left-hand yield , a brain image shows someone looking at a picture . <eos>',\n",
       " ...]"
      ]
     },
     "execution_count": 29,
     "metadata": {},
     "output_type": "execute_result"
    }
   ],
   "source": [
    "preds"
   ]
  },
  {
   "cell_type": "code",
   "execution_count": 30,
   "metadata": {},
   "outputs": [
    {
     "data": {
      "application/vnd.jupyter.widget-view+json": {
       "model_id": "55b7d1ec96f840a1ab5ec6ec01862c82",
       "version_major": 2,
       "version_minor": 0
      },
      "text/plain": [
       "  0%|          | 0/1205 [00:00<?, ?it/s]"
      ]
     },
     "metadata": {},
     "output_type": "display_data"
    },
    {
     "data": {
      "application/vnd.jupyter.widget-view+json": {
       "model_id": "3d146094c6c342fea5aef7a32d728c5a",
       "version_major": 2,
       "version_minor": 0
      },
      "text/plain": [
       "  0%|          | 0/1205 [00:00<?, ?it/s]"
      ]
     },
     "metadata": {},
     "output_type": "display_data"
    },
    {
     "name": "stdout",
     "output_type": "stream",
     "text": [
      "Source: سأحدثكم اليوم عن 30 عاما من تاريخ الهندسة.\n",
      "Prediction: i'm going to talk to you today about 30 years of the history of engineering.\n",
      "Target: today i'm going to speak to you about the last 30 years of architectural history.\n",
      "********************************************************************************\n",
      "Source: هذا أمر كبير جدا لألخصه في 18 دقيقة.\n",
      "Prediction: this is a very big thing to summarize in 18 minutes.\n",
      "Target: that's a lot to pack into 18 minutes.\n",
      "********************************************************************************\n",
      "Source: إنه موضوع معقد ، لذلك فإننا سنتوجه مباشرة إلى مكان معقد: إلى نيو جيرسي ،\n",
      "Prediction: it's a complicated topic, so we're going to direct a complex place: to new jersey.\n",
      "Target: it's a complex topic, so we're just going to dive right in at a complex place: new jersey.\n",
      "********************************************************************************\n",
      "Source: لأنه منذ 30 سنة ، أنا من نيوجيرسي ، كنت في السادسة من عمري ، وكنت أعيش هناك مع والدي في مدينة تدعى ليفينغستون ، وكانت هذه غرفة نومي.\n",
      "Prediction: because 30 years ago, i was from new jersey, i was six years old, and i was living there with my father in a town named levittgenston, and this was a bedroom.\n",
      "Target: because 30 years ago, i'm from jersey, and i was six, and i lived there in my parents' house in a town called livingston, and this was my childhood bedroom.\n",
      "********************************************************************************\n",
      "Source: عند زاوية غرفتي كان هناك حمام أتقاسمه مع أختي.\n",
      "Prediction: at the corner of my room, there was a bathroom that i shared with my sister.\n",
      "Target: around the corner from my bedroom was the bathroom that i used to share with my sister.\n",
      "********************************************************************************\n",
      "sacre bleu 30.779\n",
      "sacre bleu signature: nrefs:1|case:lc|eff:no|tok:13a|smooth:exp|version:2.3.1\n"
     ]
    },
    {
     "data": {
      "text/plain": [
       "30.779"
      ]
     },
     "execution_count": 30,
     "metadata": {},
     "output_type": "execute_result"
    }
   ],
   "source": [
    "get_blue_score(\n",
    "            model=model,\n",
    "            is_dotted=True,\n",
    "            predictions=preds,\n",
    "            show_translations_for=5,\n",
    "            decode_with_beam_search=False,\n",
    "            source_tokenizer=source_tokenizer,\n",
    "            target_tokenizer=target_tokenizer,\n",
    "            save_predictions_and_targets=False,\n",
    "            max_sequence_length=sequence_length,\n",
    "            source_language_code=source_language_code,\n",
    "            target_language_code=target_language_code,\n",
    "            source_sentences=test_dataset[source_language_code],\n",
    "            target_sentences=test_dataset[target_language_code],\n",
    "        )"
   ]
  },
  {
   "cell_type": "markdown",
   "metadata": {},
   "source": [
    "get preds without batches, one-by-one"
   ]
  },
  {
   "cell_type": "code",
   "execution_count": 31,
   "metadata": {},
   "outputs": [
    {
     "data": {
      "application/vnd.jupyter.widget-view+json": {
       "model_id": "bcaa464ccad2438dac4583f3cf6e0e6b",
       "version_major": 2,
       "version_minor": 0
      },
      "text/plain": [
       "  0%|          | 0/1205 [00:00<?, ?it/s]"
      ]
     },
     "metadata": {},
     "output_type": "display_data"
    },
    {
     "data": {
      "application/vnd.jupyter.widget-view+json": {
       "model_id": "50b979ce7ca64bd2bd4ca1b395b9a70b",
       "version_major": 2,
       "version_minor": 0
      },
      "text/plain": [
       "  0%|          | 0/1205 [00:00<?, ?it/s]"
      ]
     },
     "metadata": {},
     "output_type": "display_data"
    },
    {
     "name": "stdout",
     "output_type": "stream",
     "text": [
      "Source: سأحدثكم اليوم عن 30 عاما من تاريخ الهندسة.\n",
      "Prediction: i'm going to talk to you today about 30 years of the history of engineering.\n",
      "Target: today i'm going to speak to you about the last 30 years of architectural history.\n",
      "********************************************************************************\n",
      "Source: هذا أمر كبير جدا لألخصه في 18 دقيقة.\n",
      "Prediction: this is a very big thing to summarize in 18 minutes.\n",
      "Target: that's a lot to pack into 18 minutes.\n",
      "********************************************************************************\n",
      "Source: إنه موضوع معقد ، لذلك فإننا سنتوجه مباشرة إلى مكان معقد: إلى نيو جيرسي ،\n",
      "Prediction: it's a complicated topic, so we're going to direct a complex place: to new jersey.\n",
      "Target: it's a complex topic, so we're just going to dive right in at a complex place: new jersey.\n",
      "********************************************************************************\n",
      "Source: لأنه منذ 30 سنة ، أنا من نيوجيرسي ، كنت في السادسة من عمري ، وكنت أعيش هناك مع والدي في مدينة تدعى ليفينغستون ، وكانت هذه غرفة نومي.\n",
      "Prediction: because 30 years ago, i was from new jersey, i was six years old, and i was living there with my father in a town named levittgenston, and this was a bedroom.\n",
      "Target: because 30 years ago, i'm from jersey, and i was six, and i lived there in my parents' house in a town called livingston, and this was my childhood bedroom.\n",
      "********************************************************************************\n",
      "Source: عند زاوية غرفتي كان هناك حمام أتقاسمه مع أختي.\n",
      "Prediction: at the corner of my room, there was a bathroom that i shared with my sister.\n",
      "Target: around the corner from my bedroom was the bathroom that i used to share with my sister.\n",
      "********************************************************************************\n",
      "sacre bleu 30.779\n",
      "sacre bleu signature: nrefs:1|case:lc|eff:no|tok:13a|smooth:exp|version:2.3.1\n"
     ]
    },
    {
     "data": {
      "text/plain": [
       "30.779"
      ]
     },
     "execution_count": 31,
     "metadata": {},
     "output_type": "execute_result"
    }
   ],
   "source": [
    "get_blue_score(\n",
    "            model=model,\n",
    "            is_dotted=True,\n",
    "            show_translations_for=5,\n",
    "            decode_with_beam_search=True,\n",
    "            source_tokenizer=source_tokenizer,\n",
    "            target_tokenizer=target_tokenizer,\n",
    "            save_predictions_and_targets=False,\n",
    "            max_sequence_length=sequence_length,\n",
    "            source_language_code=source_language_code,\n",
    "            target_language_code=target_language_code,\n",
    "            source_sentences=test_dataset[source_language_code],\n",
    "            target_sentences=test_dataset[target_language_code],\n",
    "        )"
   ]
  }
 ],
 "metadata": {
  "kernelspec": {
   "display_name": "dotless-arabic",
   "language": "python",
   "name": "python3"
  },
  "language_info": {
   "codemirror_mode": {
    "name": "ipython",
    "version": 3
   },
   "file_extension": ".py",
   "mimetype": "text/x-python",
   "name": "python",
   "nbconvert_exporter": "python",
   "pygments_lexer": "ipython3",
   "version": "3.10.12"
  }
 },
 "nbformat": 4,
 "nbformat_minor": 2
}
