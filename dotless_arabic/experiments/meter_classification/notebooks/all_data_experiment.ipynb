{
 "cells": [
  {
   "cell_type": "markdown",
   "id": "db551be5-9e0c-4613-bc6f-16cb91e89d78",
   "metadata": {},
   "source": [
    "# Prepare"
   ]
  },
  {
   "cell_type": "code",
   "execution_count": 1,
   "id": "adb4d2dd-1a64-4363-8260-0498e11c7843",
   "metadata": {
    "tags": []
   },
   "outputs": [
    {
     "name": "stdout",
     "output_type": "stream",
     "text": [
      "/home/majed_alshaibani/Experiments/DotlessArabic\n"
     ]
    }
   ],
   "source": [
    "cd ../../../.."
   ]
  },
  {
   "cell_type": "code",
   "execution_count": 2,
   "id": "079660bd-9599-4cda-93db-1d2a8325a78c",
   "metadata": {
    "tags": []
   },
   "outputs": [],
   "source": [
    "import os\n",
    "import random\n",
    "import shutil\n",
    "from pathlib import Path\n",
    "from collections import defaultdict\n",
    "\n",
    "import wandb\n",
    "\n",
    "\n",
    "import torch\n",
    "import torchmetrics\n",
    "from torch import nn\n",
    "from tqdm.auto import tqdm\n",
    "import torch.nn.functional as F\n",
    "from torch.utils.data import Dataset,DataLoader\n",
    "\n",
    "from pytorch_lightning import seed_everything\n",
    "from pytorch_lightning.loggers import WandbLogger\n",
    "from pytorch_lightning import LightningModule,Trainer\n",
    "from pytorch_lightning.callbacks import EarlyStopping,LearningRateMonitor,ModelCheckpoint\n",
    "\n",
    "\n",
    "from sklearn.model_selection import train_test_split\n",
    "\n",
    "from dotless_arabic.processing import undot,process\n",
    "from dotless_arabic.tokenizers import CharacterTokenizer\n",
    "from dotless_arabic.experiments.nlms.src import constants\n",
    "from dotless_arabic.datasets.poems.collect import collect_dataset_for_meter_classification"
   ]
  },
  {
   "cell_type": "code",
   "execution_count": 3,
   "id": "48c7c908-29a9-40fa-ab54-da5930ede439",
   "metadata": {
    "tags": []
   },
   "outputs": [
    {
     "name": "stderr",
     "output_type": "stream",
     "text": [
      "Global seed set to 42\n"
     ]
    },
    {
     "data": {
      "text/plain": [
       "42"
      ]
     },
     "execution_count": 3,
     "metadata": {},
     "output_type": "execute_result"
    }
   ],
   "source": [
    "random.seed(42)\n",
    "# os.environ['WANDB_MODE']='disabled'\n",
    "os.environ['CUDA_LAUNCH_BLOCKING']='1' # to see CUDA errors\n",
    "torch.cuda.empty_cache() # to free gpu memory\n",
    "# other options: https://stackoverflow.com/questions/15197286/how-can-i-flush-gpu-memory-using-cuda-physical-reset-is-unavailable\n",
    "seed_everything(42,workers=True)"
   ]
  },
  {
   "cell_type": "markdown",
   "id": "ace2a5e9-c27a-4af4-aa9e-f362d7ef0f8f",
   "metadata": {},
   "source": [
    "# Dataset Preparation"
   ]
  },
  {
   "cell_type": "code",
   "execution_count": 4,
   "id": "4222b525-21b6-4c5b-8a64-c3925134b87e",
   "metadata": {
    "tags": []
   },
   "outputs": [
    {
     "name": "stderr",
     "output_type": "stream",
     "text": [
      "Found cached dataset parquet (/home/majed_alshaibani/.cache/huggingface/datasets/arbml___parquet/MagedSaeed--ashaar-719bb58a76ea0092/0.0.0/2a3b91fbd88a2c90d1dbbb32b460cf621d31bd5b05b934492fdef7d8d6f236ec)\n",
      "Loading cached processed dataset at /home/majed_alshaibani/.cache/huggingface/datasets/arbml___parquet/MagedSaeed--ashaar-719bb58a76ea0092/0.0.0/2a3b91fbd88a2c90d1dbbb32b460cf621d31bd5b05b934492fdef7d8d6f236ec/cache-ac36c4a5e19cc65c.arrow\n"
     ]
    },
    {
     "name": "stdout",
     "output_type": "stream",
     "text": [
      "####################################################################################################\n",
      "Number datasets samples:\n",
      "254630\n",
      "####################################################################################################\n",
      "####################################################################################################\n",
      "Number datasets samples after filtering non accepted meters:\n",
      "144186\n",
      "####################################################################################################\n"
     ]
    },
    {
     "data": {
      "application/vnd.jupyter.widget-view+json": {
       "model_id": "3e57b0077660450b9b22b54b34162637",
       "version_major": 2,
       "version_minor": 0
      },
      "text/plain": [
       "0it [00:00, ?it/s]"
      ]
     },
     "metadata": {},
     "output_type": "display_data"
    },
    {
     "name": "stdout",
     "output_type": "stream",
     "text": [
      "####################################################################################################\n",
      "Sample of datasets samples:\n",
      "أَصبَحَ المُلك لِلَّذي فَطر الخَل\n",
      "قَ بِتَقديرٍ للعَزيز العَليمِ\n",
      "غافر الذَنب للمسيءِ بِعَفوٍ\n",
      "قابل التَوب ذي العَطاء العَميمِ\n",
      "مُرسل المُصطَفى البَشير إِلَينا\n",
      "رَحمة مِنهُ بِالكَلام القَديمِ\n",
      "رَبَنا رَبّنا إِلَيكَ أَنينا\n",
      "فَأَجرنا مِن حَر نار الجَحيمِ\n",
      "وَاكفِنا شَرّ ما نَخاف بِلُطفٍ\n",
      "يا عَظيماً يَرجى لِكُل عَظيمِ\n",
      "####################################################################################################\n",
      "####################################################################################################\n",
      "Number of Baits:\n",
      "1,794,858\n",
      "####################################################################################################\n",
      "####################################################################################################\n",
      "Map meter names to classes:\n",
      "####################################################################################################\n"
     ]
    },
    {
     "data": {
      "application/vnd.jupyter.widget-view+json": {
       "model_id": "c931e91bc50e4f8186ee96f51ee5be04",
       "version_major": 2,
       "version_minor": 0
      },
      "text/plain": [
       "  0%|          | 0/1794858 [00:00<?, ?it/s]"
      ]
     },
     "metadata": {},
     "output_type": "display_data"
    }
   ],
   "source": [
    "dataset = collect_dataset_for_meter_classification()"
   ]
  },
  {
   "cell_type": "code",
   "execution_count": 5,
   "id": "5df43c77-c625-49e9-8c3d-2dcbc667e462",
   "metadata": {
    "tags": []
   },
   "outputs": [
    {
     "data": {
      "text/plain": [
       "{0, 1, 2, 3, 4, 5, 6, 7, 8, 9, 10, 11, 12, 13, 14, 15}"
      ]
     },
     "execution_count": 5,
     "metadata": {},
     "output_type": "execute_result"
    }
   ],
   "source": [
    "set(dataset.values())"
   ]
  },
  {
   "cell_type": "code",
   "execution_count": 6,
   "id": "b78f986f-42ac-4eab-9797-531106d495d0",
   "metadata": {},
   "outputs": [
    {
     "data": {
      "text/plain": [
       "16"
      ]
     },
     "execution_count": 6,
     "metadata": {},
     "output_type": "execute_result"
    }
   ],
   "source": [
    "number_of_classes = len(set(dataset.values()))\n",
    "number_of_classes"
   ]
  },
  {
   "cell_type": "markdown",
   "id": "5023bc4f-fd42-404b-9fce-8b8cd55d9cee",
   "metadata": {},
   "source": [
    "## Train-Test Split"
   ]
  },
  {
   "cell_type": "code",
   "execution_count": 7,
   "id": "4cd7b435-aee4-4a9d-8c69-088096513502",
   "metadata": {
    "tags": []
   },
   "outputs": [
    {
     "data": {
      "application/vnd.jupyter.widget-view+json": {
       "model_id": "b3e6f389dcc547fcb7413ca63d34d840",
       "version_major": 2,
       "version_minor": 0
      },
      "text/plain": [
       "  0%|          | 0/1794858 [00:00<?, ?it/s]"
      ]
     },
     "metadata": {},
     "output_type": "display_data"
    },
    {
     "data": {
      "text/plain": [
       "1786467"
      ]
     },
     "execution_count": 7,
     "metadata": {},
     "output_type": "execute_result"
    }
   ],
   "source": [
    "dataset = {\n",
    "    bait: meter_class\n",
    "    for bait, meter_class in tqdm(dataset.items())\n",
    "    if process(bait[0]).strip() and process(bait[1]).strip()\n",
    "}\n",
    "len(dataset)"
   ]
  },
  {
   "cell_type": "code",
   "execution_count": 8,
   "id": "7f7b19ed-cbad-4696-86a2-c3d58786fec0",
   "metadata": {
    "tags": []
   },
   "outputs": [],
   "source": [
    "def cap_baits_dataset(dataset,threshold=5_000):\n",
    "    capped_dataset = {}\n",
    "    meters_counts = defaultdict(int)\n",
    "    for bait,meter_class in tqdm(dataset.items()):\n",
    "        if meters_counts[meter_class] >= threshold:\n",
    "            continue\n",
    "        capped_dataset[bait] = meter_class\n",
    "        meters_counts[meter_class]+=1\n",
    "    return capped_dataset"
   ]
  },
  {
   "cell_type": "code",
   "execution_count": 9,
   "id": "42130277-4858-4517-a766-c30b92e21a61",
   "metadata": {
    "tags": []
   },
   "outputs": [
    {
     "data": {
      "text/plain": [
       "1786467"
      ]
     },
     "execution_count": 9,
     "metadata": {},
     "output_type": "execute_result"
    }
   ],
   "source": [
    "# dataset = cap_baits_dataset(dataset)\n",
    "len(dataset)"
   ]
  },
  {
   "cell_type": "code",
   "execution_count": 10,
   "id": "e736865a-51f5-4bf1-b621-4b9b7a23514c",
   "metadata": {
    "tags": []
   },
   "outputs": [
    {
     "data": {
      "application/vnd.jupyter.widget-view+json": {
       "model_id": "aefd97bca75949fb9f295703e552367f",
       "version_major": 2,
       "version_minor": 0
      },
      "text/plain": [
       "  0%|          | 0/1786467 [00:00<?, ?it/s]"
      ]
     },
     "metadata": {},
     "output_type": "display_data"
    },
    {
     "data": {
      "text/plain": [
       "(1786467, 1786467)"
      ]
     },
     "execution_count": 10,
     "metadata": {},
     "output_type": "execute_result"
    }
   ],
   "source": [
    "baits = list(\n",
    "    map(\n",
    "        lambda bait: f\"{process(bait[0])} # {process(bait[1])}\",\n",
    "        tqdm(dataset.keys()),\n",
    "    )\n",
    ")\n",
    "meters = list(dataset.values())\n",
    "len(baits), len(meters)"
   ]
  },
  {
   "cell_type": "markdown",
   "id": "9d9bf664-110a-48db-8c9c-b35c309141ea",
   "metadata": {},
   "source": [
    "Shuffle the dataset"
   ]
  },
  {
   "cell_type": "code",
   "execution_count": 11,
   "id": "c845612f-edc5-457d-9f7e-4dda2703985d",
   "metadata": {
    "tags": []
   },
   "outputs": [
    {
     "data": {
      "text/plain": [
       "(['وبعدها ان اردتم سوء منقلب # فشاغبوا او فقولوا لا اذا امرا',\n",
       "  'شهرت لسانا في ودادك جرحه # اذا حز في جلد النفاق رغيب',\n",
       "  'فكان نهاية استتار ظهوره # وهذا من اعظم الحكم البالغة',\n",
       "  'تذكرت بالشري ايامنا # وايامنا بكثيب الامر',\n",
       "  'حاشا ابن محمود الولي المرتضى # اهل الوفاء ومعدن الالاء',\n",
       "  'وليس سر السرور الا # ضرة اخلاقك الحسان',\n",
       "  'اني سبرت الخلق طرا اصبحوا # فوضى بلا كيل ولا مقياس',\n",
       "  'وانت سطوة عز عند حضرتها # هامات اعيان كبار الورى خضعت',\n",
       "  'صاحبه مفلولس # قليل ذي الحيلل',\n",
       "  'ان اخصبت او ايسرت فباهلها # وبنيلها تثري البلاد وتخصب'],\n",
       " [2, 0, 0, 14, 2, 2, 4, 2, 6, 4])"
      ]
     },
     "execution_count": 11,
     "metadata": {},
     "output_type": "execute_result"
    }
   ],
   "source": [
    "zipped_dataset = list(zip(baits,meters))\n",
    "random.shuffle(zipped_dataset)\n",
    "baits,meters = list(map(list,zip(*zipped_dataset)))\n",
    "baits[:10],meters[:10]"
   ]
  },
  {
   "cell_type": "code",
   "execution_count": 12,
   "id": "f47d804f-0ccd-4557-91f1-4d01e1f8102e",
   "metadata": {
    "tags": []
   },
   "outputs": [
    {
     "data": {
      "text/plain": [
       "110"
      ]
     },
     "execution_count": 12,
     "metadata": {},
     "output_type": "execute_result"
    }
   ],
   "source": [
    "max_bait_length = len(max(baits,key=len))\n",
    "# max_bait_length = 78\n",
    "max_bait_length"
   ]
  },
  {
   "cell_type": "code",
   "execution_count": 13,
   "id": "021efbb7-fd42-496d-af61-d62ba8caf585",
   "metadata": {
    "tags": []
   },
   "outputs": [
    {
     "data": {
      "text/plain": [
       "(1697143, 1697143, 89324, 89324)"
      ]
     },
     "execution_count": 13,
     "metadata": {},
     "output_type": "execute_result"
    }
   ],
   "source": [
    "x_train,x_test,y_train,y_test = train_test_split(baits,meters, test_size=0.05,random_state=42,shuffle=True,stratify=meters)\n",
    "len(x_train),len(y_train),len(x_test),len(y_test)"
   ]
  },
  {
   "cell_type": "code",
   "execution_count": 14,
   "id": "ea0d4488-20bf-41b6-ab59-48014c8a35d3",
   "metadata": {
    "tags": []
   },
   "outputs": [
    {
     "data": {
      "text/plain": [
       "(1612285, 1612285, 84858, 84858)"
      ]
     },
     "execution_count": 14,
     "metadata": {},
     "output_type": "execute_result"
    }
   ],
   "source": [
    "x_train,x_val,y_train,y_val = train_test_split(x_train,y_train, test_size=0.05,random_state=42,shuffle=True,stratify=y_train)\n",
    "len(x_train),len(y_train),len(x_val),len(y_val)"
   ]
  },
  {
   "cell_type": "code",
   "execution_count": 15,
   "id": "f237985a-2256-465a-831b-de9d5c657b0f",
   "metadata": {},
   "outputs": [],
   "source": [
    "class BaitsDataset(Dataset):\n",
    "    def __init__(\n",
    "        self,\n",
    "        X,\n",
    "        y,\n",
    "        tokenizer,\n",
    "        use_tqdm=True,\n",
    "        undot_text=False,\n",
    "    ):\n",
    "        super().__init__()\n",
    "        max_length = max_bait_length\n",
    "        X = tqdm(X) if use_tqdm else dataset\n",
    "        self.encoded_dataset = []\n",
    "        self.X = X\n",
    "        self.y = y\n",
    "        for bait in X:\n",
    "            if not bait:\n",
    "                raise\n",
    "            if undot_text:\n",
    "                bait = undot(bait)\n",
    "            tokenized_bait = tokenizer.tokenize_from_splits(bait)\n",
    "            encoded_bait = []\n",
    "            for token in tokenized_bait:\n",
    "                encoded_bait.append(tokenizer.token_to_id(token))\n",
    "            tokenizer.pad(encoded_bait,length=max_length)\n",
    "            encoded_bait = encoded_bait[:max_length]\n",
    "            self.encoded_dataset.append(encoded_bait)\n",
    "\n",
    "    def __getitem__(self, index):\n",
    "        inputs = torch.LongTensor(self.encoded_dataset[index])\n",
    "        outputs = torch.LongTensor([self.y[index]])\n",
    "        return inputs, outputs\n",
    "\n",
    "    def __len__(self):\n",
    "        assert len(self.X) == len(self.y)\n",
    "        return len(self.encoded_dataset)"
   ]
  },
  {
   "cell_type": "markdown",
   "id": "0000bd7d-30eb-4b42-b840-dc6d2178208c",
   "metadata": {},
   "source": [
    "# Meter Classification Model"
   ]
  },
  {
   "cell_type": "code",
   "execution_count": 16,
   "id": "0dbd541a-14ff-4211-96bd-7b9040308a3a",
   "metadata": {},
   "outputs": [],
   "source": [
    "class LitMeterClassificationModel(LightningModule):\n",
    "    def __init__(\n",
    "        self,\n",
    "        vocab_size,\n",
    "        num_layers=5,\n",
    "        gru_hiddens=256,\n",
    "        gru_dropout=0.25,\n",
    "        dropout_prob=0.333,\n",
    "        learning_rate=0.001,\n",
    "        embedding_size=256,\n",
    "        number_of_classes=number_of_classes,\n",
    "    ):\n",
    "        super().__init__()\n",
    "        self.save_hyperparameters()\n",
    "\n",
    "        self.vocab_size = vocab_size\n",
    "        self.num_layers = num_layers\n",
    "        self.gru_hiddens = gru_hiddens\n",
    "        self.dropout_prob = dropout_prob\n",
    "        self.learning_rate = learning_rate\n",
    "        self.embedding_size = embedding_size\n",
    "        self.number_of_classes = number_of_classes\n",
    "\n",
    "        self.train_accuracy = torchmetrics.Accuracy(\n",
    "            task=\"multiclass\",\n",
    "            num_classes=number_of_classes,\n",
    "        )\n",
    "        self.val_accuracy = torchmetrics.Accuracy(\n",
    "            task=\"multiclass\",\n",
    "            num_classes=number_of_classes,\n",
    "        )\n",
    "        self.test_accuracy = torchmetrics.Accuracy(\n",
    "            task=\"multiclass\",\n",
    "            num_classes=number_of_classes,\n",
    "        )\n",
    "\n",
    "        self.embedding_layer = nn.Embedding(\n",
    "            num_embeddings=self.vocab_size,\n",
    "            embedding_dim=self.embedding_size,\n",
    "        )\n",
    "        self.gru_layer = nn.GRU(\n",
    "            input_size=self.embedding_size,\n",
    "            hidden_size=self.gru_hiddens,\n",
    "            num_layers=self.num_layers,\n",
    "            dropout=gru_dropout,\n",
    "            batch_first=True,\n",
    "            bidirectional=True,\n",
    "        )\n",
    "        self.first_dense_layer = nn.Linear(\n",
    "            in_features=self.gru_hiddens,\n",
    "            out_features=128,\n",
    "        )\n",
    "        self.dropout_layer = nn.Dropout(p=self.dropout_prob)\n",
    "        self.relu = nn.ReLU()\n",
    "        self.second_dense_layer = nn.Linear(\n",
    "            in_features=128,\n",
    "            out_features=self.number_of_classes,\n",
    "        )\n",
    "\n",
    "    def forward(self, x, hiddens=None):\n",
    "        outputs = self.embedding_layer(x)\n",
    "        outputs, hiddens = self.gru_layer(outputs)\n",
    "        # https://stackoverflow.com/a/50914946/4412324\n",
    "        outputs = (\n",
    "            outputs[:, :, : self.gru_hiddens] + outputs[:, :, self.gru_hiddens :]\n",
    "        )  # GRUs are bidirectional\n",
    "        outputs = self.first_dense_layer(outputs)\n",
    "        outputs = self.dropout_layer(outputs)\n",
    "        outputs = self.relu(outputs)\n",
    "        outputs = self.second_dense_layer(outputs)\n",
    "        return outputs\n",
    "\n",
    "    def training_step(self, batch, batch_idx):\n",
    "        inputs, labels = batch\n",
    "        outputs = self(inputs)\n",
    "        labels = labels.squeeze()  # drop unnecessary dimention\n",
    "        outputs = outputs[:, -1, :]  # take the results at the last time-step\n",
    "        loss = F.cross_entropy(outputs, labels)\n",
    "        train_accuracy = self.train_accuracy(outputs, labels)\n",
    "        self.log(\n",
    "            \"loss\",\n",
    "            loss,\n",
    "            on_step=True,\n",
    "            on_epoch=False,\n",
    "        )\n",
    "        self.log(\n",
    "            \"train_acc\",\n",
    "            train_accuracy,\n",
    "            on_step=True,\n",
    "            on_epoch=False,\n",
    "            prog_bar=True,\n",
    "            logger=True,\n",
    "        )\n",
    "        return loss\n",
    "\n",
    "    def validation_step(self, batch, batch_idx):\n",
    "        inputs, labels = batch\n",
    "        outputs = self(inputs)\n",
    "        labels = labels.squeeze()  # drop unnecessary dimention\n",
    "        outputs = outputs[:, -1, :]  # take the results at the last time-step\n",
    "        loss = F.cross_entropy(outputs, labels)\n",
    "        val_accuracy = self.val_accuracy(outputs, labels)\n",
    "        self.log(\"val_loss\", loss, prog_bar=True)\n",
    "        self.log(\n",
    "            \"val_acc\",\n",
    "            val_accuracy,\n",
    "            on_step=True,\n",
    "            on_epoch=False,\n",
    "            prog_bar=True,\n",
    "            logger=True,\n",
    "        )\n",
    "        return {\"val_loss\": loss}\n",
    "\n",
    "    def test_step(self, batch, batch_idx):\n",
    "        inputs, labels = batch\n",
    "        outputs = self(inputs)\n",
    "        labels = labels.squeeze()  # drop unnecessary dimention\n",
    "        outputs = outputs[:, -1, :]  # take the results at the last time-step\n",
    "        loss = F.cross_entropy(outputs, labels)\n",
    "        test_accuracy = self.test_accuracy(outputs, labels)\n",
    "        metrics = {\"test_acc\": test_accuracy, \"test_loss\": loss}\n",
    "        self.log_dict(metrics, prog_bar=True)\n",
    "\n",
    "    def configure_optimizers(self):\n",
    "        optimizer = torch.optim.Adam(\n",
    "            self.parameters(),\n",
    "            lr=self.learning_rate,\n",
    "        )\n",
    "        scheduler = torch.optim.lr_scheduler.ReduceLROnPlateau(\n",
    "            optimizer=optimizer,\n",
    "            factor=0.1,\n",
    "            patience=2,\n",
    "            \n",
    "        )\n",
    "        return {\n",
    "            \"optimizer\": optimizer,\n",
    "            \"lr_scheduler\": scheduler,\n",
    "            \"monitor\": \"val_loss\",\n",
    "        }"
   ]
  },
  {
   "cell_type": "code",
   "execution_count": 17,
   "id": "6ba9d991-906b-4988-900a-0f82faa389ca",
   "metadata": {
    "tags": []
   },
   "outputs": [],
   "source": [
    "lr_monitor = LearningRateMonitor(\n",
    "    logging_interval=\"step\",\n",
    "    log_momentum=True,\n",
    ")"
   ]
  },
  {
   "cell_type": "code",
   "execution_count": 18,
   "id": "d41a5217-ae5a-40a1-9626-54e329f8eb3c",
   "metadata": {
    "tags": []
   },
   "outputs": [
    {
     "name": "stderr",
     "output_type": "stream",
     "text": [
      "\u001b[34m\u001b[1mwandb\u001b[0m: Currently logged in as: \u001b[33mmagedsaeed\u001b[0m. Use \u001b[1m`wandb login --relogin`\u001b[0m to force relogin\n"
     ]
    },
    {
     "data": {
      "text/plain": [
       "True"
      ]
     },
     "execution_count": 18,
     "metadata": {},
     "output_type": "execute_result"
    }
   ],
   "source": [
    "wandb.login()"
   ]
  },
  {
   "cell_type": "code",
   "execution_count": 19,
   "id": "2adfcf36-e1a5-4d38-b18b-e704d948e34e",
   "metadata": {
    "tags": []
   },
   "outputs": [],
   "source": [
    "def get_best_checkpoint(text_type, tokenizer_class=CharacterTokenizer, checkpoints_base_path=\"MeterClassification\"):\n",
    "    checkpoints_path = (\n",
    "        f\"{checkpoints_base_path}/{text_type}/{tokenizer_class.__name__}/all/checkpoints\"\n",
    "    )\n",
    "    for file_name in os.listdir(checkpoints_path):\n",
    "        if file_name.startswith(\"epoch\"):\n",
    "            return f\"{checkpoints_path}/{file_name}\""
   ]
  },
  {
   "cell_type": "code",
   "execution_count": 20,
   "id": "0faa32bb-d26f-49fc-bfc7-0c4cf167ecc7",
   "metadata": {
    "tags": []
   },
   "outputs": [],
   "source": [
    "batch_size = 1024\n",
    "epochs = 100"
   ]
  },
  {
   "cell_type": "markdown",
   "id": "42035784-af58-4a25-9411-22352c621f9c",
   "metadata": {
    "tags": []
   },
   "source": [
    "# Dotted Experiment"
   ]
  },
  {
   "cell_type": "code",
   "execution_count": 21,
   "id": "e35bb963-0c83-4156-8336-432b4339e8fe",
   "metadata": {
    "tags": []
   },
   "outputs": [
    {
     "name": "stdout",
     "output_type": "stream",
     "text": [
      "Training CharacterTokenizer ...\n"
     ]
    }
   ],
   "source": [
    "with open(\"tmp_dataset2.txt\", \"w\") as f:\n",
    "    f.write(\"\\n\".join(item for item in x_train))\n",
    "dotted_tokenizer = CharacterTokenizer(special_tokens=['#','<##>'])\n",
    "dotted_tokenizer.train('tmp_dataset2.txt')"
   ]
  },
  {
   "cell_type": "code",
   "execution_count": 22,
   "id": "635ea6f7-f7e8-483d-8877-61278410a870",
   "metadata": {
    "tags": []
   },
   "outputs": [
    {
     "data": {
      "application/vnd.jupyter.widget-view+json": {
       "model_id": "cb2a3b22a2e84179b07f95d1e128ae14",
       "version_major": 2,
       "version_minor": 0
      },
      "text/plain": [
       "  0%|          | 0/1612285 [00:00<?, ?it/s]"
      ]
     },
     "metadata": {},
     "output_type": "display_data"
    }
   ],
   "source": [
    "train_dataset = BaitsDataset(X=x_train,y=y_train,tokenizer=dotted_tokenizer)"
   ]
  },
  {
   "cell_type": "code",
   "execution_count": 23,
   "id": "51519290-36ab-4647-9c6d-ecf97379e620",
   "metadata": {
    "tags": []
   },
   "outputs": [
    {
     "data": {
      "application/vnd.jupyter.widget-view+json": {
       "model_id": "8df0be82e2e04d00a149840edb74aade",
       "version_major": 2,
       "version_minor": 0
      },
      "text/plain": [
       "  0%|          | 0/84858 [00:00<?, ?it/s]"
      ]
     },
     "metadata": {},
     "output_type": "display_data"
    }
   ],
   "source": [
    "val_dataset = BaitsDataset(X=x_val,y=y_val,tokenizer=dotted_tokenizer)"
   ]
  },
  {
   "cell_type": "code",
   "execution_count": 24,
   "id": "67ae8a13-0217-4621-90ab-d5b8c03a1b91",
   "metadata": {
    "tags": []
   },
   "outputs": [
    {
     "data": {
      "application/vnd.jupyter.widget-view+json": {
       "model_id": "df5fdf6f14fe4b50a7efcbaecfff1887",
       "version_major": 2,
       "version_minor": 0
      },
      "text/plain": [
       "  0%|          | 0/89324 [00:00<?, ?it/s]"
      ]
     },
     "metadata": {},
     "output_type": "display_data"
    }
   ],
   "source": [
    "test_dataset = BaitsDataset(X=x_test,y=y_test,tokenizer=dotted_tokenizer)"
   ]
  },
  {
   "cell_type": "code",
   "execution_count": 25,
   "id": "3511ceac-fa89-49ae-a1a1-beb57f77b6f9",
   "metadata": {
    "tags": []
   },
   "outputs": [
    {
     "data": {
      "text/plain": [
       "35"
      ]
     },
     "execution_count": 25,
     "metadata": {},
     "output_type": "execute_result"
    }
   ],
   "source": [
    "dotted_tokenizer.vocab_size"
   ]
  },
  {
   "cell_type": "code",
   "execution_count": 26,
   "id": "22473236-ffe3-4f69-ae0c-98024d55747c",
   "metadata": {
    "tags": []
   },
   "outputs": [],
   "source": [
    "train_dataloader = DataLoader(\n",
    "    shuffle=True,\n",
    "    dataset=train_dataset,\n",
    "    num_workers=32,\n",
    "    drop_last=True,\n",
    "    batch_size=batch_size,\n",
    ")"
   ]
  },
  {
   "cell_type": "code",
   "execution_count": 27,
   "id": "47f5f727-2686-4b8c-b2ce-cb20e75cf56b",
   "metadata": {
    "tags": []
   },
   "outputs": [],
   "source": [
    "val_dataloader = DataLoader(\n",
    "    shuffle=False,\n",
    "    dataset=val_dataset,\n",
    "    num_workers=32,\n",
    "    drop_last=True,\n",
    "    batch_size=batch_size,\n",
    ")"
   ]
  },
  {
   "cell_type": "code",
   "execution_count": 28,
   "id": "ceb6d1cb-1f60-41b6-9ee5-24ed683c9882",
   "metadata": {
    "tags": []
   },
   "outputs": [],
   "source": [
    "test_dataloader = DataLoader(\n",
    "    shuffle=False,\n",
    "    dataset=test_dataset,\n",
    "    num_workers=32,\n",
    "    drop_last=True,\n",
    "    batch_size=batch_size,\n",
    ")"
   ]
  },
  {
   "cell_type": "code",
   "execution_count": 29,
   "id": "01e35ac5-0725-4089-81ba-40d53dbc7e7c",
   "metadata": {
    "tags": []
   },
   "outputs": [
    {
     "data": {
      "text/plain": [
       "LitMeterClassificationModel(\n",
       "  (train_accuracy): MulticlassAccuracy()\n",
       "  (val_accuracy): MulticlassAccuracy()\n",
       "  (test_accuracy): MulticlassAccuracy()\n",
       "  (embedding_layer): Embedding(35, 256)\n",
       "  (gru_layer): GRU(256, 256, num_layers=5, batch_first=True, dropout=0.25, bidirectional=True)\n",
       "  (first_dense_layer): Linear(in_features=256, out_features=128, bias=True)\n",
       "  (dropout_layer): Dropout(p=0.333, inplace=False)\n",
       "  (relu): ReLU()\n",
       "  (second_dense_layer): Linear(in_features=128, out_features=16, bias=True)\n",
       ")"
      ]
     },
     "execution_count": 29,
     "metadata": {},
     "output_type": "execute_result"
    }
   ],
   "source": [
    "model = LitMeterClassificationModel(vocab_size=dotted_tokenizer.vocab_size)\n",
    "model"
   ]
  },
  {
   "cell_type": "code",
   "execution_count": 30,
   "id": "c756f6b5-933e-47db-82ac-2d870efa532c",
   "metadata": {
    "tags": []
   },
   "outputs": [],
   "source": [
    "shutil.rmtree(\n",
    "    Path(\n",
    "        f\"MeterClassification/dotted/{dotted_tokenizer.__class__.__name__}/all/checkpoints\"\n",
    "    ),\n",
    "    ignore_errors=True,\n",
    ")\n",
    "checkpoint_callback = ModelCheckpoint(\n",
    "    mode=\"min\",\n",
    "    save_top_k=1,\n",
    "    verbose=False,\n",
    "    save_last=False,\n",
    "    monitor=\"val_loss\",\n",
    "    save_weights_only=False,\n",
    "    auto_insert_metric_name=True,\n",
    "    save_on_train_epoch_end=False,\n",
    "    filename=\"{epoch}-{val_loss:.3f}-{step}\",\n",
    "    dirpath=f\"MeterClassification/dotted/{dotted_tokenizer.__class__.__name__}/all/checkpoints\",\n",
    ")"
   ]
  },
  {
   "cell_type": "code",
   "execution_count": 31,
   "id": "eae2b27b-1897-4d41-962e-8c98524497c6",
   "metadata": {
    "tags": []
   },
   "outputs": [
    {
     "data": {
      "application/vnd.jupyter.widget-view+json": {
       "model_id": "7ead69947ff54d3bafa723170df6f78a",
       "version_major": 2,
       "version_minor": 0
      },
      "text/plain": [
       "VBox(children=(Label(value='Waiting for wandb.init()...\\r'), FloatProgress(value=0.016670670368087788, max=1.0…"
      ]
     },
     "metadata": {},
     "output_type": "display_data"
    },
    {
     "data": {
      "text/html": [
       "wandb version 0.14.0 is available!  To upgrade, please run:\n",
       " $ pip install wandb --upgrade"
      ],
      "text/plain": [
       "<IPython.core.display.HTML object>"
      ]
     },
     "metadata": {},
     "output_type": "display_data"
    },
    {
     "data": {
      "text/html": [
       "Tracking run with wandb version 0.13.11"
      ],
      "text/plain": [
       "<IPython.core.display.HTML object>"
      ]
     },
     "metadata": {},
     "output_type": "display_data"
    },
    {
     "data": {
      "text/html": [
       "Run data is saved locally in <code>./wandb/run-20230401_144440-ghd676kq</code>"
      ],
      "text/plain": [
       "<IPython.core.display.HTML object>"
      ]
     },
     "metadata": {},
     "output_type": "display_data"
    },
    {
     "data": {
      "text/html": [
       "Syncing run <strong><a href='https://wandb.ai/magedsaeed/MC/runs/ghd676kq' target=\"_blank\">dotted_CharacterTokenizer-all</a></strong> to <a href='https://wandb.ai/magedsaeed/MC' target=\"_blank\">Weights & Biases</a> (<a href='https://wandb.me/run' target=\"_blank\">docs</a>)<br/>"
      ],
      "text/plain": [
       "<IPython.core.display.HTML object>"
      ]
     },
     "metadata": {},
     "output_type": "display_data"
    },
    {
     "data": {
      "text/html": [
       " View project at <a href='https://wandb.ai/magedsaeed/MC' target=\"_blank\">https://wandb.ai/magedsaeed/MC</a>"
      ],
      "text/plain": [
       "<IPython.core.display.HTML object>"
      ]
     },
     "metadata": {},
     "output_type": "display_data"
    },
    {
     "data": {
      "text/html": [
       " View run at <a href='https://wandb.ai/magedsaeed/MC/runs/ghd676kq' target=\"_blank\">https://wandb.ai/magedsaeed/MC/runs/ghd676kq</a>"
      ],
      "text/plain": [
       "<IPython.core.display.HTML object>"
      ]
     },
     "metadata": {},
     "output_type": "display_data"
    },
    {
     "name": "stderr",
     "output_type": "stream",
     "text": [
      "\u001b[34m\u001b[1mwandb\u001b[0m: logging graph, to disable use `wandb.watch(log_graph=False)`\n"
     ]
    }
   ],
   "source": [
    "wandb_logger = WandbLogger(\n",
    "    project=\"MC\",\n",
    "    name=f\"dotted_{dotted_tokenizer.__class__.__name__}-all\",\n",
    "    reinit=True,\n",
    ")\n",
    "wandb_logger.watch(model, log=\"all\")"
   ]
  },
  {
   "cell_type": "code",
   "execution_count": 32,
   "id": "44004476-f54c-4ed5-93a3-4f5cc56e3259",
   "metadata": {
    "tags": []
   },
   "outputs": [],
   "source": [
    "early_stopping_callback = EarlyStopping(\n",
    "    monitor=\"val_loss\",\n",
    "    min_delta=0.05,\n",
    "    patience=10,\n",
    "    check_finite=True,\n",
    ")"
   ]
  },
  {
   "cell_type": "code",
   "execution_count": 33,
   "id": "f95de829-fe5d-4964-ba23-10bdca77e1fe",
   "metadata": {
    "tags": []
   },
   "outputs": [
    {
     "name": "stderr",
     "output_type": "stream",
     "text": [
      "GPU available: True (cuda), used: True\n",
      "TPU available: False, using: 0 TPU cores\n",
      "IPU available: False, using: 0 IPUs\n",
      "HPU available: False, using: 0 HPUs\n"
     ]
    }
   ],
   "source": [
    "trainer = Trainer(\n",
    "    max_epochs=epochs,\n",
    "    devices=[0],\n",
    "    deterministic=True,\n",
    "    logger=wandb_logger,\n",
    "    val_check_interval=0.5,\n",
    "    accelerator=\"cuda\",\n",
    "    log_every_n_steps=max(len(train_dataloader) // 25, 1),\n",
    "    # default_root_dir=f\"LMsModels/{previous_hiddens}\",\n",
    "    callbacks=[\n",
    "        checkpoint_callback,\n",
    "        early_stopping_callback,\n",
    "        lr_monitor,\n",
    "    ],\n",
    ")"
   ]
  },
  {
   "cell_type": "code",
   "execution_count": 34,
   "id": "56278fbe-981e-4c59-8d73-8abe975df479",
   "metadata": {
    "tags": []
   },
   "outputs": [
    {
     "name": "stderr",
     "output_type": "stream",
     "text": [
      "LOCAL_RANK: 0 - CUDA_VISIBLE_DEVICES: [0,1]\n"
     ]
    },
    {
     "data": {
      "application/vnd.jupyter.widget-view+json": {
       "model_id": "ad6442111ed54d5c80fe315f602d3d0c",
       "version_major": 2,
       "version_minor": 0
      },
      "text/plain": [
       "Validation: 0it [00:00, ?it/s]"
      ]
     },
     "metadata": {},
     "output_type": "display_data"
    },
    {
     "data": {
      "text/html": [
       "<pre style=\"white-space:pre;overflow-x:auto;line-height:normal;font-family:Menlo,'DejaVu Sans Mono',consolas,'Courier New',monospace\">┏━━━━━━━━━━━━━━━━━━━━━━━━━━━┳━━━━━━━━━━━━━━━━━━━━━━━━━━━┓\n",
       "┃<span style=\"font-weight: bold\">      Validate metric      </span>┃<span style=\"font-weight: bold\">       DataLoader 0        </span>┃\n",
       "┡━━━━━━━━━━━━━━━━━━━━━━━━━━━╇━━━━━━━━━━━━━━━━━━━━━━━━━━━┩\n",
       "│<span style=\"color: #008080; text-decoration-color: #008080\">         val_loss          </span>│<span style=\"color: #800080; text-decoration-color: #800080\">    2.7426841259002686     </span>│\n",
       "└───────────────────────────┴───────────────────────────┘\n",
       "</pre>\n"
      ],
      "text/plain": [
       "┏━━━━━━━━━━━━━━━━━━━━━━━━━━━┳━━━━━━━━━━━━━━━━━━━━━━━━━━━┓\n",
       "┃\u001b[1m \u001b[0m\u001b[1m     Validate metric     \u001b[0m\u001b[1m \u001b[0m┃\u001b[1m \u001b[0m\u001b[1m      DataLoader 0       \u001b[0m\u001b[1m \u001b[0m┃\n",
       "┡━━━━━━━━━━━━━━━━━━━━━━━━━━━╇━━━━━━━━━━━━━━━━━━━━━━━━━━━┩\n",
       "│\u001b[36m \u001b[0m\u001b[36m        val_loss         \u001b[0m\u001b[36m \u001b[0m│\u001b[35m \u001b[0m\u001b[35m   2.7426841259002686    \u001b[0m\u001b[35m \u001b[0m│\n",
       "└───────────────────────────┴───────────────────────────┘\n"
      ]
     },
     "metadata": {},
     "output_type": "display_data"
    },
    {
     "data": {
      "text/plain": [
       "[{'val_loss': 2.7426841259002686}]"
      ]
     },
     "execution_count": 34,
     "metadata": {},
     "output_type": "execute_result"
    }
   ],
   "source": [
    "trainer.validate(\n",
    "    model=model,\n",
    "    dataloaders=val_dataloader,\n",
    ")"
   ]
  },
  {
   "cell_type": "code",
   "execution_count": 35,
   "id": "37237526-9f31-4dcb-af83-c3536966b9e2",
   "metadata": {
    "tags": []
   },
   "outputs": [
    {
     "name": "stderr",
     "output_type": "stream",
     "text": [
      "LOCAL_RANK: 0 - CUDA_VISIBLE_DEVICES: [0,1]\n",
      "\n",
      "  | Name               | Type               | Params\n",
      "----------------------------------------------------------\n",
      "0 | train_accuracy     | MulticlassAccuracy | 0     \n",
      "1 | val_accuracy       | MulticlassAccuracy | 0     \n",
      "2 | test_accuracy      | MulticlassAccuracy | 0     \n",
      "3 | embedding_layer    | Embedding          | 9.0 K \n",
      "4 | gru_layer          | GRU                | 5.5 M \n",
      "5 | first_dense_layer  | Linear             | 32.9 K\n",
      "6 | dropout_layer      | Dropout            | 0     \n",
      "7 | relu               | ReLU               | 0     \n",
      "8 | second_dense_layer | Linear             | 2.1 K \n",
      "----------------------------------------------------------\n",
      "5.6 M     Trainable params\n",
      "0         Non-trainable params\n",
      "5.6 M     Total params\n",
      "22.257    Total estimated model params size (MB)\n"
     ]
    },
    {
     "data": {
      "application/vnd.jupyter.widget-view+json": {
       "model_id": "",
       "version_major": 2,
       "version_minor": 0
      },
      "text/plain": [
       "Sanity Checking: 0it [00:00, ?it/s]"
      ]
     },
     "metadata": {},
     "output_type": "display_data"
    },
    {
     "data": {
      "application/vnd.jupyter.widget-view+json": {
       "model_id": "cb7ddff19650466fb2b48688ed6dd80e",
       "version_major": 2,
       "version_minor": 0
      },
      "text/plain": [
       "Training: 0it [00:00, ?it/s]"
      ]
     },
     "metadata": {},
     "output_type": "display_data"
    },
    {
     "data": {
      "application/vnd.jupyter.widget-view+json": {
       "model_id": "",
       "version_major": 2,
       "version_minor": 0
      },
      "text/plain": [
       "Validation: 0it [00:00, ?it/s]"
      ]
     },
     "metadata": {},
     "output_type": "display_data"
    },
    {
     "data": {
      "application/vnd.jupyter.widget-view+json": {
       "model_id": "",
       "version_major": 2,
       "version_minor": 0
      },
      "text/plain": [
       "Validation: 0it [00:00, ?it/s]"
      ]
     },
     "metadata": {},
     "output_type": "display_data"
    },
    {
     "data": {
      "application/vnd.jupyter.widget-view+json": {
       "model_id": "",
       "version_major": 2,
       "version_minor": 0
      },
      "text/plain": [
       "Validation: 0it [00:00, ?it/s]"
      ]
     },
     "metadata": {},
     "output_type": "display_data"
    },
    {
     "data": {
      "application/vnd.jupyter.widget-view+json": {
       "model_id": "",
       "version_major": 2,
       "version_minor": 0
      },
      "text/plain": [
       "Validation: 0it [00:00, ?it/s]"
      ]
     },
     "metadata": {},
     "output_type": "display_data"
    },
    {
     "data": {
      "application/vnd.jupyter.widget-view+json": {
       "model_id": "",
       "version_major": 2,
       "version_minor": 0
      },
      "text/plain": [
       "Validation: 0it [00:00, ?it/s]"
      ]
     },
     "metadata": {},
     "output_type": "display_data"
    },
    {
     "data": {
      "application/vnd.jupyter.widget-view+json": {
       "model_id": "",
       "version_major": 2,
       "version_minor": 0
      },
      "text/plain": [
       "Validation: 0it [00:00, ?it/s]"
      ]
     },
     "metadata": {},
     "output_type": "display_data"
    },
    {
     "data": {
      "application/vnd.jupyter.widget-view+json": {
       "model_id": "",
       "version_major": 2,
       "version_minor": 0
      },
      "text/plain": [
       "Validation: 0it [00:00, ?it/s]"
      ]
     },
     "metadata": {},
     "output_type": "display_data"
    },
    {
     "data": {
      "application/vnd.jupyter.widget-view+json": {
       "model_id": "",
       "version_major": 2,
       "version_minor": 0
      },
      "text/plain": [
       "Validation: 0it [00:00, ?it/s]"
      ]
     },
     "metadata": {},
     "output_type": "display_data"
    },
    {
     "data": {
      "application/vnd.jupyter.widget-view+json": {
       "model_id": "",
       "version_major": 2,
       "version_minor": 0
      },
      "text/plain": [
       "Validation: 0it [00:00, ?it/s]"
      ]
     },
     "metadata": {},
     "output_type": "display_data"
    },
    {
     "data": {
      "application/vnd.jupyter.widget-view+json": {
       "model_id": "",
       "version_major": 2,
       "version_minor": 0
      },
      "text/plain": [
       "Validation: 0it [00:00, ?it/s]"
      ]
     },
     "metadata": {},
     "output_type": "display_data"
    },
    {
     "data": {
      "application/vnd.jupyter.widget-view+json": {
       "model_id": "",
       "version_major": 2,
       "version_minor": 0
      },
      "text/plain": [
       "Validation: 0it [00:00, ?it/s]"
      ]
     },
     "metadata": {},
     "output_type": "display_data"
    },
    {
     "data": {
      "application/vnd.jupyter.widget-view+json": {
       "model_id": "",
       "version_major": 2,
       "version_minor": 0
      },
      "text/plain": [
       "Validation: 0it [00:00, ?it/s]"
      ]
     },
     "metadata": {},
     "output_type": "display_data"
    },
    {
     "data": {
      "application/vnd.jupyter.widget-view+json": {
       "model_id": "",
       "version_major": 2,
       "version_minor": 0
      },
      "text/plain": [
       "Validation: 0it [00:00, ?it/s]"
      ]
     },
     "metadata": {},
     "output_type": "display_data"
    },
    {
     "data": {
      "application/vnd.jupyter.widget-view+json": {
       "model_id": "",
       "version_major": 2,
       "version_minor": 0
      },
      "text/plain": [
       "Validation: 0it [00:00, ?it/s]"
      ]
     },
     "metadata": {},
     "output_type": "display_data"
    },
    {
     "data": {
      "application/vnd.jupyter.widget-view+json": {
       "model_id": "",
       "version_major": 2,
       "version_minor": 0
      },
      "text/plain": [
       "Validation: 0it [00:00, ?it/s]"
      ]
     },
     "metadata": {},
     "output_type": "display_data"
    }
   ],
   "source": [
    "trainer.fit(model,train_dataloader,val_dataloader)"
   ]
  },
  {
   "cell_type": "code",
   "execution_count": 36,
   "id": "dba70cdd-a89c-4557-85f2-4c38b343bb13",
   "metadata": {
    "tags": []
   },
   "outputs": [
    {
     "data": {
      "text/plain": [
       "LitMeterClassificationModel(\n",
       "  (train_accuracy): MulticlassAccuracy()\n",
       "  (val_accuracy): MulticlassAccuracy()\n",
       "  (test_accuracy): MulticlassAccuracy()\n",
       "  (embedding_layer): Embedding(35, 256)\n",
       "  (gru_layer): GRU(256, 256, num_layers=5, batch_first=True, dropout=0.25, bidirectional=True)\n",
       "  (first_dense_layer): Linear(in_features=256, out_features=128, bias=True)\n",
       "  (dropout_layer): Dropout(p=0.333, inplace=False)\n",
       "  (relu): ReLU()\n",
       "  (second_dense_layer): Linear(in_features=128, out_features=16, bias=True)\n",
       ")"
      ]
     },
     "execution_count": 36,
     "metadata": {},
     "output_type": "execute_result"
    }
   ],
   "source": [
    "model = LitMeterClassificationModel.load_from_checkpoint(\n",
    "    get_best_checkpoint(text_type=\"dotted\")\n",
    ")\n",
    "model"
   ]
  },
  {
   "cell_type": "code",
   "execution_count": 37,
   "id": "9c2d67cb-e170-412d-9642-a53a22d295c8",
   "metadata": {
    "tags": []
   },
   "outputs": [
    {
     "name": "stderr",
     "output_type": "stream",
     "text": [
      "LOCAL_RANK: 0 - CUDA_VISIBLE_DEVICES: [0,1]\n"
     ]
    },
    {
     "data": {
      "application/vnd.jupyter.widget-view+json": {
       "model_id": "716dd2297f484be88da11d1bf2de0cbc",
       "version_major": 2,
       "version_minor": 0
      },
      "text/plain": [
       "Testing: 0it [00:00, ?it/s]"
      ]
     },
     "metadata": {},
     "output_type": "display_data"
    },
    {
     "data": {
      "text/html": [
       "<pre style=\"white-space:pre;overflow-x:auto;line-height:normal;font-family:Menlo,'DejaVu Sans Mono',consolas,'Courier New',monospace\">┏━━━━━━━━━━━━━━━━━━━━━━━━━━━┳━━━━━━━━━━━━━━━━━━━━━━━━━━━┓\n",
       "┃<span style=\"font-weight: bold\">        Test metric        </span>┃<span style=\"font-weight: bold\">       DataLoader 0        </span>┃\n",
       "┡━━━━━━━━━━━━━━━━━━━━━━━━━━━╇━━━━━━━━━━━━━━━━━━━━━━━━━━━┩\n",
       "│<span style=\"color: #008080; text-decoration-color: #008080\">         test_acc          </span>│<span style=\"color: #800080; text-decoration-color: #800080\">    0.9568628668785095     </span>│\n",
       "│<span style=\"color: #008080; text-decoration-color: #008080\">         test_loss         </span>│<span style=\"color: #800080; text-decoration-color: #800080\">    0.20164844393730164    </span>│\n",
       "└───────────────────────────┴───────────────────────────┘\n",
       "</pre>\n"
      ],
      "text/plain": [
       "┏━━━━━━━━━━━━━━━━━━━━━━━━━━━┳━━━━━━━━━━━━━━━━━━━━━━━━━━━┓\n",
       "┃\u001b[1m \u001b[0m\u001b[1m       Test metric       \u001b[0m\u001b[1m \u001b[0m┃\u001b[1m \u001b[0m\u001b[1m      DataLoader 0       \u001b[0m\u001b[1m \u001b[0m┃\n",
       "┡━━━━━━━━━━━━━━━━━━━━━━━━━━━╇━━━━━━━━━━━━━━━━━━━━━━━━━━━┩\n",
       "│\u001b[36m \u001b[0m\u001b[36m        test_acc         \u001b[0m\u001b[36m \u001b[0m│\u001b[35m \u001b[0m\u001b[35m   0.9568628668785095    \u001b[0m\u001b[35m \u001b[0m│\n",
       "│\u001b[36m \u001b[0m\u001b[36m        test_loss        \u001b[0m\u001b[36m \u001b[0m│\u001b[35m \u001b[0m\u001b[35m   0.20164844393730164   \u001b[0m\u001b[35m \u001b[0m│\n",
       "└───────────────────────────┴───────────────────────────┘\n"
      ]
     },
     "metadata": {},
     "output_type": "display_data"
    },
    {
     "data": {
      "text/plain": [
       "[{'test_acc': 0.9568628668785095, 'test_loss': 0.20164844393730164}]"
      ]
     },
     "execution_count": 37,
     "metadata": {},
     "output_type": "execute_result"
    }
   ],
   "source": [
    "trainer.test(model,test_dataloader)"
   ]
  },
  {
   "cell_type": "code",
   "execution_count": 38,
   "id": "4e7203be-4bfe-4fa4-bf14-ae8f08b7835b",
   "metadata": {},
   "outputs": [
    {
     "data": {
      "text/html": [
       "Waiting for W&B process to finish... <strong style=\"color:green\">(success).</strong>"
      ],
      "text/plain": [
       "<IPython.core.display.HTML object>"
      ]
     },
     "metadata": {},
     "output_type": "display_data"
    },
    {
     "data": {
      "text/html": [
       "<style>\n",
       "    table.wandb td:nth-child(1) { padding: 0 10px; text-align: left ; width: auto;} td:nth-child(2) {text-align: left ; width: 100%}\n",
       "    .wandb-row { display: flex; flex-direction: row; flex-wrap: wrap; justify-content: flex-start; width: 100% }\n",
       "    .wandb-col { display: flex; flex-direction: column; flex-basis: 100%; flex: 1; padding: 10px; }\n",
       "    </style>\n",
       "<div class=\"wandb-row\"><div class=\"wandb-col\"><h3>Run history:</h3><br/><table class=\"wandb\"><tr><td>epoch</td><td>▁▁▁▁▁▁▂▂▂▂▂▃▃▃▃▃▄▄▄▄▄▄▅▅▅▅▆▆▆▆▆▆▇▇▇▇▇███</td></tr><tr><td>loss</td><td>█▆▃▂▂▂▂▁▁▁▁▂▁▁▁▁▁▁▁▁▁▁▁▁▁▁▁▁▁▁▁▁▁▁▁▁▁▁▁▁</td></tr><tr><td>lr-Adam</td><td>▁▁▁▁▁▁▁▁▁▁▁▁▁▁▁▁▁▁▁▁▁▁▁▁▁▁▁▁▁▁▁▁▁▁▁▁▁▁▁▁</td></tr><tr><td>lr-Adam-momentum</td><td>▁▁▁▁▁▁▁▁▁▁▁▁▁▁▁▁▁▁▁▁▁▁▁▁▁▁▁▁▁▁▁▁▁▁▁▁▁▁▁▁</td></tr><tr><td>test_acc</td><td>▁</td></tr><tr><td>test_loss</td><td>▁</td></tr><tr><td>train_acc</td><td>▁▃▆▇████████████████████████████████████</td></tr><tr><td>trainer/global_step</td><td>▁▁▁▁▁▁▁▂▁▁▃▁▃▁▁▁▁▄▁▁▅▁▅▁▁▁▁▆▂▂▇▂▇▂▂▂▂█▂▂</td></tr><tr><td>val_acc</td><td>▁▁▁▇▇███████████████████████████████████</td></tr><tr><td>val_loss</td><td>█▂▁▁▁▁▁▁▁▁▁▁▁▁▁▁</td></tr></table><br/></div><div class=\"wandb-col\"><h3>Run summary:</h3><br/><table class=\"wandb\"><tr><td>epoch</td><td>8</td></tr><tr><td>loss</td><td>0.21332</td></tr><tr><td>lr-Adam</td><td>0.001</td></tr><tr><td>lr-Adam-momentum</td><td>0.9</td></tr><tr><td>test_acc</td><td>0.95686</td></tr><tr><td>test_loss</td><td>0.20165</td></tr><tr><td>train_acc</td><td>0.95605</td></tr><tr><td>trainer/global_step</td><td>11805</td></tr><tr><td>val_acc</td><td>0.94531</td></tr><tr><td>val_loss</td><td>0.20149</td></tr></table><br/></div></div>"
      ],
      "text/plain": [
       "<IPython.core.display.HTML object>"
      ]
     },
     "metadata": {},
     "output_type": "display_data"
    },
    {
     "data": {
      "text/html": [
       " View run <strong style=\"color:#cdcd00\">dotted_CharacterTokenizer-all</strong> at: <a href='https://wandb.ai/magedsaeed/MC/runs/ghd676kq' target=\"_blank\">https://wandb.ai/magedsaeed/MC/runs/ghd676kq</a><br/>Synced 5 W&B file(s), 0 media file(s), 0 artifact file(s) and 0 other file(s)"
      ],
      "text/plain": [
       "<IPython.core.display.HTML object>"
      ]
     },
     "metadata": {},
     "output_type": "display_data"
    },
    {
     "data": {
      "text/html": [
       "Find logs at: <code>./wandb/run-20230401_144440-ghd676kq/logs</code>"
      ],
      "text/plain": [
       "<IPython.core.display.HTML object>"
      ]
     },
     "metadata": {},
     "output_type": "display_data"
    }
   ],
   "source": [
    "wandb.finish()"
   ]
  },
  {
   "cell_type": "markdown",
   "id": "395f5157-fe45-4ad7-a2da-e34d038ad8b7",
   "metadata": {},
   "source": [
    "# Dotless Experiment"
   ]
  },
  {
   "cell_type": "code",
   "execution_count": 39,
   "id": "d6804acd-461d-42e8-b109-149344a7ce5d",
   "metadata": {
    "tags": []
   },
   "outputs": [
    {
     "data": {
      "application/vnd.jupyter.widget-view+json": {
       "model_id": "ea5a4d6d4fd045fcad388d285295abd6",
       "version_major": 2,
       "version_minor": 0
      },
      "text/plain": [
       "  0%|          | 0/1612285 [00:00<?, ?it/s]"
      ]
     },
     "metadata": {},
     "output_type": "display_data"
    },
    {
     "name": "stdout",
     "output_type": "stream",
     "text": [
      "Training CharacterTokenizer ...\n"
     ]
    }
   ],
   "source": [
    "with open(\"tmp_dataset2.txt\", \"w\") as f:\n",
    "    f.write(\"\\n\".join(undot(item) for item in tqdm(x_train)))\n",
    "dotless_tokenizer = CharacterTokenizer(special_tokens=['#','<##>'])\n",
    "dotless_tokenizer.train('tmp_dataset2.txt')"
   ]
  },
  {
   "cell_type": "code",
   "execution_count": 40,
   "id": "e19482ad-0995-4231-ab9a-be4c64fef74e",
   "metadata": {
    "tags": []
   },
   "outputs": [
    {
     "data": {
      "application/vnd.jupyter.widget-view+json": {
       "model_id": "1c922fa9c3474074be190dacdb2abedc",
       "version_major": 2,
       "version_minor": 0
      },
      "text/plain": [
       "  0%|          | 0/1612285 [00:00<?, ?it/s]"
      ]
     },
     "metadata": {},
     "output_type": "display_data"
    }
   ],
   "source": [
    "train_dataset = BaitsDataset(\n",
    "    X=x_train,\n",
    "    y=y_train,\n",
    "    tokenizer=dotless_tokenizer,\n",
    "    undot_text=True,\n",
    ")"
   ]
  },
  {
   "cell_type": "code",
   "execution_count": 41,
   "id": "14b3d007-04a3-4f1a-bb74-eef031477def",
   "metadata": {
    "tags": []
   },
   "outputs": [
    {
     "data": {
      "application/vnd.jupyter.widget-view+json": {
       "model_id": "ff9232412bae4c769e05d2bb5858bf06",
       "version_major": 2,
       "version_minor": 0
      },
      "text/plain": [
       "  0%|          | 0/84858 [00:00<?, ?it/s]"
      ]
     },
     "metadata": {},
     "output_type": "display_data"
    }
   ],
   "source": [
    "val_dataset = BaitsDataset(\n",
    "    X=x_val,\n",
    "    y=y_val,\n",
    "    tokenizer=dotless_tokenizer,\n",
    "    undot_text=True,\n",
    ")"
   ]
  },
  {
   "cell_type": "code",
   "execution_count": 42,
   "id": "3eb37ce5-a8a8-456a-85a2-cbf63e048a00",
   "metadata": {
    "tags": []
   },
   "outputs": [
    {
     "data": {
      "application/vnd.jupyter.widget-view+json": {
       "model_id": "8a4c52f7898e46978cac185481ed3747",
       "version_major": 2,
       "version_minor": 0
      },
      "text/plain": [
       "  0%|          | 0/89324 [00:00<?, ?it/s]"
      ]
     },
     "metadata": {},
     "output_type": "display_data"
    }
   ],
   "source": [
    "test_dataset = BaitsDataset(\n",
    "    X=x_test,\n",
    "    y=y_test,\n",
    "    tokenizer=dotless_tokenizer,\n",
    "    undot_text=True,\n",
    ")"
   ]
  },
  {
   "cell_type": "code",
   "execution_count": 43,
   "id": "0e149106-873d-402c-b401-f7f7beec6050",
   "metadata": {
    "tags": []
   },
   "outputs": [
    {
     "data": {
      "text/plain": [
       "23"
      ]
     },
     "execution_count": 43,
     "metadata": {},
     "output_type": "execute_result"
    }
   ],
   "source": [
    "dotless_tokenizer.vocab_size"
   ]
  },
  {
   "cell_type": "code",
   "execution_count": 44,
   "id": "df44050b-456b-4c07-a0f1-032df4787368",
   "metadata": {
    "tags": []
   },
   "outputs": [],
   "source": [
    "train_dataloader = DataLoader(\n",
    "    shuffle=True,\n",
    "    dataset=train_dataset,\n",
    "    num_workers=32,\n",
    "    drop_last=True,\n",
    "    batch_size=batch_size,\n",
    ")"
   ]
  },
  {
   "cell_type": "code",
   "execution_count": 45,
   "id": "eafbf633-4c3e-4b07-ad2e-ca64d465ffac",
   "metadata": {
    "tags": []
   },
   "outputs": [],
   "source": [
    "val_dataloader = DataLoader(\n",
    "    shuffle=False,\n",
    "    dataset=val_dataset,\n",
    "    num_workers=32,\n",
    "    drop_last=True,\n",
    "    batch_size=batch_size,\n",
    ")"
   ]
  },
  {
   "cell_type": "code",
   "execution_count": 46,
   "id": "ad6d5b56-848c-4970-8660-f0840f515f28",
   "metadata": {
    "tags": []
   },
   "outputs": [],
   "source": [
    "test_dataloader = DataLoader(\n",
    "    shuffle=False,\n",
    "    dataset=test_dataset,\n",
    "    num_workers=32,\n",
    "    drop_last=True,\n",
    "    batch_size=batch_size,\n",
    ")"
   ]
  },
  {
   "cell_type": "code",
   "execution_count": 47,
   "id": "d7c6a0be-82d0-495c-880b-ec6b8b2449c9",
   "metadata": {
    "tags": []
   },
   "outputs": [],
   "source": [
    "shutil.rmtree(\n",
    "    Path(\n",
    "        f\"MeterClassification/dotless/{dotless_tokenizer.__class__.__name__}/all/checkpoints\"\n",
    "    ),\n",
    "    ignore_errors=True,\n",
    ")\n",
    "checkpoint_callback = ModelCheckpoint(\n",
    "    mode=\"min\",\n",
    "    save_top_k=1,\n",
    "    verbose=False,\n",
    "    save_last=False,\n",
    "    monitor=\"val_loss\",\n",
    "    save_weights_only=False,\n",
    "    auto_insert_metric_name=True,\n",
    "    save_on_train_epoch_end=False,\n",
    "    filename=\"{epoch}-{val_loss:.3f}-{step}\",\n",
    "    dirpath=f\"MeterClassification/dotless/{dotless_tokenizer.__class__.__name__}/all/checkpoints\",\n",
    ")"
   ]
  },
  {
   "cell_type": "code",
   "execution_count": 48,
   "id": "c0cd06e4-25e1-40b2-813c-be3735d82300",
   "metadata": {
    "tags": []
   },
   "outputs": [
    {
     "data": {
      "text/plain": [
       "LitMeterClassificationModel(\n",
       "  (train_accuracy): MulticlassAccuracy()\n",
       "  (val_accuracy): MulticlassAccuracy()\n",
       "  (test_accuracy): MulticlassAccuracy()\n",
       "  (embedding_layer): Embedding(23, 256)\n",
       "  (gru_layer): GRU(256, 256, num_layers=5, batch_first=True, dropout=0.25, bidirectional=True)\n",
       "  (first_dense_layer): Linear(in_features=256, out_features=128, bias=True)\n",
       "  (dropout_layer): Dropout(p=0.333, inplace=False)\n",
       "  (relu): ReLU()\n",
       "  (second_dense_layer): Linear(in_features=128, out_features=16, bias=True)\n",
       ")"
      ]
     },
     "execution_count": 48,
     "metadata": {},
     "output_type": "execute_result"
    }
   ],
   "source": [
    "model = LitMeterClassificationModel(\n",
    "    # num_layers=3,\n",
    "    # gru_hiddens=128,\n",
    "    # embedding_size=128,\n",
    "    # dropout_prob=0.45,\n",
    "    # gru_dropout=0.25,\n",
    "    vocab_size=dotless_tokenizer.vocab_size,\n",
    ")\n",
    "model"
   ]
  },
  {
   "cell_type": "code",
   "execution_count": 49,
   "id": "eae4e803-df66-4732-a9e3-84517929a354",
   "metadata": {
    "tags": []
   },
   "outputs": [
    {
     "data": {
      "application/vnd.jupyter.widget-view+json": {
       "model_id": "6406c798e5264a39966903772c48bf37",
       "version_major": 2,
       "version_minor": 0
      },
      "text/plain": [
       "VBox(children=(Label(value='Waiting for wandb.init()...\\r'), FloatProgress(value=0.016668485337868334, max=1.0…"
      ]
     },
     "metadata": {},
     "output_type": "display_data"
    },
    {
     "data": {
      "text/html": [
       "wandb version 0.14.0 is available!  To upgrade, please run:\n",
       " $ pip install wandb --upgrade"
      ],
      "text/plain": [
       "<IPython.core.display.HTML object>"
      ]
     },
     "metadata": {},
     "output_type": "display_data"
    },
    {
     "data": {
      "text/html": [
       "Tracking run with wandb version 0.13.11"
      ],
      "text/plain": [
       "<IPython.core.display.HTML object>"
      ]
     },
     "metadata": {},
     "output_type": "display_data"
    },
    {
     "data": {
      "text/html": [
       "Run data is saved locally in <code>./wandb/run-20230401_155950-a3ppc3s5</code>"
      ],
      "text/plain": [
       "<IPython.core.display.HTML object>"
      ]
     },
     "metadata": {},
     "output_type": "display_data"
    },
    {
     "data": {
      "text/html": [
       "Syncing run <strong><a href='https://wandb.ai/magedsaeed/MC/runs/a3ppc3s5' target=\"_blank\">dotless_CharacterTokenizer-all</a></strong> to <a href='https://wandb.ai/magedsaeed/MC' target=\"_blank\">Weights & Biases</a> (<a href='https://wandb.me/run' target=\"_blank\">docs</a>)<br/>"
      ],
      "text/plain": [
       "<IPython.core.display.HTML object>"
      ]
     },
     "metadata": {},
     "output_type": "display_data"
    },
    {
     "data": {
      "text/html": [
       " View project at <a href='https://wandb.ai/magedsaeed/MC' target=\"_blank\">https://wandb.ai/magedsaeed/MC</a>"
      ],
      "text/plain": [
       "<IPython.core.display.HTML object>"
      ]
     },
     "metadata": {},
     "output_type": "display_data"
    },
    {
     "data": {
      "text/html": [
       " View run at <a href='https://wandb.ai/magedsaeed/MC/runs/a3ppc3s5' target=\"_blank\">https://wandb.ai/magedsaeed/MC/runs/a3ppc3s5</a>"
      ],
      "text/plain": [
       "<IPython.core.display.HTML object>"
      ]
     },
     "metadata": {},
     "output_type": "display_data"
    },
    {
     "name": "stderr",
     "output_type": "stream",
     "text": [
      "\u001b[34m\u001b[1mwandb\u001b[0m: logging graph, to disable use `wandb.watch(log_graph=False)`\n"
     ]
    }
   ],
   "source": [
    "wandb_logger = WandbLogger(\n",
    "    project=\"MC\",\n",
    "    name=f\"dotless_{dotless_tokenizer.__class__.__name__}-all\",\n",
    "    reinit=True,\n",
    ")\n",
    "wandb_logger.watch(model, log=\"all\")"
   ]
  },
  {
   "cell_type": "code",
   "execution_count": 50,
   "id": "1ed78361-488a-4634-b018-4b087da5bc1e",
   "metadata": {
    "tags": []
   },
   "outputs": [],
   "source": [
    "early_stopping_callback = EarlyStopping(\n",
    "    monitor=\"val_loss\",\n",
    "    min_delta=0.05,\n",
    "    patience=10,\n",
    "    check_finite=True,\n",
    ")"
   ]
  },
  {
   "cell_type": "code",
   "execution_count": 51,
   "id": "dbb4a220-d440-4971-8512-1f9288c0e054",
   "metadata": {
    "tags": []
   },
   "outputs": [
    {
     "name": "stderr",
     "output_type": "stream",
     "text": [
      "GPU available: True (cuda), used: True\n",
      "TPU available: False, using: 0 TPU cores\n",
      "IPU available: False, using: 0 IPUs\n",
      "HPU available: False, using: 0 HPUs\n"
     ]
    }
   ],
   "source": [
    "trainer = Trainer(\n",
    "    max_epochs=epochs,\n",
    "    devices=[0],\n",
    "    deterministic=True,\n",
    "    logger=wandb_logger,\n",
    "    val_check_interval=0.5,\n",
    "    accelerator=\"cuda\",\n",
    "    log_every_n_steps=max(len(train_dataloader) // 25, 1),\n",
    "    # default_root_dir=f\"LMsModels/{previous_hiddens}\",\n",
    "    callbacks=[\n",
    "        checkpoint_callback,\n",
    "        early_stopping_callback,\n",
    "        lr_monitor,\n",
    "    ],\n",
    ")"
   ]
  },
  {
   "cell_type": "code",
   "execution_count": 52,
   "id": "2de95ac1-3f2f-446e-9ad1-c17a3e3702c7",
   "metadata": {
    "tags": []
   },
   "outputs": [
    {
     "name": "stderr",
     "output_type": "stream",
     "text": [
      "LOCAL_RANK: 0 - CUDA_VISIBLE_DEVICES: [0,1]\n"
     ]
    },
    {
     "data": {
      "application/vnd.jupyter.widget-view+json": {
       "model_id": "4e151b3bb3784917bc5a75ccd4f8f688",
       "version_major": 2,
       "version_minor": 0
      },
      "text/plain": [
       "Validation: 0it [00:00, ?it/s]"
      ]
     },
     "metadata": {},
     "output_type": "display_data"
    },
    {
     "data": {
      "text/html": [
       "<pre style=\"white-space:pre;overflow-x:auto;line-height:normal;font-family:Menlo,'DejaVu Sans Mono',consolas,'Courier New',monospace\">┏━━━━━━━━━━━━━━━━━━━━━━━━━━━┳━━━━━━━━━━━━━━━━━━━━━━━━━━━┓\n",
       "┃<span style=\"font-weight: bold\">      Validate metric      </span>┃<span style=\"font-weight: bold\">       DataLoader 0        </span>┃\n",
       "┡━━━━━━━━━━━━━━━━━━━━━━━━━━━╇━━━━━━━━━━━━━━━━━━━━━━━━━━━┩\n",
       "│<span style=\"color: #008080; text-decoration-color: #008080\">         val_loss          </span>│<span style=\"color: #800080; text-decoration-color: #800080\">     2.780548572540283     </span>│\n",
       "└───────────────────────────┴───────────────────────────┘\n",
       "</pre>\n"
      ],
      "text/plain": [
       "┏━━━━━━━━━━━━━━━━━━━━━━━━━━━┳━━━━━━━━━━━━━━━━━━━━━━━━━━━┓\n",
       "┃\u001b[1m \u001b[0m\u001b[1m     Validate metric     \u001b[0m\u001b[1m \u001b[0m┃\u001b[1m \u001b[0m\u001b[1m      DataLoader 0       \u001b[0m\u001b[1m \u001b[0m┃\n",
       "┡━━━━━━━━━━━━━━━━━━━━━━━━━━━╇━━━━━━━━━━━━━━━━━━━━━━━━━━━┩\n",
       "│\u001b[36m \u001b[0m\u001b[36m        val_loss         \u001b[0m\u001b[36m \u001b[0m│\u001b[35m \u001b[0m\u001b[35m    2.780548572540283    \u001b[0m\u001b[35m \u001b[0m│\n",
       "└───────────────────────────┴───────────────────────────┘\n"
      ]
     },
     "metadata": {},
     "output_type": "display_data"
    },
    {
     "data": {
      "text/plain": [
       "[{'val_loss': 2.780548572540283}]"
      ]
     },
     "execution_count": 52,
     "metadata": {},
     "output_type": "execute_result"
    }
   ],
   "source": [
    "trainer.validate(\n",
    "    model=model,\n",
    "    dataloaders=val_dataloader,\n",
    ")"
   ]
  },
  {
   "cell_type": "code",
   "execution_count": 53,
   "id": "c979f78b-bfa9-4ae3-ae1b-004acc3aca10",
   "metadata": {
    "tags": []
   },
   "outputs": [
    {
     "name": "stderr",
     "output_type": "stream",
     "text": [
      "LOCAL_RANK: 0 - CUDA_VISIBLE_DEVICES: [0,1]\n",
      "\n",
      "  | Name               | Type               | Params\n",
      "----------------------------------------------------------\n",
      "0 | train_accuracy     | MulticlassAccuracy | 0     \n",
      "1 | val_accuracy       | MulticlassAccuracy | 0     \n",
      "2 | test_accuracy      | MulticlassAccuracy | 0     \n",
      "3 | embedding_layer    | Embedding          | 5.9 K \n",
      "4 | gru_layer          | GRU                | 5.5 M \n",
      "5 | first_dense_layer  | Linear             | 32.9 K\n",
      "6 | dropout_layer      | Dropout            | 0     \n",
      "7 | relu               | ReLU               | 0     \n",
      "8 | second_dense_layer | Linear             | 2.1 K \n",
      "----------------------------------------------------------\n",
      "5.6 M     Trainable params\n",
      "0         Non-trainable params\n",
      "5.6 M     Total params\n",
      "22.245    Total estimated model params size (MB)\n"
     ]
    },
    {
     "data": {
      "application/vnd.jupyter.widget-view+json": {
       "model_id": "",
       "version_major": 2,
       "version_minor": 0
      },
      "text/plain": [
       "Sanity Checking: 0it [00:00, ?it/s]"
      ]
     },
     "metadata": {},
     "output_type": "display_data"
    },
    {
     "data": {
      "application/vnd.jupyter.widget-view+json": {
       "model_id": "3f727d0d8b584c71b9cab650657ac80d",
       "version_major": 2,
       "version_minor": 0
      },
      "text/plain": [
       "Training: 0it [00:00, ?it/s]"
      ]
     },
     "metadata": {},
     "output_type": "display_data"
    },
    {
     "data": {
      "application/vnd.jupyter.widget-view+json": {
       "model_id": "",
       "version_major": 2,
       "version_minor": 0
      },
      "text/plain": [
       "Validation: 0it [00:00, ?it/s]"
      ]
     },
     "metadata": {},
     "output_type": "display_data"
    },
    {
     "data": {
      "application/vnd.jupyter.widget-view+json": {
       "model_id": "",
       "version_major": 2,
       "version_minor": 0
      },
      "text/plain": [
       "Validation: 0it [00:00, ?it/s]"
      ]
     },
     "metadata": {},
     "output_type": "display_data"
    },
    {
     "data": {
      "application/vnd.jupyter.widget-view+json": {
       "model_id": "",
       "version_major": 2,
       "version_minor": 0
      },
      "text/plain": [
       "Validation: 0it [00:00, ?it/s]"
      ]
     },
     "metadata": {},
     "output_type": "display_data"
    },
    {
     "data": {
      "application/vnd.jupyter.widget-view+json": {
       "model_id": "",
       "version_major": 2,
       "version_minor": 0
      },
      "text/plain": [
       "Validation: 0it [00:00, ?it/s]"
      ]
     },
     "metadata": {},
     "output_type": "display_data"
    },
    {
     "data": {
      "application/vnd.jupyter.widget-view+json": {
       "model_id": "",
       "version_major": 2,
       "version_minor": 0
      },
      "text/plain": [
       "Validation: 0it [00:00, ?it/s]"
      ]
     },
     "metadata": {},
     "output_type": "display_data"
    },
    {
     "data": {
      "application/vnd.jupyter.widget-view+json": {
       "model_id": "",
       "version_major": 2,
       "version_minor": 0
      },
      "text/plain": [
       "Validation: 0it [00:00, ?it/s]"
      ]
     },
     "metadata": {},
     "output_type": "display_data"
    },
    {
     "data": {
      "application/vnd.jupyter.widget-view+json": {
       "model_id": "",
       "version_major": 2,
       "version_minor": 0
      },
      "text/plain": [
       "Validation: 0it [00:00, ?it/s]"
      ]
     },
     "metadata": {},
     "output_type": "display_data"
    },
    {
     "data": {
      "application/vnd.jupyter.widget-view+json": {
       "model_id": "",
       "version_major": 2,
       "version_minor": 0
      },
      "text/plain": [
       "Validation: 0it [00:00, ?it/s]"
      ]
     },
     "metadata": {},
     "output_type": "display_data"
    },
    {
     "data": {
      "application/vnd.jupyter.widget-view+json": {
       "model_id": "",
       "version_major": 2,
       "version_minor": 0
      },
      "text/plain": [
       "Validation: 0it [00:00, ?it/s]"
      ]
     },
     "metadata": {},
     "output_type": "display_data"
    },
    {
     "data": {
      "application/vnd.jupyter.widget-view+json": {
       "model_id": "",
       "version_major": 2,
       "version_minor": 0
      },
      "text/plain": [
       "Validation: 0it [00:00, ?it/s]"
      ]
     },
     "metadata": {},
     "output_type": "display_data"
    },
    {
     "data": {
      "application/vnd.jupyter.widget-view+json": {
       "model_id": "",
       "version_major": 2,
       "version_minor": 0
      },
      "text/plain": [
       "Validation: 0it [00:00, ?it/s]"
      ]
     },
     "metadata": {},
     "output_type": "display_data"
    },
    {
     "data": {
      "application/vnd.jupyter.widget-view+json": {
       "model_id": "",
       "version_major": 2,
       "version_minor": 0
      },
      "text/plain": [
       "Validation: 0it [00:00, ?it/s]"
      ]
     },
     "metadata": {},
     "output_type": "display_data"
    },
    {
     "data": {
      "application/vnd.jupyter.widget-view+json": {
       "model_id": "",
       "version_major": 2,
       "version_minor": 0
      },
      "text/plain": [
       "Validation: 0it [00:00, ?it/s]"
      ]
     },
     "metadata": {},
     "output_type": "display_data"
    },
    {
     "data": {
      "application/vnd.jupyter.widget-view+json": {
       "model_id": "",
       "version_major": 2,
       "version_minor": 0
      },
      "text/plain": [
       "Validation: 0it [00:00, ?it/s]"
      ]
     },
     "metadata": {},
     "output_type": "display_data"
    },
    {
     "data": {
      "application/vnd.jupyter.widget-view+json": {
       "model_id": "",
       "version_major": 2,
       "version_minor": 0
      },
      "text/plain": [
       "Validation: 0it [00:00, ?it/s]"
      ]
     },
     "metadata": {},
     "output_type": "display_data"
    },
    {
     "data": {
      "application/vnd.jupyter.widget-view+json": {
       "model_id": "",
       "version_major": 2,
       "version_minor": 0
      },
      "text/plain": [
       "Validation: 0it [00:00, ?it/s]"
      ]
     },
     "metadata": {},
     "output_type": "display_data"
    },
    {
     "data": {
      "application/vnd.jupyter.widget-view+json": {
       "model_id": "",
       "version_major": 2,
       "version_minor": 0
      },
      "text/plain": [
       "Validation: 0it [00:00, ?it/s]"
      ]
     },
     "metadata": {},
     "output_type": "display_data"
    },
    {
     "data": {
      "application/vnd.jupyter.widget-view+json": {
       "model_id": "",
       "version_major": 2,
       "version_minor": 0
      },
      "text/plain": [
       "Validation: 0it [00:00, ?it/s]"
      ]
     },
     "metadata": {},
     "output_type": "display_data"
    },
    {
     "data": {
      "application/vnd.jupyter.widget-view+json": {
       "model_id": "",
       "version_major": 2,
       "version_minor": 0
      },
      "text/plain": [
       "Validation: 0it [00:00, ?it/s]"
      ]
     },
     "metadata": {},
     "output_type": "display_data"
    },
    {
     "data": {
      "application/vnd.jupyter.widget-view+json": {
       "model_id": "",
       "version_major": 2,
       "version_minor": 0
      },
      "text/plain": [
       "Validation: 0it [00:00, ?it/s]"
      ]
     },
     "metadata": {},
     "output_type": "display_data"
    },
    {
     "data": {
      "application/vnd.jupyter.widget-view+json": {
       "model_id": "",
       "version_major": 2,
       "version_minor": 0
      },
      "text/plain": [
       "Validation: 0it [00:00, ?it/s]"
      ]
     },
     "metadata": {},
     "output_type": "display_data"
    }
   ],
   "source": [
    "trainer.fit(model,train_dataloader,val_dataloader)"
   ]
  },
  {
   "cell_type": "code",
   "execution_count": 54,
   "id": "2fce6aea-cbbd-41f3-926b-0ef3b8ddfd94",
   "metadata": {
    "tags": []
   },
   "outputs": [
    {
     "data": {
      "text/plain": [
       "LitMeterClassificationModel(\n",
       "  (train_accuracy): MulticlassAccuracy()\n",
       "  (val_accuracy): MulticlassAccuracy()\n",
       "  (test_accuracy): MulticlassAccuracy()\n",
       "  (embedding_layer): Embedding(23, 256)\n",
       "  (gru_layer): GRU(256, 256, num_layers=5, batch_first=True, dropout=0.25, bidirectional=True)\n",
       "  (first_dense_layer): Linear(in_features=256, out_features=128, bias=True)\n",
       "  (dropout_layer): Dropout(p=0.333, inplace=False)\n",
       "  (relu): ReLU()\n",
       "  (second_dense_layer): Linear(in_features=128, out_features=16, bias=True)\n",
       ")"
      ]
     },
     "execution_count": 54,
     "metadata": {},
     "output_type": "execute_result"
    }
   ],
   "source": [
    "model = LitMeterClassificationModel.load_from_checkpoint(\n",
    "    get_best_checkpoint(text_type=\"dotless\")\n",
    ")\n",
    "model"
   ]
  },
  {
   "cell_type": "code",
   "execution_count": 55,
   "id": "9c762218-4f4b-4b29-848c-4c8688ead85d",
   "metadata": {
    "tags": []
   },
   "outputs": [
    {
     "name": "stderr",
     "output_type": "stream",
     "text": [
      "LOCAL_RANK: 0 - CUDA_VISIBLE_DEVICES: [0,1]\n"
     ]
    },
    {
     "data": {
      "application/vnd.jupyter.widget-view+json": {
       "model_id": "c6a4e4cb1bdd42a5ab74181560f7b6dd",
       "version_major": 2,
       "version_minor": 0
      },
      "text/plain": [
       "Testing: 0it [00:00, ?it/s]"
      ]
     },
     "metadata": {},
     "output_type": "display_data"
    },
    {
     "data": {
      "text/html": [
       "<pre style=\"white-space:pre;overflow-x:auto;line-height:normal;font-family:Menlo,'DejaVu Sans Mono',consolas,'Courier New',monospace\">┏━━━━━━━━━━━━━━━━━━━━━━━━━━━┳━━━━━━━━━━━━━━━━━━━━━━━━━━━┓\n",
       "┃<span style=\"font-weight: bold\">        Test metric        </span>┃<span style=\"font-weight: bold\">       DataLoader 0        </span>┃\n",
       "┡━━━━━━━━━━━━━━━━━━━━━━━━━━━╇━━━━━━━━━━━━━━━━━━━━━━━━━━━┩\n",
       "│<span style=\"color: #008080; text-decoration-color: #008080\">         test_acc          </span>│<span style=\"color: #800080; text-decoration-color: #800080\">     0.949858546257019     </span>│\n",
       "│<span style=\"color: #008080; text-decoration-color: #008080\">         test_loss         </span>│<span style=\"color: #800080; text-decoration-color: #800080\">    0.21966329216957092    </span>│\n",
       "└───────────────────────────┴───────────────────────────┘\n",
       "</pre>\n"
      ],
      "text/plain": [
       "┏━━━━━━━━━━━━━━━━━━━━━━━━━━━┳━━━━━━━━━━━━━━━━━━━━━━━━━━━┓\n",
       "┃\u001b[1m \u001b[0m\u001b[1m       Test metric       \u001b[0m\u001b[1m \u001b[0m┃\u001b[1m \u001b[0m\u001b[1m      DataLoader 0       \u001b[0m\u001b[1m \u001b[0m┃\n",
       "┡━━━━━━━━━━━━━━━━━━━━━━━━━━━╇━━━━━━━━━━━━━━━━━━━━━━━━━━━┩\n",
       "│\u001b[36m \u001b[0m\u001b[36m        test_acc         \u001b[0m\u001b[36m \u001b[0m│\u001b[35m \u001b[0m\u001b[35m    0.949858546257019    \u001b[0m\u001b[35m \u001b[0m│\n",
       "│\u001b[36m \u001b[0m\u001b[36m        test_loss        \u001b[0m\u001b[36m \u001b[0m│\u001b[35m \u001b[0m\u001b[35m   0.21966329216957092   \u001b[0m\u001b[35m \u001b[0m│\n",
       "└───────────────────────────┴───────────────────────────┘\n"
      ]
     },
     "metadata": {},
     "output_type": "display_data"
    },
    {
     "data": {
      "text/plain": [
       "[{'test_acc': 0.949858546257019, 'test_loss': 0.21966329216957092}]"
      ]
     },
     "execution_count": 55,
     "metadata": {},
     "output_type": "execute_result"
    }
   ],
   "source": [
    "trainer.test(model,test_dataloader)"
   ]
  },
  {
   "cell_type": "code",
   "execution_count": 56,
   "id": "4d1c1f0a-168b-48c7-93c2-9c8e02bc1eb6",
   "metadata": {},
   "outputs": [
    {
     "data": {
      "text/html": [
       "Waiting for W&B process to finish... <strong style=\"color:green\">(success).</strong>"
      ],
      "text/plain": [
       "<IPython.core.display.HTML object>"
      ]
     },
     "metadata": {},
     "output_type": "display_data"
    },
    {
     "data": {
      "text/html": [
       "<style>\n",
       "    table.wandb td:nth-child(1) { padding: 0 10px; text-align: left ; width: auto;} td:nth-child(2) {text-align: left ; width: 100%}\n",
       "    .wandb-row { display: flex; flex-direction: row; flex-wrap: wrap; justify-content: flex-start; width: 100% }\n",
       "    .wandb-col { display: flex; flex-direction: column; flex-basis: 100%; flex: 1; padding: 10px; }\n",
       "    </style>\n",
       "<div class=\"wandb-row\"><div class=\"wandb-col\"><h3>Run history:</h3><br/><table class=\"wandb\"><tr><td>epoch</td><td>▁▁▁▁▂▂▂▂▂▂▂▃▃▃▃▄▄▄▄▅▅▅▅▅▅▅▅▆▆▆▆▇▇▇▇▇▇▇██</td></tr><tr><td>loss</td><td>█▄▂▂▂▁▂▁▁▂▁▁▁▁▁▁▁▁▁▁▁▁▁▁▁▁▁▁▁▂▁▁▁▁▁▁▁▁▁▁</td></tr><tr><td>lr-Adam</td><td>▁▁▁▁▁▁▁▁▁▁▁▁▁▁▁▁▁▁▁▁▁▁▁▁▁▁▁▁▁▁▁▁▁▁▁▁▁▁▁▁</td></tr><tr><td>lr-Adam-momentum</td><td>▁▁▁▁▁▁▁▁▁▁▁▁▁▁▁▁▁▁▁▁▁▁▁▁▁▁▁▁▁▁▁▁▁▁▁▁▁▁▁▁</td></tr><tr><td>test_acc</td><td>▁</td></tr><tr><td>test_loss</td><td>▁</td></tr><tr><td>train_acc</td><td>▁▆▇▇████████████████████████████████████</td></tr><tr><td>trainer/global_step</td><td>▁▁▁▁▁▂▁▂▁▁▁▁▃▁▁▁▄▁▁▁▅▁▁▁▁▆▁▆▁▆▂▂▂▂▂▂▇▂█▂</td></tr><tr><td>val_acc</td><td>▁▁█▇████████████████████████████████████</td></tr><tr><td>val_loss</td><td>█▁▁▁▁▁▁▁▁▁▁▁▁▁▁▁▁▁▁▁▁▁</td></tr></table><br/></div><div class=\"wandb-col\"><h3>Run summary:</h3><br/><table class=\"wandb\"><tr><td>epoch</td><td>11</td></tr><tr><td>loss</td><td>0.23941</td></tr><tr><td>lr-Adam</td><td>0.001</td></tr><tr><td>lr-Adam-momentum</td><td>0.9</td></tr><tr><td>test_acc</td><td>0.94986</td></tr><tr><td>test_loss</td><td>0.21966</td></tr><tr><td>train_acc</td><td>0.94531</td></tr><tr><td>trainer/global_step</td><td>16527</td></tr><tr><td>val_acc</td><td>0.93457</td></tr><tr><td>val_loss</td><td>0.22216</td></tr></table><br/></div></div>"
      ],
      "text/plain": [
       "<IPython.core.display.HTML object>"
      ]
     },
     "metadata": {},
     "output_type": "display_data"
    },
    {
     "data": {
      "text/html": [
       " View run <strong style=\"color:#cdcd00\">dotless_CharacterTokenizer-all</strong> at: <a href='https://wandb.ai/magedsaeed/MC/runs/a3ppc3s5' target=\"_blank\">https://wandb.ai/magedsaeed/MC/runs/a3ppc3s5</a><br/>Synced 5 W&B file(s), 0 media file(s), 0 artifact file(s) and 0 other file(s)"
      ],
      "text/plain": [
       "<IPython.core.display.HTML object>"
      ]
     },
     "metadata": {},
     "output_type": "display_data"
    },
    {
     "data": {
      "text/html": [
       "Find logs at: <code>./wandb/run-20230401_155950-a3ppc3s5/logs</code>"
      ],
      "text/plain": [
       "<IPython.core.display.HTML object>"
      ]
     },
     "metadata": {},
     "output_type": "display_data"
    }
   ],
   "source": [
    "wandb.finish()"
   ]
  }
 ],
 "metadata": {
  "kernelspec": {
   "display_name": "Python 3 (ipykernel)",
   "language": "python",
   "name": "python3"
  },
  "language_info": {
   "codemirror_mode": {
    "name": "ipython",
    "version": 3
   },
   "file_extension": ".py",
   "mimetype": "text/x-python",
   "name": "python",
   "nbconvert_exporter": "python",
   "pygments_lexer": "ipython3",
   "version": "3.10.6"
  }
 },
 "nbformat": 4,
 "nbformat_minor": 5
}
