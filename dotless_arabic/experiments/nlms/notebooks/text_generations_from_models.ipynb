{
 "cells": [
  {
   "cell_type": "code",
   "execution_count": 1,
   "metadata": {},
   "outputs": [
    {
     "name": "stderr",
     "output_type": "stream",
     "text": [
      "/home/majed.alshaibani/.virtualenvs/dotless_arabic/lib/python3.8/site-packages/tqdm/auto.py:22: TqdmWarning: IProgress not found. Please update jupyter and ipywidgets. See https://ipywidgets.readthedocs.io/en/stable/user_install.html\n",
      "  from .autonotebook import tqdm as notebook_tqdm\n"
     ]
    }
   ],
   "source": [
    "import tkseem as tk\n",
    "from tqdm.notebook import tqdm\n",
    "from sklearn.model_selection import train_test_split\n",
    "\n",
    "from dotless_arabic.processing import process\n",
    "from dotless_arabic.experiments.nlms.src import constants\n",
    "from dotless_arabic.experiments.constants import COLLECT_DATASET\n",
    "from dotless_arabic.experiments.nlms.src.models import LitNeuralLanguageModel\n",
    "from dotless_arabic.experiments.nlms.src.utils import generate_text,get_best_checkpoint,get_tokenizer,get_dataloader"
   ]
  },
  {
   "cell_type": "code",
   "execution_count": 2,
   "metadata": {},
   "outputs": [],
   "source": [
    "# write the dataset name here :)\n",
    "dataset_name = 'poems'\n",
    "dataset_type = 'dotted'"
   ]
  },
  {
   "cell_type": "code",
   "execution_count": 3,
   "metadata": {},
   "outputs": [
    {
     "name": "stderr",
     "output_type": "stream",
     "text": [
      "Using custom data configuration MagedSaeed--ashaar-719bb58a76ea0092\n",
      "Found cached dataset parquet (/home/majed.alshaibani/.cache/huggingface/datasets/arbml___parquet/MagedSaeed--ashaar-719bb58a76ea0092/0.0.0/2a3b91fbd88a2c90d1dbbb32b460cf621d31bd5b05b934492fdef7d8d6f236ec)\n",
      "Loading cached processed dataset at /home/majed.alshaibani/.cache/huggingface/datasets/arbml___parquet/MagedSaeed--ashaar-719bb58a76ea0092/0.0.0/2a3b91fbd88a2c90d1dbbb32b460cf621d31bd5b05b934492fdef7d8d6f236ec/cache-9a01dee7fce54c58.arrow\n",
      "100%|██████████| 249880/249880 [00:01<00:00, 219255.05it/s]\n",
      "100%|██████████| 3774110/3774110 [00:57<00:00, 65927.60it/s]\n"
     ]
    }
   ],
   "source": [
    "dataset = COLLECT_DATASET[dataset_name]()\n",
    "dataset = list(\n",
    "    map(\n",
    "        process,\n",
    "        dataset,\n",
    "    )\n",
    ")"
   ]
  },
  {
   "cell_type": "code",
   "execution_count": 8,
   "metadata": {},
   "outputs": [],
   "source": [
    "train_dataset, test_dataset = train_test_split(\n",
    "        dataset,\n",
    "        shuffle=True,\n",
    "        test_size=constants.TEST_SIZE,\n",
    "        random_state=constants.RANDOM_SEED,\n",
    "    )\n",
    "\n",
    "train_dataset, val_dataset = train_test_split(\n",
    "    train_dataset,\n",
    "    shuffle=True,\n",
    "    test_size=constants.VAL_SIZE,\n",
    "    random_state=constants.RANDOM_SEED,\n",
    ")"
   ]
  },
  {
   "cell_type": "code",
   "execution_count": 9,
   "metadata": {},
   "outputs": [
    {
     "name": "stderr",
     "output_type": "stream",
     "text": [
      "Lightning automatically upgraded your loaded checkpoint from v1.8.6 to v1.9.0. To apply the upgrade to your files permanently, run `python -m pytorch_lightning.utilities.upgrade_checkpoint --file NLMs/DOTTED-POEMS_DATASET/checkpoints/epoch=46-val_loss=7.07-step=497968-WordTokenizer-0.95.ckpt`\n"
     ]
    },
    {
     "data": {
      "text/plain": [
       "LitNeuralLanguageModel(\n",
       "  (embedding_layer): Embedding(216253, 512)\n",
       "  (gru_layer): GRU(512, 512, num_layers=4, batch_first=True)\n",
       "  (first_dense_layer): Linear(in_features=512, out_features=512, bias=True)\n",
       "  (dropout_layer): Dropout(p=0.333, inplace=False)\n",
       "  (relu): ReLU()\n",
       "  (second_dense_layer): Linear(in_features=512, out_features=216253, bias=True)\n",
       ")"
      ]
     },
     "execution_count": 9,
     "metadata": {},
     "output_type": "execute_result"
    }
   ],
   "source": [
    "model = LitNeuralLanguageModel.load_from_checkpoint(\n",
    "        get_best_checkpoint(dataset_id=f\"{dataset_type.upper()}-{dataset_name.upper()}_DATASET\")\n",
    ")\n",
    "model"
   ]
  },
  {
   "cell_type": "code",
   "execution_count": 10,
   "metadata": {},
   "outputs": [
    {
     "name": "stdout",
     "output_type": "stream",
     "text": [
      "Training WordTokenizer ...\n"
     ]
    }
   ],
   "source": [
    "tokenizer = get_tokenizer(\n",
    "        train_dataset=train_dataset,\n",
    "        vocab_size=model.vocab_size,\n",
    "        tokenizer_class=tk.WordTokenizer,\n",
    "    )"
   ]
  },
  {
   "cell_type": "code",
   "execution_count": 11,
   "metadata": {},
   "outputs": [
    {
     "name": "stdout",
     "output_type": "stream",
     "text": [
      "predicting: يا\n",
      "prompt is: <bos> يا\n",
      "predicting: عمرو\n",
      "prompt is: <bos> يا عمرو\n",
      "predicting: على\n",
      "prompt is: <bos> يا عمرو على\n",
      "predicting: من\n",
      "prompt is: <bos> يا عمرو على من\n",
      "predicting: قال\n",
      "prompt is: <bos> يا عمرو على من قال\n",
      "predicting: هذا\n",
      "prompt is: <bos> يا عمرو على من قال هذا\n",
      "predicting: من\n",
      "prompt is: <bos> يا عمرو على من قال هذا من\n",
      "predicting: قريب\n",
      "prompt is: <bos> يا عمرو على من قال هذا من قريب\n",
      "predicting: وانت\n",
      "prompt is: <bos> يا عمرو على من قال هذا من قريب وانت\n",
      "predicting: كله\n",
      "prompt is: <bos> يا عمرو على من قال هذا من قريب وانت كله\n",
      "predicting: يوم\n",
      "prompt is: <bos> يا عمرو على من قال هذا من قريب وانت كله يوم\n",
      "predicting: تمام\n",
      "prompt is: <bos> يا عمرو على من قال هذا من قريب وانت كله يوم تمام\n",
      "predicting: ود\n",
      "prompt is: <bos> يا عمرو على من قال هذا من قريب وانت كله يوم تمام ود\n",
      "predicting: <PAD>\n",
      "prompt is: <bos> يا عمرو على من قال هذا من قريب وانت كله يوم تمام ود <PAD>\n",
      "predicting: <eos>\n",
      "prompt is: <bos> \n",
      "predicting: و\n",
      "prompt is: <bos> و\n",
      "predicting: لا\n",
      "prompt is: <bos> و لا\n",
      "predicting: ابالي\n",
      "prompt is: <bos> و لا ابالي\n",
      "predicting: او\n",
      "prompt is: <bos> و لا ابالي او\n",
      "predicting: من\n",
      "prompt is: <bos> و لا ابالي او من\n",
      "predicting: قد\n",
      "prompt is: <bos> و لا ابالي او من قد\n",
      "predicting: كنت\n",
      "prompt is: <bos> و لا ابالي او من قد كنت\n",
      "predicting: في\n",
      "prompt is: <bos> و لا ابالي او من قد كنت في\n",
      "predicting: الغرام\n",
      "prompt is: <bos> و لا ابالي او من قد كنت في الغرام\n",
      "predicting: <eos>\n",
      "prompt is: <bos> \n",
      "predicting: اذا\n",
      "prompt is: <bos> اذا\n",
      "predicting: ما\n",
      "prompt is: <bos> اذا ما\n",
      "predicting: رايتهم\n",
      "prompt is: <bos> اذا ما رايتهم\n",
      "predicting: على\n",
      "prompt is: <bos> اذا ما رايتهم على\n",
      "predicting: ذكر\n",
      "prompt is: <bos> اذا ما رايتهم على ذكر\n",
      "predicting: الهوى\n",
      "prompt is: <bos> اذا ما رايتهم على ذكر الهوى\n",
      "predicting: كان\n",
      "prompt is: <bos> اذا ما رايتهم على ذكر الهوى كان\n",
      "predicting: الظلام\n",
      "prompt is: <bos> اذا ما رايتهم على ذكر الهوى كان الظلام\n",
      "predicting: على\n",
      "prompt is: <bos> اذا ما رايتهم على ذكر الهوى كان الظلام على\n",
      "predicting: المدى\n",
      "prompt is: <bos> اذا ما رايتهم على ذكر الهوى كان الظلام على المدى\n",
      "predicting: كتب\n",
      "prompt is: <bos> اذا ما رايتهم على ذكر الهوى كان الظلام على المدى كتب\n",
      "predicting: المحل\n",
      "prompt is: <bos> اذا ما رايتهم على ذكر الهوى كان الظلام على المدى كتب المحل\n",
      "predicting: المحل\n",
      "prompt is: <bos> اذا ما رايتهم على ذكر الهوى كان الظلام على المدى كتب المحل المحل\n",
      "predicting: المحل\n",
      "prompt is: <bos> اذا ما رايتهم على ذكر الهوى كان الظلام على المدى كتب المحل المحل المحل\n",
      "predicting: المحل\n",
      "prompt is: <bos> اذا ما رايتهم على ذكر الهوى كان الظلام على المدى كتب المحل المحل المحل المحل\n",
      "predicting: المحل\n",
      "prompt is: <bos> اذا ما رايتهم على ذكر الهوى كان الظلام على المدى كتب المحل المحل المحل المحل المحل\n",
      "predicting: ورد\n",
      "prompt is: <bos> اذا ما رايتهم على ذكر الهوى كان الظلام على المدى كتب المحل المحل المحل المحل المحل ورد\n",
      "predicting: المحل\n",
      "prompt is: <bos> اذا ما رايتهم على ذكر الهوى كان الظلام على المدى كتب المحل المحل المحل المحل المحل ورد المحل\n",
      "predicting: ورد\n",
      "prompt is: <bos> اذا ما رايتهم على ذكر الهوى كان الظلام على المدى كتب المحل المحل المحل المحل المحل ورد المحل ورد\n",
      "predicting: ورد\n",
      "prompt is: <bos> اذا ما رايتهم على ذكر الهوى كان الظلام على المدى كتب المحل المحل المحل المحل المحل ورد المحل ورد ورد\n",
      "predicting: <PAD>\n",
      "prompt is: اذا ما رايتهم على ذكر الهوى كان الظلام على المدى كتب المحل المحل المحل المحل المحل ورد المحل ورد ورد <PAD>\n",
      "predicting: <eos>\n",
      "prompt is: <bos> \n",
      "predicting: وما\n",
      "prompt is: <bos> وما\n",
      "predicting: في\n",
      "prompt is: <bos> وما في\n",
      "predicting: الناس\n",
      "prompt is: <bos> وما في الناس\n",
      "predicting: من\n",
      "prompt is: <bos> وما في الناس من\n",
      "predicting: غيره\n",
      "prompt is: <bos> وما في الناس من غيره\n",
      "predicting: من\n",
      "prompt is: <bos> وما في الناس من غيره من\n",
      "predicting: احد\n",
      "prompt is: <bos> وما في الناس من غيره من احد\n",
      "predicting: فعل\n",
      "prompt is: <bos> وما في الناس من غيره من احد فعل\n",
      "predicting: جميل\n",
      "prompt is: <bos> وما في الناس من غيره من احد فعل جميل\n",
      "predicting: ثاني\n",
      "prompt is: <bos> وما في الناس من غيره من احد فعل جميل ثاني\n",
      "predicting: امر\n",
      "prompt is: <bos> وما في الناس من غيره من احد فعل جميل ثاني امر\n",
      "predicting: عمر\n",
      "prompt is: <bos> وما في الناس من غيره من احد فعل جميل ثاني امر عمر\n",
      "predicting: <PAD>\n",
      "prompt is: <bos> وما في الناس من غيره من احد فعل جميل ثاني امر عمر <PAD>\n",
      "predicting: <eos>\n",
      "prompt is: <bos> \n",
      "predicting: و\n",
      "prompt is: <bos> و\n",
      "predicting: على\n",
      "prompt is: <bos> و على\n",
      "predicting: ما\n",
      "prompt is: <bos> و على ما\n",
      "predicting: كان\n",
      "prompt is: <bos> و على ما كان\n",
      "predicting: من\n",
      "prompt is: <bos> و على ما كان من\n",
      "predicting: الم\n",
      "prompt is: <bos> و على ما كان من الم\n",
      "predicting: <eos>\n",
      "prompt is: <bos> \n",
      "predicting: يا\n",
      "prompt is: <bos> يا\n",
      "predicting: قاتلي\n",
      "prompt is: <bos> يا قاتلي\n",
      "predicting: عن\n",
      "prompt is: <bos> يا قاتلي عن\n",
      "predicting: حياتي\n",
      "prompt is: <bos> يا قاتلي عن حياتي\n",
      "predicting: لا\n",
      "prompt is: <bos> يا قاتلي عن حياتي لا\n",
      "predicting: <eos>\n",
      "prompt is: <bos> \n",
      "predicting: يا\n",
      "prompt is: <bos> يا\n",
      "predicting: رسول\n",
      "prompt is: <bos> يا رسول\n",
      "predicting: على\n",
      "prompt is: <bos> يا رسول على\n",
      "predicting: ابن\n",
      "prompt is: <bos> يا رسول على ابن\n",
      "predicting: ظبي\n",
      "prompt is: <bos> يا رسول على ابن ظبي\n",
      "predicting: تمام\n",
      "prompt is: <bos> يا رسول على ابن ظبي تمام\n",
      "predicting: تمام\n",
      "prompt is: <bos> يا رسول على ابن ظبي تمام تمام\n",
      "predicting: تمام\n",
      "prompt is: <bos> يا رسول على ابن ظبي تمام تمام تمام\n",
      "predicting: <PAD>\n",
      "prompt is: <bos> يا رسول على ابن ظبي تمام تمام تمام <PAD>\n",
      "predicting: <eos>\n",
      "prompt is: <bos> \n",
      "predicting: اذا\n",
      "prompt is: <bos> اذا\n",
      "predicting: ما\n",
      "prompt is: <bos> اذا ما\n",
      "predicting: تسعرت\n",
      "prompt is: <bos> اذا ما تسعرت\n",
      "predicting: من\n",
      "prompt is: <bos> اذا ما تسعرت من\n",
      "predicting: الصبح\n",
      "prompt is: <bos> اذا ما تسعرت من الصبح\n",
      "predicting: من\n",
      "prompt is: <bos> اذا ما تسعرت من الصبح من\n",
      "predicting: خمر\n",
      "prompt is: <bos> اذا ما تسعرت من الصبح من خمر\n",
      "predicting: نار\n",
      "prompt is: <bos> اذا ما تسعرت من الصبح من خمر نار\n",
      "predicting: <UNK>\n",
      "prompt is: <bos> اذا ما تسعرت من الصبح من خمر نار <UNK>\n",
      "predicting: ورد\n",
      "prompt is: <bos> اذا ما تسعرت من الصبح من خمر نار <UNK> ورد\n",
      "predicting: نبا\n",
      "prompt is: <bos> اذا ما تسعرت من الصبح من خمر نار <UNK> ورد نبا\n",
      "predicting: <PAD>\n",
      "prompt is: <bos> اذا ما تسعرت من الصبح من خمر نار <UNK> ورد نبا <PAD>\n",
      "predicting: <eos>\n",
      "prompt is: <bos> \n",
      "predicting: لا\n",
      "prompt is: <bos> لا\n",
      "predicting: شيء\n",
      "prompt is: <bos> لا شيء\n",
      "predicting: فيها\n",
      "prompt is: <bos> لا شيء فيها\n",
      "<bos> يا عمرو على من قال هذا من قريب وانت كله يوم تمام ود <PAD> <eos>\n",
      "<bos> و لا ابالي او من قد كنت في الغرام <eos>\n",
      "<bos> اذا ما رايتهم على ذكر الهوى كان الظلام على المدى كتب المحل المحل المحل المحل المحل ورد المحل ورد ورد <PAD> <eos>\n",
      "<bos> وما في الناس من غيره من احد فعل جميل ثاني امر عمر <PAD> <eos>\n",
      "<bos> و على ما كان من الم <eos>\n",
      "<bos> يا قاتلي عن حياتي لا <eos>\n",
      "<bos> يا رسول على ابن ظبي تمام تمام تمام <PAD> <eos>\n",
      "<bos> اذا ما تسعرت من الصبح من خمر نار <UNK> ورد نبا <PAD> <eos>\n",
      "<bos> لا شيء فيها\n"
     ]
    }
   ],
   "source": [
    "t = generate_text(\n",
    "    lm_model=model,\n",
    "    num_tokens=100,\n",
    "    sequence_length=20,\n",
    "    tokenizer=tokenizer,\n",
    ")\n",
    "print(t)"
   ]
  },
  {
   "cell_type": "code",
   "execution_count": null,
   "metadata": {},
   "outputs": [],
   "source": []
  }
 ],
 "metadata": {
  "kernelspec": {
   "display_name": "dotless_arabic",
   "language": "python",
   "name": "python3"
  },
  "language_info": {
   "codemirror_mode": {
    "name": "ipython",
    "version": 3
   },
   "file_extension": ".py",
   "mimetype": "text/x-python",
   "name": "python",
   "nbconvert_exporter": "python",
   "pygments_lexer": "ipython3",
   "version": "3.8.10"
  },
  "orig_nbformat": 4,
  "vscode": {
   "interpreter": {
    "hash": "516da04de80167238ea48024668c24cf7cf75725fea03e4c551f9aafb099be3a"
   }
  }
 },
 "nbformat": 4,
 "nbformat_minor": 2
}
