{
 "cells": [
  {
   "cell_type": "code",
   "execution_count": 16,
   "metadata": {},
   "outputs": [],
   "source": [
    "import tkseem as tk\n",
    "from tqdm.notebook import tqdm\n",
    "from sklearn.model_selection import train_test_split\n",
    "\n",
    "from dotless_arabic.processing import process\n",
    "from dotless_arabic.experiments.nlms.src import constants\n",
    "from dotless_arabic.experiments.constants import COLLECT_DATASET\n",
    "from dotless_arabic.experiments.nlms.src.models import LitNeuralLanguageModel\n",
    "from dotless_arabic.experiments.nlms.src.utils import generate_text,get_best_checkpoint,get_tokenizer,get_dataloader\n",
    "from dotless_arabic.tokenizers import WordTokenizer,FarasaMorphologicalTokenizer,DisjointLetterTokenizer,CharacterTokenizer"
   ]
  },
  {
   "cell_type": "code",
   "execution_count": 17,
   "metadata": {},
   "outputs": [],
   "source": [
    "# write the dataset name here :)\n",
    "dataset_name = 'quran'\n",
    "dataset_type = 'dotted'\n",
    "tokenizer_class = DisjointLetterTokenizer"
   ]
  },
  {
   "cell_type": "code",
   "execution_count": 18,
   "metadata": {},
   "outputs": [],
   "source": [
    "dataset = COLLECT_DATASET[dataset_name]()\n",
    "dataset = list(\n",
    "    map(\n",
    "        process,\n",
    "        dataset,\n",
    "    )\n",
    ")"
   ]
  },
  {
   "cell_type": "code",
   "execution_count": 19,
   "metadata": {},
   "outputs": [],
   "source": [
    "train_dataset, test_dataset = train_test_split(\n",
    "        dataset,\n",
    "        shuffle=True,\n",
    "        test_size=constants.TEST_SIZE,\n",
    "        random_state=constants.RANDOM_SEED,\n",
    "    )\n",
    "\n",
    "train_dataset, val_dataset = train_test_split(\n",
    "    train_dataset,\n",
    "    shuffle=True,\n",
    "    test_size=constants.VAL_SIZE,\n",
    "    random_state=constants.RANDOM_SEED,\n",
    ")"
   ]
  },
  {
   "cell_type": "code",
   "execution_count": 20,
   "metadata": {},
   "outputs": [
    {
     "data": {
      "text/plain": [
       "LitNeuralLanguageModel(\n",
       "  (embedding_layer): Embedding(2224, 512)\n",
       "  (gru_layer): GRU(512, 512, num_layers=4, batch_first=True)\n",
       "  (first_dense_layer): Linear(in_features=512, out_features=512, bias=True)\n",
       "  (dropout_layer): Dropout(p=0.333, inplace=False)\n",
       "  (relu): ReLU()\n",
       "  (second_dense_layer): Linear(in_features=512, out_features=2224, bias=True)\n",
       ")"
      ]
     },
     "execution_count": 20,
     "metadata": {},
     "output_type": "execute_result"
    }
   ],
   "source": [
    "model = LitNeuralLanguageModel.load_from_checkpoint(\n",
    "        get_best_checkpoint(\n",
    "                dataset_id=f\"{dataset_type.upper()}-{dataset_name.upper()}_DATASET\",\n",
    "                tokenizer_class=tokenizer_class,\n",
    "        )\n",
    ")\n",
    "model"
   ]
  },
  {
   "cell_type": "code",
   "execution_count": 21,
   "metadata": {},
   "outputs": [
    {
     "name": "stdout",
     "output_type": "stream",
     "text": [
      "Training DisjointLetterTokenizer ...\n"
     ]
    }
   ],
   "source": [
    "tokenizer = get_tokenizer(\n",
    "        train_dataset=train_dataset,\n",
    "        vocab_size=model.vocab_size,\n",
    "        tokenizer_class=tokenizer_class,\n",
    "    )"
   ]
  },
  {
   "cell_type": "code",
   "execution_count": null,
   "metadata": {},
   "outputs": [],
   "source": [
    "t = generate_text(\n",
    "    lm_model=model,\n",
    "    num_tokens=100,\n",
    "    sequence_length=20,\n",
    "    tokenizer=tokenizer,\n",
    ")\n",
    "print(t)"
   ]
  }
 ],
 "metadata": {
  "kernelspec": {
   "display_name": "dotless-arabic",
   "language": "python",
   "name": "python3"
  },
  "language_info": {
   "codemirror_mode": {
    "name": "ipython",
    "version": 3
   },
   "file_extension": ".py",
   "mimetype": "text/x-python",
   "name": "python",
   "nbconvert_exporter": "python",
   "pygments_lexer": "ipython3",
   "version": "3.10.6"
  },
  "orig_nbformat": 4,
  "vscode": {
   "interpreter": {
    "hash": "5256e330910480c51c2a86292ea06783a785bff23f3345acb952af191eac8f89"
   }
  }
 },
 "nbformat": 4,
 "nbformat_minor": 2
}
