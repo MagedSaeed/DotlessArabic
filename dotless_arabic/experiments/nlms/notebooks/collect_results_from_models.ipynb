{
 "cells": [
  {
   "cell_type": "code",
   "execution_count": 1,
   "metadata": {},
   "outputs": [],
   "source": [
    "import tkseem as tk\n",
    "from tqdm.notebook import tqdm\n",
    "from sklearn.model_selection import train_test_split\n",
    "\n",
    "from dotless_arabic.processing import process,undot\n",
    "from dotless_arabic.experiments.nlms.src import constants\n",
    "from dotless_arabic.experiments.constants import COLLECT_DATASET\n",
    "from dotless_arabic.experiments.nlms.src.models import LitNeuralLanguageModel\n",
    "from dotless_arabic.experiments.nlms.src.utils import generate_text,get_best_checkpoint,get_tokenizer,get_dataloader,calculate_perplexity"
   ]
  },
  {
   "cell_type": "code",
   "execution_count": 2,
   "metadata": {},
   "outputs": [],
   "source": [
    "# write the dataset name here :)\n",
    "dataset_name = 'wikipedia'\n",
    "dataset_type = 'undotted'"
   ]
  },
  {
   "cell_type": "code",
   "execution_count": 3,
   "metadata": {},
   "outputs": [
    {
     "data": {
      "application/vnd.jupyter.widget-view+json": {
       "model_id": "fe3993fd4d23462789a488df0c1a922a",
       "version_major": 2,
       "version_minor": 0
      },
      "text/plain": [
       "  0%|          | 0/5609905 [00:00<?, ?it/s]"
      ]
     },
     "metadata": {},
     "output_type": "display_data"
    },
    {
     "data": {
      "application/vnd.jupyter.widget-view+json": {
       "model_id": "cd2b0922058e4dbbbf4047767de0023b",
       "version_major": 2,
       "version_minor": 0
      },
      "text/plain": [
       "  0%|          | 0/5578668 [00:00<?, ?it/s]"
      ]
     },
     "metadata": {},
     "output_type": "display_data"
    },
    {
     "data": {
      "application/vnd.jupyter.widget-view+json": {
       "model_id": "2654cb89a2d148c7964e07ec1cf31753",
       "version_major": 2,
       "version_minor": 0
      },
      "text/plain": [
       "  0%|          | 0/11872890 [00:00<?, ?it/s]"
      ]
     },
     "metadata": {},
     "output_type": "display_data"
    }
   ],
   "source": [
    "dataset = COLLECT_DATASET[dataset_name]()"
   ]
  },
  {
   "cell_type": "code",
   "execution_count": 4,
   "metadata": {},
   "outputs": [
    {
     "data": {
      "application/vnd.jupyter.widget-view+json": {
       "model_id": "53f697bb565f4789aa96adbf6f6d9cd4",
       "version_major": 2,
       "version_minor": 0
      },
      "text/plain": [
       "  0%|          | 0/1469112 [00:00<?, ?it/s]"
      ]
     },
     "metadata": {},
     "output_type": "display_data"
    }
   ],
   "source": [
    "dataset = list(\n",
    "    map(\n",
    "        process,\n",
    "        tqdm(dataset),\n",
    "    )\n",
    ")"
   ]
  },
  {
   "cell_type": "code",
   "execution_count": 7,
   "metadata": {},
   "outputs": [],
   "source": [
    "if dataset_type=='undotted':\n",
    "    dataset = list(\n",
    "        map(\n",
    "            undot,\n",
    "            tqdm(dataset),\n",
    "        )\n",
    "    )"
   ]
  },
  {
   "cell_type": "code",
   "execution_count": null,
   "metadata": {},
   "outputs": [],
   "source": [
    "train_dataset, test_dataset = train_test_split(\n",
    "        dataset,\n",
    "        shuffle=True,\n",
    "        test_size=constants.TEST_SIZE,\n",
    "        random_state=constants.RANDOM_SEED,\n",
    "    )\n",
    "\n",
    "train_dataset, val_dataset = train_test_split(\n",
    "    train_dataset,\n",
    "    shuffle=True,\n",
    "    test_size=constants.VAL_SIZE,\n",
    "    random_state=constants.RANDOM_SEED,\n",
    ")"
   ]
  },
  {
   "cell_type": "code",
   "execution_count": null,
   "metadata": {},
   "outputs": [
    {
     "name": "stderr",
     "output_type": "stream",
     "text": [
      "Lightning automatically upgraded your loaded checkpoint from v1.8.6 to v1.9.0. To apply the upgrade to your files permanently, run `python -m pytorch_lightning.utilities.upgrade_checkpoint --file NLMs/DOTTED-WIKIPEDIA_DATASET/checkpoints/epoch=37-val_loss=5.73-step=372741-WordTokenizer-0.95.ckpt`\n"
     ]
    },
    {
     "data": {
      "text/plain": [
       "LitNeuralLanguageModel(\n",
       "  (embedding_layer): Embedding(103558, 512)\n",
       "  (gru_layer): GRU(512, 512, num_layers=4, batch_first=True)\n",
       "  (first_dense_layer): Linear(in_features=512, out_features=512, bias=True)\n",
       "  (dropout_layer): Dropout(p=0.333, inplace=False)\n",
       "  (relu): ReLU()\n",
       "  (second_dense_layer): Linear(in_features=512, out_features=103558, bias=True)\n",
       ")"
      ]
     },
     "execution_count": 5,
     "metadata": {},
     "output_type": "execute_result"
    }
   ],
   "source": [
    "model = LitNeuralLanguageModel.load_from_checkpoint(\n",
    "        get_best_checkpoint(dataset_id=f\"{dataset_type.upper()}-{dataset_name.upper()}_DATASET\")\n",
    ")\n",
    "model"
   ]
  },
  {
   "cell_type": "code",
   "execution_count": null,
   "metadata": {},
   "outputs": [
    {
     "name": "stdout",
     "output_type": "stream",
     "text": [
      "Training WordTokenizer ...\n"
     ]
    }
   ],
   "source": [
    "tokenizer = get_tokenizer(\n",
    "        train_dataset=train_dataset,\n",
    "        vocab_size=model.vocab_size,\n",
    "        tokenizer_class=tk.WordTokenizer,\n",
    "    )"
   ]
  },
  {
   "cell_type": "code",
   "execution_count": null,
   "metadata": {},
   "outputs": [],
   "source": [
    "sequence_length=128"
   ]
  },
  {
   "cell_type": "code",
   "execution_count": null,
   "metadata": {},
   "outputs": [],
   "source": [
    "training_perplexity = calculate_perplexity(\n",
    "    lm_model=model,\n",
    "    tokenizer=tokenizer,\n",
    "    dataset=train_dataset,\n",
    "    sequence_length=sequence_length,\n",
    "    batch_size=constants.DEFAULT_BATCH_SIZE,\n",
    ")\n",
    "\n",
    "perplexity_with_oovs = calculate_perplexity(\n",
    "    lm_model=model,\n",
    "    tokenizer=tokenizer,\n",
    "    dataset=test_dataset,\n",
    "    sequence_length=sequence_length,\n",
    ")\n",
    "\n",
    "perplexity_without_oovs = calculate_perplexity(\n",
    "    lm_model=model,\n",
    "    tokenizer=tokenizer,\n",
    "    dataset=test_dataset,\n",
    "    sequence_length=sequence_length,\n",
    "    ignore_oovs=True,\n",
    ")"
   ]
  },
  {
   "cell_type": "code",
   "execution_count": null,
   "metadata": {},
   "outputs": [],
   "source": []
  }
 ],
 "metadata": {
  "kernelspec": {
   "display_name": "dotless_arabic",
   "language": "python",
   "name": "python3"
  },
  "language_info": {
   "codemirror_mode": {
    "name": "ipython",
    "version": 3
   },
   "file_extension": ".py",
   "mimetype": "text/x-python",
   "name": "python",
   "nbconvert_exporter": "python",
   "pygments_lexer": "ipython3",
   "version": "3.8.10"
  },
  "orig_nbformat": 4,
  "vscode": {
   "interpreter": {
    "hash": "516da04de80167238ea48024668c24cf7cf75725fea03e4c551f9aafb099be3a"
   }
  }
 },
 "nbformat": 4,
 "nbformat_minor": 2
}
