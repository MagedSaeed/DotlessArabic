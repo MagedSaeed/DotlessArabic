{
 "cells": [
  {
   "cell_type": "markdown",
   "metadata": {
    "id": "LY4-PwQUfh9-"
   },
   "source": [
    "# Useful Resources"
   ]
  },
  {
   "cell_type": "markdown",
   "metadata": {
    "id": "V0Cz27YNfozj"
   },
   "source": [
    "- https://colab.research.google.com/github/bentrevett/pytorch-pos-tagging/blob/master/1_bilstm.ipynb"
   ]
  },
  {
   "cell_type": "markdown",
   "metadata": {
    "id": "VS8VuCfcKbfT"
   },
   "source": [
    "# Prepare"
   ]
  },
  {
   "cell_type": "code",
   "execution_count": 1,
   "metadata": {
    "colab": {
     "base_uri": "https://localhost:8080/"
    },
    "executionInfo": {
     "elapsed": 54428,
     "status": "ok",
     "timestamp": 1685275861807,
     "user": {
      "displayName": "Maged Saeed",
      "userId": "08011552846066909361"
     },
     "user_tz": -180
    },
    "id": "39CWmSk55BoC",
    "outputId": "1d7b3ed0-fabc-47e5-fc12-800307ce25a0"
   },
   "outputs": [],
   "source": [
    "# !pip install -q tqdm\n",
    "# !pip install -q conllu\n",
    "# !pip install -q seaborn\n",
    "# !pip install -q datasets\n",
    "# !pip install -q scikit-learn\n",
    "# !pip install -q pytorch_lightning\n",
    "# !pip install -q git+https://github.com/MagedSaeed/tkseem"
   ]
  },
  {
   "cell_type": "markdown",
   "metadata": {},
   "source": [
    "run the below line when needed, like in jupyter lab to access dotless_arabic folder."
   ]
  },
  {
   "cell_type": "code",
   "execution_count": 2,
   "metadata": {},
   "outputs": [],
   "source": [
    "# %cd ../../../.. "
   ]
  },
  {
   "cell_type": "code",
   "execution_count": 3,
   "metadata": {
    "executionInfo": {
     "elapsed": 7203,
     "status": "ok",
     "timestamp": 1685275869002,
     "user": {
      "displayName": "Maged Saeed",
      "userId": "08011552846066909361"
     },
     "user_tz": -180
    },
    "id": "HN1JpIepKmGK"
   },
   "outputs": [],
   "source": [
    "import re\n",
    "import os\n",
    "import random\n",
    "import string\n",
    "import shutil\n",
    "from pathlib import Path\n",
    "from collections import Counter\n",
    "\n",
    "import nltk\n",
    "from nltk.tokenize import word_tokenize, sent_tokenize\n",
    "from nltk.corpus import stopwords\n",
    "from nltk.stem.wordnet import WordNetLemmatizer\n",
    "\n",
    "from sklearn.model_selection import train_test_split\n",
    "\n",
    "import numpy as np\n",
    "\n",
    "import torch\n",
    "from torch import nn\n",
    "import torch.nn.functional as F\n",
    "from torch.optim import Adam\n",
    "from torch.utils.data import TensorDataset, DataLoader\n",
    "\n",
    "import torchmetrics\n",
    "\n",
    "from pytorch_lightning import seed_everything\n",
    "from pytorch_lightning.loggers import WandbLogger\n",
    "from pytorch_lightning import LightningModule, Trainer\n",
    "from pytorch_lightning.callbacks import (\n",
    "    EarlyStopping,\n",
    "    LearningRateMonitor,\n",
    "    ModelCheckpoint,\n",
    "    Callback,\n",
    "    RichProgressBar,\n",
    ")\n",
    "\n",
    "import datasets\n",
    "import seaborn as sns\n",
    "import matplotlib.pyplot as plt\n",
    "from huggingface_hub import notebook_login\n",
    "\n",
    "\n",
    "import tkseem as tk\n",
    "from tqdm.auto import tqdm\n",
    "\n",
    "from dotless_arabic.processing import undot\n",
    "from dotless_arabic.callbacks import EpochTimerCallback"
   ]
  },
  {
   "cell_type": "code",
   "execution_count": 4,
   "metadata": {
    "executionInfo": {
     "elapsed": 16,
     "status": "ok",
     "timestamp": 1685275869002,
     "user": {
      "displayName": "Maged Saeed",
      "userId": "08011552846066909361"
     },
     "user_tz": -180
    },
    "id": "TXp0EvTO4M5k"
   },
   "outputs": [],
   "source": [
    "seed = 42"
   ]
  },
  {
   "cell_type": "code",
   "execution_count": 5,
   "metadata": {},
   "outputs": [],
   "source": [
    "# notebook_login() # in case of not being logged in, uncomment"
   ]
  },
  {
   "cell_type": "code",
   "execution_count": 6,
   "metadata": {
    "colab": {
     "base_uri": "https://localhost:8080/"
    },
    "executionInfo": {
     "elapsed": 16,
     "status": "ok",
     "timestamp": 1685275869003,
     "user": {
      "displayName": "Maged Saeed",
      "userId": "08011552846066909361"
     },
     "user_tz": -180
    },
    "id": "03z4VVT_4Fkj",
    "outputId": "74ac0e7b-419f-4f18-f5c1-60d0d31e9b51"
   },
   "outputs": [
    {
     "name": "stderr",
     "output_type": "stream",
     "text": [
      "Global seed set to 42\n"
     ]
    },
    {
     "data": {
      "text/plain": [
       "42"
      ]
     },
     "execution_count": 6,
     "metadata": {},
     "output_type": "execute_result"
    }
   ],
   "source": [
    "# random.seed(seed)     # python random generator\n",
    "# np.random.seed(seed)  # numpy random generator\n",
    "\n",
    "# torch.manual_seed(seed)\n",
    "# torch.cuda.manual_seed_all(seed)\n",
    "\n",
    "# torch.backends.cudnn.deterministic = True\n",
    "# torch.backends.cudnn.benchmark = False\n",
    "\n",
    "seed_everything(seed)"
   ]
  },
  {
   "cell_type": "code",
   "execution_count": 7,
   "metadata": {
    "executionInfo": {
     "elapsed": 14,
     "status": "ok",
     "timestamp": 1685275869003,
     "user": {
      "displayName": "Maged Saeed",
      "userId": "08011552846066909361"
     },
     "user_tz": -180
    },
    "id": "Qo34pIc0gQzd"
   },
   "outputs": [],
   "source": [
    "tqdm.pandas()"
   ]
  },
  {
   "cell_type": "code",
   "execution_count": 8,
   "metadata": {
    "colab": {
     "base_uri": "https://localhost:8080/"
    },
    "executionInfo": {
     "elapsed": 1191,
     "status": "ok",
     "timestamp": 1685275870181,
     "user": {
      "displayName": "Maged Saeed",
      "userId": "08011552846066909361"
     },
     "user_tz": -180
    },
    "id": "_UO3v-U3Zytp",
    "outputId": "6f99837a-189d-4801-9dd3-4450aed1fdcd"
   },
   "outputs": [
    {
     "name": "stderr",
     "output_type": "stream",
     "text": [
      "[nltk_data] Downloading package stopwords to\n",
      "[nltk_data]     /home/majed_alshaibani/nltk_data...\n",
      "[nltk_data]   Package stopwords is already up-to-date!\n"
     ]
    }
   ],
   "source": [
    "nltk.download('stopwords')\n",
    "stopwords = set(stopwords.words('arabic'))"
   ]
  },
  {
   "cell_type": "markdown",
   "metadata": {
    "id": "iIrleOV9KjxL"
   },
   "source": [
    "# Load and explore the dataset"
   ]
  },
  {
   "cell_type": "code",
   "execution_count": 9,
   "metadata": {
    "colab": {
     "base_uri": "https://localhost:8080/",
     "height": 0,
     "referenced_widgets": [
      "e2979a514f2b42119e374bc64f2d49b7",
      "8f0273acad6b4c728012e6e116a0006b",
      "cd49b5a481f54e32aa9e1123ea6eb793",
      "d50fefde2dc84d9097116ded6639acd5",
      "7bf8dab5946a4aad941c89993e593801",
      "ea3fc470b4a74c438ff7a64d7f03f1ea",
      "defed4724a1b402fb8e56ece7f841e3f",
      "3fc565c08ea647ba87a8748f7d00b81b",
      "c6e343467f5a4607a22985b3950fbdfb",
      "ff5d31ddb0e44f84b7d9da7907bff8f3",
      "cb1d10c3dbfb47029325336ded631c47",
      "2bcd30c0e8f94b5c9f9aaf5610ac4e2a",
      "fc61d61584314c5d93614b40c06428c8",
      "121abef2b9a44c2d8974b0f4c6284a2b",
      "535b4404404f46bda8dad78edeeb41fa",
      "323d362c13eb400c831f38d06845d72b",
      "4a6918923c264bcda463ee3f410872fa",
      "2b47fbc9cae24c38afdaf9ed8c29456f",
      "a64d0df4b18c4315aee82637953868e9",
      "61bcfdec7fa14db88182c0c16ddd15be",
      "cb49c67cba7f43129e46919acf5fa4e9",
      "0d6a0e18bbe84f92b3e3f86df68a8b6a",
      "06f5d86c42b44b0490395a585057fffe",
      "8d9e2ec5bfec46dfb9327beb906b5fd9",
      "995d8161c17b4e8290f476f4bc55d251",
      "d3865ff8a84e4dd0be2c8444e7dcc0ec",
      "a9bd85ac40b1498e932784d317c1676f",
      "851be3dc630c42ad9ca98da925c75b09",
      "7bd8217781fb4062a37d676fc6d50960",
      "e4c04d286acc4761b2dbee65b4db248e",
      "9d344960a2f642c9a6ab3a75daabc0ad",
      "3677516f903040f99074d2de79775225",
      "6363578ba36c44e1882c34f8aab01ac3",
      "f6415a58dbdf4b429c36150cd297e566",
      "4a1236eb5b5447aa9586212401c592f3",
      "9bf768637a0a46ce81621c074a174be8",
      "0bb71be12a5b490b9132e44b4fcacfe1",
      "906aec71ae43495797f53659975f781a",
      "bbbb5ef2cab1429ea9bee9621862c7c6",
      "66a09ad4f4f845169a8706dd29351b1a",
      "9083254cdc704232876c6807bba07a8e",
      "ee845f06190548f8bd5065bc9be46a6b",
      "78c7d8f78b744338b9994e65954b19ea",
      "fded4cba2abd4b4e9c5afd235cbd1478",
      "74e8f6dc3b404704a844e4113f306385",
      "69e72359f441444f9bb7f490f164ab21",
      "acb99c129ffa4745bc69632df1f381fd",
      "a753cb998af641eaa21859c1caabcf6e",
      "3b43c4ca4af64d11ace2fef4c890e541",
      "c8e5ba572d4044ba9c4305102511b841",
      "48071fc8b2fc43b69d2ab399172e5d04",
      "c62c5ac64f5d45b2aab9c5e51036d80c",
      "d2e52e7e6bf342e79789bc7db7af7cfc",
      "2f48bf60314746c09b08a5707150bd9c",
      "e66ec8ff0e924ebdaddc947abfbf5b15",
      "616b74145e194050b36e512fd497fc81",
      "759f759483c044258ce7550b60a00208",
      "c009b475b0074b2898c07a3b0a93e2dd",
      "c218a1cb95dd436ba22d4bfc3debcd2f",
      "5851279aabb54d1c9d66d0e680529959",
      "712cec177b21448a8fed670de1d5287a",
      "c9f37726d6434bc5a7513fd248e25820",
      "ee5ba72549ec4af0995993f8d015facf",
      "970e2bea4a6e485785917d4281b0b45a",
      "97e5f4e4ee694213942e31e7f1df78f8",
      "21d7fc6cc45749b582622b0589374242",
      "8ea3305c2aee4afe84c8e07eb1da9c48",
      "e1eeab2cad224dfaa881304931572e5d",
      "094655900e374a369aabcb20e0eb1061",
      "09466b32df234221b9c0ca702c7015b5",
      "feb78c53d9ee412e9e0af812de0a7560",
      "271ed5e21a6d42a1a4a017e116b71dba",
      "c1c3c67cf4ec4fabbfb5242009e594bc",
      "4bd9efd5357944eb8fea8fb04f8bcc7e",
      "b5c218b637f14606925fea044ad8beb2",
      "63b983bd052a4299a1207925e8a4dca7",
      "6aa45a31a43f4c7991d759ceda566132",
      "5484c678765249b29a4b7e07bab88d67",
      "7fe7e1cde16b4dc8a2d5194fda344cfc",
      "f9807cf880d841ac84e9dda37ada5747",
      "0ef7bfe7a0ac4fa69ce75656f530f15c",
      "fa035d97befc4f9f8648d9e02f576f02",
      "d06f5a41a0da44649cdf870ca187e547",
      "e3835a121c9b47e2b0879628d77e388b",
      "6b18fa2cf2494ef09f0ba29985497857",
      "320d20c5e909497692545ed9cdefec3f",
      "0e4b14eba5b142d18f89f591347a5f9e",
      "a0f0b7d3603445bbb65e397280e69794",
      "51a5ec9adecc4eb793e9a9090885d7a7",
      "ca19591676074791b42b435795917045",
      "4ba40e791b3e429abdf86c4aa84fe989",
      "54260a9dcf064adcb7915a7340658e0d",
      "fa64a8b0601f4c8d8c506390c3c2a584",
      "52be7b8cf8144165816c49cffacc0777",
      "56f01253a41d4dc7a80a7d5a353eba70",
      "4595bb66771b4bcb9bf0219f73259074",
      "f6a2abd030594fa787c0021aacacc578",
      "6fcf6128231f42488d92bcb5a3b92bf8",
      "8adde9779897455492f1e40e5674f770",
      "efcbc3ace0b44dee942f41b5c82b9d3e",
      "ae582fcc2f544010bc94e85f08d3b82e",
      "999cb9014174418398a3ce33dbc9261a",
      "5de0cc3cd2f74408b0ddaabd40fad7a1",
      "23cbccbec18147c79190dd2c978d541f",
      "e2d55b7a965047a6b126a2e83f4f74d6",
      "920d8aca8ef246d9bd3de2328849c89c",
      "1563858920f446ff9b075a873d5c5a5a",
      "7e83bd60975447b8acd0664a14330004",
      "3b24be90c13d4a1a90fc96fc47d05021",
      "5caaa9d81f43432688f64b183c02bcd9",
      "f0abf9c5d1c4479484fbd829b044b507",
      "a893a9ca9f104de29a762705bedc599c",
      "c2dd8253850242f8bb7f0ec0dfdaa406",
      "9d78e21b2b824960a2972277aef9c4ea",
      "fc7e9ea2a3fe40468449a4ee04e61caf",
      "b6323b54b8c74ada85aa9c15c8164501",
      "286ced52ee8944ab90828589d4a80369",
      "cbd99185eac34c5289d097a1c65baa01",
      "1530d6b61e3542069b868964ad50dd93",
      "47b489d13bc946c0b0144d7c647b1d61",
      "49ec54c1c3a2430190aed23bc989d27d",
      "41b6d478fad44df5a6cee22cb71c7f18",
      "950cf711153a4c35b93b2affadb62caa",
      "991c9a7172b5474196bdc5d5b79764f6",
      "5fc27b2ff7ae40e086b49d64585cfbed",
      "eac5447dab3a4dc998654ee46b200f93",
      "16b6f291113b450993cdd26d97c43ff1",
      "9f7f234ae6a94a3eae90d80ac8aeb801",
      "7d47c92a3185420e87403476b589fdb3",
      "b4d79c6c8378434cbe32348e9a2f2c7e",
      "9756714acb0f4cf9aa4d841118da9404",
      "1e3fe92793c443e18b38b95e36e144c3"
     ]
    },
    "executionInfo": {
     "elapsed": 20834,
     "status": "ok",
     "timestamp": 1685275891012,
     "user": {
      "displayName": "Maged Saeed",
      "userId": "08011552846066909361"
     },
     "user_tz": -180
    },
    "id": "0DvzUNkJKg0p",
    "outputId": "20518c40-f4cb-4630-c8ca-e4977c999f0f"
   },
   "outputs": [
    {
     "data": {
      "text/plain": [
       "Dataset({\n",
       "    features: ['tokens', 'tags', 'tags_labels'],\n",
       "    num_rows: 3972\n",
       "})"
      ]
     },
     "execution_count": 9,
     "metadata": {},
     "output_type": "execute_result"
    }
   ],
   "source": [
    "# make sure to login to huggingface and replace MagedSaeed with your name as the dataset is private\n",
    "train_dataset = datasets.concatenate_datasets([\n",
    "  datasets.load_dataset(\"MagedSaeed/ANERcorp\")['train'],\n",
    "])\n",
    "train_dataset"
   ]
  },
  {
   "cell_type": "code",
   "execution_count": 10,
   "metadata": {},
   "outputs": [
    {
     "data": {
      "text/plain": [
       "(Dataset({\n",
       "     features: ['tokens', 'tags', 'tags_labels'],\n",
       "     num_rows: 3574\n",
       " }),\n",
       " Dataset({\n",
       "     features: ['tokens', 'tags', 'tags_labels'],\n",
       "     num_rows: 398\n",
       " }))"
      ]
     },
     "execution_count": 10,
     "metadata": {},
     "output_type": "execute_result"
    }
   ],
   "source": [
    "train_validation_dataset = train_dataset.train_test_split(test_size=0.1,seed=seed,shuffle=True)\n",
    "train_dataset = train_validation_dataset['train']\n",
    "validation_dataset = train_validation_dataset['test']\n",
    "train_dataset,validation_dataset"
   ]
  },
  {
   "cell_type": "code",
   "execution_count": 11,
   "metadata": {
    "colab": {
     "base_uri": "https://localhost:8080/",
     "height": 0,
     "referenced_widgets": [
      "efc595fd652c4846b2d2162caaa7183a",
      "03e07c79eca441528303bd61ac949a26",
      "f281d5b2429345cf9d02420245cea309",
      "d2a135758f1e469190042e1818465dbd",
      "01b1eda0c9434ea2b8887ee95f5ffe6f",
      "e5de640ff6e348aeabbdb898e96b0ecc",
      "807dc682cce8408b954317375b4a6697",
      "cc4b6a0c03894307b5cd256fac80ac66",
      "2e2c71866acf462c82b4dd2108d48e9f",
      "32377f8f1f7e45129d6991180ee24171",
      "e112201593dd49f09f4eddfc29b52072"
     ]
    },
    "executionInfo": {
     "elapsed": 2268,
     "status": "ok",
     "timestamp": 1685275895608,
     "user": {
      "displayName": "Maged Saeed",
      "userId": "08011552846066909361"
     },
     "user_tz": -180
    },
    "id": "ph0Lk02K0vOL",
    "outputId": "6406cdef-76a8-43f9-8e11-65f687de14e2"
   },
   "outputs": [
    {
     "data": {
      "text/plain": [
       "Dataset({\n",
       "    features: ['tokens', 'tags', 'tags_labels'],\n",
       "    num_rows: 924\n",
       "})"
      ]
     },
     "execution_count": 11,
     "metadata": {},
     "output_type": "execute_result"
    }
   ],
   "source": [
    "# make sure to login to huggingface and replace MagedSaeed with your name as the dataset is private\n",
    "test_dataset = datasets.concatenate_datasets([\n",
    "datasets.load_dataset(\"MagedSaeed/ANERcorp\")['test'],\n",
    "])\n",
    "test_dataset"
   ]
  },
  {
   "cell_type": "markdown",
   "metadata": {
    "id": "HxDBQd9BLbCY"
   },
   "source": [
    "Converting to Pandas and droping duplicates"
   ]
  },
  {
   "cell_type": "code",
   "execution_count": 12,
   "metadata": {
    "colab": {
     "base_uri": "https://localhost:8080/",
     "height": 0
    },
    "executionInfo": {
     "elapsed": 338,
     "status": "ok",
     "timestamp": 1685275895942,
     "user": {
      "displayName": "Maged Saeed",
      "userId": "08011552846066909361"
     },
     "user_tz": -180
    },
    "id": "8CRi_jniLYKy",
    "outputId": "8f095d8b-fb6a-4579-fb85-385598dfd379"
   },
   "outputs": [
    {
     "data": {
      "text/html": [
       "<div>\n",
       "<style scoped>\n",
       "    .dataframe tbody tr th:only-of-type {\n",
       "        vertical-align: middle;\n",
       "    }\n",
       "\n",
       "    .dataframe tbody tr th {\n",
       "        vertical-align: top;\n",
       "    }\n",
       "\n",
       "    .dataframe thead th {\n",
       "        text-align: right;\n",
       "    }\n",
       "</style>\n",
       "<table border=\"1\" class=\"dataframe\">\n",
       "  <thead>\n",
       "    <tr style=\"text-align: right;\">\n",
       "      <th></th>\n",
       "      <th>tokens</th>\n",
       "      <th>tags</th>\n",
       "      <th>tags_labels</th>\n",
       "    </tr>\n",
       "  </thead>\n",
       "  <tbody>\n",
       "    <tr>\n",
       "      <th>0</th>\n",
       "      <td>[واعاد, راوول, الفارق, الى, سابق, عهده, عندما,...</td>\n",
       "      <td>[O, B-PERS, O, O, O, O, O, O, O, O, O, O, O, B...</td>\n",
       "      <td>[0, 4, 0, 0, 0, 0, 0, 0, 0, 0, 0, 0, 0, 1, 0, ...</td>\n",
       "    </tr>\n",
       "    <tr>\n",
       "      <th>1</th>\n",
       "      <td>[وبحسب, الصحيفة, فإن, شركة, طيران, ريان, إير, ...</td>\n",
       "      <td>[O, O, O, O, O, B-ORG, I-ORG, O, O, O, O, O, O]</td>\n",
       "      <td>[0, 0, 0, 0, 0, 7, 2, 0, 0, 0, 0, 0, 0]</td>\n",
       "    </tr>\n",
       "    <tr>\n",
       "      <th>2</th>\n",
       "      <td>[4, ليتر, يولدان, قوة, 110أحصنة, و148حصاناً, ع...</td>\n",
       "      <td>[O, O, O, O, O, O, O, O, O]</td>\n",
       "      <td>[0, 0, 0, 0, 0, 0, 0, 0, 0]</td>\n",
       "    </tr>\n",
       "    <tr>\n",
       "      <th>3</th>\n",
       "      <td>[وفقدت, البرازيل, لقبها, بطلة, للعالم, بخسارته...</td>\n",
       "      <td>[O, B-LOC, O, O, O, O, O, B-LOC, O, O, O, O, O...</td>\n",
       "      <td>[0, 1, 0, 0, 0, 0, 0, 1, 0, 0, 0, 0, 0, 0, 0]</td>\n",
       "    </tr>\n",
       "    <tr>\n",
       "      <th>4</th>\n",
       "      <td>[واعتبر, ان, \", سسياستنا, الدبلوماسية, تهدف, ب...</td>\n",
       "      <td>[O, O, O, O, O, O, O, O, O, O, O, O, O, O, O, ...</td>\n",
       "      <td>[0, 0, 0, 0, 0, 0, 0, 0, 0, 0, 0, 0, 0, 0, 0, ...</td>\n",
       "    </tr>\n",
       "    <tr>\n",
       "      <th>...</th>\n",
       "      <td>...</td>\n",
       "      <td>...</td>\n",
       "      <td>...</td>\n",
       "    </tr>\n",
       "    <tr>\n",
       "      <th>3569</th>\n",
       "      <td>[وكانت, هذه, هي, اخر, مباراة, في, جولة, النادي...</td>\n",
       "      <td>[O, O, O, O, O, O, O, O, O, O, O, O, O, O, B-O...</td>\n",
       "      <td>[0, 0, 0, 0, 0, 0, 0, 0, 0, 0, 0, 0, 0, 0, 7, ...</td>\n",
       "    </tr>\n",
       "    <tr>\n",
       "      <th>3570</th>\n",
       "      <td>[ولقد, ظلت, ثورة, الملك, والشعب, النبراس, الذي...</td>\n",
       "      <td>[O, O, O, O, O, O, O, O, O, O, O, O, O, O, O, ...</td>\n",
       "      <td>[0, 0, 0, 0, 0, 0, 0, 0, 0, 0, 0, 0, 0, 0, 0, ...</td>\n",
       "    </tr>\n",
       "    <tr>\n",
       "      <th>3571</th>\n",
       "      <td>[لأنهم, بدلاء, للسلطة, «, .]</td>\n",
       "      <td>[O, O, O, O, O]</td>\n",
       "      <td>[0, 0, 0, 0, 0]</td>\n",
       "    </tr>\n",
       "    <tr>\n",
       "      <th>3572</th>\n",
       "      <td>[فقال, :, -, نجيب, محفوظ, ترك, أثره, على, الجم...</td>\n",
       "      <td>[O, O, O, B-PERS, I-PERS, O, O, O, O, O, O, O,...</td>\n",
       "      <td>[0, 0, 0, 4, 5, 0, 0, 0, 0, 0, 0, 0, 0, 0, 0, ...</td>\n",
       "    </tr>\n",
       "    <tr>\n",
       "      <th>3573</th>\n",
       "      <td>[ويشارك, في, هذه, البطولة, العالمية28, عداء, (...</td>\n",
       "      <td>[O, O, O, O, O, O, O, O, O, O, O, O, O, O, O, ...</td>\n",
       "      <td>[0, 0, 0, 0, 0, 0, 0, 0, 0, 0, 0, 0, 0, 0, 0, ...</td>\n",
       "    </tr>\n",
       "  </tbody>\n",
       "</table>\n",
       "<p>3574 rows × 3 columns</p>\n",
       "</div>"
      ],
      "text/plain": [
       "                                                 tokens  \\\n",
       "0     [واعاد, راوول, الفارق, الى, سابق, عهده, عندما,...   \n",
       "1     [وبحسب, الصحيفة, فإن, شركة, طيران, ريان, إير, ...   \n",
       "2     [4, ليتر, يولدان, قوة, 110أحصنة, و148حصاناً, ع...   \n",
       "3     [وفقدت, البرازيل, لقبها, بطلة, للعالم, بخسارته...   \n",
       "4     [واعتبر, ان, \", سسياستنا, الدبلوماسية, تهدف, ب...   \n",
       "...                                                 ...   \n",
       "3569  [وكانت, هذه, هي, اخر, مباراة, في, جولة, النادي...   \n",
       "3570  [ولقد, ظلت, ثورة, الملك, والشعب, النبراس, الذي...   \n",
       "3571                       [لأنهم, بدلاء, للسلطة, «, .]   \n",
       "3572  [فقال, :, -, نجيب, محفوظ, ترك, أثره, على, الجم...   \n",
       "3573  [ويشارك, في, هذه, البطولة, العالمية28, عداء, (...   \n",
       "\n",
       "                                                   tags  \\\n",
       "0     [O, B-PERS, O, O, O, O, O, O, O, O, O, O, O, B...   \n",
       "1       [O, O, O, O, O, B-ORG, I-ORG, O, O, O, O, O, O]   \n",
       "2                           [O, O, O, O, O, O, O, O, O]   \n",
       "3     [O, B-LOC, O, O, O, O, O, B-LOC, O, O, O, O, O...   \n",
       "4     [O, O, O, O, O, O, O, O, O, O, O, O, O, O, O, ...   \n",
       "...                                                 ...   \n",
       "3569  [O, O, O, O, O, O, O, O, O, O, O, O, O, O, B-O...   \n",
       "3570  [O, O, O, O, O, O, O, O, O, O, O, O, O, O, O, ...   \n",
       "3571                                    [O, O, O, O, O]   \n",
       "3572  [O, O, O, B-PERS, I-PERS, O, O, O, O, O, O, O,...   \n",
       "3573  [O, O, O, O, O, O, O, O, O, O, O, O, O, O, O, ...   \n",
       "\n",
       "                                            tags_labels  \n",
       "0     [0, 4, 0, 0, 0, 0, 0, 0, 0, 0, 0, 0, 0, 1, 0, ...  \n",
       "1               [0, 0, 0, 0, 0, 7, 2, 0, 0, 0, 0, 0, 0]  \n",
       "2                           [0, 0, 0, 0, 0, 0, 0, 0, 0]  \n",
       "3         [0, 1, 0, 0, 0, 0, 0, 1, 0, 0, 0, 0, 0, 0, 0]  \n",
       "4     [0, 0, 0, 0, 0, 0, 0, 0, 0, 0, 0, 0, 0, 0, 0, ...  \n",
       "...                                                 ...  \n",
       "3569  [0, 0, 0, 0, 0, 0, 0, 0, 0, 0, 0, 0, 0, 0, 7, ...  \n",
       "3570  [0, 0, 0, 0, 0, 0, 0, 0, 0, 0, 0, 0, 0, 0, 0, ...  \n",
       "3571                                    [0, 0, 0, 0, 0]  \n",
       "3572  [0, 0, 0, 4, 5, 0, 0, 0, 0, 0, 0, 0, 0, 0, 0, ...  \n",
       "3573  [0, 0, 0, 0, 0, 0, 0, 0, 0, 0, 0, 0, 0, 0, 0, ...  \n",
       "\n",
       "[3574 rows x 3 columns]"
      ]
     },
     "execution_count": 12,
     "metadata": {},
     "output_type": "execute_result"
    }
   ],
   "source": [
    "train_dataset = train_dataset.to_pandas()\n",
    "train_dataset"
   ]
  },
  {
   "cell_type": "code",
   "execution_count": 13,
   "metadata": {
    "colab": {
     "base_uri": "https://localhost:8080/",
     "height": 0
    },
    "executionInfo": {
     "elapsed": 25,
     "status": "ok",
     "timestamp": 1685275895943,
     "user": {
      "displayName": "Maged Saeed",
      "userId": "08011552846066909361"
     },
     "user_tz": -180
    },
    "id": "fo3WaZ2pNjZZ",
    "outputId": "0c1d005a-30fe-4eb1-8136-fcab4714716d"
   },
   "outputs": [
    {
     "data": {
      "text/html": [
       "<div>\n",
       "<style scoped>\n",
       "    .dataframe tbody tr th:only-of-type {\n",
       "        vertical-align: middle;\n",
       "    }\n",
       "\n",
       "    .dataframe tbody tr th {\n",
       "        vertical-align: top;\n",
       "    }\n",
       "\n",
       "    .dataframe thead th {\n",
       "        text-align: right;\n",
       "    }\n",
       "</style>\n",
       "<table border=\"1\" class=\"dataframe\">\n",
       "  <thead>\n",
       "    <tr style=\"text-align: right;\">\n",
       "      <th></th>\n",
       "      <th>tokens</th>\n",
       "      <th>tags</th>\n",
       "      <th>tags_labels</th>\n",
       "    </tr>\n",
       "  </thead>\n",
       "  <tbody>\n",
       "    <tr>\n",
       "      <th>0</th>\n",
       "      <td>[واعاد, راوول, الفارق, الى, سابق, عهده, عندما,...</td>\n",
       "      <td>[O, B-PERS, O, O, O, O, O, O, O, O, O, O, O, B...</td>\n",
       "      <td>[0, 4, 0, 0, 0, 0, 0, 0, 0, 0, 0, 0, 0, 1, 0, ...</td>\n",
       "    </tr>\n",
       "    <tr>\n",
       "      <th>1</th>\n",
       "      <td>[وبحسب, الصحيفة, فإن, شركة, طيران, ريان, إير, ...</td>\n",
       "      <td>[O, O, O, O, O, B-ORG, I-ORG, O, O, O, O, O, O]</td>\n",
       "      <td>[0, 0, 0, 0, 0, 7, 2, 0, 0, 0, 0, 0, 0]</td>\n",
       "    </tr>\n",
       "    <tr>\n",
       "      <th>2</th>\n",
       "      <td>[4, ليتر, يولدان, قوة, 110أحصنة, و148حصاناً, ع...</td>\n",
       "      <td>[O, O, O, O, O, O, O, O, O]</td>\n",
       "      <td>[0, 0, 0, 0, 0, 0, 0, 0, 0]</td>\n",
       "    </tr>\n",
       "    <tr>\n",
       "      <th>3</th>\n",
       "      <td>[وفقدت, البرازيل, لقبها, بطلة, للعالم, بخسارته...</td>\n",
       "      <td>[O, B-LOC, O, O, O, O, O, B-LOC, O, O, O, O, O...</td>\n",
       "      <td>[0, 1, 0, 0, 0, 0, 0, 1, 0, 0, 0, 0, 0, 0, 0]</td>\n",
       "    </tr>\n",
       "    <tr>\n",
       "      <th>4</th>\n",
       "      <td>[واعتبر, ان, \", سسياستنا, الدبلوماسية, تهدف, ب...</td>\n",
       "      <td>[O, O, O, O, O, O, O, O, O, O, O, O, O, O, O, ...</td>\n",
       "      <td>[0, 0, 0, 0, 0, 0, 0, 0, 0, 0, 0, 0, 0, 0, 0, ...</td>\n",
       "    </tr>\n",
       "    <tr>\n",
       "      <th>...</th>\n",
       "      <td>...</td>\n",
       "      <td>...</td>\n",
       "      <td>...</td>\n",
       "    </tr>\n",
       "    <tr>\n",
       "      <th>3569</th>\n",
       "      <td>[وكانت, هذه, هي, اخر, مباراة, في, جولة, النادي...</td>\n",
       "      <td>[O, O, O, O, O, O, O, O, O, O, O, O, O, O, B-O...</td>\n",
       "      <td>[0, 0, 0, 0, 0, 0, 0, 0, 0, 0, 0, 0, 0, 0, 7, ...</td>\n",
       "    </tr>\n",
       "    <tr>\n",
       "      <th>3570</th>\n",
       "      <td>[ولقد, ظلت, ثورة, الملك, والشعب, النبراس, الذي...</td>\n",
       "      <td>[O, O, O, O, O, O, O, O, O, O, O, O, O, O, O, ...</td>\n",
       "      <td>[0, 0, 0, 0, 0, 0, 0, 0, 0, 0, 0, 0, 0, 0, 0, ...</td>\n",
       "    </tr>\n",
       "    <tr>\n",
       "      <th>3571</th>\n",
       "      <td>[لأنهم, بدلاء, للسلطة, «, .]</td>\n",
       "      <td>[O, O, O, O, O]</td>\n",
       "      <td>[0, 0, 0, 0, 0]</td>\n",
       "    </tr>\n",
       "    <tr>\n",
       "      <th>3572</th>\n",
       "      <td>[فقال, :, -, نجيب, محفوظ, ترك, أثره, على, الجم...</td>\n",
       "      <td>[O, O, O, B-PERS, I-PERS, O, O, O, O, O, O, O,...</td>\n",
       "      <td>[0, 0, 0, 4, 5, 0, 0, 0, 0, 0, 0, 0, 0, 0, 0, ...</td>\n",
       "    </tr>\n",
       "    <tr>\n",
       "      <th>3573</th>\n",
       "      <td>[ويشارك, في, هذه, البطولة, العالمية28, عداء, (...</td>\n",
       "      <td>[O, O, O, O, O, O, O, O, O, O, O, O, O, O, O, ...</td>\n",
       "      <td>[0, 0, 0, 0, 0, 0, 0, 0, 0, 0, 0, 0, 0, 0, 0, ...</td>\n",
       "    </tr>\n",
       "  </tbody>\n",
       "</table>\n",
       "<p>3574 rows × 3 columns</p>\n",
       "</div>"
      ],
      "text/plain": [
       "                                                 tokens  \\\n",
       "0     [واعاد, راوول, الفارق, الى, سابق, عهده, عندما,...   \n",
       "1     [وبحسب, الصحيفة, فإن, شركة, طيران, ريان, إير, ...   \n",
       "2     [4, ليتر, يولدان, قوة, 110أحصنة, و148حصاناً, ع...   \n",
       "3     [وفقدت, البرازيل, لقبها, بطلة, للعالم, بخسارته...   \n",
       "4     [واعتبر, ان, \", سسياستنا, الدبلوماسية, تهدف, ب...   \n",
       "...                                                 ...   \n",
       "3569  [وكانت, هذه, هي, اخر, مباراة, في, جولة, النادي...   \n",
       "3570  [ولقد, ظلت, ثورة, الملك, والشعب, النبراس, الذي...   \n",
       "3571                       [لأنهم, بدلاء, للسلطة, «, .]   \n",
       "3572  [فقال, :, -, نجيب, محفوظ, ترك, أثره, على, الجم...   \n",
       "3573  [ويشارك, في, هذه, البطولة, العالمية28, عداء, (...   \n",
       "\n",
       "                                                   tags  \\\n",
       "0     [O, B-PERS, O, O, O, O, O, O, O, O, O, O, O, B...   \n",
       "1       [O, O, O, O, O, B-ORG, I-ORG, O, O, O, O, O, O]   \n",
       "2                           [O, O, O, O, O, O, O, O, O]   \n",
       "3     [O, B-LOC, O, O, O, O, O, B-LOC, O, O, O, O, O...   \n",
       "4     [O, O, O, O, O, O, O, O, O, O, O, O, O, O, O, ...   \n",
       "...                                                 ...   \n",
       "3569  [O, O, O, O, O, O, O, O, O, O, O, O, O, O, B-O...   \n",
       "3570  [O, O, O, O, O, O, O, O, O, O, O, O, O, O, O, ...   \n",
       "3571                                    [O, O, O, O, O]   \n",
       "3572  [O, O, O, B-PERS, I-PERS, O, O, O, O, O, O, O,...   \n",
       "3573  [O, O, O, O, O, O, O, O, O, O, O, O, O, O, O, ...   \n",
       "\n",
       "                                            tags_labels  \n",
       "0     [0, 4, 0, 0, 0, 0, 0, 0, 0, 0, 0, 0, 0, 1, 0, ...  \n",
       "1               [0, 0, 0, 0, 0, 7, 2, 0, 0, 0, 0, 0, 0]  \n",
       "2                           [0, 0, 0, 0, 0, 0, 0, 0, 0]  \n",
       "3         [0, 1, 0, 0, 0, 0, 0, 1, 0, 0, 0, 0, 0, 0, 0]  \n",
       "4     [0, 0, 0, 0, 0, 0, 0, 0, 0, 0, 0, 0, 0, 0, 0, ...  \n",
       "...                                                 ...  \n",
       "3569  [0, 0, 0, 0, 0, 0, 0, 0, 0, 0, 0, 0, 0, 0, 7, ...  \n",
       "3570  [0, 0, 0, 0, 0, 0, 0, 0, 0, 0, 0, 0, 0, 0, 0, ...  \n",
       "3571                                    [0, 0, 0, 0, 0]  \n",
       "3572  [0, 0, 0, 4, 5, 0, 0, 0, 0, 0, 0, 0, 0, 0, 0, ...  \n",
       "3573  [0, 0, 0, 0, 0, 0, 0, 0, 0, 0, 0, 0, 0, 0, 0, ...  \n",
       "\n",
       "[3574 rows x 3 columns]"
      ]
     },
     "execution_count": 13,
     "metadata": {},
     "output_type": "execute_result"
    }
   ],
   "source": [
    "train_dataset = train_dataset.drop_duplicates(subset=['tokens'],keep='first').copy()\n",
    "train_dataset"
   ]
  },
  {
   "cell_type": "code",
   "execution_count": 14,
   "metadata": {
    "colab": {
     "base_uri": "https://localhost:8080/",
     "height": 0
    },
    "executionInfo": {
     "elapsed": 21,
     "status": "ok",
     "timestamp": 1685275895943,
     "user": {
      "displayName": "Maged Saeed",
      "userId": "08011552846066909361"
     },
     "user_tz": -180
    },
    "id": "13gpA1nmBrup",
    "outputId": "1ccb536a-8926-45b8-c8de-296cf5791dfd"
   },
   "outputs": [
    {
     "data": {
      "text/html": [
       "<div>\n",
       "<style scoped>\n",
       "    .dataframe tbody tr th:only-of-type {\n",
       "        vertical-align: middle;\n",
       "    }\n",
       "\n",
       "    .dataframe tbody tr th {\n",
       "        vertical-align: top;\n",
       "    }\n",
       "\n",
       "    .dataframe thead th {\n",
       "        text-align: right;\n",
       "    }\n",
       "</style>\n",
       "<table border=\"1\" class=\"dataframe\">\n",
       "  <thead>\n",
       "    <tr style=\"text-align: right;\">\n",
       "      <th></th>\n",
       "      <th>tokens</th>\n",
       "      <th>tags</th>\n",
       "      <th>tags_labels</th>\n",
       "    </tr>\n",
       "  </thead>\n",
       "  <tbody>\n",
       "    <tr>\n",
       "      <th>0</th>\n",
       "      <td>[بعد, هزيمته, في, الدورة, الأولى, في, ديربي, ع...</td>\n",
       "      <td>[O, O, O, O, O, O, B-MISC, B-LOC, B-LOC, O, B-...</td>\n",
       "      <td>[0, 0, 0, 0, 0, 0, 8, 1, 1, 0, 7, 2, 0, 0, 7, ...</td>\n",
       "    </tr>\n",
       "    <tr>\n",
       "      <th>1</th>\n",
       "      <td>[وكان, جلالة, الملك, محمد, السادس, وصاحب, السم...</td>\n",
       "      <td>[O, O, O, B-PERS, I-PERS, O, O, O, O, O, B-PER...</td>\n",
       "      <td>[0, 0, 0, 4, 5, 0, 0, 0, 0, 0, 4, 0, 0, 0, 0, ...</td>\n",
       "    </tr>\n",
       "    <tr>\n",
       "      <th>2</th>\n",
       "      <td>[وكانت, اعمدة, الدخان, تتصاعد, من, موقعين, في,...</td>\n",
       "      <td>[O, O, O, O, O, O, O, O, O, O, O, O, O, O, O, ...</td>\n",
       "      <td>[0, 0, 0, 0, 0, 0, 0, 0, 0, 0, 0, 0, 0, 0, 0, ...</td>\n",
       "    </tr>\n",
       "    <tr>\n",
       "      <th>3</th>\n",
       "      <td>[6%, خلال, النصف, الأول, من, العام, 2006, مقار...</td>\n",
       "      <td>[O, O, O, O, O, O, O, O, O, O, O, O, O, O]</td>\n",
       "      <td>[0, 0, 0, 0, 0, 0, 0, 0, 0, 0, 0, 0, 0, 0]</td>\n",
       "    </tr>\n",
       "    <tr>\n",
       "      <th>4</th>\n",
       "      <td>[الحقيقة, ندركها, حين, نجرب, الدخول, إلى, أحد,...</td>\n",
       "      <td>[O, O, O, O, O, O, O, O, O, O, O, O, O, O, B-O...</td>\n",
       "      <td>[0, 0, 0, 0, 0, 0, 0, 0, 0, 0, 0, 0, 0, 0, 7, ...</td>\n",
       "    </tr>\n",
       "    <tr>\n",
       "      <th>...</th>\n",
       "      <td>...</td>\n",
       "      <td>...</td>\n",
       "      <td>...</td>\n",
       "    </tr>\n",
       "    <tr>\n",
       "      <th>393</th>\n",
       "      <td>[يقول, :, », إنه, يقع, في, أقصى, لعبة, الشطرنج...</td>\n",
       "      <td>[O, O, O, O, O, O, O, O, O, O, O, O, O, O, O, ...</td>\n",
       "      <td>[0, 0, 0, 0, 0, 0, 0, 0, 0, 0, 0, 0, 0, 0, 0, ...</td>\n",
       "    </tr>\n",
       "    <tr>\n",
       "      <th>394</th>\n",
       "      <td>[والذي, لا, يعرفه, عدد, كبير, من, الناس, ,, أن...</td>\n",
       "      <td>[O, O, O, O, O, O, O, O, O, O, O, O, O, O, O, ...</td>\n",
       "      <td>[0, 0, 0, 0, 0, 0, 0, 0, 0, 0, 0, 0, 0, 0, 0, ...</td>\n",
       "    </tr>\n",
       "    <tr>\n",
       "      <th>395</th>\n",
       "      <td>[تم, استعمال, الأسلحة, الكيميائية, في, تلك, ال...</td>\n",
       "      <td>[O, O, O, O, O, O, O, O, O, O, O, O, O, O, O, ...</td>\n",
       "      <td>[0, 0, 0, 0, 0, 0, 0, 0, 0, 0, 0, 0, 0, 0, 0, ...</td>\n",
       "    </tr>\n",
       "    <tr>\n",
       "      <th>396</th>\n",
       "      <td>[واضاف, ان, التقرير, الطبي, أكد, حاجة, صدام, إ...</td>\n",
       "      <td>[O, O, O, O, O, O, B-PERS, O, O, O, O]</td>\n",
       "      <td>[0, 0, 0, 0, 0, 0, 4, 0, 0, 0, 0]</td>\n",
       "    </tr>\n",
       "    <tr>\n",
       "      <th>397</th>\n",
       "      <td>[وذكر, الاتحاد, الصيني, لشركات, صناعة, السيارا...</td>\n",
       "      <td>[O, B-ORG, I-ORG, I-ORG, I-ORG, I-ORG, O, O, O...</td>\n",
       "      <td>[0, 7, 2, 2, 2, 2, 0, 0, 0, 0, 0, 0, 0, 0, 0, ...</td>\n",
       "    </tr>\n",
       "  </tbody>\n",
       "</table>\n",
       "<p>398 rows × 3 columns</p>\n",
       "</div>"
      ],
      "text/plain": [
       "                                                tokens  \\\n",
       "0    [بعد, هزيمته, في, الدورة, الأولى, في, ديربي, ع...   \n",
       "1    [وكان, جلالة, الملك, محمد, السادس, وصاحب, السم...   \n",
       "2    [وكانت, اعمدة, الدخان, تتصاعد, من, موقعين, في,...   \n",
       "3    [6%, خلال, النصف, الأول, من, العام, 2006, مقار...   \n",
       "4    [الحقيقة, ندركها, حين, نجرب, الدخول, إلى, أحد,...   \n",
       "..                                                 ...   \n",
       "393  [يقول, :, », إنه, يقع, في, أقصى, لعبة, الشطرنج...   \n",
       "394  [والذي, لا, يعرفه, عدد, كبير, من, الناس, ,, أن...   \n",
       "395  [تم, استعمال, الأسلحة, الكيميائية, في, تلك, ال...   \n",
       "396  [واضاف, ان, التقرير, الطبي, أكد, حاجة, صدام, إ...   \n",
       "397  [وذكر, الاتحاد, الصيني, لشركات, صناعة, السيارا...   \n",
       "\n",
       "                                                  tags  \\\n",
       "0    [O, O, O, O, O, O, B-MISC, B-LOC, B-LOC, O, B-...   \n",
       "1    [O, O, O, B-PERS, I-PERS, O, O, O, O, O, B-PER...   \n",
       "2    [O, O, O, O, O, O, O, O, O, O, O, O, O, O, O, ...   \n",
       "3           [O, O, O, O, O, O, O, O, O, O, O, O, O, O]   \n",
       "4    [O, O, O, O, O, O, O, O, O, O, O, O, O, O, B-O...   \n",
       "..                                                 ...   \n",
       "393  [O, O, O, O, O, O, O, O, O, O, O, O, O, O, O, ...   \n",
       "394  [O, O, O, O, O, O, O, O, O, O, O, O, O, O, O, ...   \n",
       "395  [O, O, O, O, O, O, O, O, O, O, O, O, O, O, O, ...   \n",
       "396             [O, O, O, O, O, O, B-PERS, O, O, O, O]   \n",
       "397  [O, B-ORG, I-ORG, I-ORG, I-ORG, I-ORG, O, O, O...   \n",
       "\n",
       "                                           tags_labels  \n",
       "0    [0, 0, 0, 0, 0, 0, 8, 1, 1, 0, 7, 2, 0, 0, 7, ...  \n",
       "1    [0, 0, 0, 4, 5, 0, 0, 0, 0, 0, 4, 0, 0, 0, 0, ...  \n",
       "2    [0, 0, 0, 0, 0, 0, 0, 0, 0, 0, 0, 0, 0, 0, 0, ...  \n",
       "3           [0, 0, 0, 0, 0, 0, 0, 0, 0, 0, 0, 0, 0, 0]  \n",
       "4    [0, 0, 0, 0, 0, 0, 0, 0, 0, 0, 0, 0, 0, 0, 7, ...  \n",
       "..                                                 ...  \n",
       "393  [0, 0, 0, 0, 0, 0, 0, 0, 0, 0, 0, 0, 0, 0, 0, ...  \n",
       "394  [0, 0, 0, 0, 0, 0, 0, 0, 0, 0, 0, 0, 0, 0, 0, ...  \n",
       "395  [0, 0, 0, 0, 0, 0, 0, 0, 0, 0, 0, 0, 0, 0, 0, ...  \n",
       "396                  [0, 0, 0, 0, 0, 0, 4, 0, 0, 0, 0]  \n",
       "397  [0, 7, 2, 2, 2, 2, 0, 0, 0, 0, 0, 0, 0, 0, 0, ...  \n",
       "\n",
       "[398 rows x 3 columns]"
      ]
     },
     "execution_count": 14,
     "metadata": {},
     "output_type": "execute_result"
    }
   ],
   "source": [
    "validation_dataset = validation_dataset.to_pandas()\n",
    "validation_dataset"
   ]
  },
  {
   "cell_type": "code",
   "execution_count": 15,
   "metadata": {
    "colab": {
     "base_uri": "https://localhost:8080/",
     "height": 0
    },
    "executionInfo": {
     "elapsed": 19,
     "status": "ok",
     "timestamp": 1685275895944,
     "user": {
      "displayName": "Maged Saeed",
      "userId": "08011552846066909361"
     },
     "user_tz": -180
    },
    "id": "BA5hCYjiCHPW",
    "outputId": "cabf9aa0-117c-46c7-f3d3-8656eef0cec9"
   },
   "outputs": [
    {
     "data": {
      "text/html": [
       "<div>\n",
       "<style scoped>\n",
       "    .dataframe tbody tr th:only-of-type {\n",
       "        vertical-align: middle;\n",
       "    }\n",
       "\n",
       "    .dataframe tbody tr th {\n",
       "        vertical-align: top;\n",
       "    }\n",
       "\n",
       "    .dataframe thead th {\n",
       "        text-align: right;\n",
       "    }\n",
       "</style>\n",
       "<table border=\"1\" class=\"dataframe\">\n",
       "  <thead>\n",
       "    <tr style=\"text-align: right;\">\n",
       "      <th></th>\n",
       "      <th>tokens</th>\n",
       "      <th>tags</th>\n",
       "      <th>tags_labels</th>\n",
       "    </tr>\n",
       "  </thead>\n",
       "  <tbody>\n",
       "    <tr>\n",
       "      <th>0</th>\n",
       "      <td>[بعد, هزيمته, في, الدورة, الأولى, في, ديربي, ع...</td>\n",
       "      <td>[O, O, O, O, O, O, B-MISC, B-LOC, B-LOC, O, B-...</td>\n",
       "      <td>[0, 0, 0, 0, 0, 0, 8, 1, 1, 0, 7, 2, 0, 0, 7, ...</td>\n",
       "    </tr>\n",
       "    <tr>\n",
       "      <th>1</th>\n",
       "      <td>[وكان, جلالة, الملك, محمد, السادس, وصاحب, السم...</td>\n",
       "      <td>[O, O, O, B-PERS, I-PERS, O, O, O, O, O, B-PER...</td>\n",
       "      <td>[0, 0, 0, 4, 5, 0, 0, 0, 0, 0, 4, 0, 0, 0, 0, ...</td>\n",
       "    </tr>\n",
       "    <tr>\n",
       "      <th>2</th>\n",
       "      <td>[وكانت, اعمدة, الدخان, تتصاعد, من, موقعين, في,...</td>\n",
       "      <td>[O, O, O, O, O, O, O, O, O, O, O, O, O, O, O, ...</td>\n",
       "      <td>[0, 0, 0, 0, 0, 0, 0, 0, 0, 0, 0, 0, 0, 0, 0, ...</td>\n",
       "    </tr>\n",
       "    <tr>\n",
       "      <th>3</th>\n",
       "      <td>[6%, خلال, النصف, الأول, من, العام, 2006, مقار...</td>\n",
       "      <td>[O, O, O, O, O, O, O, O, O, O, O, O, O, O]</td>\n",
       "      <td>[0, 0, 0, 0, 0, 0, 0, 0, 0, 0, 0, 0, 0, 0]</td>\n",
       "    </tr>\n",
       "    <tr>\n",
       "      <th>4</th>\n",
       "      <td>[الحقيقة, ندركها, حين, نجرب, الدخول, إلى, أحد,...</td>\n",
       "      <td>[O, O, O, O, O, O, O, O, O, O, O, O, O, O, B-O...</td>\n",
       "      <td>[0, 0, 0, 0, 0, 0, 0, 0, 0, 0, 0, 0, 0, 0, 7, ...</td>\n",
       "    </tr>\n",
       "    <tr>\n",
       "      <th>...</th>\n",
       "      <td>...</td>\n",
       "      <td>...</td>\n",
       "      <td>...</td>\n",
       "    </tr>\n",
       "    <tr>\n",
       "      <th>393</th>\n",
       "      <td>[يقول, :, », إنه, يقع, في, أقصى, لعبة, الشطرنج...</td>\n",
       "      <td>[O, O, O, O, O, O, O, O, O, O, O, O, O, O, O, ...</td>\n",
       "      <td>[0, 0, 0, 0, 0, 0, 0, 0, 0, 0, 0, 0, 0, 0, 0, ...</td>\n",
       "    </tr>\n",
       "    <tr>\n",
       "      <th>394</th>\n",
       "      <td>[والذي, لا, يعرفه, عدد, كبير, من, الناس, ,, أن...</td>\n",
       "      <td>[O, O, O, O, O, O, O, O, O, O, O, O, O, O, O, ...</td>\n",
       "      <td>[0, 0, 0, 0, 0, 0, 0, 0, 0, 0, 0, 0, 0, 0, 0, ...</td>\n",
       "    </tr>\n",
       "    <tr>\n",
       "      <th>395</th>\n",
       "      <td>[تم, استعمال, الأسلحة, الكيميائية, في, تلك, ال...</td>\n",
       "      <td>[O, O, O, O, O, O, O, O, O, O, O, O, O, O, O, ...</td>\n",
       "      <td>[0, 0, 0, 0, 0, 0, 0, 0, 0, 0, 0, 0, 0, 0, 0, ...</td>\n",
       "    </tr>\n",
       "    <tr>\n",
       "      <th>396</th>\n",
       "      <td>[واضاف, ان, التقرير, الطبي, أكد, حاجة, صدام, إ...</td>\n",
       "      <td>[O, O, O, O, O, O, B-PERS, O, O, O, O]</td>\n",
       "      <td>[0, 0, 0, 0, 0, 0, 4, 0, 0, 0, 0]</td>\n",
       "    </tr>\n",
       "    <tr>\n",
       "      <th>397</th>\n",
       "      <td>[وذكر, الاتحاد, الصيني, لشركات, صناعة, السيارا...</td>\n",
       "      <td>[O, B-ORG, I-ORG, I-ORG, I-ORG, I-ORG, O, O, O...</td>\n",
       "      <td>[0, 7, 2, 2, 2, 2, 0, 0, 0, 0, 0, 0, 0, 0, 0, ...</td>\n",
       "    </tr>\n",
       "  </tbody>\n",
       "</table>\n",
       "<p>398 rows × 3 columns</p>\n",
       "</div>"
      ],
      "text/plain": [
       "                                                tokens  \\\n",
       "0    [بعد, هزيمته, في, الدورة, الأولى, في, ديربي, ع...   \n",
       "1    [وكان, جلالة, الملك, محمد, السادس, وصاحب, السم...   \n",
       "2    [وكانت, اعمدة, الدخان, تتصاعد, من, موقعين, في,...   \n",
       "3    [6%, خلال, النصف, الأول, من, العام, 2006, مقار...   \n",
       "4    [الحقيقة, ندركها, حين, نجرب, الدخول, إلى, أحد,...   \n",
       "..                                                 ...   \n",
       "393  [يقول, :, », إنه, يقع, في, أقصى, لعبة, الشطرنج...   \n",
       "394  [والذي, لا, يعرفه, عدد, كبير, من, الناس, ,, أن...   \n",
       "395  [تم, استعمال, الأسلحة, الكيميائية, في, تلك, ال...   \n",
       "396  [واضاف, ان, التقرير, الطبي, أكد, حاجة, صدام, إ...   \n",
       "397  [وذكر, الاتحاد, الصيني, لشركات, صناعة, السيارا...   \n",
       "\n",
       "                                                  tags  \\\n",
       "0    [O, O, O, O, O, O, B-MISC, B-LOC, B-LOC, O, B-...   \n",
       "1    [O, O, O, B-PERS, I-PERS, O, O, O, O, O, B-PER...   \n",
       "2    [O, O, O, O, O, O, O, O, O, O, O, O, O, O, O, ...   \n",
       "3           [O, O, O, O, O, O, O, O, O, O, O, O, O, O]   \n",
       "4    [O, O, O, O, O, O, O, O, O, O, O, O, O, O, B-O...   \n",
       "..                                                 ...   \n",
       "393  [O, O, O, O, O, O, O, O, O, O, O, O, O, O, O, ...   \n",
       "394  [O, O, O, O, O, O, O, O, O, O, O, O, O, O, O, ...   \n",
       "395  [O, O, O, O, O, O, O, O, O, O, O, O, O, O, O, ...   \n",
       "396             [O, O, O, O, O, O, B-PERS, O, O, O, O]   \n",
       "397  [O, B-ORG, I-ORG, I-ORG, I-ORG, I-ORG, O, O, O...   \n",
       "\n",
       "                                           tags_labels  \n",
       "0    [0, 0, 0, 0, 0, 0, 8, 1, 1, 0, 7, 2, 0, 0, 7, ...  \n",
       "1    [0, 0, 0, 4, 5, 0, 0, 0, 0, 0, 4, 0, 0, 0, 0, ...  \n",
       "2    [0, 0, 0, 0, 0, 0, 0, 0, 0, 0, 0, 0, 0, 0, 0, ...  \n",
       "3           [0, 0, 0, 0, 0, 0, 0, 0, 0, 0, 0, 0, 0, 0]  \n",
       "4    [0, 0, 0, 0, 0, 0, 0, 0, 0, 0, 0, 0, 0, 0, 7, ...  \n",
       "..                                                 ...  \n",
       "393  [0, 0, 0, 0, 0, 0, 0, 0, 0, 0, 0, 0, 0, 0, 0, ...  \n",
       "394  [0, 0, 0, 0, 0, 0, 0, 0, 0, 0, 0, 0, 0, 0, 0, ...  \n",
       "395  [0, 0, 0, 0, 0, 0, 0, 0, 0, 0, 0, 0, 0, 0, 0, ...  \n",
       "396                  [0, 0, 0, 0, 0, 0, 4, 0, 0, 0, 0]  \n",
       "397  [0, 7, 2, 2, 2, 2, 0, 0, 0, 0, 0, 0, 0, 0, 0, ...  \n",
       "\n",
       "[398 rows x 3 columns]"
      ]
     },
     "execution_count": 15,
     "metadata": {},
     "output_type": "execute_result"
    }
   ],
   "source": [
    "validation_dataset = validation_dataset.drop_duplicates(subset=['tokens'],keep='first').copy()\n",
    "validation_dataset"
   ]
  },
  {
   "cell_type": "code",
   "execution_count": 16,
   "metadata": {
    "colab": {
     "base_uri": "https://localhost:8080/",
     "height": 0
    },
    "executionInfo": {
     "elapsed": 403,
     "status": "ok",
     "timestamp": 1685275896329,
     "user": {
      "displayName": "Maged Saeed",
      "userId": "08011552846066909361"
     },
     "user_tz": -180
    },
    "id": "c1wxhy05MEOD",
    "outputId": "10e26251-67a3-4a5e-dac0-c5328666a620"
   },
   "outputs": [
    {
     "data": {
      "text/html": [
       "<div>\n",
       "<style scoped>\n",
       "    .dataframe tbody tr th:only-of-type {\n",
       "        vertical-align: middle;\n",
       "    }\n",
       "\n",
       "    .dataframe tbody tr th {\n",
       "        vertical-align: top;\n",
       "    }\n",
       "\n",
       "    .dataframe thead th {\n",
       "        text-align: right;\n",
       "    }\n",
       "</style>\n",
       "<table border=\"1\" class=\"dataframe\">\n",
       "  <thead>\n",
       "    <tr style=\"text-align: right;\">\n",
       "      <th></th>\n",
       "      <th>tokens</th>\n",
       "      <th>tags</th>\n",
       "      <th>tags_labels</th>\n",
       "    </tr>\n",
       "  </thead>\n",
       "  <tbody>\n",
       "    <tr>\n",
       "      <th>0</th>\n",
       "      <td>[الصالحية, المفرق, -, غيث, الطراونة, -, أمر, ج...</td>\n",
       "      <td>[B-LOC, B-LOC, O, B-PERS, I-PERS, O, O, O, O, ...</td>\n",
       "      <td>[1, 1, 0, 4, 5, 0, 0, 0, 0, 4, 5, 0, 0, 0, 0, ...</td>\n",
       "    </tr>\n",
       "    <tr>\n",
       "      <th>1</th>\n",
       "      <td>[برند, جلالته, خلال, اللقاء, الذي, جمعه, وأعضا...</td>\n",
       "      <td>[B-PERS, O, O, O, O, O, O, O, O, O, O, O, O, O...</td>\n",
       "      <td>[4, 0, 0, 0, 0, 0, 0, 0, 0, 0, 0, 0, 0, 0, 0, ...</td>\n",
       "    </tr>\n",
       "    <tr>\n",
       "      <th>2</th>\n",
       "      <td>[مرتفع, جلالته, أريد, ان, استمع, منكم, عن, الم...</td>\n",
       "      <td>[O, O, O, O, O, O, O, O, O, O, O, O, O, O, O, ...</td>\n",
       "      <td>[0, 0, 0, 0, 0, 0, 0, 0, 0, 0, 0, 0, 0, 0, 0, ...</td>\n",
       "    </tr>\n",
       "    <tr>\n",
       "      <th>3</th>\n",
       "      <td>[زادت, جلالته, على, انه, سوف, يعود, الى, الباد...</td>\n",
       "      <td>[O, O, O, O, O, O, O, O, O, O, O, O, O, O, O, ...</td>\n",
       "      <td>[0, 0, 0, 0, 0, 0, 0, 0, 0, 0, 0, 0, 0, 0, 0, ...</td>\n",
       "    </tr>\n",
       "    <tr>\n",
       "      <th>4</th>\n",
       "      <td>[لصادرات, جلالة, الملك, اطلق, في, ايار, الماضي...</td>\n",
       "      <td>[O, O, O, O, O, O, O, O, O, O, O, O, O, O, O, ...</td>\n",
       "      <td>[0, 0, 0, 0, 0, 0, 0, 0, 0, 0, 0, 0, 0, 0, 0, ...</td>\n",
       "    </tr>\n",
       "    <tr>\n",
       "      <th>...</th>\n",
       "      <td>...</td>\n",
       "      <td>...</td>\n",
       "      <td>...</td>\n",
       "    </tr>\n",
       "    <tr>\n",
       "      <th>919</th>\n",
       "      <td>[الإلكترون, الرغم, من, تصريحه, أكثر, من, مرة, ...</td>\n",
       "      <td>[O, O, O, O, O, O, O, O, O, O, O, O, O, O, O, ...</td>\n",
       "      <td>[0, 0, 0, 0, 0, 0, 0, 0, 0, 0, 0, 0, 0, 0, 0, ...</td>\n",
       "    </tr>\n",
       "    <tr>\n",
       "      <th>920</th>\n",
       "      <td>[\", الأمير, السعودي, في, قطاعات, استثمارية, مت...</td>\n",
       "      <td>[O, O, O, O, O, O, O, O, O, O, O, O, O, B-ORG,...</td>\n",
       "      <td>[0, 0, 0, 0, 0, 0, 0, 0, 0, 0, 0, 0, 0, 7, 2, ...</td>\n",
       "    </tr>\n",
       "    <tr>\n",
       "      <th>921</th>\n",
       "      <td>[وتتهم, بن, طلال, شهادة, البكالوريوس, في, إدار...</td>\n",
       "      <td>[O, I-PERS, I-PERS, O, O, O, O, O, O, O, O, O,...</td>\n",
       "      <td>[0, 5, 5, 0, 0, 0, 0, 0, 0, 0, 0, 0, 0, 0, 0, ...</td>\n",
       "    </tr>\n",
       "    <tr>\n",
       "      <th>922</th>\n",
       "      <td>[ذلك, ،, يتابع, الوليد, بن, طلال, أعماله, التج...</td>\n",
       "      <td>[O, O, O, B-PERS, I-PERS, B-PERS, O, O, O, O, ...</td>\n",
       "      <td>[0, 0, 0, 4, 5, 4, 0, 0, 0, 0, 0, 0, 0, 0, 0, ...</td>\n",
       "    </tr>\n",
       "    <tr>\n",
       "      <th>923</th>\n",
       "      <td>[الوزيرة, ابن, وابنة, ،, خالد, وريم, .]</td>\n",
       "      <td>[O, O, O, O, B-PERS, B-PERS, O]</td>\n",
       "      <td>[0, 0, 0, 0, 4, 4, 0]</td>\n",
       "    </tr>\n",
       "  </tbody>\n",
       "</table>\n",
       "<p>924 rows × 3 columns</p>\n",
       "</div>"
      ],
      "text/plain": [
       "                                                tokens  \\\n",
       "0    [الصالحية, المفرق, -, غيث, الطراونة, -, أمر, ج...   \n",
       "1    [برند, جلالته, خلال, اللقاء, الذي, جمعه, وأعضا...   \n",
       "2    [مرتفع, جلالته, أريد, ان, استمع, منكم, عن, الم...   \n",
       "3    [زادت, جلالته, على, انه, سوف, يعود, الى, الباد...   \n",
       "4    [لصادرات, جلالة, الملك, اطلق, في, ايار, الماضي...   \n",
       "..                                                 ...   \n",
       "919  [الإلكترون, الرغم, من, تصريحه, أكثر, من, مرة, ...   \n",
       "920  [\", الأمير, السعودي, في, قطاعات, استثمارية, مت...   \n",
       "921  [وتتهم, بن, طلال, شهادة, البكالوريوس, في, إدار...   \n",
       "922  [ذلك, ،, يتابع, الوليد, بن, طلال, أعماله, التج...   \n",
       "923            [الوزيرة, ابن, وابنة, ،, خالد, وريم, .]   \n",
       "\n",
       "                                                  tags  \\\n",
       "0    [B-LOC, B-LOC, O, B-PERS, I-PERS, O, O, O, O, ...   \n",
       "1    [B-PERS, O, O, O, O, O, O, O, O, O, O, O, O, O...   \n",
       "2    [O, O, O, O, O, O, O, O, O, O, O, O, O, O, O, ...   \n",
       "3    [O, O, O, O, O, O, O, O, O, O, O, O, O, O, O, ...   \n",
       "4    [O, O, O, O, O, O, O, O, O, O, O, O, O, O, O, ...   \n",
       "..                                                 ...   \n",
       "919  [O, O, O, O, O, O, O, O, O, O, O, O, O, O, O, ...   \n",
       "920  [O, O, O, O, O, O, O, O, O, O, O, O, O, B-ORG,...   \n",
       "921  [O, I-PERS, I-PERS, O, O, O, O, O, O, O, O, O,...   \n",
       "922  [O, O, O, B-PERS, I-PERS, B-PERS, O, O, O, O, ...   \n",
       "923                    [O, O, O, O, B-PERS, B-PERS, O]   \n",
       "\n",
       "                                           tags_labels  \n",
       "0    [1, 1, 0, 4, 5, 0, 0, 0, 0, 4, 5, 0, 0, 0, 0, ...  \n",
       "1    [4, 0, 0, 0, 0, 0, 0, 0, 0, 0, 0, 0, 0, 0, 0, ...  \n",
       "2    [0, 0, 0, 0, 0, 0, 0, 0, 0, 0, 0, 0, 0, 0, 0, ...  \n",
       "3    [0, 0, 0, 0, 0, 0, 0, 0, 0, 0, 0, 0, 0, 0, 0, ...  \n",
       "4    [0, 0, 0, 0, 0, 0, 0, 0, 0, 0, 0, 0, 0, 0, 0, ...  \n",
       "..                                                 ...  \n",
       "919  [0, 0, 0, 0, 0, 0, 0, 0, 0, 0, 0, 0, 0, 0, 0, ...  \n",
       "920  [0, 0, 0, 0, 0, 0, 0, 0, 0, 0, 0, 0, 0, 7, 2, ...  \n",
       "921  [0, 5, 5, 0, 0, 0, 0, 0, 0, 0, 0, 0, 0, 0, 0, ...  \n",
       "922  [0, 0, 0, 4, 5, 4, 0, 0, 0, 0, 0, 0, 0, 0, 0, ...  \n",
       "923                              [0, 0, 0, 0, 4, 4, 0]  \n",
       "\n",
       "[924 rows x 3 columns]"
      ]
     },
     "execution_count": 16,
     "metadata": {},
     "output_type": "execute_result"
    }
   ],
   "source": [
    "test_dataset = test_dataset.to_pandas()\n",
    "test_dataset"
   ]
  },
  {
   "cell_type": "code",
   "execution_count": 17,
   "metadata": {
    "colab": {
     "base_uri": "https://localhost:8080/",
     "height": 0
    },
    "executionInfo": {
     "elapsed": 10,
     "status": "ok",
     "timestamp": 1685275896329,
     "user": {
      "displayName": "Maged Saeed",
      "userId": "08011552846066909361"
     },
     "user_tz": -180
    },
    "id": "tiEkABAZM3Yc",
    "outputId": "55084e87-757f-4f5c-ba4e-263ce54399f4"
   },
   "outputs": [
    {
     "data": {
      "text/html": [
       "<div>\n",
       "<style scoped>\n",
       "    .dataframe tbody tr th:only-of-type {\n",
       "        vertical-align: middle;\n",
       "    }\n",
       "\n",
       "    .dataframe tbody tr th {\n",
       "        vertical-align: top;\n",
       "    }\n",
       "\n",
       "    .dataframe thead th {\n",
       "        text-align: right;\n",
       "    }\n",
       "</style>\n",
       "<table border=\"1\" class=\"dataframe\">\n",
       "  <thead>\n",
       "    <tr style=\"text-align: right;\">\n",
       "      <th></th>\n",
       "      <th>tokens</th>\n",
       "      <th>tags</th>\n",
       "      <th>tags_labels</th>\n",
       "    </tr>\n",
       "  </thead>\n",
       "  <tbody>\n",
       "    <tr>\n",
       "      <th>0</th>\n",
       "      <td>[الصالحية, المفرق, -, غيث, الطراونة, -, أمر, ج...</td>\n",
       "      <td>[B-LOC, B-LOC, O, B-PERS, I-PERS, O, O, O, O, ...</td>\n",
       "      <td>[1, 1, 0, 4, 5, 0, 0, 0, 0, 4, 5, 0, 0, 0, 0, ...</td>\n",
       "    </tr>\n",
       "    <tr>\n",
       "      <th>1</th>\n",
       "      <td>[برند, جلالته, خلال, اللقاء, الذي, جمعه, وأعضا...</td>\n",
       "      <td>[B-PERS, O, O, O, O, O, O, O, O, O, O, O, O, O...</td>\n",
       "      <td>[4, 0, 0, 0, 0, 0, 0, 0, 0, 0, 0, 0, 0, 0, 0, ...</td>\n",
       "    </tr>\n",
       "    <tr>\n",
       "      <th>2</th>\n",
       "      <td>[مرتفع, جلالته, أريد, ان, استمع, منكم, عن, الم...</td>\n",
       "      <td>[O, O, O, O, O, O, O, O, O, O, O, O, O, O, O, ...</td>\n",
       "      <td>[0, 0, 0, 0, 0, 0, 0, 0, 0, 0, 0, 0, 0, 0, 0, ...</td>\n",
       "    </tr>\n",
       "    <tr>\n",
       "      <th>3</th>\n",
       "      <td>[زادت, جلالته, على, انه, سوف, يعود, الى, الباد...</td>\n",
       "      <td>[O, O, O, O, O, O, O, O, O, O, O, O, O, O, O, ...</td>\n",
       "      <td>[0, 0, 0, 0, 0, 0, 0, 0, 0, 0, 0, 0, 0, 0, 0, ...</td>\n",
       "    </tr>\n",
       "    <tr>\n",
       "      <th>4</th>\n",
       "      <td>[لصادرات, جلالة, الملك, اطلق, في, ايار, الماضي...</td>\n",
       "      <td>[O, O, O, O, O, O, O, O, O, O, O, O, O, O, O, ...</td>\n",
       "      <td>[0, 0, 0, 0, 0, 0, 0, 0, 0, 0, 0, 0, 0, 0, 0, ...</td>\n",
       "    </tr>\n",
       "    <tr>\n",
       "      <th>...</th>\n",
       "      <td>...</td>\n",
       "      <td>...</td>\n",
       "      <td>...</td>\n",
       "    </tr>\n",
       "    <tr>\n",
       "      <th>919</th>\n",
       "      <td>[الإلكترون, الرغم, من, تصريحه, أكثر, من, مرة, ...</td>\n",
       "      <td>[O, O, O, O, O, O, O, O, O, O, O, O, O, O, O, ...</td>\n",
       "      <td>[0, 0, 0, 0, 0, 0, 0, 0, 0, 0, 0, 0, 0, 0, 0, ...</td>\n",
       "    </tr>\n",
       "    <tr>\n",
       "      <th>920</th>\n",
       "      <td>[\", الأمير, السعودي, في, قطاعات, استثمارية, مت...</td>\n",
       "      <td>[O, O, O, O, O, O, O, O, O, O, O, O, O, B-ORG,...</td>\n",
       "      <td>[0, 0, 0, 0, 0, 0, 0, 0, 0, 0, 0, 0, 0, 7, 2, ...</td>\n",
       "    </tr>\n",
       "    <tr>\n",
       "      <th>921</th>\n",
       "      <td>[وتتهم, بن, طلال, شهادة, البكالوريوس, في, إدار...</td>\n",
       "      <td>[O, I-PERS, I-PERS, O, O, O, O, O, O, O, O, O,...</td>\n",
       "      <td>[0, 5, 5, 0, 0, 0, 0, 0, 0, 0, 0, 0, 0, 0, 0, ...</td>\n",
       "    </tr>\n",
       "    <tr>\n",
       "      <th>922</th>\n",
       "      <td>[ذلك, ،, يتابع, الوليد, بن, طلال, أعماله, التج...</td>\n",
       "      <td>[O, O, O, B-PERS, I-PERS, B-PERS, O, O, O, O, ...</td>\n",
       "      <td>[0, 0, 0, 4, 5, 4, 0, 0, 0, 0, 0, 0, 0, 0, 0, ...</td>\n",
       "    </tr>\n",
       "    <tr>\n",
       "      <th>923</th>\n",
       "      <td>[الوزيرة, ابن, وابنة, ،, خالد, وريم, .]</td>\n",
       "      <td>[O, O, O, O, B-PERS, B-PERS, O]</td>\n",
       "      <td>[0, 0, 0, 0, 4, 4, 0]</td>\n",
       "    </tr>\n",
       "  </tbody>\n",
       "</table>\n",
       "<p>924 rows × 3 columns</p>\n",
       "</div>"
      ],
      "text/plain": [
       "                                                tokens  \\\n",
       "0    [الصالحية, المفرق, -, غيث, الطراونة, -, أمر, ج...   \n",
       "1    [برند, جلالته, خلال, اللقاء, الذي, جمعه, وأعضا...   \n",
       "2    [مرتفع, جلالته, أريد, ان, استمع, منكم, عن, الم...   \n",
       "3    [زادت, جلالته, على, انه, سوف, يعود, الى, الباد...   \n",
       "4    [لصادرات, جلالة, الملك, اطلق, في, ايار, الماضي...   \n",
       "..                                                 ...   \n",
       "919  [الإلكترون, الرغم, من, تصريحه, أكثر, من, مرة, ...   \n",
       "920  [\", الأمير, السعودي, في, قطاعات, استثمارية, مت...   \n",
       "921  [وتتهم, بن, طلال, شهادة, البكالوريوس, في, إدار...   \n",
       "922  [ذلك, ،, يتابع, الوليد, بن, طلال, أعماله, التج...   \n",
       "923            [الوزيرة, ابن, وابنة, ،, خالد, وريم, .]   \n",
       "\n",
       "                                                  tags  \\\n",
       "0    [B-LOC, B-LOC, O, B-PERS, I-PERS, O, O, O, O, ...   \n",
       "1    [B-PERS, O, O, O, O, O, O, O, O, O, O, O, O, O...   \n",
       "2    [O, O, O, O, O, O, O, O, O, O, O, O, O, O, O, ...   \n",
       "3    [O, O, O, O, O, O, O, O, O, O, O, O, O, O, O, ...   \n",
       "4    [O, O, O, O, O, O, O, O, O, O, O, O, O, O, O, ...   \n",
       "..                                                 ...   \n",
       "919  [O, O, O, O, O, O, O, O, O, O, O, O, O, O, O, ...   \n",
       "920  [O, O, O, O, O, O, O, O, O, O, O, O, O, B-ORG,...   \n",
       "921  [O, I-PERS, I-PERS, O, O, O, O, O, O, O, O, O,...   \n",
       "922  [O, O, O, B-PERS, I-PERS, B-PERS, O, O, O, O, ...   \n",
       "923                    [O, O, O, O, B-PERS, B-PERS, O]   \n",
       "\n",
       "                                           tags_labels  \n",
       "0    [1, 1, 0, 4, 5, 0, 0, 0, 0, 4, 5, 0, 0, 0, 0, ...  \n",
       "1    [4, 0, 0, 0, 0, 0, 0, 0, 0, 0, 0, 0, 0, 0, 0, ...  \n",
       "2    [0, 0, 0, 0, 0, 0, 0, 0, 0, 0, 0, 0, 0, 0, 0, ...  \n",
       "3    [0, 0, 0, 0, 0, 0, 0, 0, 0, 0, 0, 0, 0, 0, 0, ...  \n",
       "4    [0, 0, 0, 0, 0, 0, 0, 0, 0, 0, 0, 0, 0, 0, 0, ...  \n",
       "..                                                 ...  \n",
       "919  [0, 0, 0, 0, 0, 0, 0, 0, 0, 0, 0, 0, 0, 0, 0, ...  \n",
       "920  [0, 0, 0, 0, 0, 0, 0, 0, 0, 0, 0, 0, 0, 7, 2, ...  \n",
       "921  [0, 5, 5, 0, 0, 0, 0, 0, 0, 0, 0, 0, 0, 0, 0, ...  \n",
       "922  [0, 0, 0, 4, 5, 4, 0, 0, 0, 0, 0, 0, 0, 0, 0, ...  \n",
       "923                              [0, 0, 0, 0, 4, 4, 0]  \n",
       "\n",
       "[924 rows x 3 columns]"
      ]
     },
     "execution_count": 17,
     "metadata": {},
     "output_type": "execute_result"
    }
   ],
   "source": [
    "test_dataset = test_dataset.drop_duplicates(subset=['tokens'],keep='first').copy()\n",
    "test_dataset"
   ]
  },
  {
   "cell_type": "code",
   "execution_count": 18,
   "metadata": {
    "colab": {
     "base_uri": "https://localhost:8080/"
    },
    "executionInfo": {
     "elapsed": 10,
     "status": "ok",
     "timestamp": 1685275896330,
     "user": {
      "displayName": "Maged Saeed",
      "userId": "08011552846066909361"
     },
     "user_tz": -180
    },
    "id": "vqgnVPxzGmDC",
    "outputId": "e3257c53-e5e5-4bba-b4cf-c09d8c0d7273"
   },
   "outputs": [
    {
     "data": {
      "text/plain": [
       "(array(['الصالحية', 'المفرق', '-', 'غيث', 'الطراونة', '-', 'أمر', 'جلالة',\n",
       "        'الملك', 'عبدالله', 'الثاني', 'أمس', 'بتنفيذ', 'حزمة', 'من',\n",
       "        'المشاريع', 'التعليمية', 'والصحية', 'والتنموية', 'وأخرى', 'مرتبطة',\n",
       "        'بالأندية', 'الشبابية', 'و', '27', 'وحدة', 'سكنية', 'في', 'قضاء',\n",
       "        'الصالحية', 'ونايفة', 'في', 'البادية', 'الشرقية', 'خلال', 'ستة',\n",
       "        'اشهر', 'بتمويل', 'من', 'الديوان', 'الملكي', 'الهاشمي', '.'],\n",
       "       dtype=object),\n",
       " array([1, 1, 0, 4, 5, 0, 0, 0, 0, 4, 5, 0, 0, 0, 0, 0, 0, 0, 0, 0, 0, 0,\n",
       "        0, 0, 0, 0, 0, 0, 0, 1, 1, 0, 0, 0, 0, 0, 0, 0, 0, 0, 0, 0, 0]))"
      ]
     },
     "execution_count": 18,
     "metadata": {},
     "output_type": "execute_result"
    }
   ],
   "source": [
    "test_dataset['tokens'][0],test_dataset['tags_labels'][0]"
   ]
  },
  {
   "cell_type": "markdown",
   "metadata": {
    "id": "cY3p7JmaG3Jo"
   },
   "source": [
    "delete the tokens class 13 as it is placeholder for connected words \"as far as I understand from the above example\""
   ]
  },
  {
   "cell_type": "code",
   "execution_count": 19,
   "metadata": {},
   "outputs": [
    {
     "data": {
      "text/plain": [
       "9"
      ]
     },
     "execution_count": 19,
     "metadata": {},
     "output_type": "execute_result"
    }
   ],
   "source": [
    "number_of_tags = len(set([tag for tags in train_dataset['tags_labels'] for tag in tags]))\n",
    "number_of_tags"
   ]
  },
  {
   "cell_type": "markdown",
   "metadata": {
    "id": "Md6-jsTIN7qv"
   },
   "source": [
    "Count positives and negatives"
   ]
  },
  {
   "cell_type": "code",
   "execution_count": 20,
   "metadata": {
    "colab": {
     "base_uri": "https://localhost:8080/",
     "height": 0
    },
    "executionInfo": {
     "elapsed": 454,
     "status": "ok",
     "timestamp": 1685275898060,
     "user": {
      "displayName": "Maged Saeed",
      "userId": "08011552846066909361"
     },
     "user_tz": -180
    },
    "id": "16UAuP9-N3w4",
    "outputId": "527dc509-f655-4338-b270-113e94fb0cff"
   },
   "outputs": [
    {
     "data": {
      "text/plain": [
       "<BarContainer object of 9 artists>"
      ]
     },
     "execution_count": 20,
     "metadata": {},
     "output_type": "execute_result"
    },
    {
     "data": {
      "image/png": "[encoded data removed]",
      "text/plain": [
       "<Figure size 640x480 with 1 Axes>"
      ]
     },
     "metadata": {},
     "output_type": "display_data"
    }
   ],
   "source": [
    "# Create a count plot\n",
    "tags = [tag for sample in train_dataset['tags_labels'] for tag in sample]\n",
    "tags_counter = Counter(tags)\n",
    "plt.xticks(range(number_of_tags))\n",
    "plt.bar(tags_counter.keys(),tags_counter.values())"
   ]
  },
  {
   "cell_type": "code",
   "execution_count": 21,
   "metadata": {
    "colab": {
     "base_uri": "https://localhost:8080/"
    },
    "executionInfo": {
     "elapsed": 11,
     "status": "ok",
     "timestamp": 1685275898060,
     "user": {
      "displayName": "Maged Saeed",
      "userId": "08011552846066909361"
     },
     "user_tz": -180
    },
    "id": "__dpgWUMlA1N",
    "outputId": "7868f618-6b94-48df-d3d8-7c95269d378b"
   },
   "outputs": [
    {
     "data": {
      "text/plain": [
       "[(0, 100003),\n",
       " (1, 3406),\n",
       " (4, 2441),\n",
       " (5, 1977),\n",
       " (7, 1411),\n",
       " (2, 1005),\n",
       " (8, 799),\n",
       " (3, 490),\n",
       " (6, 340)]"
      ]
     },
     "execution_count": 21,
     "metadata": {},
     "output_type": "execute_result"
    }
   ],
   "source": [
    "tags_counter.most_common()"
   ]
  },
  {
   "cell_type": "code",
   "execution_count": 22,
   "metadata": {
    "colab": {
     "base_uri": "https://localhost:8080/"
    },
    "executionInfo": {
     "elapsed": 11,
     "status": "ok",
     "timestamp": 1685275898061,
     "user": {
      "displayName": "Maged Saeed",
      "userId": "08011552846066909361"
     },
     "user_tz": -180
    },
    "id": "t-J6a-VfZJan",
    "outputId": "e8c6abd6-b96d-4901-e6b1-c89426c51cf6"
   },
   "outputs": [
    {
     "data": {
      "text/plain": [
       "111872"
      ]
     },
     "execution_count": 22,
     "metadata": {},
     "output_type": "execute_result"
    }
   ],
   "source": [
    "sum(tags_counter.values())"
   ]
  },
  {
   "cell_type": "markdown",
   "metadata": {
    "id": "KyaOHpHaQVTu"
   },
   "source": [
    "testset and trainset vocabulary and tokens count:\n"
   ]
  },
  {
   "cell_type": "code",
   "execution_count": 23,
   "metadata": {
    "colab": {
     "base_uri": "https://localhost:8080/"
    },
    "executionInfo": {
     "elapsed": 11,
     "status": "ok",
     "timestamp": 1685275898061,
     "user": {
      "displayName": "Maged Saeed",
      "userId": "08011552846066909361"
     },
     "user_tz": -180
    },
    "id": "_lNrIZn_BCu0",
    "outputId": "20792804-52a7-4401-cf25-e49890d9e786"
   },
   "outputs": [
    {
     "data": {
      "text/plain": [
       "('9,073', '24,996')"
      ]
     },
     "execution_count": 23,
     "metadata": {},
     "output_type": "execute_result"
    }
   ],
   "source": [
    "vocabs_dict = {}\n",
    "for tokens_list in test_dataset['tokens']:\n",
    "  for token in tokens_list:\n",
    "    vocabs_dict[token] = vocabs_dict.get(token,0)+1\n",
    "f'{len(vocabs_dict.keys()):,}',f'{sum(vocabs_dict.values()):,}'"
   ]
  },
  {
   "cell_type": "code",
   "execution_count": 24,
   "metadata": {
    "colab": {
     "base_uri": "https://localhost:8080/"
    },
    "executionInfo": {
     "elapsed": 10,
     "status": "ok",
     "timestamp": 1685275898061,
     "user": {
      "displayName": "Maged Saeed",
      "userId": "08011552846066909361"
     },
     "user_tz": -180
    },
    "id": "4ED9tieMB7Nw",
    "outputId": "90a93b5f-eb03-4150-db3d-cc2dae09757e"
   },
   "outputs": [
    {
     "data": {
      "text/plain": [
       "('6,300', '13,204')"
      ]
     },
     "execution_count": 24,
     "metadata": {},
     "output_type": "execute_result"
    }
   ],
   "source": [
    "vocabs_dict = {}\n",
    "for tokens_list in validation_dataset['tokens']:\n",
    "  for token in tokens_list:\n",
    "    vocabs_dict[token] = vocabs_dict.get(token,0)+1\n",
    "f'{len(vocabs_dict.keys()):,}',f'{sum(vocabs_dict.values()):,}'"
   ]
  },
  {
   "cell_type": "code",
   "execution_count": 25,
   "metadata": {
    "colab": {
     "base_uri": "https://localhost:8080/"
    },
    "executionInfo": {
     "elapsed": 11,
     "status": "ok",
     "timestamp": 1685275898062,
     "user": {
      "displayName": "Maged Saeed",
      "userId": "08011552846066909361"
     },
     "user_tz": -180
    },
    "id": "k1fbK95QOb8u",
    "outputId": "94be7c89-aa3c-4a65-e4d2-b393879bf9b8"
   },
   "outputs": [
    {
     "data": {
      "text/plain": [
       "('27,282', '111,872')"
      ]
     },
     "execution_count": 25,
     "metadata": {},
     "output_type": "execute_result"
    }
   ],
   "source": [
    "vocabs_dict = {}\n",
    "for tokens_list in train_dataset['tokens']:\n",
    "  for token in tokens_list:\n",
    "    vocabs_dict[token] = vocabs_dict.get(token,0)+1\n",
    "f'{len(vocabs_dict.keys()):,}',f'{sum(vocabs_dict.values()):,}'"
   ]
  },
  {
   "cell_type": "markdown",
   "metadata": {
    "id": "tgz78Q6cgXMe"
   },
   "source": [
    "# create helper functions and set constants"
   ]
  },
  {
   "cell_type": "code",
   "execution_count": 26,
   "metadata": {
    "colab": {
     "base_uri": "https://localhost:8080/"
    },
    "executionInfo": {
     "elapsed": 10,
     "status": "ok",
     "timestamp": 1685275898062,
     "user": {
      "displayName": "Maged Saeed",
      "userId": "08011552846066909361"
     },
     "user_tz": -180
    },
    "id": "UsO6-K-im5AY",
    "outputId": "8fc7f62e-9e4f-42b4-9fdb-949f1b9d8e9a"
   },
   "outputs": [
    {
     "data": {
      "text/plain": [
       "(217, 146)"
      ]
     },
     "execution_count": 26,
     "metadata": {},
     "output_type": "execute_result"
    }
   ],
   "source": [
    "max(map(len,train_dataset['tokens'])),max(map(len,test_dataset['tokens']))"
   ]
  },
  {
   "cell_type": "code",
   "execution_count": 27,
   "metadata": {
    "executionInfo": {
     "elapsed": 11,
     "status": "ok",
     "timestamp": 1685275898063,
     "user": {
      "displayName": "Maged Saeed",
      "userId": "08011552846066909361"
     },
     "user_tz": -180
    },
    "id": "hmw9hzmsk4So"
   },
   "outputs": [],
   "source": [
    "# setting seq_len:\n",
    "seq_len = 220\n",
    "pad_tag = number_of_tags # tags starts from zero :)"
   ]
  },
  {
   "cell_type": "code",
   "execution_count": 28,
   "metadata": {
    "executionInfo": {
     "elapsed": 10,
     "status": "ok",
     "timestamp": 1685275898063,
     "user": {
      "displayName": "Maged Saeed",
      "userId": "08011552846066909361"
     },
     "user_tz": -180
    },
    "id": "EyIAM4eHfVOu"
   },
   "outputs": [],
   "source": [
    "def create_features_from_tokens_list(tokens_list,tags_list,tokenizer):\n",
    "  encoded = list()\n",
    "  padded_tags = list()\n",
    "  for tokens,tags in tqdm(zip(tokens_list,tags_list)):\n",
    "    text = ' '.join(tokens)\n",
    "    encoded_doc = tokenizer.encode(text)\n",
    "    encoded_doc = tokenizer.pad(encoded_doc,length=seq_len)\n",
    "    encoded_doc = encoded_doc[:seq_len]\n",
    "    encoded.append(np.array(encoded_doc))\n",
    "    tags = tags[:seq_len]\n",
    "    padded_tags.append(np.pad(\n",
    "        tags,\n",
    "        pad_width=(0,seq_len-len(tags)),\n",
    "        constant_values=pad_tag,\n",
    "      )\n",
    "    )\n",
    "  return np.array(encoded),np.array(padded_tags)"
   ]
  },
  {
   "cell_type": "code",
   "execution_count": 29,
   "metadata": {
    "executionInfo": {
     "elapsed": 10,
     "status": "ok",
     "timestamp": 1685275898063,
     "user": {
      "displayName": "Maged Saeed",
      "userId": "08011552846066909361"
     },
     "user_tz": -180
    },
    "id": "4625Ow2UkqJQ"
   },
   "outputs": [],
   "source": [
    "# define batch size\n",
    "batch_size = 256"
   ]
  },
  {
   "cell_type": "markdown",
   "metadata": {
    "id": "3jSDekqiQ5Pq"
   },
   "source": [
    "# Build the BiLSTM Model"
   ]
  },
  {
   "cell_type": "markdown",
   "metadata": {
    "id": "t1BBdUhqCweL"
   },
   "source": [
    "## The Model Architecture"
   ]
  },
  {
   "cell_type": "code",
   "execution_count": 30,
   "metadata": {
    "executionInfo": {
     "elapsed": 11,
     "status": "ok",
     "timestamp": 1685275898064,
     "user": {
      "displayName": "Maged Saeed",
      "userId": "08011552846066909361"
     },
     "user_tz": -180
    },
    "id": "gQkf9EubQ7Az"
   },
   "outputs": [],
   "source": [
    "# model architecture (with some amends)\n",
    "# https://www.kaggle.com/code/affand20/imdb-with-pytorch\n",
    "\n",
    "class LitBiLSTMModel(LightningModule):\n",
    "    def __init__(\n",
    "        self,\n",
    "        vocab_size,\n",
    "        pad_id=1, # the default value from tkseem tokenizers\n",
    "        pad_tag=pad_tag,\n",
    "        seq_len=seq_len,\n",
    "        output_size=number_of_tags+1, # one class is added for padding\n",
    "        hidden_size=512,\n",
    "        embedding_size=256,\n",
    "        embedding_dropout=0.5,\n",
    "        dropout=0.5,\n",
    "        learning_rate=0.001,\n",
    "        n_layers=3,\n",
    "        bidirectional=True,\n",
    "      ):\n",
    "        super().__init__()\n",
    "\n",
    "        self.save_hyperparameters()\n",
    "\n",
    "        self.bidirectional = bidirectional\n",
    "        self.hidden_size = hidden_size\n",
    "        self.learning_rate = learning_rate\n",
    "        self.dropout_prop = dropout\n",
    "        self.pad_tag = pad_tag\n",
    "        self.pad_id = pad_id\n",
    "        self.max_sequence_length = seq_len\n",
    "        self.output_size = output_size\n",
    "\n",
    "        self.train_accuracy = torchmetrics.Accuracy(\n",
    "            task=\"multiclass\",\n",
    "            num_classes=output_size,\n",
    "            ignore_index=self.pad_tag,\n",
    "          )\n",
    "        self.val_accuracy = torchmetrics.Accuracy(\n",
    "            task=\"multiclass\",\n",
    "            num_classes=output_size,\n",
    "            ignore_index=self.pad_tag,\n",
    "          )\n",
    "        self.test_accuracy = torchmetrics.Accuracy(\n",
    "            task=\"multiclass\",\n",
    "            num_classes=output_size,\n",
    "            ignore_index=self.pad_tag,\n",
    "          )\n",
    "        \n",
    "        self.test_recall = torchmetrics.Recall(\n",
    "            average='macro',\n",
    "            task=\"multiclass\",\n",
    "            num_classes=output_size,\n",
    "            ignore_index=self.pad_tag,\n",
    "          )\n",
    "      \n",
    "        self.test_precision = torchmetrics.Precision(\n",
    "            average='macro',\n",
    "            task=\"multiclass\",\n",
    "            num_classes=output_size,\n",
    "            ignore_index=self.pad_tag,\n",
    "          )\n",
    "        \n",
    "        self.test_f1_score = torchmetrics.F1Score(\n",
    "            average='macro',\n",
    "            task=\"multiclass\",\n",
    "            num_classes=output_size,\n",
    "            ignore_index=self.pad_tag,\n",
    "          )\n",
    "\n",
    "        # embedding layer is useful to map input into vector representation\n",
    "        self.embedding = nn.Embedding(vocab_size, embedding_size)\n",
    "\n",
    "        # LSTM layer preserved by PyTorch library\n",
    "        self.lstm = nn.LSTM(\n",
    "              embedding_size,\n",
    "              hidden_size,\n",
    "              n_layers,\n",
    "              dropout=dropout,\n",
    "              batch_first=True,\n",
    "              bidirectional=bidirectional,\n",
    "        )\n",
    "\n",
    "        # dropout layer\n",
    "        self.dropout = nn.Dropout(dropout)\n",
    "        self.embedding_dropout = nn.Dropout(embedding_dropout)\n",
    "\n",
    "        # Linear layer for output\n",
    "        self.fc = nn.Linear(hidden_size, output_size)\n",
    "\n",
    "    def forward(self, inputs):\n",
    "        outputs = self.embedding(inputs)\n",
    "        outputs = self.embedding_dropout(outputs) # apply dropout on embedding\n",
    "        inputs_lengths = torch.sum(inputs!=self.pad_id,axis=-1).cpu()\n",
    "        packed_outputs = nn.utils.rnn.pack_padded_sequence(\n",
    "            outputs,\n",
    "            inputs_lengths,\n",
    "            batch_first=True,\n",
    "            enforce_sorted=False,\n",
    "          )\n",
    "        if not self.bidirectional:\n",
    "          # pass forward to lstm\n",
    "          packed_outputs, _ =  self.lstm(packed_outputs)\n",
    "          outputs,lengths = nn.utils.rnn.pad_packed_sequence(packed_outputs, batch_first=True)\n",
    "        else:\n",
    "          bidirectional_packed_outputs,_ = self.lstm(packed_outputs)\n",
    "          bidirectional_outputs,lengths = nn.utils.rnn.pad_packed_sequence(\n",
    "              bidirectional_packed_outputs,\n",
    "              batch_first=True,\n",
    "              # padding_value=self.pad_id,\n",
    "              total_length=self.max_sequence_length,\n",
    "            )\n",
    "          outputs = bidirectional_outputs[:, :, : self.hidden_size] + bidirectional_outputs[:, :, self.hidden_size :]\n",
    "        outputs = self.dropout(outputs)\n",
    "        outputs = self.fc(outputs)\n",
    "        # softmax will be done in the loss calculation\n",
    "        return outputs\n",
    "\n",
    "    def step(self, inputs, labels):\n",
    "        assert torch.sum(inputs==self.pad_id)==torch.sum(labels==self.pad_tag),\\\n",
    "             f'pad ids and their target tags does not match: {torch.sum(inputs==self.pad_id):=} != {torch.sum(labels==self.pad_tag):=}'\n",
    "        outputs = self(inputs)\n",
    "        outputs = outputs.squeeze()\n",
    "        outputs = outputs.view(outputs.shape[0]*outputs.shape[1],-1)\n",
    "        labels = labels.view(-1)\n",
    "        return outputs,labels\n",
    "\n",
    "    def training_step(self, batch, batch_idx):\n",
    "        inputs, labels = batch\n",
    "        outputs,labels = self.step(inputs, labels)\n",
    "        loss = F.cross_entropy(\n",
    "            outputs,\n",
    "            labels,\n",
    "            ignore_index=self.pad_tag,\n",
    "          )\n",
    "        train_accuracy = self.train_accuracy(outputs, labels)\n",
    "        self.log(\n",
    "            \"loss\",\n",
    "            loss,\n",
    "            prog_bar=True,\n",
    "            on_step=True,\n",
    "            on_epoch=False,\n",
    "        )\n",
    "        self.log(\n",
    "            \"train_acc\",\n",
    "            train_accuracy,\n",
    "            on_step=True,\n",
    "            on_epoch=False,\n",
    "            prog_bar=True,\n",
    "            logger=True,\n",
    "        )\n",
    "        return loss\n",
    "\n",
    "    def validation_step(self, batch, batch_idx):\n",
    "        inputs, labels = batch\n",
    "        outputs,labels = self.step(inputs, labels)\n",
    "        loss = F.cross_entropy(\n",
    "            outputs,\n",
    "            labels,\n",
    "            ignore_index=self.pad_tag,\n",
    "          )\n",
    "        val_accuracy = self.val_accuracy(outputs, labels)\n",
    "        self.log(\"val_loss\", loss, prog_bar=True)\n",
    "        self.log(\n",
    "            \"val_acc\",\n",
    "            val_accuracy,\n",
    "            on_step=True,\n",
    "            on_epoch=False,\n",
    "            prog_bar=True,\n",
    "            logger=True,\n",
    "        )\n",
    "        return {\"val_loss\": loss}\n",
    "    \n",
    "    def test_step(self, batch, batch_idx):\n",
    "        inputs, labels = batch\n",
    "        outputs,labels = self.step(inputs, labels)\n",
    "        loss = F.cross_entropy(\n",
    "            outputs,\n",
    "            labels,\n",
    "            ignore_index=self.pad_tag,\n",
    "          )\n",
    "        test_accuracy = self.test_accuracy(outputs,labels)\n",
    "        test_precision = self.test_precision(outputs,labels)\n",
    "        test_recall = self.test_recall(outputs,labels)\n",
    "        test_f1_score = self.test_f1_score(outputs,labels)\n",
    "        metrics = {\n",
    "          \"test_acc\": test_accuracy,\n",
    "          \"test_precision\": test_precision,\n",
    "          \"test_recall\": test_recall,\n",
    "          \"test_f1_score\": test_f1_score,\n",
    "          \"test_loss\": loss,\n",
    "          \n",
    "        }\n",
    "        self.log_dict(metrics, prog_bar=True)\n",
    "        return outputs\n",
    "\n",
    "    def configure_optimizers(self):\n",
    "        optimizer = torch.optim.Adam(\n",
    "            self.parameters(),\n",
    "            lr=self.learning_rate,\n",
    "        )\n",
    "        scheduler = torch.optim.lr_scheduler.ReduceLROnPlateau(\n",
    "            optimizer=optimizer,\n",
    "            factor=0.5,\n",
    "            patience=1,\n",
    "            verbose=True,\n",
    "        )\n",
    "        return {\n",
    "            \"optimizer\": optimizer,\n",
    "            \"lr_scheduler\": scheduler,\n",
    "            \"monitor\": \"val_loss\",\n",
    "        }"
   ]
  },
  {
   "cell_type": "markdown",
   "metadata": {
    "id": "gPUYz2nw0nkS"
   },
   "source": [
    "## util classes/functions"
   ]
  },
  {
   "cell_type": "code",
   "execution_count": 31,
   "metadata": {
    "executionInfo": {
     "elapsed": 10,
     "status": "ok",
     "timestamp": 1685275898064,
     "user": {
      "displayName": "Maged Saeed",
      "userId": "08011552846066909361"
     },
     "user_tz": -180
    },
    "id": "IiCzhbSo41MU"
   },
   "outputs": [],
   "source": [
    "class ConfusionMatrixCallback(Callback):\n",
    "  def __init__(self,*args,**kwargs):\n",
    "    super().__init__(*args,**kwargs)\n",
    "    self.predictions = list()\n",
    "    self.labels = list()\n",
    "\n",
    "  def on_test_batch_end(self,trainer, pl_module, outputs, batch, batch_idx, dataloader_idx=0):\n",
    "    super().on_test_batch_end(\n",
    "        trainer,\n",
    "        pl_module,\n",
    "        outputs,\n",
    "        batch,\n",
    "        batch_idx,\n",
    "        dataloader_idx,\n",
    "      )\n",
    "    inputs,labels = batch\n",
    "    outputs = outputs.view(inputs.shape[0]*inputs.shape[1],-1)\n",
    "    batch_predictions = torch.argmax(outputs,dim=-1)\n",
    "    self.predictions.append(batch_predictions)\n",
    "    labels = labels.view(-1)\n",
    "    self.labels.append(labels)\n",
    "\n",
    "  def on_test_end(self, trainer, pl_module) -> None:\n",
    "     super().on_test_end(trainer, pl_module)\n",
    "     predictions = torch.cat(self.predictions).cpu()\n",
    "     labels = torch.cat(self.labels).cpu()\n",
    "     confusion_matrix_calculator = torchmetrics.ConfusionMatrix(\n",
    "            task=\"multiclass\",\n",
    "            num_classes=trainer.model.output_size,\n",
    "            ignore_index=trainer.model.pad_tag,\n",
    "     )\n",
    "     confusion_matrix = confusion_matrix_calculator(predictions,labels)\n",
    "     # zero out lists for future calculations\n",
    "     self.predictions = list()\n",
    "     self.labels = list()\n",
    "     plt.figure(figsize = (10,7))\n",
    "     sns.heatmap(confusion_matrix, annot=True,linewidths=0.5,fmt='g',cmap='Blues')"
   ]
  },
  {
   "cell_type": "code",
   "execution_count": 32,
   "metadata": {
    "executionInfo": {
     "elapsed": 10,
     "status": "ok",
     "timestamp": 1685275898064,
     "user": {
      "displayName": "Maged Saeed",
      "userId": "08011552846066909361"
     },
     "user_tz": -180
    },
    "id": "TSjrlsm0opFb"
   },
   "outputs": [],
   "source": [
    "def train_model(\n",
    "    model,\n",
    "    train_dataloader,\n",
    "    val_dataloader,\n",
    "    text_type,\n",
    "    max_epochs=50,\n",
    "):\n",
    "    checkpoints_path = Path(f\"./NER/{text_type}\")\n",
    "    shutil.rmtree(checkpoints_path, ignore_errors=True)\n",
    "    checkpoint_callback = ModelCheckpoint(\n",
    "        mode=\"min\",\n",
    "        save_top_k=1,\n",
    "        verbose=False,\n",
    "        save_last=True,\n",
    "        monitor=\"val_loss\",\n",
    "        save_weights_only=False,\n",
    "        auto_insert_metric_name=True,\n",
    "        save_on_train_epoch_end=False,\n",
    "        dirpath=f\"{checkpoints_path}/checkpoints\",\n",
    "        filename=\"{epoch}-{val_loss:.3f}-{step}\",\n",
    "    )\n",
    "    callbacks = list()\n",
    "    callbacks.append(checkpoint_callback)\n",
    "    confusion_matrix_callback = ConfusionMatrixCallback()\n",
    "    callbacks.append(confusion_matrix_callback)\n",
    "    callbacks.append(RichProgressBar())\n",
    "    early_stopping_callback = EarlyStopping(\n",
    "        monitor=\"val_loss\",\n",
    "        # min_delta=0.025,\n",
    "        min_delta=0,\n",
    "        patience=10,\n",
    "        check_finite=True,\n",
    "    )\n",
    "    callbacks.append(early_stopping_callback)\n",
    "    lr_monitor = LearningRateMonitor(\n",
    "        logging_interval=\"step\",\n",
    "        log_momentum=True,\n",
    "    )\n",
    "    callbacks.append(lr_monitor)\n",
    "    callbacks.append(EpochTimerCallback(log_results=False))\n",
    "    devices = torch.device(\"cuda\" if torch.cuda.is_available() else \"cpu\")\n",
    "    trainer = Trainer(\n",
    "        deterministic=True,\n",
    "        callbacks=callbacks,\n",
    "        gradient_clip_val=5,\n",
    "        fast_dev_run=False,\n",
    "        max_epochs=max_epochs,\n",
    "        val_check_interval=0.5,\n",
    "        accelerator=\"auto\",\n",
    "        devices=[0],\n",
    "        # log_every_n_steps=max(len(train_dataloader) // 25, 1),\n",
    "        log_every_n_steps=max(len(train_dataloader) // 25, 1),\n",
    "    )\n",
    "    trainer.validate(\n",
    "        model=model,\n",
    "        dataloaders=val_dataloader,\n",
    "    )\n",
    "    trainer.fit(\n",
    "        model,\n",
    "        train_dataloader,\n",
    "        val_dataloader,\n",
    "    )\n",
    "    return trainer"
   ]
  },
  {
   "cell_type": "markdown",
   "metadata": {
    "id": "Dw0Nkila9qWm"
   },
   "source": [
    "# Dotted Text"
   ]
  },
  {
   "cell_type": "markdown",
   "metadata": {
    "id": "sxCzDUe0fBIa"
   },
   "source": [
    "## Prepare the tokenizer"
   ]
  },
  {
   "cell_type": "code",
   "execution_count": 33,
   "metadata": {
    "executionInfo": {
     "elapsed": 1832,
     "status": "ok",
     "timestamp": 1685275899886,
     "user": {
      "displayName": "Maged Saeed",
      "userId": "08011552846066909361"
     },
     "user_tz": -180
    },
    "id": "l9hDOxurfCl4"
   },
   "outputs": [],
   "source": [
    "tokenizer = tk.WordTokenizer(vocab_size=1_000_000)"
   ]
  },
  {
   "cell_type": "code",
   "execution_count": 34,
   "metadata": {
    "colab": {
     "base_uri": "https://localhost:8080/"
    },
    "executionInfo": {
     "elapsed": 25,
     "status": "ok",
     "timestamp": 1685275899889,
     "user": {
      "displayName": "Maged Saeed",
      "userId": "08011552846066909361"
     },
     "user_tz": -180
    },
    "id": "FBnjyiuMfD9C",
    "outputId": "dbde8d37-de66-4213-b6de-74e492374abe"
   },
   "outputs": [
    {
     "name": "stdout",
     "output_type": "stream",
     "text": [
      "Training WordTokenizer ...\n"
     ]
    }
   ],
   "source": [
    "tokenizer.train(text='\\n'.join(' '.join(tokens for tokens in sample) for sample in train_dataset['tokens']))"
   ]
  },
  {
   "cell_type": "code",
   "execution_count": 35,
   "metadata": {
    "colab": {
     "base_uri": "https://localhost:8080/"
    },
    "executionInfo": {
     "elapsed": 22,
     "status": "ok",
     "timestamp": 1685275899890,
     "user": {
      "displayName": "Maged Saeed",
      "userId": "08011552846066909361"
     },
     "user_tz": -180
    },
    "id": "L7mOpl7UfGbg",
    "outputId": "8a2db96c-f0e6-4da4-fa4c-d2107218a9b5"
   },
   "outputs": [
    {
     "data": {
      "text/plain": [
       "27284"
      ]
     },
     "execution_count": 35,
     "metadata": {},
     "output_type": "execute_result"
    }
   ],
   "source": [
    "tokenizer.vocab_size"
   ]
  },
  {
   "cell_type": "code",
   "execution_count": 36,
   "metadata": {
    "colab": {
     "base_uri": "https://localhost:8080/"
    },
    "executionInfo": {
     "elapsed": 21,
     "status": "ok",
     "timestamp": 1685275899891,
     "user": {
      "displayName": "Maged Saeed",
      "userId": "08011552846066909361"
     },
     "user_tz": -180
    },
    "id": "R1JjyXezfMZn",
    "outputId": "0e9f21da-576d-4981-a850-ee060a4acd48"
   },
   "outputs": [
    {
     "data": {
      "text/plain": [
       "['السلام', 'على', ',', '<UNK>']"
      ]
     },
     "execution_count": 36,
     "metadata": {},
     "output_type": "execute_result"
    }
   ],
   "source": [
    "# test the tokenizer\n",
    "tokenizer.tokenize('السلام على , hello')"
   ]
  },
  {
   "cell_type": "markdown",
   "metadata": {
    "id": "xaKOw0Ohf18K"
   },
   "source": [
    "## tokenize and split"
   ]
  },
  {
   "cell_type": "code",
   "execution_count": 37,
   "metadata": {
    "colab": {
     "base_uri": "https://localhost:8080/",
     "height": 0,
     "referenced_widgets": [
      "02a30af1b0114c3e91501ccac36485ce",
      "a4044751d23649f7a515d39499ab409c",
      "54925e03bbe5494ca0dee872445f5b88",
      "e31bfd68f799441884ef5f9618f58339",
      "5b7f7d7224b344d8aaba6f3a39dc97a4",
      "78c8134bd527458ab626fc2779792aac",
      "5cc4250cb0fd40b0b00b3e88e91d1de2",
      "cbccef35f4e24c14be91a2ed87d41e0b",
      "75278857aa40497e8722f28885f985bf",
      "66b8ecf5a78d4e9382095ee8457e2eae",
      "0e5a377de92b420a88c1d0cfe25dbf62",
      "bbb0d808614e4aa085d652a5c62452a1",
      "20495dedc220497f8f56d2acef730a72",
      "f746a2386baf4e7684cc887230ae7621",
      "e28d685ef5b440f1bc5f433dcc78b011",
      "af78c8803b344cd58f52371e1b784748",
      "02d536c931bd485d9f2f583a3035e7ba",
      "b0aaa60965f846889e4636d5c060a920",
      "985cebc488a743409a55eb75deeabc9f",
      "06df309c799a4fd5ab3ea4e13b0883ee",
      "1ef06857d51c4835937aec1d00e3ce28",
      "df8fc8a8202248e9930b23999dffbde4",
      "4da1bb0915f6465bab8d20a687341e6d",
      "e745b323c1354ef799a97e870c43c2ad",
      "8589011e23f5421db46997ce362721cc",
      "aeed1976b02a4a24aa60bc4f7ab16280",
      "da8704fe73f34099beb36f967391c980",
      "b58f195b73f7480f86d7cee7a706647b",
      "f471d829db9548bd84a6ee123151d293",
      "bd06b8c6d9c741948fcc2cd4e8afa736",
      "8150695bca2b4823acaedfc0df7bdf5a",
      "f83ef20dbbae499d89444f367359398f",
      "5db1a153e1434e7fb1205651d1110674"
     ]
    },
    "executionInfo": {
     "elapsed": 1758,
     "status": "ok",
     "timestamp": 1685275901629,
     "user": {
      "displayName": "Maged Saeed",
      "userId": "08011552846066909361"
     },
     "user_tz": -180
    },
    "id": "OvSiiMi_gHdI",
    "outputId": "08fc4076-4712-4623-deb9-c3e5bb54fb69"
   },
   "outputs": [
    {
     "data": {
      "application/vnd.jupyter.widget-view+json": {
       "model_id": "e3619df593934bf9a764bf718cf62874",
       "version_major": 2,
       "version_minor": 0
      },
      "text/plain": [
       "0it [00:00, ?it/s]"
      ]
     },
     "metadata": {},
     "output_type": "display_data"
    },
    {
     "data": {
      "application/vnd.jupyter.widget-view+json": {
       "model_id": "d044bc06170644298cb74a9f66db6670",
       "version_major": 2,
       "version_minor": 0
      },
      "text/plain": [
       "0it [00:00, ?it/s]"
      ]
     },
     "metadata": {},
     "output_type": "display_data"
    },
    {
     "data": {
      "application/vnd.jupyter.widget-view+json": {
       "model_id": "04ba6ba951b342828e17079eed8b54f2",
       "version_major": 2,
       "version_minor": 0
      },
      "text/plain": [
       "0it [00:00, ?it/s]"
      ]
     },
     "metadata": {},
     "output_type": "display_data"
    },
    {
     "data": {
      "text/plain": [
       "((3574, 220), (3574, 220), (398, 220), (398, 220), (924, 220), (924, 220))"
      ]
     },
     "execution_count": 37,
     "metadata": {},
     "output_type": "execute_result"
    }
   ],
   "source": [
    "encoded_trainset,trainy = create_features_from_tokens_list(\n",
    "    tokens_list=train_dataset['tokens'],\n",
    "    tags_list=train_dataset['tags_labels'],\n",
    "    tokenizer=tokenizer,\n",
    "  )\n",
    "encoded_valset,valy = create_features_from_tokens_list(\n",
    "    tokens_list=validation_dataset['tokens'],\n",
    "    tags_list=validation_dataset['tags_labels'],\n",
    "    tokenizer=tokenizer,\n",
    "  )\n",
    "encoded_testset,testy = create_features_from_tokens_list(\n",
    "    tokens_list=test_dataset['tokens'],\n",
    "    tags_list=test_dataset['tags_labels'],\n",
    "    tokenizer=tokenizer,\n",
    "  )\n",
    "encoded_trainset.shape,trainy.shape,encoded_valset.shape,valy.shape,encoded_testset.shape,testy.shape"
   ]
  },
  {
   "cell_type": "code",
   "execution_count": 38,
   "metadata": {
    "executionInfo": {
     "elapsed": 8,
     "status": "ok",
     "timestamp": 1685275901630,
     "user": {
      "displayName": "Maged Saeed",
      "userId": "08011552846066909361"
     },
     "user_tz": -180
    },
    "id": "0iEKWs8lfjSe"
   },
   "outputs": [],
   "source": [
    "# create tensor datasets\n",
    "trainset = TensorDataset(torch.from_numpy(encoded_trainset), torch.from_numpy(trainy))\n",
    "validset = TensorDataset(torch.from_numpy(encoded_valset), torch.from_numpy(valy))\n",
    "testset = TensorDataset(torch.from_numpy(encoded_testset), torch.from_numpy(testy))"
   ]
  },
  {
   "cell_type": "code",
   "execution_count": 39,
   "metadata": {
    "executionInfo": {
     "elapsed": 7,
     "status": "ok",
     "timestamp": 1685275901631,
     "user": {
      "displayName": "Maged Saeed",
      "userId": "08011552846066909361"
     },
     "user_tz": -180
    },
    "id": "yGWOf8rRfknc"
   },
   "outputs": [],
   "source": [
    "# create dataloaders\n",
    "trainloader = DataLoader(trainset, shuffle=True, batch_size=batch_size,num_workers=4)\n",
    "valloader = DataLoader(validset, shuffle=False, batch_size=batch_size,num_workers=4)\n",
    "testloader = DataLoader(testset, shuffle=False, batch_size=batch_size,num_workers=4)"
   ]
  },
  {
   "cell_type": "markdown",
   "metadata": {
    "id": "jdqo3K1wf5M7"
   },
   "source": [
    "## build and train the model"
   ]
  },
  {
   "cell_type": "code",
   "execution_count": 40,
   "metadata": {
    "colab": {
     "base_uri": "https://localhost:8080/"
    },
    "executionInfo": {
     "elapsed": 525,
     "status": "ok",
     "timestamp": 1685275902150,
     "user": {
      "displayName": "Maged Saeed",
      "userId": "08011552846066909361"
     },
     "user_tz": -180
    },
    "id": "fcWFmTP1vxZ6",
    "outputId": "7f567dde-91a2-4aa9-ecc8-6216f1ae3ef4"
   },
   "outputs": [
    {
     "data": {
      "text/plain": [
       "LitBiLSTMModel(\n",
       "  (train_accuracy): MulticlassAccuracy()\n",
       "  (val_accuracy): MulticlassAccuracy()\n",
       "  (test_accuracy): MulticlassAccuracy()\n",
       "  (test_recall): MulticlassRecall()\n",
       "  (test_precision): MulticlassPrecision()\n",
       "  (test_f1_score): MulticlassF1Score()\n",
       "  (embedding): Embedding(27284, 256)\n",
       "  (lstm): LSTM(256, 512, num_layers=3, batch_first=True, dropout=0.5, bidirectional=True)\n",
       "  (dropout): Dropout(p=0.5, inplace=False)\n",
       "  (embedding_dropout): Dropout(p=0.5, inplace=False)\n",
       "  (fc): Linear(in_features=512, out_features=10, bias=True)\n",
       ")"
      ]
     },
     "execution_count": 40,
     "metadata": {},
     "output_type": "execute_result"
    }
   ],
   "source": [
    "model = LitBiLSTMModel(vocab_size=tokenizer.vocab_size)\n",
    "model"
   ]
  },
  {
   "cell_type": "code",
   "execution_count": 41,
   "metadata": {
    "colab": {
     "base_uri": "https://localhost:8080/",
     "height": 0,
     "referenced_widgets": [
      "7a9c528df09046139b89a7e4c24ea0b4",
      "8b535e70ab244d26afcaae6ca3b52469",
      "1433299856a64316bfc3d5f5262c8380",
      "3c20ed0511924545953ee60190281020",
      "f4e99fde4c6c4acfaf594d2da93f9e00",
      "bcca3820846043b0b330c38b6eecc2f4",
      "baa98e23655245a0852441c310cb4252",
      "79f7eece5f234d4bbe4e22344b7561cb",
      "a7ef339e70074407875246eabb397182",
      "d6dbfe8ca16544e4b7c7e37a153c9451",
      "930803c25f814d3593cd807fb85c1a31",
      "aab61a8e8be542a9b16952d11cada1c4",
      "b5b562ffcc994f51b52ccb59aa188b1e",
      "f2274889b443430cbadf53837a036d24",
      "08eb15ded0bf420eb249f57736c603f5",
      "13e19b2d065548a9a899722c2350c88c",
      "75d45bf18cf147eebddc36bf0c0dac6e",
      "2fe04aec7a49412aa80c9eefe37bc9a2",
      "c798a8ee5aeb4287804fe1fc5118ac59",
      "98d518562a5346609ea905d9a2633862",
      "af5c7b75c17240f2a702ef2b607827fd",
      "eec0b228552e43f5b07dc61b30e4311e",
      "92259006e0db4188b439fd603a0b744b",
      "0978494780094c678fa96f323bf46895",
      "36e3c13dc59c4952aae35c7ad0361845",
      "0fd44286ae7149a383f02cd00252634a",
      "3385a6f7cfe441ddbc4f925992ab4fd8",
      "14a5b00e9807404b861fd173fedbfb55",
      "595653f966f8438dbdbc84df0a9e8deb",
      "724f460a0b444dbcb9bdbb3043e5e87b",
      "a451ef38949341a581906abf124595db",
      "9a29be9b4d214a21b9afd9cbf8bea00e",
      "0eb3e74c4a704092bf899aa573d334ec",
      "9445611818a04fe8a4dc10535e4cf6bd",
      "a3745153c1ae4595a4e72c8ef0ddbf3e",
      "dd6097fa5ccc4f10b2c71f03067e5908",
      "31ab174edf124864969c1c24d3bb5627",
      "36f2d584c1724008be19247bb0563468",
      "9bcb7fd7ba6a49ab8c664bf07486641c",
      "3ef3b9fb09dd458a9ceefb9d483a6888",
      "821b81a6d6fe4a529648c0aba2489cf4",
      "325b492f2be44c6f950f3f3bda9760cc",
      "c71e617845c94f7bbece04e5d95af85f",
      "90843260558a4225bc99219971224c89",
      "743fb2cc2357487e944c919866278523",
      "800cb42c336a4b1182748ddee01d8f78",
      "b2facc273bd24d48bba8b873edcddf3c",
      "e40da395b15e454a95f57300ef5db2ba",
      "31a35567a8fa4b9cb70ee034cd1bcd95",
      "2561a670c36a409a9a073447ff7d290a",
      "6c141b60b87045d7928551a4c99a82bf",
      "10e911e0465541209384e2442b2f1e6b",
      "840e08baafde4cae8fdd42d65ae3e01d",
      "f1928a42f8854e93b1fd00aa97e4e7ca",
      "3f4c6ccfbd8f4034805c37526df22c8f",
      "524fe6a72cb945c091b407ea4a7c22d4",
      "1bc3bc0aaae0450f9515654b27a20e15",
      "c7836c2de12b4d8883d669c1cf996871",
      "d23de54f62454f4fa4bbf842b3ae3dad",
      "657563863c094922a0a929a41189eeb8",
      "31e1ebdb6c2f4364bfc3a03bca925c3c",
      "342c3732e94c4979ab3bfb709cb2cb3c",
      "08141d6500c845e097336281efada92a",
      "94790e63f3cd4dcdb125298ce7aa4c4d",
      "a83d307bcb26492893c63b04eb340861",
      "74a7bcbb23754057b3a4eb6381a70cbb",
      "55b528f8cace41e08c458ba92d9c4225",
      "1136f48f021c4789804d262f7406ade2",
      "2f1b6331eb434bd28acf0f096c829ef9",
      "49b37fe4ee014d4e8f47a348e6f29ef8",
      "be6b8367443d43ceb3c0100cadfdae28",
      "c55089ded7bd49aeb28dcdcdb1396b36",
      "66e8ab70eba64478ace3feec75533810",
      "f9ba8ee043eb4d20a91593432f760614",
      "c59e70dc966e46be9001a70153f420c0",
      "1404e21003814676b9a6e3f06a7bff07",
      "aa475b8bad1048b0b0ee022617e7f869",
      "9ae6cabc589945728d7d456db5300f38",
      "50782a17a58f466eb980d0f10224ee26",
      "02dd7124b6284c669c44229f14b3cba8",
      "47e67295741c4f6889c0112fc9f991d7",
      "a61bd67d85f445a1b6ef6edb2f49af26",
      "abed01993f544ed5b8601f91a2e76d7e",
      "01870faba1d440a1aa3931f187f50d33",
      "d8589b6a62f243e7844500b4c303be9e",
      "8b4beb5964fe430da77d477d432195b4",
      "bc1632d9b93a45c4921df2a19d94fa29",
      "5dc5827d9a664ee2828d22f997485ceb",
      "f47b6bf1e3954fc88603075b0943e9cb",
      "3faa31a826e644b2b7e572c7f6079d38",
      "4694c07dc20c4de6a257a0c2c321937e",
      "bf829611f98e4760bcce1804e3de03d6",
      "78a60b6badb7452e9f45e76ca01c5388",
      "100ff481fbd546769535b24da36129a5",
      "30d4dac38d5344378f9b3760b492b965",
      "421e6847f6c34a51968f5caf235c114a",
      "153eb4a46e424332a23c2aaa80a801c2",
      "140bfbe94caf42a29428dcb1d813b5d4",
      "b893e481aa8440a2bf8920d60ef4cf57",
      "2aa82da4d9374c94b32d3c9c20940912",
      "8fe0f04dbd5e429baf5c997a980b7602",
      "5e346b8298cb4b3791b760579e8f02a5",
      "e91369daece3415db581fcf2c316d5f3",
      "c900c72b59a44b31a8238f932188cc73",
      "8c1ba6ae1e6b4edb850040411015ac09",
      "90f67709ae804e17bc6af9971945b3b4",
      "a9bc8aff4f0d47ad9fe82c4a3588258d",
      "15e4b899c02e4851b5fb475cbd9b14b5",
      "4797fc5727c14340a603038fc62c9d00",
      "eb23645ab36a4fa78b50966dfdbe843b",
      "b85ed2c74e2d4908882c53415d82a53e",
      "3cd28f6d58424524b069b14becb1b0ba",
      "d733d70cbb0e465d903c591723fbef34",
      "2a90274f240a45869b11e683b0123325",
      "1ca17b68ff644742afddc4cd631b537a",
      "cc976b7a814e480ea4adc7dd413256a2",
      "6edfd0ecfe744fbf9f5a137a86398395",
      "4401383aac6041a38982c85a7f68e35e",
      "94f609f6d95d4e4489ab4f2f1a9a09a0",
      "dee2bd6832284019b2c3d5e506315941",
      "bc799be72b614065afc8bf97948c90a5",
      "3d63b63a664e43888bbeb36ab0236487",
      "19765292602f4425baa93d9f84d6014a",
      "ac178a334d574882a846e1becebf5327",
      "e9fd839dc3804aa5bf65addbbd8a50ca",
      "f0a09237da9d4bdf8d7660e36bf49536",
      "3375a391ab5c49d88c89a3dd25b88179",
      "719951b2f29c481eb1bdc29eef2f20bb",
      "4a4010d3e34b43e197ef02921ab7e475",
      "3f5933816df94e88b9a83b7cf9365c5c",
      "8a8fd88b45cc430ab63480bdc2430c5a",
      "970601f72bb04c5ca85ec1ea4632430e",
      "4b32337329f645b1b3c633bd11dfa3f3",
      "cb5e1ddfab9f46f69a3d15892dec1697",
      "05a31974b95546e4b67da0edebd43f89",
      "fa5588fc36a84974a296461340ef828a",
      "ef157f60c967417585c863677bc470fa",
      "74a18565fbda4dfd890c0d292bf542f1",
      "8d0a0c0445be47908ef2d7453e770a5c",
      "41a95b5d64b14295814dfc056d4a7c25",
      "f8910f8bce6d4ed69af52b73207c8e20",
      "7be7c5e32c944d2cbf2ce4f65f5f09ff",
      "595995c1552a45e6a65b91eef4a9c8a6",
      "e021da431db44804b351d37d1e79cb5c",
      "36030848403b41349b1d7add185ad884",
      "9a20baf5b117445c9bbb05ac025235ad",
      "3abe9bd9f49f446d915c9e0eaa454ad2",
      "270639c793c948b8be4ec0a03b6a9659",
      "2f9550d3a7554a8cabcad745a2948f7a",
      "42883033ce67473797e76973b51d248d",
      "a1239c1e959c4f3cbfcf8e10bf27df55",
      "495580decadd4e37a8a99a2799593fee",
      "9c3bb2e8378c427ba2708161fc1dff8f",
      "dfe04b8a50494bddba5837fe9b3ff617",
      "6e31ba65ff464c7dae9c7030e9dc9f12",
      "8e6ef6b874194d769b7d2d35a4e86faf",
      "1eb1dc1646914adaa3b85debbebc0084",
      "1d3c73fac80e4857913ae4187cb50b2d",
      "a827f5f2a31d4c95ba38c94d4171d89b",
      "7f493f3ae62d4e6a9bda6aa693511410",
      "97c7ba9046b842b989ea9876734dfc66",
      "367f5e549bcb423f80abe27d3de155bc",
      "239a8945c78f407685e4c7049a0a927d",
      "f24fc99e2d814ce5ad1411e313e43f54",
      "e2ae7c3cca0b49c9ba98b19a4f6ecfe6",
      "f6d48d0e64a042b9a18e0ec50f0bc77c",
      "f4c14ee55ba244948ada0461a089dadb",
      "85d098abf604427fa30d6f6af6fa3177",
      "a26b47019d6e4783b55358a2b1e96a59",
      "cb4df6663bfd48cbb08e8ee501f28173",
      "b28df45e76bd4322a0d8a84f2855a6d2",
      "f9e155ecd024415c8835a5c799e8e8d7",
      "ec44de407e9c4857b8c1d943a37d1782",
      "de03340a84694554b60bfdeb0916050e",
      "e36de7451f3a41cebd8bbd1293c88126",
      "f29dbed84a364214bf77f1681e117aa8",
      "90625071a2904b279c13a0a454b129d9",
      "b405260eaa814ddc8ae9a677fa8b3df4",
      "8de64dbc484840048d0444941ace9323",
      "cdc900843b8847c4883f1862380f8a89",
      "deab0ec7e5934000826727464545906b",
      "391a68364c32470d8b74eda129bf7f11",
      "2bfe9d060e6d43fb830a315a9645a76d",
      "9748075b3e8044a08bb8d36fc4130ff9",
      "d38b5fef1845481888ecdce0f0ce10e0",
      "5fab461343e74aaeaa1beca960699473",
      "c03eeb9a6432478d8949c7cc95ac0187",
      "f08478ba8e9e47b29a8aba5105c91d6c",
      "b6c90a86e6144d02aeab920a3057254a",
      "381157fc8a3b465b9f7d81d755cb1f06",
      "17762b06c31a4005884d0a29c8022722",
      "281dff3a275d4724945460d95892737d",
      "bc437d920dff4811b72721d0b1c4782d",
      "7f061bec328141a18c63857a1da0024e",
      "945fc4893d9a4a1f9c26d7525c4835a4",
      "1e055726f2cd41899d32f6d93c78e4e7",
      "46351a8615f84593927f676a38d09261",
      "006ba85a6ebb4946b2e68fdc04588d76",
      "a2068558198b4adc95cc1312f9f923da",
      "7aa2cab083fd4826bb4abf5175e7707b",
      "ec9a861578fe4838b06648a45219b16c",
      "3df841f815884c2d910cf8907af783f9",
      "aa0c2907bda743f5a1d6e01056a4003f",
      "feb1576d9b28495cb07cc4cf3b5c9b30",
      "0aeabbfb62f04f3f8e4115c74bc65b01",
      "f823dfc6dc22469bad6aebdedb456858",
      "d15e0385fddb4af1bf7dabfffe8c424b",
      "aafa7cfd6bed4ab391656b937b96ce56",
      "64d3e0c54fb9425d8d4d3d0de99c53d0",
      "4510579bbeda447aa7647d11a3388b87",
      "99c4cf425fee4a0d87a0389283513e58",
      "6aeab05652174de1afa53fd66b2867fd",
      "cc4a51e23a9d44938fbf286614c37871",
      "78f1b2e04b7f41b7a6debc166f742c40",
      "53a185715fd248788a4f9d74766c6108",
      "4629a65222964881b45c3b933e060ae4",
      "69bf43ecb57943cc9e8964a1f15634b6",
      "5bdff89041804f588c19b852519133ff",
      "b16d53f6bd744ab183509a14780f6a47",
      "59c281755a7346faa6c9d93dd1252ce3",
      "cca9632974a14ae6826d7cb947e05f9e",
      "65a051aaa85b461b83de60e1b27ce7e5",
      "6a5190d62f9c49598bbecf710c959772",
      "110f55448f5b4b7abf887a79b14b9ebf",
      "707675dffd2e43fbadbb78beae469cfa",
      "acf59f5d33434718bd35f755b5e8a974",
      "d647963efe714cab9839412de0013d47",
      "7f89f8708bf94c389ccb29e49740d0ef",
      "6c179e0c0f4f486b81dcf7beae34b17f",
      "5a10ee88fee4479ab7a0baf9d95bffd5",
      "61e501caf028436ea903a3b7e07e302b",
      "244a03ce321f43918ba9f6c5e59fed75",
      "1eb5d53595014ac29250e523aad14f2b",
      "918c6aa641f242d3a2f2d76a9bc9fea2",
      "1c0961aa80ee45f9bc93429d22411a36",
      "b95578009b4d48c6a6e1ff7b0eba3a9a",
      "bf1abd1db42b46fcb9efa2c1387dab62",
      "d0e025bbe22d4fd586c135709504cd70",
      "71c2276fa4e340f795dd9779b375fea8",
      "17dcbeb8622a46899b9772b0244d4b39",
      "ea4e1427401f47839b0b95ccbfa0dc45",
      "73cb26c338c04d9a915aa0ee48c45130",
      "dec3326837eb4dd3a1d9dcbe1045d86a",
      "447817273a164251a23c95788c49ba78",
      "fbdc73eacb9943c2a80a065acece5d35",
      "74ddeb8799a04887a0cc0fe01b3ab091",
      "b09e47e5cddf4830acec3f440073775b",
      "3127a133d58f4921b1e23f1b97d59bcf",
      "a51eea3a63b5478cb39f3c117f902bea",
      "1e2faeb7e26a44658386792d1764997b",
      "155f52651f9e47b9a5ebdff3f08fe32d",
      "327ae722f48e4c19be9ae46b3ad464aa",
      "3db907c217c14001bc753b460d11ea28",
      "515276da92d04a45a026108e29763d84",
      "fe4dbfa708024c0d8febe69fb97ad043",
      "6d0e8918510c44968d051687972809f1",
      "baec982eb54044089b3e6d32efdf6bbd",
      "a3d090904ae7467abc4708e3991cce82",
      "78378aef29b34b6d89eb1dd811f6290c",
      "09d206ff2a54410a9dd9c54532c74d38",
      "2351d0190df4439ea9be3f237e27f0b2",
      "0899d7cb5b2442d2919643489ff7585a",
      "137898a5905b4e928015652e691d1da7",
      "13eeed85537648c1ad3287c2ff13ad4c",
      "77459174715541f798997120504e6af4",
      "5adb1dc228e44fa9a4511716ed219e63",
      "3e5477b13cea48dab6f2680490d958d9",
      "46044610106f49e8a8665bf8fc3fffec",
      "4f936f9dce674cf98678a140cbef7bb7",
      "3de67135afce4eaca2d8d171687af11c",
      "35675501cc804e68b0600f8bed814d47",
      "f44be421a8fa48d0bc6c1826e85c14c8",
      "943a3624740b483c9e9e039889d5580a",
      "4d98d1b20f76405f9fcc8452cb1fbe09",
      "56b9c47a03274f4a99be954dad58cb6c",
      "a5cd3eb417c744d79c45dc02866c07fc",
      "afe54bd0f1404d30a2cc5b3f4e5fc6f1",
      "0b213a4871d34efdb67378095a3c0b35",
      "4403e93fbfa34e39a20045773109fe76",
      "e77993c34f5146a1b76f81b62781f35c",
      "bcc5ad0b4ee34b6e8834f5d9768db7a4",
      "e6f1ff5d72d9456da41ba31e06331cd7",
      "af8845710f92417c882c73bb95f82be9",
      "0d28ef922f31481f9b6ce79e66d37ff0",
      "697d2ca160d942dfa166c8cb268a57a4",
      "82085222ae574dba92b9d663a8f02f5e",
      "f1626c9d5ccc4a1284775910d34d4ea0",
      "49af8d9cde3042a58d4aff7d021725af",
      "bee4efe44ae94e4688204fa51929297d",
      "c9ccde18f8654e6482c3fe3db7d7e9f8",
      "a4e2962f17e1439f9b5ec0fef277a07a",
      "b31ec7fcdbdc492b91b1b2c06efb2a98",
      "65ea0c35e8014717a90a8ba70f6cfa53",
      "d060382e860a40098792b6d1ab0ce500",
      "6b9a20517feb4da7b6716332f55a314d",
      "cca9fd55a3a1449cbc506718a0a3e93d",
      "0869a93e50e54126aa8c229994b82a03",
      "9ba1d02cfed9433384f748956762e48e",
      "032a19161e294b9e9b84e1e960c78a49",
      "e2cafa8f8dca4875b82d64094fc8a874",
      "4429a196a558419382a31af9bafc5f63",
      "bf4497800a624dc0bf6372d5d34b0a50",
      "126dbbd565a642848ed84a5ce0b56fff",
      "5a0da6f61c264929af2e74b1c578ef44",
      "7a555a6d6b7b4feaa0a26fe53919a9ff",
      "b043b398cfdf4abda3489ceb897718c9",
      "05186fb1dc114c97887598027ca1b9d2",
      "b54134196c0a4ed493cdf286f3e0d035",
      "f0324553971b4ad9bc2ac4001be72ad4",
      "52cda247634c4a23bc5e4f310c35f25f",
      "5ddcdefea1274899bc524ee43da276c7",
      "f2ef175ba6984fdc99f882b6836ee39b",
      "614607c430d542bba9bc9e05025ebcab",
      "8dafe82a95434ea19ebdc1c8d9e1d70a",
      "f765975491774e9abec66e4678c61c6e",
      "a8b18d1ef16d421ba4b22c75c7405228",
      "3370d7c1bb2f4679917fb473d4a0a287",
      "e837e200e958486ebad107c69ee0bd4e",
      "165e723d1ed4491a8e8242dd0eff4252",
      "ae633b33caeb4cdb9879ed8f684955e7",
      "6285cf6a58d944f6abe8aee95224e242",
      "b2021518e47643fc9bb6c7c3a3b9073c",
      "d8c90f1ef4e74940826b845f8289c968",
      "b04f2bde224a4ff4a56bc31d1e7e7c95",
      "9acf63a3570c4eec99251298065b82c4",
      "24e2d4e9192141e780547a1a08a41b22",
      "7fc439dfae7d4de68fe659cf231f7277",
      "7d0aee31bdf645408c2ffe79f47730e1",
      "dbbeff3307d3451b8bf8ff4d55fa0271",
      "84ea5699aa2f405e9d07b915248d6a86",
      "b28e4a823eab4647bae00262e00571bf",
      "b3b3e78ace1e4e52885ec895f55d4746",
      "8d9c4361bd014f03a7ba383d91eee67e",
      "3453fd7f93c24345ac1d6a3a1fbd6727",
      "a860afe989ba4b6fa78051b42e759717",
      "9db968aa2a5b42fe8b35416ef2d35a10",
      "4b15a35807294946b11264f486f68681",
      "8dcdbb1a035a4dbcb7254b405d7d7fed",
      "69813fc001ed4107898b261f4e51d06f",
      "a70c28e09c9748499f12047716f953b8",
      "a950dcdbc82a4153b5ceeae25adc9832",
      "3abbdcd6b22a4b699c8c1a2353a28c05",
      "f068d24224d04a209bd6b1ab7f871776",
      "73c1d2ac416845bc8a0f862976b10a59",
      "6cc8a12483d846a3a97f5fea03acdd83",
      "68b2658f9dc24c0c971357831398ab2d",
      "566818e347bf432699bf024cde382fea",
      "58ad8b434eab4a39b4670f5c105e0eb0",
      "05fad0bba472497988ba312091591eff",
      "15be31c9aeee4b2abe8c6c8534188f59",
      "6bb461b04a984015bca9e486850ec067",
      "642d0462e9504b6db329ef623aa69122",
      "2f85b1f735da481f9b861cca337e87e3",
      "f6f89cc5d90f47499e640e070f3b48aa",
      "e83664514ac74a8da23126c94cbdd00e",
      "0ee7bfab730e44618130186b52c649da",
      "3e47b15c4c0e47d98d259d1f352ad0f0",
      "1b16a94ea59c4f59843b75419bcb1e49",
      "516593a73ce0462e8f4a9f17643af95c",
      "e7cd45e7ba064b9fae05b1972e2e79b6",
      "fdd7233d2aca4c4594402e868089287e",
      "fecfab4d863c4d9aa8fd602a660af146",
      "4db8d63aec0e4014abbcb33b82ed0dbe",
      "998a20833f464784b8c394e13fdbd6e8",
      "5fec5ccc034d4ed58fd1584871b4120c",
      "7ac9ca029a794e6bb9b90bded11419cc",
      "9310acb8fbf1484b9ebdeb9f84f84ed5",
      "7591ebfa206649e08cf7155a60e2bda4",
      "6a419777e0b54ede949c4aa356a7c3c8",
      "c4735186b9ce45f8b15b242a7a0e3f3f",
      "9d34db8c04c54d1aa0ce638e8b7e3cf1",
      "c3e34f627d48443fb9d78e09ad9deafa",
      "9d9729766b6c4a0dac443cb082fc8d26",
      "29fb1e9a5cc14e22aec14a5ded2106f1",
      "b56e912541c44a01a2dad0b0aebf0282",
      "8568d1f374604c7f909c3235661cae39",
      "890edfe26f9a4eeb9dd423030736da71",
      "8d15401466434b4ea25868b7c23549ca",
      "e7656110e66d47bba43f49337dbdd8cf",
      "f3cff506194f48eea9a88573776526f1",
      "615ddd81cd194ee7b858964d59581433",
      "118fa096d6524bf7a21e6d8cb76ab71b",
      "520b558039ed459ba777447ca939da53",
      "b84503a6d30e4e1da31a7cdfd126b5ba",
      "ba1d20794d3a40868453e685bcb4bf06",
      "fd35f2ff28f7472fa958cd0ed1f782d3",
      "50c539a8a27f41cda8f802a76ccc98c0",
      "fdf189f7b02d40d3b510b38ce48de1d5",
      "15de5e4aec0e41dc80d2da715638e619",
      "0567c05500c34ae5ad50ac8a30220d80",
      "38e558a2c658466e9d82044cafdc6031",
      "ed88c110818c41ceb4ee357a24b8104d",
      "0e4328235bca4525ae6582fe2cace757",
      "7262212db9a94eb7ac147e9bcce2a6eb",
      "51fafe7b7a894f18bec68642adeac507",
      "b1a577a221f34de89af4f008e0842d7d",
      "ef0a0f48c5374362b6bba0a5c52a60a9",
      "32a5135eae8a4838829a150ffb6b052e",
      "b596814ecca14bc88c29f46915fe4cad",
      "3d3ee3cf4e9b4e36b0fd54567a4499c7",
      "5fb4b53e879847429d136124043e80c7",
      "f79cde4de0e84e1b9c640d93c114f0b2",
      "f066ba822ebf4e79bd503f037c283e11",
      "1d6f96b31fdc4292a6b8862c71922d13",
      "58299f084c2749d5b812ba3b0db52c13",
      "9241d1314a804576b2ac6296d5a5d00f",
      "106d25e01a4244c5a87d0340163c1313",
      "33301715c59d4eb3894f63d3d37b13a3",
      "d23a33999b8c4e1484914a7450f754d4",
      "b595e07a7d744f459d3a6e4f3921c317",
      "f4f7b24978e6469d9e3b174dd73ac931",
      "55c3822326a64e409dad5ccc6789f496",
      "7963063427d442009092fd8d4e8801e4",
      "74f6cee61c6a4713a5d235e5658b9cd7",
      "2d51ac234ee64f25b5b13ba90ec82064",
      "ddee2a9d6a6a424598caaa93b8ffa969",
      "47b2ef96f7f14e689d3fada461f3e84c",
      "6bec127eb1b0493ea8d507f27a5f27bb",
      "6938c1597ffc4c0eb3a7182eafb291fc",
      "4907b121ebf846a2b6d1908356049f3f",
      "9f8d2098f4724b74bfdf44eaa604bf8e",
      "c63f63caaea545e7bc4d040c927348d4",
      "d4c4c163a75f4ef296f009b2ab3c9bf1",
      "4be9d19dcea54ea298c216ff906c2d2f",
      "065a2aabe4bf4fa192eacd1f43461716",
      "4f27f04021cf4faba86eb2eca3aeb997",
      "f0e0c3f32ac943269995d50284e7e15d",
      "be8116f2bac8444b9f1b52292c576ccc",
      "15522012c929419c9247a551cb6090d0",
      "978c299494a04d3d80095dd49663ff7c",
      "f44ac254aa4b46448fc6f211dfb642ac",
      "02cba1540b5d447eab801644c0d200a0",
      "e8aa9b956b664346a483398c682f8f4e",
      "e630fd81c8904be3bd800310eb05f1b2",
      "1ee7370df30342acabfba9379e337b6e",
      "4b972ecb439a4753bc51e83177433e1a",
      "97f0aead2a0e46bda86449e2818d5716",
      "d38204ecca32498dbd8ed66ba48c62e6",
      "100167ed60a24625baf57f6af20c6f7b",
      "f62c657af1204780960b440533800a72",
      "f3a9488bdcbd4df2aa79aa888b07dd24",
      "33e6c287427c4d2fa9b56bf2a68e695e",
      "295b62b200fa48769cb60acedda6bbf7",
      "d721c1554aac4758bac76bb4f318a2df",
      "50d2cb55f6f248758255f08002a19389",
      "55bb5b3b94764e818755467a0a4fa83a",
      "0442782f51844454a3efeca00d88772d",
      "50f2c099d98749168126a258abbe0d0c",
      "0992a5ec271741a5a20b8c1709d270fd",
      "2936f7526cfb4f919a1ddffe7aed69ef",
      "20df3ce218ef493f8ea49f0dcc6f72a2",
      "40ec2c61c4e0438e9df393176c3a91bf",
      "30d9a240e113499581f50a35cfef3007",
      "fd2802748ce5458e844f04528b6b8b5c",
      "d3b6bc3c070b4235a933343f4743a934",
      "da7b3d1c1b9240e38cc76ab56a4314e8",
      "c03c9b675549481195608a2c27128f87",
      "d3c67a6fb1314162b14bf4e41417e1f1",
      "9b83949d27234b339ce42ae58485a3fc",
      "b05b526bf1574d399bf189dc63c4d577",
      "c77d63f16624444daa623290371401af",
      "bc91e374c3a24682b83533a68d2e857c",
      "2c836d2a489c4b76918617bf7d11e947",
      "0ca92050428b4d7d9d879fd560f1de64",
      "2aa836a3dad84c65ac476528939089bd",
      "ad03873990d144e2a36c3fa887962e56",
      "cf57485a82ed4873b14cdd9a7b2db068",
      "80f5dc6f032f4d778ca7dcb9c333b0c2",
      "589302a57312476b996c2103b9157508",
      "0aaa0ad282e246de940378e021031bc6",
      "f75d54aaddf74910b37dcb200b2d2380",
      "84770031a00245b780e64db599643780",
      "95b8837b841249f18b608cc51bd20bc0",
      "77bed4a81af848b6b61ccfe68ed4a633",
      "24c90c4790fe4509809cbeabe6e73b37",
      "8ee050ed39644e4d9bd7bf77019750bb",
      "2ff4fd09e68c424b8d50ef5c45ce584b",
      "c58706f147844922bddc345096ceb068",
      "72867fa7a55441118b38db88006d32c7",
      "5f2389d20f104cbf9cf0905b6b5373a6",
      "c3cc02ebab9e4f999b967527ec543f3d",
      "bb7d41157b234fa98f24a0c2a6ebe7ff",
      "5555d3c4f83a43608fa4f9a7de1a95e6",
      "2dbc77dfd2d04b27a9e91f2334fd8605",
      "4a7914cd4b7b4e2e8d539c61e3c80280",
      "450bbba5c3544faa84244b785810d1e0",
      "c73c2e9e20ec40a9b3c69743c582f645",
      "4a48d5397bdf4d77a09aa9265211b11e",
      "22256724da7d4b96bb2b56212f9f5840",
      "4e8c2596df614baaa1119039e32ad356",
      "5b5c0d4aa2ab49d0a9d30f69cdeceec6",
      "6ff904b07cae41eabc7c55ccbb984e84",
      "bde65d3c38ab41f69fb5de2b17f0f9a0",
      "37f5337ba2824d0f88741536b16a7530",
      "54218ac27df9438c90e1c6a4b2a159ab",
      "a2047af67345430ba8b9335aa8053631",
      "ff1a249c2a314ab1865a4a27b0dafee2",
      "a7d5b4437fb149dc91e04378c4fb48a2",
      "d608796d8c7449d48454bedce4a622e4",
      "bda031d225b841eaa0d23b36dbdcd7f0",
      "eeae2c0d008f44dd8fbbf710848ead76",
      "20a34663fa294821b26cc4398bf42cc1",
      "c6191c3794854d87b41c58106134cbf1",
      "c111d1bb21f841d0a9f28009c0b761e0",
      "f63064fe99914140a695f45d89f5c2a9",
      "4d78385ea6584c5f94928dea23354752",
      "19af00988d1e42f181e0607a4ad5a619",
      "b7d1868889c342a8b8facee5e7452fa0",
      "fc2fbef9e71a43ee8344da0625e0f9f2",
      "be23f09dc59847408063e9bd6a75f05a",
      "950ab77c296b42469811195776897046",
      "ee37bc4e8cdd404fb32c87f1281b279d",
      "8fcb129098a84517a4410adb854eee88",
      "802d0a714b9b47d0b82d46abac73848d",
      "625708d59a8345ba9f03db1b241940f7",
      "74d45471b3ed4632b37b6af6fbff6144",
      "48c01ff308ab45d8a5be254d1eae6651"
     ]
    },
    "executionInfo": {
     "elapsed": 217863,
     "status": "ok",
     "timestamp": 1685276120011,
     "user": {
      "displayName": "Maged Saeed",
      "userId": "08011552846066909361"
     },
     "user_tz": -180
    },
    "id": "TGDiaXgnslPB",
    "outputId": "b137155a-709f-4aad-d023-6d118d71a89d"
   },
   "outputs": [
    {
     "name": "stderr",
     "output_type": "stream",
     "text": [
      "GPU available: True (cuda), used: True\n",
      "TPU available: False, using: 0 TPU cores\n",
      "IPU available: False, using: 0 IPUs\n",
      "HPU available: False, using: 0 HPUs\n",
      "You are using a CUDA device ('NVIDIA RTX A4500') that has Tensor Cores. To properly utilize them, you should set `torch.set_float32_matmul_precision('medium' | 'high')` which will trade-off precision for performance. For more details, read https://pytorch.org/docs/stable/generated/torch.set_float32_matmul_precision.html#torch.set_float32_matmul_precision\n",
      "LOCAL_RANK: 0 - CUDA_VISIBLE_DEVICES: [0,1]\n"
     ]
    },
    {
     "data": {
      "application/vnd.jupyter.widget-view+json": {
       "model_id": "64417f51e29f40a795385a1b0e09e240",
       "version_major": 2,
       "version_minor": 0
      },
      "text/plain": [
       "Output()"
      ]
     },
     "metadata": {},
     "output_type": "display_data"
    },
    {
     "data": {
      "text/html": [
       "<pre style=\"white-space:pre;overflow-x:auto;line-height:normal;font-family:Menlo,'DejaVu Sans Mono',consolas,'Courier New',monospace\">┏━━━━━━━━━━━━━━━━━━━━━━━━━━━┳━━━━━━━━━━━━━━━━━━━━━━━━━━━┓\n",
       "┃<span style=\"font-weight: bold\">      Validate metric      </span>┃<span style=\"font-weight: bold\">       DataLoader 0        </span>┃\n",
       "┡━━━━━━━━━━━━━━━━━━━━━━━━━━━╇━━━━━━━━━━━━━━━━━━━━━━━━━━━┩\n",
       "│<span style=\"color: #008080; text-decoration-color: #008080\">         val_loss          </span>│<span style=\"color: #800080; text-decoration-color: #800080\">    2.3329834938049316     </span>│\n",
       "└───────────────────────────┴───────────────────────────┘\n",
       "</pre>\n"
      ],
      "text/plain": [
       "┏━━━━━━━━━━━━━━━━━━━━━━━━━━━┳━━━━━━━━━━━━━━━━━━━━━━━━━━━┓\n",
       "┃\u001b[1m \u001b[0m\u001b[1m     Validate metric     \u001b[0m\u001b[1m \u001b[0m┃\u001b[1m \u001b[0m\u001b[1m      DataLoader 0       \u001b[0m\u001b[1m \u001b[0m┃\n",
       "┡━━━━━━━━━━━━━━━━━━━━━━━━━━━╇━━━━━━━━━━━━━━━━━━━━━━━━━━━┩\n",
       "│\u001b[36m \u001b[0m\u001b[36m        val_loss         \u001b[0m\u001b[36m \u001b[0m│\u001b[35m \u001b[0m\u001b[35m   2.3329834938049316    \u001b[0m\u001b[35m \u001b[0m│\n",
       "└───────────────────────────┴───────────────────────────┘\n"
      ]
     },
     "metadata": {},
     "output_type": "display_data"
    },
    {
     "data": {
      "text/html": [
       "<pre style=\"white-space:pre;overflow-x:auto;line-height:normal;font-family:Menlo,'DejaVu Sans Mono',consolas,'Courier New',monospace\"></pre>\n"
      ],
      "text/plain": []
     },
     "metadata": {},
     "output_type": "display_data"
    },
    {
     "data": {
      "text/html": [
       "<pre style=\"white-space:pre;overflow-x:auto;line-height:normal;font-family:Menlo,'DejaVu Sans Mono',consolas,'Courier New',monospace\">\n",
       "</pre>\n"
      ],
      "text/plain": [
       "\n"
      ]
     },
     "metadata": {},
     "output_type": "display_data"
    },
    {
     "name": "stderr",
     "output_type": "stream",
     "text": [
      "LOCAL_RANK: 0 - CUDA_VISIBLE_DEVICES: [0,1]\n"
     ]
    },
    {
     "data": {
      "text/html": [
       "<pre style=\"white-space:pre;overflow-x:auto;line-height:normal;font-family:Menlo,'DejaVu Sans Mono',consolas,'Courier New',monospace\">┏━━━━┳━━━━━━━━━━━━━━━━━━━┳━━━━━━━━━━━━━━━━━━━━━┳━━━━━━━━┓\n",
       "┃<span style=\"color: #800080; text-decoration-color: #800080; font-weight: bold\">    </span>┃<span style=\"color: #800080; text-decoration-color: #800080; font-weight: bold\"> Name              </span>┃<span style=\"color: #800080; text-decoration-color: #800080; font-weight: bold\"> Type                </span>┃<span style=\"color: #800080; text-decoration-color: #800080; font-weight: bold\"> Params </span>┃\n",
       "┡━━━━╇━━━━━━━━━━━━━━━━━━━╇━━━━━━━━━━━━━━━━━━━━━╇━━━━━━━━┩\n",
       "│<span style=\"color: #7f7f7f; text-decoration-color: #7f7f7f\"> 0  </span>│ train_accuracy    │ MulticlassAccuracy  │      0 │\n",
       "│<span style=\"color: #7f7f7f; text-decoration-color: #7f7f7f\"> 1  </span>│ val_accuracy      │ MulticlassAccuracy  │      0 │\n",
       "│<span style=\"color: #7f7f7f; text-decoration-color: #7f7f7f\"> 2  </span>│ test_accuracy     │ MulticlassAccuracy  │      0 │\n",
       "│<span style=\"color: #7f7f7f; text-decoration-color: #7f7f7f\"> 3  </span>│ test_recall       │ MulticlassRecall    │      0 │\n",
       "│<span style=\"color: #7f7f7f; text-decoration-color: #7f7f7f\"> 4  </span>│ test_precision    │ MulticlassPrecision │      0 │\n",
       "│<span style=\"color: #7f7f7f; text-decoration-color: #7f7f7f\"> 5  </span>│ test_f1_score     │ MulticlassF1Score   │      0 │\n",
       "│<span style=\"color: #7f7f7f; text-decoration-color: #7f7f7f\"> 6  </span>│ embedding         │ Embedding           │  7.0 M │\n",
       "│<span style=\"color: #7f7f7f; text-decoration-color: #7f7f7f\"> 7  </span>│ lstm              │ LSTM                │ 15.8 M │\n",
       "│<span style=\"color: #7f7f7f; text-decoration-color: #7f7f7f\"> 8  </span>│ dropout           │ Dropout             │      0 │\n",
       "│<span style=\"color: #7f7f7f; text-decoration-color: #7f7f7f\"> 9  </span>│ embedding_dropout │ Dropout             │      0 │\n",
       "│<span style=\"color: #7f7f7f; text-decoration-color: #7f7f7f\"> 10 </span>│ fc                │ Linear              │  5.1 K │\n",
       "└────┴───────────────────┴─────────────────────┴────────┘\n",
       "</pre>\n"
      ],
      "text/plain": [
       "┏━━━━┳━━━━━━━━━━━━━━━━━━━┳━━━━━━━━━━━━━━━━━━━━━┳━━━━━━━━┓\n",
       "┃\u001b[1;35m \u001b[0m\u001b[1;35m  \u001b[0m\u001b[1;35m \u001b[0m┃\u001b[1;35m \u001b[0m\u001b[1;35mName             \u001b[0m\u001b[1;35m \u001b[0m┃\u001b[1;35m \u001b[0m\u001b[1;35mType               \u001b[0m\u001b[1;35m \u001b[0m┃\u001b[1;35m \u001b[0m\u001b[1;35mParams\u001b[0m\u001b[1;35m \u001b[0m┃\n",
       "┡━━━━╇━━━━━━━━━━━━━━━━━━━╇━━━━━━━━━━━━━━━━━━━━━╇━━━━━━━━┩\n",
       "│\u001b[2m \u001b[0m\u001b[2m0 \u001b[0m\u001b[2m \u001b[0m│ train_accuracy    │ MulticlassAccuracy  │      0 │\n",
       "│\u001b[2m \u001b[0m\u001b[2m1 \u001b[0m\u001b[2m \u001b[0m│ val_accuracy      │ MulticlassAccuracy  │      0 │\n",
       "│\u001b[2m \u001b[0m\u001b[2m2 \u001b[0m\u001b[2m \u001b[0m│ test_accuracy     │ MulticlassAccuracy  │      0 │\n",
       "│\u001b[2m \u001b[0m\u001b[2m3 \u001b[0m\u001b[2m \u001b[0m│ test_recall       │ MulticlassRecall    │      0 │\n",
       "│\u001b[2m \u001b[0m\u001b[2m4 \u001b[0m\u001b[2m \u001b[0m│ test_precision    │ MulticlassPrecision │      0 │\n",
       "│\u001b[2m \u001b[0m\u001b[2m5 \u001b[0m\u001b[2m \u001b[0m│ test_f1_score     │ MulticlassF1Score   │      0 │\n",
       "│\u001b[2m \u001b[0m\u001b[2m6 \u001b[0m\u001b[2m \u001b[0m│ embedding         │ Embedding           │  7.0 M │\n",
       "│\u001b[2m \u001b[0m\u001b[2m7 \u001b[0m\u001b[2m \u001b[0m│ lstm              │ LSTM                │ 15.8 M │\n",
       "│\u001b[2m \u001b[0m\u001b[2m8 \u001b[0m\u001b[2m \u001b[0m│ dropout           │ Dropout             │      0 │\n",
       "│\u001b[2m \u001b[0m\u001b[2m9 \u001b[0m\u001b[2m \u001b[0m│ embedding_dropout │ Dropout             │      0 │\n",
       "│\u001b[2m \u001b[0m\u001b[2m10\u001b[0m\u001b[2m \u001b[0m│ fc                │ Linear              │  5.1 K │\n",
       "└────┴───────────────────┴─────────────────────┴────────┘\n"
      ]
     },
     "metadata": {},
     "output_type": "display_data"
    },
    {
     "data": {
      "text/html": [
       "<pre style=\"white-space:pre;overflow-x:auto;line-height:normal;font-family:Menlo,'DejaVu Sans Mono',consolas,'Courier New',monospace\"><span style=\"font-weight: bold\">Trainable params</span>: 22.7 M                                                                                           \n",
       "<span style=\"font-weight: bold\">Non-trainable params</span>: 0                                                                                            \n",
       "<span style=\"font-weight: bold\">Total params</span>: 22.7 M                                                                                               \n",
       "<span style=\"font-weight: bold\">Total estimated model params size (MB)</span>: 90                                                                         \n",
       "</pre>\n"
      ],
      "text/plain": [
       "\u001b[1mTrainable params\u001b[0m: 22.7 M                                                                                           \n",
       "\u001b[1mNon-trainable params\u001b[0m: 0                                                                                            \n",
       "\u001b[1mTotal params\u001b[0m: 22.7 M                                                                                               \n",
       "\u001b[1mTotal estimated model params size (MB)\u001b[0m: 90                                                                         \n"
      ]
     },
     "metadata": {},
     "output_type": "display_data"
    },
    {
     "data": {
      "application/vnd.jupyter.widget-view+json": {
       "model_id": "d4525645105c4863aac978321b7f26c2",
       "version_major": 2,
       "version_minor": 0
      },
      "text/plain": [
       "Output()"
      ]
     },
     "metadata": {},
     "output_type": "display_data"
    },
    {
     "data": {
      "text/html": [
       "<pre style=\"white-space:pre;overflow-x:auto;line-height:normal;font-family:Menlo,'DejaVu Sans Mono',consolas,'Courier New',monospace\">Epoch 00015: reducing learning rate of group 0 to 5.0000e-04.\n",
       "</pre>\n"
      ],
      "text/plain": [
       "Epoch 00015: reducing learning rate of group 0 to 5.0000e-04.\n"
      ]
     },
     "metadata": {},
     "output_type": "display_data"
    },
    {
     "data": {
      "text/html": [
       "<pre style=\"white-space:pre;overflow-x:auto;line-height:normal;font-family:Menlo,'DejaVu Sans Mono',consolas,'Courier New',monospace\">Epoch 00020: reducing learning rate of group 0 to 2.5000e-04.\n",
       "</pre>\n"
      ],
      "text/plain": [
       "Epoch 00020: reducing learning rate of group 0 to 2.5000e-04.\n"
      ]
     },
     "metadata": {},
     "output_type": "display_data"
    },
    {
     "data": {
      "text/html": [
       "<pre style=\"white-space:pre;overflow-x:auto;line-height:normal;font-family:Menlo,'DejaVu Sans Mono',consolas,'Courier New',monospace\">Epoch 00022: reducing learning rate of group 0 to 1.2500e-04.\n",
       "</pre>\n"
      ],
      "text/plain": [
       "Epoch 00022: reducing learning rate of group 0 to 1.2500e-04.\n"
      ]
     },
     "metadata": {},
     "output_type": "display_data"
    },
    {
     "data": {
      "text/html": [
       "<pre style=\"white-space:pre;overflow-x:auto;line-height:normal;font-family:Menlo,'DejaVu Sans Mono',consolas,'Courier New',monospace\"></pre>\n"
      ],
      "text/plain": []
     },
     "metadata": {},
     "output_type": "display_data"
    },
    {
     "data": {
      "text/html": [
       "<pre style=\"white-space:pre;overflow-x:auto;line-height:normal;font-family:Menlo,'DejaVu Sans Mono',consolas,'Courier New',monospace\">\n",
       "</pre>\n"
      ],
      "text/plain": [
       "\n"
      ]
     },
     "metadata": {},
     "output_type": "display_data"
    }
   ],
   "source": [
    "trainer = train_model(\n",
    "    model,\n",
    "    train_dataloader=trainloader,\n",
    "    val_dataloader=valloader,\n",
    "    text_type='dotted-text',\n",
    "  )"
   ]
  },
  {
   "cell_type": "code",
   "execution_count": 42,
   "metadata": {
    "colab": {
     "base_uri": "https://localhost:8080/",
     "height": 0,
     "referenced_widgets": [
      "8bb9288043e84a66afb349e8a412ac79",
      "86cbabbbe9af478da1e771451915b8e7",
      "b706af93b3314c77975eb8a1ee698ccb",
      "0379314d33d84dbc8ae77376e6f197cc",
      "b141a01b341b40ae89835e222b3c6197",
      "5b09fcec9cf7414c975200855cc7f04d",
      "34e9fbe739be4e1f835919040e9653b1",
      "91a95c2badc24835ba9cc596b9a47c74",
      "39ba203877314af49f63424f95afe754",
      "fa376f569bee4889b5aeff729e73b469",
      "2b5362a47217418babdb24033d7be115"
     ]
    },
    "executionInfo": {
     "elapsed": 2649,
     "status": "ok",
     "timestamp": 1685276122638,
     "user": {
      "displayName": "Maged Saeed",
      "userId": "08011552846066909361"
     },
     "user_tz": -180
    },
    "id": "CBDyVIaI0aWs",
    "outputId": "4f5e62d4-fc76-4295-df60-5958bb37eace"
   },
   "outputs": [
    {
     "name": "stderr",
     "output_type": "stream",
     "text": [
      "Restoring states from the checkpoint path at /home/majed_alshaibani/Experiments/DotlessArabic/NER/dotted-text/checkpoints/epoch=17-val_loss=0.189-step=245.ckpt\n"
     ]
    },
    {
     "name": "stderr",
     "output_type": "stream",
     "text": [
      "LOCAL_RANK: 0 - CUDA_VISIBLE_DEVICES: [0,1]\n",
      "Loaded model weights from the checkpoint at /home/majed_alshaibani/Experiments/DotlessArabic/NER/dotted-text/checkpoints/epoch=17-val_loss=0.189-step=245.ckpt\n"
     ]
    },
    {
     "data": {
      "application/vnd.jupyter.widget-view+json": {
       "model_id": "d44009ff2cf04d18949fb9e3a9a7701a",
       "version_major": 2,
       "version_minor": 0
      },
      "text/plain": [
       "Output()"
      ]
     },
     "metadata": {},
     "output_type": "display_data"
    },
    {
     "data": {
      "text/html": [
       "<pre style=\"white-space:pre;overflow-x:auto;line-height:normal;font-family:Menlo,'DejaVu Sans Mono',consolas,'Courier New',monospace\">┏━━━━━━━━━━━━━━━━━━━━━━━━━━━┳━━━━━━━━━━━━━━━━━━━━━━━━━━━┓\n",
       "┃<span style=\"font-weight: bold\">        Test metric        </span>┃<span style=\"font-weight: bold\">       DataLoader 0        </span>┃\n",
       "┡━━━━━━━━━━━━━━━━━━━━━━━━━━━╇━━━━━━━━━━━━━━━━━━━━━━━━━━━┩\n",
       "│<span style=\"color: #008080; text-decoration-color: #008080\">         test_acc          </span>│<span style=\"color: #800080; text-decoration-color: #800080\">     0.911340057849884     </span>│\n",
       "│<span style=\"color: #008080; text-decoration-color: #008080\">       test_f1_score       </span>│<span style=\"color: #800080; text-decoration-color: #800080\">    0.5477376580238342     </span>│\n",
       "│<span style=\"color: #008080; text-decoration-color: #008080\">         test_loss         </span>│<span style=\"color: #800080; text-decoration-color: #800080\">    0.43501248955726624    </span>│\n",
       "│<span style=\"color: #008080; text-decoration-color: #008080\">      test_precision       </span>│<span style=\"color: #800080; text-decoration-color: #800080\">    0.7277881503105164     </span>│\n",
       "│<span style=\"color: #008080; text-decoration-color: #008080\">        test_recall        </span>│<span style=\"color: #800080; text-decoration-color: #800080\">    0.47034937143325806    </span>│\n",
       "└───────────────────────────┴───────────────────────────┘\n",
       "</pre>\n"
      ],
      "text/plain": [
       "┏━━━━━━━━━━━━━━━━━━━━━━━━━━━┳━━━━━━━━━━━━━━━━━━━━━━━━━━━┓\n",
       "┃\u001b[1m \u001b[0m\u001b[1m       Test metric       \u001b[0m\u001b[1m \u001b[0m┃\u001b[1m \u001b[0m\u001b[1m      DataLoader 0       \u001b[0m\u001b[1m \u001b[0m┃\n",
       "┡━━━━━━━━━━━━━━━━━━━━━━━━━━━╇━━━━━━━━━━━━━━━━━━━━━━━━━━━┩\n",
       "│\u001b[36m \u001b[0m\u001b[36m        test_acc         \u001b[0m\u001b[36m \u001b[0m│\u001b[35m \u001b[0m\u001b[35m    0.911340057849884    \u001b[0m\u001b[35m \u001b[0m│\n",
       "│\u001b[36m \u001b[0m\u001b[36m      test_f1_score      \u001b[0m\u001b[36m \u001b[0m│\u001b[35m \u001b[0m\u001b[35m   0.5477376580238342    \u001b[0m\u001b[35m \u001b[0m│\n",
       "│\u001b[36m \u001b[0m\u001b[36m        test_loss        \u001b[0m\u001b[36m \u001b[0m│\u001b[35m \u001b[0m\u001b[35m   0.43501248955726624   \u001b[0m\u001b[35m \u001b[0m│\n",
       "│\u001b[36m \u001b[0m\u001b[36m     test_precision      \u001b[0m\u001b[36m \u001b[0m│\u001b[35m \u001b[0m\u001b[35m   0.7277881503105164    \u001b[0m\u001b[35m \u001b[0m│\n",
       "│\u001b[36m \u001b[0m\u001b[36m       test_recall       \u001b[0m\u001b[36m \u001b[0m│\u001b[35m \u001b[0m\u001b[35m   0.47034937143325806   \u001b[0m\u001b[35m \u001b[0m│\n",
       "└───────────────────────────┴───────────────────────────┘\n"
      ]
     },
     "metadata": {},
     "output_type": "display_data"
    },
    {
     "data": {
      "text/html": [
       "<pre style=\"white-space:pre;overflow-x:auto;line-height:normal;font-family:Menlo,'DejaVu Sans Mono',consolas,'Courier New',monospace\"></pre>\n"
      ],
      "text/plain": []
     },
     "metadata": {},
     "output_type": "display_data"
    },
    {
     "data": {
      "text/html": [
       "<pre style=\"white-space:pre;overflow-x:auto;line-height:normal;font-family:Menlo,'DejaVu Sans Mono',consolas,'Courier New',monospace\">\n",
       "</pre>\n"
      ],
      "text/plain": [
       "\n"
      ]
     },
     "metadata": {},
     "output_type": "display_data"
    },
    {
     "data": {
      "text/plain": [
       "[{'test_acc': 0.911340057849884,\n",
       "  'test_precision': 0.7277881503105164,\n",
       "  'test_recall': 0.47034937143325806,\n",
       "  'test_f1_score': 0.5477376580238342,\n",
       "  'test_loss': 0.43501248955726624}]"
      ]
     },
     "execution_count": 42,
     "metadata": {},
     "output_type": "execute_result"
    },
    {
     "data": {
      "image/png": "[encoded data removed]",
      "text/plain": [
       "<Figure size 1000x700 with 2 Axes>"
      ]
     },
     "metadata": {},
     "output_type": "display_data"
    }
   ],
   "source": [
    "#9119 test on the last model\n",
    "trainer.test(model,testloader,ckpt_path='best')"
   ]
  },
  {
   "cell_type": "code",
   "execution_count": 43,
   "metadata": {},
   "outputs": [],
   "source": [
    "epoch_timer_callback = list(filter(lambda callback: callback.__class__ == EpochTimerCallback , trainer.callbacks))[0]"
   ]
  },
  {
   "cell_type": "code",
   "execution_count": 44,
   "metadata": {},
   "outputs": [
    {
     "data": {
      "text/plain": [
       "4.903769347978675"
      ]
     },
     "execution_count": 44,
     "metadata": {},
     "output_type": "execute_result"
    }
   ],
   "source": [
    "epoch_timer_callback.average_epochs_time"
   ]
  },
  {
   "cell_type": "markdown",
   "metadata": {
    "id": "PlPqclc-FhUd"
   },
   "source": [
    "# Dotless Text"
   ]
  },
  {
   "cell_type": "markdown",
   "metadata": {
    "id": "VJsefZjXGUAI"
   },
   "source": [
    "## prepare the dataset"
   ]
  },
  {
   "cell_type": "code",
   "execution_count": 45,
   "metadata": {
    "colab": {
     "base_uri": "https://localhost:8080/",
     "height": 0,
     "referenced_widgets": [
      "117684c904c64ae49e64231f1ab61760",
      "56e31d56909b469e803a0bfbb9dee602",
      "f1b931f97eee48e2a42b72ee93f38cf8",
      "64844b670e384563ab378a88317ce103",
      "e7e722d94a87438d8c190c7978d5e437",
      "f24fe7ecf7b74d329d7bf5ab1cdd4873",
      "e50f8f7d3d454620be8325887c5d76b8",
      "73a74fc3761d4225978714a1a851a611",
      "a98640f1d6b54df78b1a1701e635ff75",
      "350286331bb0487d825b7ae1548d4fd7",
      "b098ea18054944d0b3dbc6d871be575b"
     ]
    },
    "executionInfo": {
     "elapsed": 523,
     "status": "ok",
     "timestamp": 1685276363238,
     "user": {
      "displayName": "Maged Saeed",
      "userId": "08011552846066909361"
     },
     "user_tz": -180
    },
    "id": "sHTjPCNAFhUo",
    "outputId": "cf912fb6-5b5d-41ed-c28e-56ff9f2feadd"
   },
   "outputs": [
    {
     "data": {
      "application/vnd.jupyter.widget-view+json": {
       "model_id": "b86e77880cda439087610fa805683f8e",
       "version_major": 2,
       "version_minor": 0
      },
      "text/plain": [
       "  0%|          | 0/3574 [00:00<?, ?it/s]"
      ]
     },
     "metadata": {},
     "output_type": "display_data"
    },
    {
     "data": {
      "text/html": [
       "<div>\n",
       "<style scoped>\n",
       "    .dataframe tbody tr th:only-of-type {\n",
       "        vertical-align: middle;\n",
       "    }\n",
       "\n",
       "    .dataframe tbody tr th {\n",
       "        vertical-align: top;\n",
       "    }\n",
       "\n",
       "    .dataframe thead th {\n",
       "        text-align: right;\n",
       "    }\n",
       "</style>\n",
       "<table border=\"1\" class=\"dataframe\">\n",
       "  <thead>\n",
       "    <tr style=\"text-align: right;\">\n",
       "      <th></th>\n",
       "      <th>tokens</th>\n",
       "      <th>tags</th>\n",
       "      <th>tags_labels</th>\n",
       "      <th>dotless_tokens</th>\n",
       "    </tr>\n",
       "  </thead>\n",
       "  <tbody>\n",
       "    <tr>\n",
       "      <th>0</th>\n",
       "      <td>[واعاد, راوول, الفارق, الى, سابق, عهده, عندما,...</td>\n",
       "      <td>[O, B-PERS, O, O, O, O, O, O, O, O, O, O, O, B...</td>\n",
       "      <td>[0, 4, 0, 0, 0, 0, 0, 0, 0, 0, 0, 0, 0, 1, 0, ...</td>\n",
       "      <td>[واعاد, راوول, الڡارٯ, الى, ساٮٯ, عهده, عٮدما,...</td>\n",
       "    </tr>\n",
       "    <tr>\n",
       "      <th>1</th>\n",
       "      <td>[وبحسب, الصحيفة, فإن, شركة, طيران, ريان, إير, ...</td>\n",
       "      <td>[O, O, O, O, O, B-ORG, I-ORG, O, O, O, O, O, O]</td>\n",
       "      <td>[0, 0, 0, 0, 0, 7, 2, 0, 0, 0, 0, 0, 0]</td>\n",
       "      <td>[وٮحسٮ, الصحٮڡه, ڡاں, سركه, طٮراں, رٮاں, اٮر, ...</td>\n",
       "    </tr>\n",
       "    <tr>\n",
       "      <th>2</th>\n",
       "      <td>[4, ليتر, يولدان, قوة, 110أحصنة, و148حصاناً, ع...</td>\n",
       "      <td>[O, O, O, O, O, O, O, O, O]</td>\n",
       "      <td>[0, 0, 0, 0, 0, 0, 0, 0, 0]</td>\n",
       "      <td>[4, لٮٮر, ٮولداں, ڡوه, 110احصٮه, و148حصاٮاً, ع...</td>\n",
       "    </tr>\n",
       "    <tr>\n",
       "      <th>3</th>\n",
       "      <td>[وفقدت, البرازيل, لقبها, بطلة, للعالم, بخسارته...</td>\n",
       "      <td>[O, B-LOC, O, O, O, O, O, B-LOC, O, O, O, O, O...</td>\n",
       "      <td>[0, 1, 0, 0, 0, 0, 0, 1, 0, 0, 0, 0, 0, 0, 0]</td>\n",
       "      <td>[وڡڡدٮ, الٮرارٮل, لڡٮها, ٮطله, للعالم, ٮحسارٮه...</td>\n",
       "    </tr>\n",
       "    <tr>\n",
       "      <th>4</th>\n",
       "      <td>[واعتبر, ان, \", سسياستنا, الدبلوماسية, تهدف, ب...</td>\n",
       "      <td>[O, O, O, O, O, O, O, O, O, O, O, O, O, O, O, ...</td>\n",
       "      <td>[0, 0, 0, 0, 0, 0, 0, 0, 0, 0, 0, 0, 0, 0, 0, ...</td>\n",
       "      <td>[واعٮٮر, اں, \", سسٮاسٮٮا, الدٮلوماسٮه, ٮهدڡ, ٮ...</td>\n",
       "    </tr>\n",
       "    <tr>\n",
       "      <th>...</th>\n",
       "      <td>...</td>\n",
       "      <td>...</td>\n",
       "      <td>...</td>\n",
       "      <td>...</td>\n",
       "    </tr>\n",
       "    <tr>\n",
       "      <th>3569</th>\n",
       "      <td>[وكانت, هذه, هي, اخر, مباراة, في, جولة, النادي...</td>\n",
       "      <td>[O, O, O, O, O, O, O, O, O, O, O, O, O, O, B-O...</td>\n",
       "      <td>[0, 0, 0, 0, 0, 0, 0, 0, 0, 0, 0, 0, 0, 0, 7, ...</td>\n",
       "      <td>[وكاٮٮ, هده, هى, احر, مٮاراه, ڡى, حوله, الٮادى...</td>\n",
       "    </tr>\n",
       "    <tr>\n",
       "      <th>3570</th>\n",
       "      <td>[ولقد, ظلت, ثورة, الملك, والشعب, النبراس, الذي...</td>\n",
       "      <td>[O, O, O, O, O, O, O, O, O, O, O, O, O, O, O, ...</td>\n",
       "      <td>[0, 0, 0, 0, 0, 0, 0, 0, 0, 0, 0, 0, 0, 0, 0, ...</td>\n",
       "      <td>[ولڡد, طلٮ, ٮوره, الملك, والسعٮ, الٮٮراس, الدى...</td>\n",
       "    </tr>\n",
       "    <tr>\n",
       "      <th>3571</th>\n",
       "      <td>[لأنهم, بدلاء, للسلطة, «, .]</td>\n",
       "      <td>[O, O, O, O, O]</td>\n",
       "      <td>[0, 0, 0, 0, 0]</td>\n",
       "      <td>[لاٮهم, ٮدلاء, للسلطه, «, .]</td>\n",
       "    </tr>\n",
       "    <tr>\n",
       "      <th>3572</th>\n",
       "      <td>[فقال, :, -, نجيب, محفوظ, ترك, أثره, على, الجم...</td>\n",
       "      <td>[O, O, O, B-PERS, I-PERS, O, O, O, O, O, O, O,...</td>\n",
       "      <td>[0, 0, 0, 4, 5, 0, 0, 0, 0, 0, 0, 0, 0, 0, 0, ...</td>\n",
       "      <td>[ڡڡال, :, -, ٮحٮٮ, محڡوط, ٮرك, اٮره, على, الحم...</td>\n",
       "    </tr>\n",
       "    <tr>\n",
       "      <th>3573</th>\n",
       "      <td>[ويشارك, في, هذه, البطولة, العالمية28, عداء, (...</td>\n",
       "      <td>[O, O, O, O, O, O, O, O, O, O, O, O, O, O, O, ...</td>\n",
       "      <td>[0, 0, 0, 0, 0, 0, 0, 0, 0, 0, 0, 0, 0, 0, 0, ...</td>\n",
       "      <td>[وٮسارك, ڡى, هده, الٮطوله, العالمٮه28, عداء, (...</td>\n",
       "    </tr>\n",
       "  </tbody>\n",
       "</table>\n",
       "<p>3574 rows × 4 columns</p>\n",
       "</div>"
      ],
      "text/plain": [
       "                                                 tokens  \\\n",
       "0     [واعاد, راوول, الفارق, الى, سابق, عهده, عندما,...   \n",
       "1     [وبحسب, الصحيفة, فإن, شركة, طيران, ريان, إير, ...   \n",
       "2     [4, ليتر, يولدان, قوة, 110أحصنة, و148حصاناً, ع...   \n",
       "3     [وفقدت, البرازيل, لقبها, بطلة, للعالم, بخسارته...   \n",
       "4     [واعتبر, ان, \", سسياستنا, الدبلوماسية, تهدف, ب...   \n",
       "...                                                 ...   \n",
       "3569  [وكانت, هذه, هي, اخر, مباراة, في, جولة, النادي...   \n",
       "3570  [ولقد, ظلت, ثورة, الملك, والشعب, النبراس, الذي...   \n",
       "3571                       [لأنهم, بدلاء, للسلطة, «, .]   \n",
       "3572  [فقال, :, -, نجيب, محفوظ, ترك, أثره, على, الجم...   \n",
       "3573  [ويشارك, في, هذه, البطولة, العالمية28, عداء, (...   \n",
       "\n",
       "                                                   tags  \\\n",
       "0     [O, B-PERS, O, O, O, O, O, O, O, O, O, O, O, B...   \n",
       "1       [O, O, O, O, O, B-ORG, I-ORG, O, O, O, O, O, O]   \n",
       "2                           [O, O, O, O, O, O, O, O, O]   \n",
       "3     [O, B-LOC, O, O, O, O, O, B-LOC, O, O, O, O, O...   \n",
       "4     [O, O, O, O, O, O, O, O, O, O, O, O, O, O, O, ...   \n",
       "...                                                 ...   \n",
       "3569  [O, O, O, O, O, O, O, O, O, O, O, O, O, O, B-O...   \n",
       "3570  [O, O, O, O, O, O, O, O, O, O, O, O, O, O, O, ...   \n",
       "3571                                    [O, O, O, O, O]   \n",
       "3572  [O, O, O, B-PERS, I-PERS, O, O, O, O, O, O, O,...   \n",
       "3573  [O, O, O, O, O, O, O, O, O, O, O, O, O, O, O, ...   \n",
       "\n",
       "                                            tags_labels  \\\n",
       "0     [0, 4, 0, 0, 0, 0, 0, 0, 0, 0, 0, 0, 0, 1, 0, ...   \n",
       "1               [0, 0, 0, 0, 0, 7, 2, 0, 0, 0, 0, 0, 0]   \n",
       "2                           [0, 0, 0, 0, 0, 0, 0, 0, 0]   \n",
       "3         [0, 1, 0, 0, 0, 0, 0, 1, 0, 0, 0, 0, 0, 0, 0]   \n",
       "4     [0, 0, 0, 0, 0, 0, 0, 0, 0, 0, 0, 0, 0, 0, 0, ...   \n",
       "...                                                 ...   \n",
       "3569  [0, 0, 0, 0, 0, 0, 0, 0, 0, 0, 0, 0, 0, 0, 7, ...   \n",
       "3570  [0, 0, 0, 0, 0, 0, 0, 0, 0, 0, 0, 0, 0, 0, 0, ...   \n",
       "3571                                    [0, 0, 0, 0, 0]   \n",
       "3572  [0, 0, 0, 4, 5, 0, 0, 0, 0, 0, 0, 0, 0, 0, 0, ...   \n",
       "3573  [0, 0, 0, 0, 0, 0, 0, 0, 0, 0, 0, 0, 0, 0, 0, ...   \n",
       "\n",
       "                                         dotless_tokens  \n",
       "0     [واعاد, راوول, الڡارٯ, الى, ساٮٯ, عهده, عٮدما,...  \n",
       "1     [وٮحسٮ, الصحٮڡه, ڡاں, سركه, طٮراں, رٮاں, اٮر, ...  \n",
       "2     [4, لٮٮر, ٮولداں, ڡوه, 110احصٮه, و148حصاٮاً, ع...  \n",
       "3     [وڡڡدٮ, الٮرارٮل, لڡٮها, ٮطله, للعالم, ٮحسارٮه...  \n",
       "4     [واعٮٮر, اں, \", سسٮاسٮٮا, الدٮلوماسٮه, ٮهدڡ, ٮ...  \n",
       "...                                                 ...  \n",
       "3569  [وكاٮٮ, هده, هى, احر, مٮاراه, ڡى, حوله, الٮادى...  \n",
       "3570  [ولڡد, طلٮ, ٮوره, الملك, والسعٮ, الٮٮراس, الدى...  \n",
       "3571                       [لاٮهم, ٮدلاء, للسلطه, «, .]  \n",
       "3572  [ڡڡال, :, -, ٮحٮٮ, محڡوط, ٮرك, اٮره, على, الحم...  \n",
       "3573  [وٮسارك, ڡى, هده, الٮطوله, العالمٮه28, عداء, (...  \n",
       "\n",
       "[3574 rows x 4 columns]"
      ]
     },
     "execution_count": 45,
     "metadata": {},
     "output_type": "execute_result"
    }
   ],
   "source": [
    "train_dataset['dotless_tokens'] = list(train_dataset['tokens'].progress_apply(lambda tokens: list(map(undot,tokens))))\n",
    "train_dataset"
   ]
  },
  {
   "cell_type": "code",
   "execution_count": 46,
   "metadata": {
    "colab": {
     "base_uri": "https://localhost:8080/"
    },
    "executionInfo": {
     "elapsed": 31,
     "status": "ok",
     "timestamp": 1685276363238,
     "user": {
      "displayName": "Maged Saeed",
      "userId": "08011552846066909361"
     },
     "user_tz": -180
    },
    "id": "eB1-zfujFhUp",
    "outputId": "90b8cffc-5e98-4c8b-c327-f277a729334f"
   },
   "outputs": [
    {
     "data": {
      "text/plain": [
       "(['واعاد',\n",
       "  'راوول',\n",
       "  'الڡارٯ',\n",
       "  'الى',\n",
       "  'ساٮٯ',\n",
       "  'عهده',\n",
       "  'عٮدما',\n",
       "  'سحل',\n",
       "  'الهدڡ',\n",
       "  'الراٮع',\n",
       "  'ٮٮلڡٮه',\n",
       "  'كره',\n",
       "  'مں',\n",
       "  'ٮٮكهام',\n",
       "  'ڡاٮڡرد',\n",
       "  'ٮالحارس',\n",
       "  'الاوكراٮى',\n",
       "  'وراوعه',\n",
       "  'ڡٮل',\n",
       "  'اں',\n",
       "  'ٮودعها',\n",
       "  'ٮٮمٮاه',\n",
       "  'ٮسهوله',\n",
       "  'داحل',\n",
       "  'المرمى',\n",
       "  '(',\n",
       "  '61',\n",
       "  ')',\n",
       "  '.'],\n",
       " array(['واعاد', 'راوول', 'الفارق', 'الى', 'سابق', 'عهده', 'عندما', 'سجل',\n",
       "        'الهدف', 'الرابع', 'بتلقيه', 'كرة', 'من', 'بيكهام', 'فانفرد',\n",
       "        'بالحارس', 'الاوكراني', 'وراوغه', 'قبل', 'ان', 'يودعها', 'بيمناه',\n",
       "        'بسهولة', 'داخل', 'المرمى', '(', '61', ')', '.'], dtype=object))"
      ]
     },
     "execution_count": 46,
     "metadata": {},
     "output_type": "execute_result"
    }
   ],
   "source": [
    "train_dataset['dotless_tokens'][0],train_dataset['tokens'][0]"
   ]
  },
  {
   "cell_type": "code",
   "execution_count": 47,
   "metadata": {
    "colab": {
     "base_uri": "https://localhost:8080/",
     "height": 0,
     "referenced_widgets": [
      "b52f43a7233248b8a2bfc2670db2a1f4",
      "cebafcdd99294e9bb5a7194e3c04ea20",
      "6c5d5d3805ac4e26914ee2b956fc750f",
      "439ebf83ecee4f7bb46dde35fa124761",
      "d5efa8629b8345c79c07921a300d832e",
      "fd6d3dc7d03f4e7aa8d9a5066628ab51",
      "4a321bdead5e481fbe981074f3bf61d8",
      "72af88aa46fc4413a66a75044ab19d02",
      "db57d329026f40d79777f9429252c4ef",
      "cca1043057c24737aebcdcc6116457e1",
      "82905e2320704d83b86e8f15ee089202"
     ]
    },
    "executionInfo": {
     "elapsed": 28,
     "status": "ok",
     "timestamp": 1685276363239,
     "user": {
      "displayName": "Maged Saeed",
      "userId": "08011552846066909361"
     },
     "user_tz": -180
    },
    "id": "RzwzO5gVoS2d",
    "outputId": "68acb944-0307-4cf9-c413-7bb1230f218f"
   },
   "outputs": [
    {
     "data": {
      "application/vnd.jupyter.widget-view+json": {
       "model_id": "f1f3aab6edc4474a9b39027e95f2600f",
       "version_major": 2,
       "version_minor": 0
      },
      "text/plain": [
       "  0%|          | 0/398 [00:00<?, ?it/s]"
      ]
     },
     "metadata": {},
     "output_type": "display_data"
    },
    {
     "data": {
      "text/html": [
       "<div>\n",
       "<style scoped>\n",
       "    .dataframe tbody tr th:only-of-type {\n",
       "        vertical-align: middle;\n",
       "    }\n",
       "\n",
       "    .dataframe tbody tr th {\n",
       "        vertical-align: top;\n",
       "    }\n",
       "\n",
       "    .dataframe thead th {\n",
       "        text-align: right;\n",
       "    }\n",
       "</style>\n",
       "<table border=\"1\" class=\"dataframe\">\n",
       "  <thead>\n",
       "    <tr style=\"text-align: right;\">\n",
       "      <th></th>\n",
       "      <th>tokens</th>\n",
       "      <th>tags</th>\n",
       "      <th>tags_labels</th>\n",
       "      <th>dotless_tokens</th>\n",
       "    </tr>\n",
       "  </thead>\n",
       "  <tbody>\n",
       "    <tr>\n",
       "      <th>0</th>\n",
       "      <td>[بعد, هزيمته, في, الدورة, الأولى, في, ديربي, ع...</td>\n",
       "      <td>[O, O, O, O, O, O, B-MISC, B-LOC, B-LOC, O, B-...</td>\n",
       "      <td>[0, 0, 0, 0, 0, 0, 8, 1, 1, 0, 7, 2, 0, 0, 7, ...</td>\n",
       "      <td>[ٮعد, هرٮمٮه, ڡى, الدوره, الاولى, ڡى, دٮرٮى, ع...</td>\n",
       "    </tr>\n",
       "    <tr>\n",
       "      <th>1</th>\n",
       "      <td>[وكان, جلالة, الملك, محمد, السادس, وصاحب, السم...</td>\n",
       "      <td>[O, O, O, B-PERS, I-PERS, O, O, O, O, O, B-PER...</td>\n",
       "      <td>[0, 0, 0, 4, 5, 0, 0, 0, 0, 0, 4, 0, 0, 0, 0, ...</td>\n",
       "      <td>[وكاں, حلاله, الملك, محمد, السادس, وصاحٮ, السم...</td>\n",
       "    </tr>\n",
       "    <tr>\n",
       "      <th>2</th>\n",
       "      <td>[وكانت, اعمدة, الدخان, تتصاعد, من, موقعين, في,...</td>\n",
       "      <td>[O, O, O, O, O, O, O, O, O, O, O, O, O, O, O, ...</td>\n",
       "      <td>[0, 0, 0, 0, 0, 0, 0, 0, 0, 0, 0, 0, 0, 0, 0, ...</td>\n",
       "      <td>[وكاٮٮ, اعمده, الدحاں, ٮٮصاعد, مں, موڡعٮں, ڡى,...</td>\n",
       "    </tr>\n",
       "    <tr>\n",
       "      <th>3</th>\n",
       "      <td>[6%, خلال, النصف, الأول, من, العام, 2006, مقار...</td>\n",
       "      <td>[O, O, O, O, O, O, O, O, O, O, O, O, O, O]</td>\n",
       "      <td>[0, 0, 0, 0, 0, 0, 0, 0, 0, 0, 0, 0, 0, 0]</td>\n",
       "      <td>[6%, حلال, الٮصڡ, الاول, مں, العام, 2006, مڡار...</td>\n",
       "    </tr>\n",
       "    <tr>\n",
       "      <th>4</th>\n",
       "      <td>[الحقيقة, ندركها, حين, نجرب, الدخول, إلى, أحد,...</td>\n",
       "      <td>[O, O, O, O, O, O, O, O, O, O, O, O, O, O, B-O...</td>\n",
       "      <td>[0, 0, 0, 0, 0, 0, 0, 0, 0, 0, 0, 0, 0, 0, 7, ...</td>\n",
       "      <td>[الحڡٮڡه, ٮدركها, حٮں, ٮحرٮ, الدحول, الى, احد,...</td>\n",
       "    </tr>\n",
       "    <tr>\n",
       "      <th>...</th>\n",
       "      <td>...</td>\n",
       "      <td>...</td>\n",
       "      <td>...</td>\n",
       "      <td>...</td>\n",
       "    </tr>\n",
       "    <tr>\n",
       "      <th>393</th>\n",
       "      <td>[يقول, :, », إنه, يقع, في, أقصى, لعبة, الشطرنج...</td>\n",
       "      <td>[O, O, O, O, O, O, O, O, O, O, O, O, O, O, O, ...</td>\n",
       "      <td>[0, 0, 0, 0, 0, 0, 0, 0, 0, 0, 0, 0, 0, 0, 0, ...</td>\n",
       "      <td>[ٮڡول, :, », اٮه, ٮڡع, ڡى, اڡصى, لعٮه, السطرٮح...</td>\n",
       "    </tr>\n",
       "    <tr>\n",
       "      <th>394</th>\n",
       "      <td>[والذي, لا, يعرفه, عدد, كبير, من, الناس, ,, أن...</td>\n",
       "      <td>[O, O, O, O, O, O, O, O, O, O, O, O, O, O, O, ...</td>\n",
       "      <td>[0, 0, 0, 0, 0, 0, 0, 0, 0, 0, 0, 0, 0, 0, 0, ...</td>\n",
       "      <td>[والدى, لا, ٮعرڡه, عدد, كٮٮر, مں, الٮاس, ,, اں...</td>\n",
       "    </tr>\n",
       "    <tr>\n",
       "      <th>395</th>\n",
       "      <td>[تم, استعمال, الأسلحة, الكيميائية, في, تلك, ال...</td>\n",
       "      <td>[O, O, O, O, O, O, O, O, O, O, O, O, O, O, O, ...</td>\n",
       "      <td>[0, 0, 0, 0, 0, 0, 0, 0, 0, 0, 0, 0, 0, 0, 0, ...</td>\n",
       "      <td>[ٮم, اسٮعمال, الاسلحه, الكٮمٮاىٮه, ڡى, ٮلك, ال...</td>\n",
       "    </tr>\n",
       "    <tr>\n",
       "      <th>396</th>\n",
       "      <td>[واضاف, ان, التقرير, الطبي, أكد, حاجة, صدام, إ...</td>\n",
       "      <td>[O, O, O, O, O, O, B-PERS, O, O, O, O]</td>\n",
       "      <td>[0, 0, 0, 0, 0, 0, 4, 0, 0, 0, 0]</td>\n",
       "      <td>[واصاڡ, اں, الٮڡرٮر, الطٮى, اكد, حاحه, صدام, ا...</td>\n",
       "    </tr>\n",
       "    <tr>\n",
       "      <th>397</th>\n",
       "      <td>[وذكر, الاتحاد, الصيني, لشركات, صناعة, السيارا...</td>\n",
       "      <td>[O, B-ORG, I-ORG, I-ORG, I-ORG, I-ORG, O, O, O...</td>\n",
       "      <td>[0, 7, 2, 2, 2, 2, 0, 0, 0, 0, 0, 0, 0, 0, 0, ...</td>\n",
       "      <td>[ودكر, الاٮحاد, الصٮٮى, لسركاٮ, صٮاعه, السٮارا...</td>\n",
       "    </tr>\n",
       "  </tbody>\n",
       "</table>\n",
       "<p>398 rows × 4 columns</p>\n",
       "</div>"
      ],
      "text/plain": [
       "                                                tokens  \\\n",
       "0    [بعد, هزيمته, في, الدورة, الأولى, في, ديربي, ع...   \n",
       "1    [وكان, جلالة, الملك, محمد, السادس, وصاحب, السم...   \n",
       "2    [وكانت, اعمدة, الدخان, تتصاعد, من, موقعين, في,...   \n",
       "3    [6%, خلال, النصف, الأول, من, العام, 2006, مقار...   \n",
       "4    [الحقيقة, ندركها, حين, نجرب, الدخول, إلى, أحد,...   \n",
       "..                                                 ...   \n",
       "393  [يقول, :, », إنه, يقع, في, أقصى, لعبة, الشطرنج...   \n",
       "394  [والذي, لا, يعرفه, عدد, كبير, من, الناس, ,, أن...   \n",
       "395  [تم, استعمال, الأسلحة, الكيميائية, في, تلك, ال...   \n",
       "396  [واضاف, ان, التقرير, الطبي, أكد, حاجة, صدام, إ...   \n",
       "397  [وذكر, الاتحاد, الصيني, لشركات, صناعة, السيارا...   \n",
       "\n",
       "                                                  tags  \\\n",
       "0    [O, O, O, O, O, O, B-MISC, B-LOC, B-LOC, O, B-...   \n",
       "1    [O, O, O, B-PERS, I-PERS, O, O, O, O, O, B-PER...   \n",
       "2    [O, O, O, O, O, O, O, O, O, O, O, O, O, O, O, ...   \n",
       "3           [O, O, O, O, O, O, O, O, O, O, O, O, O, O]   \n",
       "4    [O, O, O, O, O, O, O, O, O, O, O, O, O, O, B-O...   \n",
       "..                                                 ...   \n",
       "393  [O, O, O, O, O, O, O, O, O, O, O, O, O, O, O, ...   \n",
       "394  [O, O, O, O, O, O, O, O, O, O, O, O, O, O, O, ...   \n",
       "395  [O, O, O, O, O, O, O, O, O, O, O, O, O, O, O, ...   \n",
       "396             [O, O, O, O, O, O, B-PERS, O, O, O, O]   \n",
       "397  [O, B-ORG, I-ORG, I-ORG, I-ORG, I-ORG, O, O, O...   \n",
       "\n",
       "                                           tags_labels  \\\n",
       "0    [0, 0, 0, 0, 0, 0, 8, 1, 1, 0, 7, 2, 0, 0, 7, ...   \n",
       "1    [0, 0, 0, 4, 5, 0, 0, 0, 0, 0, 4, 0, 0, 0, 0, ...   \n",
       "2    [0, 0, 0, 0, 0, 0, 0, 0, 0, 0, 0, 0, 0, 0, 0, ...   \n",
       "3           [0, 0, 0, 0, 0, 0, 0, 0, 0, 0, 0, 0, 0, 0]   \n",
       "4    [0, 0, 0, 0, 0, 0, 0, 0, 0, 0, 0, 0, 0, 0, 7, ...   \n",
       "..                                                 ...   \n",
       "393  [0, 0, 0, 0, 0, 0, 0, 0, 0, 0, 0, 0, 0, 0, 0, ...   \n",
       "394  [0, 0, 0, 0, 0, 0, 0, 0, 0, 0, 0, 0, 0, 0, 0, ...   \n",
       "395  [0, 0, 0, 0, 0, 0, 0, 0, 0, 0, 0, 0, 0, 0, 0, ...   \n",
       "396                  [0, 0, 0, 0, 0, 0, 4, 0, 0, 0, 0]   \n",
       "397  [0, 7, 2, 2, 2, 2, 0, 0, 0, 0, 0, 0, 0, 0, 0, ...   \n",
       "\n",
       "                                        dotless_tokens  \n",
       "0    [ٮعد, هرٮمٮه, ڡى, الدوره, الاولى, ڡى, دٮرٮى, ع...  \n",
       "1    [وكاں, حلاله, الملك, محمد, السادس, وصاحٮ, السم...  \n",
       "2    [وكاٮٮ, اعمده, الدحاں, ٮٮصاعد, مں, موڡعٮں, ڡى,...  \n",
       "3    [6%, حلال, الٮصڡ, الاول, مں, العام, 2006, مڡار...  \n",
       "4    [الحڡٮڡه, ٮدركها, حٮں, ٮحرٮ, الدحول, الى, احد,...  \n",
       "..                                                 ...  \n",
       "393  [ٮڡول, :, », اٮه, ٮڡع, ڡى, اڡصى, لعٮه, السطرٮح...  \n",
       "394  [والدى, لا, ٮعرڡه, عدد, كٮٮر, مں, الٮاس, ,, اں...  \n",
       "395  [ٮم, اسٮعمال, الاسلحه, الكٮمٮاىٮه, ڡى, ٮلك, ال...  \n",
       "396  [واصاڡ, اں, الٮڡرٮر, الطٮى, اكد, حاحه, صدام, ا...  \n",
       "397  [ودكر, الاٮحاد, الصٮٮى, لسركاٮ, صٮاعه, السٮارا...  \n",
       "\n",
       "[398 rows x 4 columns]"
      ]
     },
     "execution_count": 47,
     "metadata": {},
     "output_type": "execute_result"
    }
   ],
   "source": [
    "validation_dataset['dotless_tokens'] = validation_dataset['tokens'].progress_apply(lambda tokens: list(map(undot,tokens)))\n",
    "validation_dataset"
   ]
  },
  {
   "cell_type": "code",
   "execution_count": 48,
   "metadata": {
    "colab": {
     "base_uri": "https://localhost:8080/",
     "height": 0,
     "referenced_widgets": [
      "a3d71e48b6374b6596b3cff424655b01",
      "20bc01bac5044cd5973fb17caf3cb0dd",
      "e2069b4535d04b9d9632a195d30075fd",
      "e11293673b1547cf9c222a054e79bc2e",
      "43ff37c7c4774ce0934f5d9903838374",
      "1c0556f0ba76434fa8964251ffef3685",
      "087e025812304973bc3c1febae5fb998",
      "fd2c810832874e30bf25a984fcf35582",
      "2547668f641141a1bd6860d73692f6f7",
      "f16a17e9d23944d29ad48be3d6f1d1bd",
      "8126530c04ce49eabb47e5ef4b0747b6"
     ]
    },
    "executionInfo": {
     "elapsed": 22,
     "status": "ok",
     "timestamp": 1685276363239,
     "user": {
      "displayName": "Maged Saeed",
      "userId": "08011552846066909361"
     },
     "user_tz": -180
    },
    "id": "1EP226MpFhUp",
    "outputId": "937592ec-d82f-4d07-bebf-aeccdf48b260"
   },
   "outputs": [
    {
     "data": {
      "application/vnd.jupyter.widget-view+json": {
       "model_id": "645ce36b4ba4482890404abc8dfd4026",
       "version_major": 2,
       "version_minor": 0
      },
      "text/plain": [
       "  0%|          | 0/924 [00:00<?, ?it/s]"
      ]
     },
     "metadata": {},
     "output_type": "display_data"
    },
    {
     "data": {
      "text/html": [
       "<div>\n",
       "<style scoped>\n",
       "    .dataframe tbody tr th:only-of-type {\n",
       "        vertical-align: middle;\n",
       "    }\n",
       "\n",
       "    .dataframe tbody tr th {\n",
       "        vertical-align: top;\n",
       "    }\n",
       "\n",
       "    .dataframe thead th {\n",
       "        text-align: right;\n",
       "    }\n",
       "</style>\n",
       "<table border=\"1\" class=\"dataframe\">\n",
       "  <thead>\n",
       "    <tr style=\"text-align: right;\">\n",
       "      <th></th>\n",
       "      <th>tokens</th>\n",
       "      <th>tags</th>\n",
       "      <th>tags_labels</th>\n",
       "      <th>dotless_tokens</th>\n",
       "    </tr>\n",
       "  </thead>\n",
       "  <tbody>\n",
       "    <tr>\n",
       "      <th>0</th>\n",
       "      <td>[الصالحية, المفرق, -, غيث, الطراونة, -, أمر, ج...</td>\n",
       "      <td>[B-LOC, B-LOC, O, B-PERS, I-PERS, O, O, O, O, ...</td>\n",
       "      <td>[1, 1, 0, 4, 5, 0, 0, 0, 0, 4, 5, 0, 0, 0, 0, ...</td>\n",
       "      <td>[الصالحٮه, المڡرٯ, -, عٮٮ, الطراوٮه, -, امر, ح...</td>\n",
       "    </tr>\n",
       "    <tr>\n",
       "      <th>1</th>\n",
       "      <td>[برند, جلالته, خلال, اللقاء, الذي, جمعه, وأعضا...</td>\n",
       "      <td>[B-PERS, O, O, O, O, O, O, O, O, O, O, O, O, O...</td>\n",
       "      <td>[4, 0, 0, 0, 0, 0, 0, 0, 0, 0, 0, 0, 0, 0, 0, ...</td>\n",
       "      <td>[ٮرٮد, حلالٮه, حلال, اللڡاء, الدى, حمعه, واعصا...</td>\n",
       "    </tr>\n",
       "    <tr>\n",
       "      <th>2</th>\n",
       "      <td>[مرتفع, جلالته, أريد, ان, استمع, منكم, عن, الم...</td>\n",
       "      <td>[O, O, O, O, O, O, O, O, O, O, O, O, O, O, O, ...</td>\n",
       "      <td>[0, 0, 0, 0, 0, 0, 0, 0, 0, 0, 0, 0, 0, 0, 0, ...</td>\n",
       "      <td>[مرٮڡع, حلالٮه, ارٮد, اں, اسٮمع, مٮكم, عں, الم...</td>\n",
       "    </tr>\n",
       "    <tr>\n",
       "      <th>3</th>\n",
       "      <td>[زادت, جلالته, على, انه, سوف, يعود, الى, الباد...</td>\n",
       "      <td>[O, O, O, O, O, O, O, O, O, O, O, O, O, O, O, ...</td>\n",
       "      <td>[0, 0, 0, 0, 0, 0, 0, 0, 0, 0, 0, 0, 0, 0, 0, ...</td>\n",
       "      <td>[رادٮ, حلالٮه, على, اٮه, سوڡ, ٮعود, الى, الٮاد...</td>\n",
       "    </tr>\n",
       "    <tr>\n",
       "      <th>4</th>\n",
       "      <td>[لصادرات, جلالة, الملك, اطلق, في, ايار, الماضي...</td>\n",
       "      <td>[O, O, O, O, O, O, O, O, O, O, O, O, O, O, O, ...</td>\n",
       "      <td>[0, 0, 0, 0, 0, 0, 0, 0, 0, 0, 0, 0, 0, 0, 0, ...</td>\n",
       "      <td>[لصادراٮ, حلاله, الملك, اطلٯ, ڡى, اٮار, الماصى...</td>\n",
       "    </tr>\n",
       "    <tr>\n",
       "      <th>...</th>\n",
       "      <td>...</td>\n",
       "      <td>...</td>\n",
       "      <td>...</td>\n",
       "      <td>...</td>\n",
       "    </tr>\n",
       "    <tr>\n",
       "      <th>919</th>\n",
       "      <td>[الإلكترون, الرغم, من, تصريحه, أكثر, من, مرة, ...</td>\n",
       "      <td>[O, O, O, O, O, O, O, O, O, O, O, O, O, O, O, ...</td>\n",
       "      <td>[0, 0, 0, 0, 0, 0, 0, 0, 0, 0, 0, 0, 0, 0, 0, ...</td>\n",
       "      <td>[الالكٮروں, الرعم, مں, ٮصرٮحه, اكٮر, مں, مره, ...</td>\n",
       "    </tr>\n",
       "    <tr>\n",
       "      <th>920</th>\n",
       "      <td>[\", الأمير, السعودي, في, قطاعات, استثمارية, مت...</td>\n",
       "      <td>[O, O, O, O, O, O, O, O, O, O, O, O, O, B-ORG,...</td>\n",
       "      <td>[0, 0, 0, 0, 0, 0, 0, 0, 0, 0, 0, 0, 0, 7, 2, ...</td>\n",
       "      <td>[\", الامٮر, السعودى, ڡى, ڡطاعاٮ, اسٮٮمارٮه, مٮ...</td>\n",
       "    </tr>\n",
       "    <tr>\n",
       "      <th>921</th>\n",
       "      <td>[وتتهم, بن, طلال, شهادة, البكالوريوس, في, إدار...</td>\n",
       "      <td>[O, I-PERS, I-PERS, O, O, O, O, O, O, O, O, O,...</td>\n",
       "      <td>[0, 5, 5, 0, 0, 0, 0, 0, 0, 0, 0, 0, 0, 0, 0, ...</td>\n",
       "      <td>[وٮٮهم, ٮں, طلال, سهاده, الٮكالورٮوس, ڡى, ادار...</td>\n",
       "    </tr>\n",
       "    <tr>\n",
       "      <th>922</th>\n",
       "      <td>[ذلك, ،, يتابع, الوليد, بن, طلال, أعماله, التج...</td>\n",
       "      <td>[O, O, O, B-PERS, I-PERS, B-PERS, O, O, O, O, ...</td>\n",
       "      <td>[0, 0, 0, 4, 5, 4, 0, 0, 0, 0, 0, 0, 0, 0, 0, ...</td>\n",
       "      <td>[دلك, ،, ٮٮاٮع, الولٮد, ٮں, طلال, اعماله, الٮح...</td>\n",
       "    </tr>\n",
       "    <tr>\n",
       "      <th>923</th>\n",
       "      <td>[الوزيرة, ابن, وابنة, ،, خالد, وريم, .]</td>\n",
       "      <td>[O, O, O, O, B-PERS, B-PERS, O]</td>\n",
       "      <td>[0, 0, 0, 0, 4, 4, 0]</td>\n",
       "      <td>[الورٮره, اٮں, واٮٮه, ،, حالد, ورٮم, .]</td>\n",
       "    </tr>\n",
       "  </tbody>\n",
       "</table>\n",
       "<p>924 rows × 4 columns</p>\n",
       "</div>"
      ],
      "text/plain": [
       "                                                tokens  \\\n",
       "0    [الصالحية, المفرق, -, غيث, الطراونة, -, أمر, ج...   \n",
       "1    [برند, جلالته, خلال, اللقاء, الذي, جمعه, وأعضا...   \n",
       "2    [مرتفع, جلالته, أريد, ان, استمع, منكم, عن, الم...   \n",
       "3    [زادت, جلالته, على, انه, سوف, يعود, الى, الباد...   \n",
       "4    [لصادرات, جلالة, الملك, اطلق, في, ايار, الماضي...   \n",
       "..                                                 ...   \n",
       "919  [الإلكترون, الرغم, من, تصريحه, أكثر, من, مرة, ...   \n",
       "920  [\", الأمير, السعودي, في, قطاعات, استثمارية, مت...   \n",
       "921  [وتتهم, بن, طلال, شهادة, البكالوريوس, في, إدار...   \n",
       "922  [ذلك, ،, يتابع, الوليد, بن, طلال, أعماله, التج...   \n",
       "923            [الوزيرة, ابن, وابنة, ،, خالد, وريم, .]   \n",
       "\n",
       "                                                  tags  \\\n",
       "0    [B-LOC, B-LOC, O, B-PERS, I-PERS, O, O, O, O, ...   \n",
       "1    [B-PERS, O, O, O, O, O, O, O, O, O, O, O, O, O...   \n",
       "2    [O, O, O, O, O, O, O, O, O, O, O, O, O, O, O, ...   \n",
       "3    [O, O, O, O, O, O, O, O, O, O, O, O, O, O, O, ...   \n",
       "4    [O, O, O, O, O, O, O, O, O, O, O, O, O, O, O, ...   \n",
       "..                                                 ...   \n",
       "919  [O, O, O, O, O, O, O, O, O, O, O, O, O, O, O, ...   \n",
       "920  [O, O, O, O, O, O, O, O, O, O, O, O, O, B-ORG,...   \n",
       "921  [O, I-PERS, I-PERS, O, O, O, O, O, O, O, O, O,...   \n",
       "922  [O, O, O, B-PERS, I-PERS, B-PERS, O, O, O, O, ...   \n",
       "923                    [O, O, O, O, B-PERS, B-PERS, O]   \n",
       "\n",
       "                                           tags_labels  \\\n",
       "0    [1, 1, 0, 4, 5, 0, 0, 0, 0, 4, 5, 0, 0, 0, 0, ...   \n",
       "1    [4, 0, 0, 0, 0, 0, 0, 0, 0, 0, 0, 0, 0, 0, 0, ...   \n",
       "2    [0, 0, 0, 0, 0, 0, 0, 0, 0, 0, 0, 0, 0, 0, 0, ...   \n",
       "3    [0, 0, 0, 0, 0, 0, 0, 0, 0, 0, 0, 0, 0, 0, 0, ...   \n",
       "4    [0, 0, 0, 0, 0, 0, 0, 0, 0, 0, 0, 0, 0, 0, 0, ...   \n",
       "..                                                 ...   \n",
       "919  [0, 0, 0, 0, 0, 0, 0, 0, 0, 0, 0, 0, 0, 0, 0, ...   \n",
       "920  [0, 0, 0, 0, 0, 0, 0, 0, 0, 0, 0, 0, 0, 7, 2, ...   \n",
       "921  [0, 5, 5, 0, 0, 0, 0, 0, 0, 0, 0, 0, 0, 0, 0, ...   \n",
       "922  [0, 0, 0, 4, 5, 4, 0, 0, 0, 0, 0, 0, 0, 0, 0, ...   \n",
       "923                              [0, 0, 0, 0, 4, 4, 0]   \n",
       "\n",
       "                                        dotless_tokens  \n",
       "0    [الصالحٮه, المڡرٯ, -, عٮٮ, الطراوٮه, -, امر, ح...  \n",
       "1    [ٮرٮد, حلالٮه, حلال, اللڡاء, الدى, حمعه, واعصا...  \n",
       "2    [مرٮڡع, حلالٮه, ارٮد, اں, اسٮمع, مٮكم, عں, الم...  \n",
       "3    [رادٮ, حلالٮه, على, اٮه, سوڡ, ٮعود, الى, الٮاد...  \n",
       "4    [لصادراٮ, حلاله, الملك, اطلٯ, ڡى, اٮار, الماصى...  \n",
       "..                                                 ...  \n",
       "919  [الالكٮروں, الرعم, مں, ٮصرٮحه, اكٮر, مں, مره, ...  \n",
       "920  [\", الامٮر, السعودى, ڡى, ڡطاعاٮ, اسٮٮمارٮه, مٮ...  \n",
       "921  [وٮٮهم, ٮں, طلال, سهاده, الٮكالورٮوس, ڡى, ادار...  \n",
       "922  [دلك, ،, ٮٮاٮع, الولٮد, ٮں, طلال, اعماله, الٮح...  \n",
       "923            [الورٮره, اٮں, واٮٮه, ،, حالد, ورٮم, .]  \n",
       "\n",
       "[924 rows x 4 columns]"
      ]
     },
     "execution_count": 48,
     "metadata": {},
     "output_type": "execute_result"
    }
   ],
   "source": [
    "test_dataset['dotless_tokens'] = test_dataset['tokens'].progress_apply(lambda tokens: list(map(undot,tokens)))\n",
    "test_dataset"
   ]
  },
  {
   "cell_type": "code",
   "execution_count": 49,
   "metadata": {
    "colab": {
     "base_uri": "https://localhost:8080/"
    },
    "executionInfo": {
     "elapsed": 16,
     "status": "ok",
     "timestamp": 1685276363239,
     "user": {
      "displayName": "Maged Saeed",
      "userId": "08011552846066909361"
     },
     "user_tz": -180
    },
    "id": "IG-msZUqFhUp",
    "outputId": "b0820537-495a-4b0d-cbfd-21419914a3bd"
   },
   "outputs": [
    {
     "data": {
      "text/plain": [
       "(['الصالحٮه',\n",
       "  'المڡرٯ',\n",
       "  '-',\n",
       "  'عٮٮ',\n",
       "  'الطراوٮه',\n",
       "  '-',\n",
       "  'امر',\n",
       "  'حلاله',\n",
       "  'الملك',\n",
       "  'عٮدالله',\n",
       "  'الٮاٮى',\n",
       "  'امس',\n",
       "  'ٮٮٮڡٮد',\n",
       "  'حرمه',\n",
       "  'مں',\n",
       "  'المسارٮع',\n",
       "  'الٮعلٮمٮه',\n",
       "  'والصحٮه',\n",
       "  'والٮٮموٮه',\n",
       "  'واحرى',\n",
       "  'مرٮٮطه',\n",
       "  'ٮالاٮدٮه',\n",
       "  'السٮاٮٮه',\n",
       "  'و',\n",
       "  '27',\n",
       "  'وحده',\n",
       "  'سكٮٮه',\n",
       "  'ڡى',\n",
       "  'ڡصاء',\n",
       "  'الصالحٮه',\n",
       "  'وٮاٮڡه',\n",
       "  'ڡى',\n",
       "  'الٮادٮه',\n",
       "  'السرڡٮه',\n",
       "  'حلال',\n",
       "  'سٮه',\n",
       "  'اسهر',\n",
       "  'ٮٮموٮل',\n",
       "  'مں',\n",
       "  'الدٮواں',\n",
       "  'الملكى',\n",
       "  'الهاسمى',\n",
       "  '.'],\n",
       " array(['الصالحية', 'المفرق', '-', 'غيث', 'الطراونة', '-', 'أمر', 'جلالة',\n",
       "        'الملك', 'عبدالله', 'الثاني', 'أمس', 'بتنفيذ', 'حزمة', 'من',\n",
       "        'المشاريع', 'التعليمية', 'والصحية', 'والتنموية', 'وأخرى', 'مرتبطة',\n",
       "        'بالأندية', 'الشبابية', 'و', '27', 'وحدة', 'سكنية', 'في', 'قضاء',\n",
       "        'الصالحية', 'ونايفة', 'في', 'البادية', 'الشرقية', 'خلال', 'ستة',\n",
       "        'اشهر', 'بتمويل', 'من', 'الديوان', 'الملكي', 'الهاشمي', '.'],\n",
       "       dtype=object))"
      ]
     },
     "execution_count": 49,
     "metadata": {},
     "output_type": "execute_result"
    }
   ],
   "source": [
    "test_dataset['dotless_tokens'][0],test_dataset['tokens'][0]"
   ]
  },
  {
   "cell_type": "markdown",
   "metadata": {
    "id": "AONwJh-dFhUq"
   },
   "source": [
    "## create the tokenizer"
   ]
  },
  {
   "cell_type": "code",
   "execution_count": 50,
   "metadata": {
    "executionInfo": {
     "elapsed": 1265,
     "status": "ok",
     "timestamp": 1685276364488,
     "user": {
      "displayName": "Maged Saeed",
      "userId": "08011552846066909361"
     },
     "user_tz": -180
    },
    "id": "Lmj8PjbWFhUq"
   },
   "outputs": [],
   "source": [
    "dotless_tokenizer = tk.WordTokenizer(vocab_size=1_000_000)"
   ]
  },
  {
   "cell_type": "code",
   "execution_count": 51,
   "metadata": {
    "colab": {
     "base_uri": "https://localhost:8080/"
    },
    "executionInfo": {
     "elapsed": 552,
     "status": "ok",
     "timestamp": 1685276365038,
     "user": {
      "displayName": "Maged Saeed",
      "userId": "08011552846066909361"
     },
     "user_tz": -180
    },
    "id": "2y-fTy7AFhUq",
    "outputId": "b3c127fb-50b4-45ba-c3b7-7d6136b730ca"
   },
   "outputs": [
    {
     "name": "stdout",
     "output_type": "stream",
     "text": [
      "Training WordTokenizer ...\n"
     ]
    }
   ],
   "source": [
    "dotless_tokenizer.train(text='\\n'.join(' '.join(tokens for tokens in sample) for sample in train_dataset['dotless_tokens']))"
   ]
  },
  {
   "cell_type": "code",
   "execution_count": 52,
   "metadata": {
    "colab": {
     "base_uri": "https://localhost:8080/"
    },
    "executionInfo": {
     "elapsed": 14,
     "status": "ok",
     "timestamp": 1685276365039,
     "user": {
      "displayName": "Maged Saeed",
      "userId": "08011552846066909361"
     },
     "user_tz": -180
    },
    "id": "68Kgh4yWFhUr",
    "outputId": "2526582f-ef4f-4532-8c5c-681af1eb3679"
   },
   "outputs": [
    {
     "data": {
      "text/plain": [
       "24334"
      ]
     },
     "execution_count": 52,
     "metadata": {},
     "output_type": "execute_result"
    }
   ],
   "source": [
    "dotless_tokenizer.vocab_size"
   ]
  },
  {
   "cell_type": "code",
   "execution_count": 53,
   "metadata": {
    "colab": {
     "base_uri": "https://localhost:8080/"
    },
    "executionInfo": {
     "elapsed": 14,
     "status": "ok",
     "timestamp": 1685276365040,
     "user": {
      "displayName": "Maged Saeed",
      "userId": "08011552846066909361"
     },
     "user_tz": -180
    },
    "id": "_HAEjJpYFhUr",
    "outputId": "308738ba-94b4-44c3-ad97-2c6056423902"
   },
   "outputs": [
    {
     "data": {
      "text/plain": [
       "['على', '<UNK>', ',', '<UNK>']"
      ]
     },
     "execution_count": 53,
     "metadata": {},
     "output_type": "execute_result"
    }
   ],
   "source": [
    "# test the tokenizer\n",
    "dotless_tokenizer.tokenize('على في , hello')"
   ]
  },
  {
   "cell_type": "markdown",
   "metadata": {
    "id": "5CKefGLcFhUr"
   },
   "source": [
    "## tokenize and split"
   ]
  },
  {
   "cell_type": "code",
   "execution_count": 54,
   "metadata": {
    "colab": {
     "base_uri": "https://localhost:8080/",
     "height": 0,
     "referenced_widgets": [
      "dc84370f1f1a48e1ad7039a5fe202a78",
      "476a893bd4e448f684e13bcda2a32265",
      "00c4538426744230b6985c337d9988f7",
      "d7e9197891ab4f95bd542051468e7df5",
      "f58ed3c7b3044662b70c0ec01fc49682",
      "ab5f0647b42b4a03813cd57858a322ac",
      "f0550cf3280d4f2ab5762b6be847fbf1",
      "61e9646251cf467f82a5f3b8cbccf14f",
      "8d15b47442ee44f28acdb811ca550aa5",
      "fbe1b0361bfc4d28af953ffd2c628205",
      "551e7b6250f940089690d4600f0ff0fb",
      "06b08fa1f2354a40889c3453f48c25b3",
      "504e2f158c2f43cdabf61a16e512229a",
      "6f6f9743547b44628a1d5b6cf842fd8c",
      "4d2fc1a4dbf34dd78533dcb637631cb4",
      "8909f7966a254643a168b43a51472087",
      "777d4aee077d42beb0eefdb64ff09ba5",
      "f69c8fd0c7f84111ac9cab61014ad693",
      "80e65164b3bf4a73a77e9fc32a0c70f4",
      "aac8c7ba109a4fe192a50ed506b8f556",
      "c56f1a0531774782a080ec45ae7a2a4c",
      "9fe19c44082847fba16a0ee836a23e0d"
     ]
    },
    "executionInfo": {
     "elapsed": 805,
     "status": "ok",
     "timestamp": 1685276365833,
     "user": {
      "displayName": "Maged Saeed",
      "userId": "08011552846066909361"
     },
     "user_tz": -180
    },
    "id": "jEv_bbxIFhUs",
    "outputId": "0b12a568-2114-4c59-b297-cefe0f0374be"
   },
   "outputs": [
    {
     "data": {
      "application/vnd.jupyter.widget-view+json": {
       "model_id": "6323f0aff9da4396abfd6e2619aa4d33",
       "version_major": 2,
       "version_minor": 0
      },
      "text/plain": [
       "0it [00:00, ?it/s]"
      ]
     },
     "metadata": {},
     "output_type": "display_data"
    },
    {
     "data": {
      "application/vnd.jupyter.widget-view+json": {
       "model_id": "5d8f8f57e30041f5a09837f857146f46",
       "version_major": 2,
       "version_minor": 0
      },
      "text/plain": [
       "0it [00:00, ?it/s]"
      ]
     },
     "metadata": {},
     "output_type": "display_data"
    },
    {
     "data": {
      "application/vnd.jupyter.widget-view+json": {
       "model_id": "380cfd73420844b08b19e9b0b646cf79",
       "version_major": 2,
       "version_minor": 0
      },
      "text/plain": [
       "0it [00:00, ?it/s]"
      ]
     },
     "metadata": {},
     "output_type": "display_data"
    },
    {
     "data": {
      "text/plain": [
       "((3574, 220), (3574, 220), (398, 220), (398, 220), (924, 220), (924, 220))"
      ]
     },
     "execution_count": 54,
     "metadata": {},
     "output_type": "execute_result"
    }
   ],
   "source": [
    "dotless_encoded_trainset,dotless_trainy = create_features_from_tokens_list(\n",
    "    tokens_list=train_dataset['dotless_tokens'],\n",
    "    tags_list=train_dataset['tags_labels'],\n",
    "    tokenizer=dotless_tokenizer,\n",
    "  )\n",
    "dotless_encoded_valset,dotless_valy = create_features_from_tokens_list(\n",
    "    tokens_list=validation_dataset['dotless_tokens'],\n",
    "    tags_list=validation_dataset['tags_labels'],\n",
    "    tokenizer=dotless_tokenizer,\n",
    "  )\n",
    "dotless_encoded_testset,dotless_testy = create_features_from_tokens_list(\n",
    "    tokens_list=test_dataset['dotless_tokens'],\n",
    "    tags_list=test_dataset['tags_labels'],\n",
    "    tokenizer=dotless_tokenizer,\n",
    "  )\n",
    "dotless_encoded_trainset.shape,dotless_trainy.shape,dotless_encoded_valset.shape,dotless_valy.shape,dotless_encoded_testset.shape,dotless_testy.shape"
   ]
  },
  {
   "cell_type": "code",
   "execution_count": 55,
   "metadata": {
    "executionInfo": {
     "elapsed": 5,
     "status": "ok",
     "timestamp": 1685276366198,
     "user": {
      "displayName": "Maged Saeed",
      "userId": "08011552846066909361"
     },
     "user_tz": -180
    },
    "id": "00oBbfS9FhUs"
   },
   "outputs": [],
   "source": [
    "# create tensor datasets\n",
    "dotless_trainset = TensorDataset(torch.from_numpy(dotless_encoded_trainset), torch.from_numpy(dotless_trainy))\n",
    "dotless_validset = TensorDataset(torch.from_numpy(dotless_encoded_valset), torch.from_numpy(dotless_valy))\n",
    "dotless_testset = TensorDataset(torch.from_numpy(dotless_encoded_testset), torch.from_numpy(dotless_testy))"
   ]
  },
  {
   "cell_type": "code",
   "execution_count": 56,
   "metadata": {
    "executionInfo": {
     "elapsed": 4,
     "status": "ok",
     "timestamp": 1685276366198,
     "user": {
      "displayName": "Maged Saeed",
      "userId": "08011552846066909361"
     },
     "user_tz": -180
    },
    "id": "b3DkU9GYFhUs"
   },
   "outputs": [],
   "source": [
    "# create dataloaders\n",
    "dotless_trainloader = DataLoader(dotless_trainset, shuffle=True, batch_size=batch_size,num_workers=4)\n",
    "dotless_valloader = DataLoader(dotless_validset, shuffle=False, batch_size=batch_size,num_workers=4)\n",
    "dotless_testloader = DataLoader(dotless_testset, shuffle=False, batch_size=batch_size,num_workers=4)"
   ]
  },
  {
   "cell_type": "markdown",
   "metadata": {
    "id": "XfrOxjheFhUs"
   },
   "source": [
    "## create model and train"
   ]
  },
  {
   "cell_type": "code",
   "execution_count": 57,
   "metadata": {
    "colab": {
     "base_uri": "https://localhost:8080/"
    },
    "executionInfo": {
     "elapsed": 5,
     "status": "ok",
     "timestamp": 1685276366199,
     "user": {
      "displayName": "Maged Saeed",
      "userId": "08011552846066909361"
     },
     "user_tz": -180
    },
    "id": "YhQeKQXqFhUt",
    "outputId": "fb95924a-7dec-437a-dc29-b1e668994116"
   },
   "outputs": [
    {
     "data": {
      "text/plain": [
       "LitBiLSTMModel(\n",
       "  (train_accuracy): MulticlassAccuracy()\n",
       "  (val_accuracy): MulticlassAccuracy()\n",
       "  (test_accuracy): MulticlassAccuracy()\n",
       "  (test_recall): MulticlassRecall()\n",
       "  (test_precision): MulticlassPrecision()\n",
       "  (test_f1_score): MulticlassF1Score()\n",
       "  (embedding): Embedding(24334, 256)\n",
       "  (lstm): LSTM(256, 512, num_layers=3, batch_first=True, dropout=0.5, bidirectional=True)\n",
       "  (dropout): Dropout(p=0.5, inplace=False)\n",
       "  (embedding_dropout): Dropout(p=0.5, inplace=False)\n",
       "  (fc): Linear(in_features=512, out_features=10, bias=True)\n",
       ")"
      ]
     },
     "execution_count": 57,
     "metadata": {},
     "output_type": "execute_result"
    }
   ],
   "source": [
    "model = LitBiLSTMModel(vocab_size=dotless_tokenizer.vocab_size)\n",
    "model"
   ]
  },
  {
   "cell_type": "code",
   "execution_count": 58,
   "metadata": {
    "colab": {
     "base_uri": "https://localhost:8080/",
     "height": 0,
     "referenced_widgets": [
      "8d323ca33096430b8797ba60cac80190",
      "476a7f30b9ce49bf9eb5d96e7e336be1",
      "ec9538b36158464fb82603c202d1425e",
      "495da83dfa2c4a00a67f03c481f356df",
      "734cdf1c35b24f4081387a76080d9cbf",
      "31e164b6c0b84a91ba23301a8c8ae11e",
      "0ff418e5cb78450793e9a79565b27d9e",
      "c1f7fd0802be4a9f97a2b240ba74d4a0",
      "8fe6e36eedf44bb4a1135684782ac9cd",
      "18f3e750512141c09b63dda69c0615ce",
      "18dfe363e5224ac09eb5aa1224942d38",
      "453dea8b899745bf90cba07af04a07bf",
      "e0ecb41291bb4a2091f59ec99259765b",
      "4a45ee4680fc42059ce1209903fec8e0",
      "80028a6329bd469a93948ba58a7b2507",
      "b243307b4192440bbb7fc8011268c607",
      "ecdda0bdc6d14ba4816baaa0d70f1671",
      "9b42df742687490c8658c87bf31ce00d",
      "445b7fcc9e644bedab004bf1bef2a616",
      "6dc5b1e28b984760a0ae038f8e81d50d",
      "e5db1ec199ae4cdeac77509ebbfe507e",
      "2036f97afb0342a7a42e7befdff5fd94",
      "bcc8c04a59b64800aa997c70e8122707",
      "7cd0a66deaf347bf860e68b5ae6dd149",
      "2ca755a9fa2e4b3ab20bd53c0c841c5b",
      "df3f77ef6c8d4b889bc7be19f556f8f1",
      "756e79a258904ca086190d4b58dc9035",
      "63becfa9a6624d18a910349da02fc941",
      "59067cc8160a467fb010f9ee84582a28",
      "df8b4838fab248f0b6bca9c829a176a6",
      "4e2830bcff724a9e82ea5184ab5dcb06",
      "4bb5a94c421f4c6b9b3528fb27689f25",
      "d1497830a8064efb8541b3ee49694188",
      "90356d129216486d8124695574586d35",
      "1c92a945ee894b9db823142526ad022e",
      "50c868a43c6d4e02945a61e03ff88627",
      "19f1771ece2549eabb06c004bf571afd",
      "56b62c059f864a6d9a72934ae8bec11b",
      "768717858a964fa39be002771866db97",
      "b4394182153c41b7b34f7c1c44b5261a",
      "b630166bd8bc48058bc838a8d1a9b969",
      "eac0aadc8497419198a366e54b35bdbb",
      "176fd3f8d6b947bb9246df54455fe4d8",
      "2c1a88449f754d6cb5de6dd22c472efb",
      "80593a9910d14535a7a016b05deffb4b",
      "b92837dfca08432fb924fcb949228593",
      "37bf8aebaa83421dbde0bd0561766e9a",
      "555a5d7efdae426fba2ba0b7211d9819",
      "c7dd2128392646f99fe665f7870852c7",
      "64460a4e514246e393c8e723a9a18b46",
      "9e4cf3a3fc0e475dbeab453ee2411c81",
      "ece8cc1016b2443893d87ded63cb6cb2",
      "6c83123a58824b438bebec8847dc5cca",
      "e782fa97077e4939b9799d405662f382",
      "217ecd25bfc24133abca3d51b495e620",
      "4691057eeec646a59f5b3abc1522cd48",
      "5970939820c74db0b2711f384d5c8caa",
      "1fbcdbfb61a3463a8b183f181e895ccd",
      "2f6e43f8b4704fe695c12d17ef1ab747",
      "5ceb4c809c5f491ea7f9181bb16f144c",
      "9026d9985c0b4259a658caf9d8a285ba",
      "60f7ad7360854ceb9b26801b1439ed64",
      "3ea0c741eb87404eb190bff722291770",
      "d41b611f530c44f1a6f4cf9dccdf0df3",
      "f8d2114321c84c7e83614a1ff7a2290e",
      "6c7f289b15c842798bad2dc66685d062",
      "7ab22818c588409ebae14965fb3b1079",
      "7a211bd0b46445578c72693d9d2267d4",
      "bcf037fb9b9b47ef8966acb0d0299802",
      "3cfdc9663639441298b22ad101643d3f",
      "0ecf4c7bec0443069f05d02d6d628007",
      "996f5c9c1ecb45d782126b43810bfabc",
      "82aeea5107dd4f07bbaff43bb9d98508",
      "546dd4c3cf1c4cd9b8b30d21be140cc5",
      "0d1ccf07d7a742fe860a67aa70cc4b09",
      "a9a6af0cc29044a89947a3ecc274bf55",
      "572d8596c11c45209e795384cc941782",
      "079499334ac4429a84552314b5ec43dd",
      "e55ddb6caaf14e42ad5c76872d8c78ea",
      "92a05d256a524b3a83e97fade714eace",
      "c3e2db75bcdd4c7e92eeefdfe67a7a2b",
      "8921b3a6386942c7af40d5c421562a0d",
      "221033287dd24269b0bb1a7c92509996",
      "e15eddfaad30452dab62fc65f3891fda",
      "64f17727dbf94f11a4fe36c3009777fc",
      "1f7af68051e04a5d8258fc267bfc062c",
      "ffd19a62d06e4e0dbf758ed8de6b0815",
      "571e725b5dac4baeba148961b6db45f0",
      "a33bcbd7ad4d4cd5b3007a18713558b0",
      "4cab7ef5d7c4432d9c56b82b5f85d4d6",
      "4fef550ca6c04f6a957482711dbbba72",
      "edee9394dcf84568a2ab02476d19d926",
      "a4483ff9e7044983a0bd8607c6bff37b",
      "82e7a0c74ede4a408268f7ed2eb39ce2",
      "a085b0c708f9408a90fffc1e26b90e98",
      "24e1183d0efa4140a812de58697cd5d1",
      "8ec213610be44e3aa6ca40c5f8a00a95",
      "87b31d3b583043a6a032b12bfa2b135d",
      "91810859a7be44e19ad12411a0af70e7",
      "c1396dd45e244713afc4dc3a2d57f146",
      "00d3b428a1f146ba8b8ade7341a4915c",
      "c2ee06c2da534fb5af7353677cddd3d0",
      "b4370e562e3a43fa9011e463ab9ca99c",
      "9ac7fa4a2ee8479997cca784a1709507",
      "1c294492b5d94c9da7f5cfb2aeab08e9",
      "741803fc13834a68bbf9a14a9799a3fb",
      "5eb48dba8f8c4b8086e15c1fc848f70f",
      "4e27f2e473164630a6d0eb93a3cba848",
      "69efecdaf1bd4256a8a58900066e0a8a",
      "2e4f55ab16024be68d31340c65649b85",
      "9598923ca5b04fe0ac08f1c8c4ff3d8d",
      "2b229c95e866461098f53fabac16b613",
      "c162b754b1314734996bab48a04af0a0",
      "1590ae684cb84fffa9e851bc5ca61674",
      "be86ec0d69a2433e94596db1f8ca3886",
      "57b1760b43c64f548ef69a856880bf96",
      "b40f67c9d74740d78709dec330a12932",
      "8328be26b68b4d75842397db20a848b7",
      "52d10532f4e749a7bedcff1fb4f7ccd6",
      "b51c7780d56e4821be339380b39a693f",
      "02a1ab8e84a7448fa264dceebd3430ed",
      "22c86bec190248fabb816fc160168482",
      "ac530ad097534394ae0a187823685663",
      "2ce8aefb9bcb4287b2aebdb97483d9e2",
      "fe7ecf5fb176468ab3a9f83cb184b549",
      "2e4c6f967dcf4fbda9561038e1c35744",
      "bb80e32a88d64570bcfb7bdc3a4cb1ca",
      "8fb238438fa547d59ce813ac8192d4a8",
      "9b12efef5ea14f0ea1bb3b5ef09122b9",
      "a28be67de91a477a8776c27e7deeb7eb",
      "ef85a5814eb34c0b913323d53ca7ab02",
      "8d761a4f489f40479e965aa7f0771426",
      "24195e17472e4986bb08530125cb1dd0",
      "40c9c250501f4805b396a0422c76800d",
      "98dfd0c24c56403085f089f90b01d1b5",
      "aa3cc60002a64120ab53ae7ea11e9df2",
      "6d77ab9c525c43a3b0618a759d0bae1a",
      "3152e79122d6411c90670751bfe9d4c6",
      "c20a02f5472b446db4af6ee667272918",
      "bbc2702ec2724a4884352514ae71b9dd",
      "acc70dd15a264f5b99c43a54394459f2",
      "fdef23196b76442bb0b18b47c0eced55",
      "fad4c84c51ff4ccdad007d8510a2db1a",
      "2f0c8dfe893843daafb6d6e1df56690e",
      "96b8386136b2490e9ce9ad6311d717f5",
      "8da8fe281c654d25b6516c5df5226f36",
      "5b883c66ed8d4242bdf7dcd69a288342",
      "f11bd8c807a947f0acb1782262500b7a",
      "aa66a7521ebb47ac8ee1d3943723da3c",
      "a97643b6651c4e9eb335194df171f97a",
      "fdd173577fa84b43976cb351e6bb01ab",
      "9548430968114f24b8430a607f0dadc9",
      "63208b02547243ea91e83cbb4a1261e4",
      "23e3ba453312405d8716cd0cedcad0a3",
      "482739853174438db69ea906d8a4b408",
      "c92652e8361147f0b43d955e89f0dfa7",
      "e14bc85a895a477a960ae2788cbd9691",
      "5e7cb38479334ad4bba2c020677ed391",
      "cbeadc5478f241918ec427581d149e02",
      "f6fc3486fc624accbc2c1ca79ff84edf",
      "f2240a3e6ef449289441d92e2b0ffccc",
      "e997210f2ec4451bb3b53d60e2865ee2",
      "7a5552011c594c64a38e59a4efb84c7c",
      "0e0498dc768b43709e56e62312d3ecfe",
      "c5d2fafd42d84fabae561eb3d4488a61",
      "19ad4081bbe14d46b603ec61e4843219",
      "d8fedfa8d7234138a3283ed5ad0c9230",
      "5e9d25dedcaf4bc0b9a061acc0e300f1",
      "d3993b9d66724f0abbd118b931d1b9d1",
      "1c5142dc2a1f46ddb29bf927481632c7",
      "428add8cbcbe4556a0c0eedc2a610183",
      "965e0b4a254241deb34654e31ede8a89",
      "e49ec091877b496f882d881ae7185e68",
      "ea4759b9b7794b99bd2bdb58dc7a319f",
      "d9ac9273c8f6456a8a58bf318ef4dbe8",
      "bd232da0c3e24afd866d164e0d82034a",
      "d0a3df7880694dc5afa79283c0471247",
      "5e8fc4f597124d7e941afe677f54bdeb",
      "5f92b04e627c4b7388406f2518ad37b2",
      "341ccc52e84040fcae9617ad46296343",
      "6309f848b39544719831e02a5639c1c5",
      "175028149d0e4dc2b48fb605c1db3f96",
      "3e22e61a822f474eb92dd61367e770da",
      "1c5f6d46ca9344fba6ea2d44241c65cd",
      "31fd941cfde3455f8b0fc1e9810735cd",
      "883fff4df8e843928902e92c823038aa",
      "76ca93417de4497db9fed0f83ce5e5da",
      "e36d9257879e47749d6b459398d73fd9",
      "12e1ef5b4d874c978db2cc6b75457ce8",
      "bb0ca7e84c27481fa0dfa8446401e4db",
      "207b975aef964de085d877b4ef3c4119",
      "1757f58225804211b5e71d4ed674d366",
      "8b0206b658a04f9282345ca9dedd8b3f",
      "071e542d11ba42a787c721ba13a3202f",
      "af09c56d110340d1b22083c110e1edf2",
      "25113d1f79fa4ae78e25084e66c7f486",
      "dab6b211f472463a968552ef0ae4f559",
      "285f1f3ac4224716adfbd888c5e32983",
      "6df8f74835b74840836ae229ea5ede36",
      "ba49e557be524eee8720c84d28e53849",
      "04afe7ef59ea4915a38a07bd2bdec9e5",
      "1df1489386fe4ed2ac8072aba863f265",
      "b9a7cf0fc46448ba8b8622f47a95b9f7",
      "2ee33b27d9c04aaaae25d61e8d12f1db",
      "edd6b8449f73452a8c4af4db6c2f298c",
      "5cce15d8018c465b916d639b0a9d46bf",
      "407a0de9f39246bfb79c5fcb40e4626a",
      "7a21117643b043a99a2a318133029263",
      "9635015b4f8e44d18a86e211c5c3acf6",
      "225a0e52e70e49438ff6f48b133d8a8c",
      "3b9841d5ff3243298407632e7d0b5426",
      "a8691d137f00432a9b2e217bfc6552c8",
      "108473fa3fb04a76852d7aca4ad95749",
      "6fec6f95b2d4475aa676336ddc40d4e7",
      "440ec7f1320c410eb8fc8f43313ae090",
      "99ee8460c27c472490526d4b1b022cf9",
      "57fd520a27c548878d60ab093e8e21a9",
      "32bf543a2d1845489816ec0c1dc36186",
      "d010b6669ed1477faa421e705727e027",
      "071b8d4bce6549d68df29306b77f3041",
      "b38876e275b54ea0880d2aada89a0b35",
      "ebd90313edc641adb15cf7b3a7bc9c73",
      "7e062f148e5b482e99aa82bf53aef684",
      "70ddf2befa9b4726bc2e26029b01acf6",
      "7abfef14d33741acae71ab1ab1a70fca",
      "5f434a30425040f9b83d8175a3c8173c",
      "7bec64366a574f2abfcf017876f94904",
      "1e9bd08c4a0d40ec8e69ff955f04a0e1",
      "3f89fb148d7e4c85b9a06d4f5638b7da",
      "52d063baf73d4ccbb48ff4dbaeb46e25",
      "e717d3520ff44b228a0d3c64e71b2f95",
      "44df4c2a59b0469a8a131876fc48d1d5",
      "a0a23b10e3574745a1d380cb831230a8",
      "bb94bc2c71d14066bb0ab2a0d08bf1e9",
      "66557f798587483abf9388e5058a64b4",
      "3c4b538c719f4285b47cc5d21263538a",
      "565a4af331f449798b7c765977e25b39",
      "7c425b08bfc04b35add8fc73c94c18b9",
      "1e992160705e4b80a427d55cd9b123a4",
      "99e80b4d351042639c6079f59f58b049",
      "8d69f7f8f0d64ffb8b75fe649054fad8",
      "27e5323a481d40069e88ab209ae2b524",
      "09553d31ec6642bb82486d02abea7790",
      "0ca84c60e682457d99ef11f6979d5d2e",
      "245cb426297f436fa9709d9ba3adee8a",
      "bf3875c0e4a74c9da070a7993865f161",
      "c3a8175e225d4923b04dae379593ea57",
      "2e04e2f0cd904d8ba573d9307ecc6427",
      "8e34e2d405a740298faf8f505035f785",
      "8c7888f3a25f453cab5256f1cd8fab4f",
      "6c5477b4f0e94da980be40ab5f8e4d25",
      "5ff65ed3650145f69bacf8f83eb0fc60",
      "fe10304edd6c4136b3a46427f623deca",
      "3837ec2318df479ea663cf635a06d3cb",
      "598ebaee292f40df80f73ad308d863a7",
      "37b6804b42064080902f7fd74aad42d3",
      "9137f0020cb04597b90739201658e7e7",
      "181134e33ffa4da39fa08ba1fc7bfab2",
      "2da52a8382d14299bf3476f26b58135b",
      "b7e7938edf3943d2bc47735f2f0bb2b1",
      "79117493723e4402a7589666d2b9462e",
      "8b9d2c76e1e640b8b8ea0dafe806eff4",
      "4245ebb9fa054ba1a7935ecd9b91677b",
      "92380fbad03e49d99e1bf361203ff5a3",
      "4e6e0038c3984041b4fd70ab0708277a",
      "027c21d524d9416193846e1abc18005f",
      "d17e81d93ec742ceaee0f07eee6d9209",
      "7b694ea767304824a6184268936c5850",
      "0a5b02427e6c47cf846626ec0ac506c3",
      "e1efc36e3de94558a20848c3d34ce2a2",
      "f2e0d75dd68f49d9b5a2396f713599b0",
      "a1f8ddac7bf94da3b8882f5c9b6fe276",
      "9f81475ae5ac4276ba5fcd86449fe685",
      "c5d86414e6d54ca3a31f42c18d61b80c",
      "f1c7c0a2ffff4de9bc5618586195ae8e",
      "91b075b69b1b4955afb4edf20351995c",
      "04eb77d359844b80840ad7d8b2339562",
      "1c10cfc192554bfc8ac2d2a5c2cd0260",
      "c6331b8217974fbeaf38be873a9256a4",
      "5fa9aae0bf114ec6abb37cfb346a9235",
      "78225bf67eac477eaf7f878146d970de",
      "a02f0c792fb14719abcf8efeb2603e0c",
      "a947b9d2e65745d29cc4910c7d304f30",
      "525daaed548a480fa54222f7cc5f286f",
      "23c07817acdb4f9ba2dd164d56930a30",
      "7bc91bcab26c46889fb53bb03e800c32",
      "decfe13f5c1e468e873fccdbdb8eb488",
      "17c81c1eeae841228821a35778853330",
      "c42e70d415ad466ba8f7c3eb74476025",
      "b4961954666e4e13bcdaaafcac35d635",
      "b013d60b91624e04b3870beb302a3332",
      "0b10767d4d3d4d22bf7170e50bf0b259",
      "8cb3658868884f689be7e8f26ea7eec6",
      "8dc17c47dad24ed0a4c61a547aa5ad6e",
      "b325e80e1aae4c6fa3ac07546b7a9aa3",
      "2c275c74d5ce4f958d6527e0fec4099b",
      "e84f4b9019d6436098fc7eef3b634442",
      "295d043d7ecc4ff5b4b64544c0b214c2",
      "924da419b6ba460fa8d7675df5d41942",
      "29d900e233f848c693d2eec447f60c59",
      "1880e57e0f5c4350be8514bdf281e971",
      "724627cb6c21423d803a0120d8f782a4",
      "8f49e434714f407cb76b97271c540e01",
      "26668bf2d4ad4e84973c621858d52774",
      "a694bfefdb244a0e8dbef0c0e616dde0",
      "395fad2e6a894ef1ae5599269420933e",
      "58cb69389a6543c38835f0920b372f78",
      "d66d188b310a4af88d99e9e80f56506e",
      "af7ea3c94ac84fb2b71524eb7865bd8d",
      "65235a8e30ce4ce6b15744861b4d3d69",
      "0cd9ec7791374db4bcc7fe2f4fff4787",
      "85d77b9b7833480b97cb9c0a234e98d5",
      "2476eb0047604373a88a108b5559513a",
      "4ef16ace74f646ecb18d75841dd72684",
      "54632167c630407cb3a9a19a79e18040",
      "83f8b4d1af414c0eb48cd19c41890d3d",
      "6d4099abeac848429c6902299155ebc1",
      "da5b80099f78416b9e4d377cb90e5572",
      "f701bbc210ad4cec863e688531c1b686",
      "96883339be1e4f20ae9d1aacf13c9485",
      "b6f0d31e02c8416494557a1acbafaee0",
      "8dc17fb78f374d0f888ea411f185d2a3",
      "8ea62e9395da4181a0379d9fd1b28641",
      "8e16025bc5c0468fa837e6c5e2ed916e",
      "fa45a2149f484fcaae49d10db174394d",
      "9c37efd91afe44faa3df88348c36fe59",
      "842d54888df7460aaee6e5b9be056640",
      "6dd95ec8642b4d89a4476d32e6000a6f",
      "9db6497861714a74bff0cdcdb04e081d",
      "fda7895d011f44099f7a562b70a9d601",
      "328ac51a2b034e2b8cf8f6791fcfa1ca",
      "db1157c15d7a475096b816a23d20a22b",
      "5fcfb760616543eeb3a147043f464df7",
      "7e2f486f81dd48de9fa293e3b56755e8",
      "a142559ebe4c478fa569fa05231e3585",
      "7d5540e93f934ee5ad3df2b8c5676bba",
      "a091e800190c436ca3e91607608bf693",
      "7d210d373ef34270b17d692167861329",
      "5167437c6576435e85e1aaf4c5cf0608",
      "a4637b753c4746cb9c1847a772c29c31",
      "0d217edafbec4c1eacd905a13236b4ed",
      "96a3082199cb4e3cbac475532a4a9c74",
      "b4b7fd6d77b448afb11b8e693cbc4e7b",
      "010447088f004b1ba22cf830672c3723",
      "3d55b98a43ed45e2829fd3cda01272e6",
      "bc96d2ccc23346d3bf7a362122f12176",
      "2fd1e25dabbd4d108fac7e89f1d00c49",
      "9da0940d4fc3419dabbd315f2fa82dbe",
      "5b4670fc7b754af5b9d7002304583615",
      "00a72f02bca74018939d683747d6d002",
      "a1ffed5d4c7e43bf8e86834047f07be7",
      "422702e10fab46ac8a67955d41e53c10",
      "dee853a834934590a54ef75f13884bbd",
      "4d0bfb73b17544e39f5a92f031e687fb",
      "cde870530b044a81902fef8cc2f1264f",
      "fc23b2e2fd2c494799c33d694726104d",
      "52ebe420f96743d29265883d4be18ca6",
      "dd0268e1410c4b40b6a7efb306a23c71",
      "1156fe55f2624e9ca0aad8b55ccd1025",
      "5294fa24c56a486994431daf58812ce9",
      "a02810c4b21341b895651c98557565ac",
      "6dcb2c0051a446dfbac4f7ae7ef01e9f",
      "8fe7c25a3f75436c9c879ada4827e04c",
      "107191591fb940009dff158705956bce",
      "d7cce1421ef24db487df0dcc89d20dda",
      "cbbc16e0f7074e73aa4686aca2185d3c",
      "95efec8fac4f410fb3641d6a79f76deb",
      "4a66a64ef20a43ee9571996893b46316",
      "8619af5974f54bd9b7b1103122dc3401",
      "890ecc627c8b4681a341e126a4b5d433",
      "11b89c9506b14b638d89fef470812c68",
      "5882745cfb52434e8867dff0ccd6882a",
      "60084f7fec0f4aea9632172741c84c1a",
      "503971d8553445588191d137a8f6ae45",
      "7527441cadc9452492ebd878cd5dd825",
      "d0f387d0d03a49d684c00b5614c45132",
      "63b92615deab45c5b3a334bfc5a3fb0a",
      "fa87cbb06b7344bd98cbb621eca06d9e",
      "b375108a4f1e4cce914a32b772bb40dd",
      "4b75156d0a4b40ff95f9c067b7b16516",
      "4e3f23ef4eb74b77844f178edc2737e2",
      "662a99b8494747698743d79054dbce7d",
      "86d80d06ac7a4c0db9071fb708705b75",
      "48bfccc42cd54943a460491f0f637300",
      "88b8e1c6d73e476cba0055ed27b0754b",
      "f85d8414a4be4b5ea872c13f5645e80a",
      "d130baafffd14ee2a61643b769cb66fe",
      "7023c24a6f814eaa82e27d05c2a878f7",
      "a5f94c962fc0466f80d7dd5d18ed3591",
      "f37b7e2e85464878b9bd76da88d99cb1",
      "ddc9bddb31f041ff94fba6a1e095c5b3",
      "0a8ed41b86a9428fb40e11dff13a010a",
      "be73773d34674623adce15d8f175b5b1",
      "aadcd285b8d94c7e95a60337ec777e37",
      "ff733cd9b4d14016ac7b232f41e11565",
      "7a7b894d261c48bf95cfa3dbeb79dcea",
      "dcfc248db2d34982a720ee60c2255b5f",
      "d9f5eadadd934c7e9753c99d0d2837f7",
      "ecce5a22149840409cc3dd608fa8bbed",
      "5e74e8b8974a48b3a5bdde521e7218f4",
      "d6a98de234e84b51b059026720516bbc",
      "7be73047d09548cda67b4be2fada4b9d",
      "a2f1a4ad203c4c3380098125415e462b",
      "d4c42110dbac4b7e9c6c5c0ee5c9de65",
      "c503c47d98a84d9593e11acdeaa208e5",
      "5bc22fa2ca824e59bbc951f1573824ef",
      "b3fa1ba512cf4f3e9faa8dbd78026c34",
      "ba1e7cd5468043e2876d4f2ef8985cbd",
      "b4b237ffbc374e76a3a40323da5a12ad",
      "663c1bf3f976463b9636f1f8acb37665",
      "c5323ee3e6ae433b94f0f263d48942d2",
      "e1755195ae8b4c9a8731c68f3774f8f7",
      "a9595f06427c4504b68f6d2a42d281b7",
      "00172a9dc3b141b7b3733c7dd89b0057",
      "8f0289bf26c24c1ca2fabef5b8be7e84",
      "ff2e707bfc9841cdb241d135291ee125",
      "60fdb05b8b39430d91bb2e2dee10e3a3",
      "7a8f7d3898f6493db596996388fee353",
      "d14e7976118747ec84098fec75a674cd",
      "d71193dd539e4afa9c984c578153a92d",
      "7677065464a24cc6b75a88c8e7f08e76",
      "4be18b20b36c488a9a419de4d3c836df",
      "ed2fdaf8e0754e49b7bd385cf3672da2",
      "6d4c5b55bd8d480bb53ae4b772fdcca8",
      "c546535894464d40833d2c2e84192168",
      "d906e14cf3be4b92844ff5e35f58611e",
      "7048e4fda9204fb992157add284a8c62",
      "0a75e9a4f55344f5a78ecb7842c67224",
      "e24a47fdf12d4d1381f153352abf248b",
      "0626d1baef134338bf59d8a81170310c",
      "0adaf6f89080469384164f121ac5a6df",
      "a2173f46060a4044b1a3aead3dc05f90",
      "8359648bc038420e98d9c07fccf6045e",
      "c0aa03e0cd3f483bb5c36c547e07c3e7",
      "11f77bcff6604e8db8a1ec52388a3e3b",
      "3148124ca37c45ad9d8737e13ab44c74",
      "fea3508e3e324258a9a852c033284f02",
      "0b7a7bafe8fd4d6aafce51b739111cf1",
      "87b7cd6b09b74f13a8fd1b1bccdcca61",
      "8787e7f276a444e6b45ab6aa3b04037d",
      "b4bcec67a9114c308676493c64758574",
      "0568bae8bc7d497786de26bc85c7baf7",
      "a4c68518f10f427eaaf9e0cbfb67477e",
      "41124a958ac84567bda36f8649883c2d",
      "7315d53603a146f997c93f9293cb5447",
      "c00d44d47cef4143adcf13e09ec62bb2",
      "dbc15a8f3550430dbcc4ee0c6018158e",
      "56dc768c089043e296adefb4cfe0b26e",
      "a1ce08382e384d1abc2c5e39e932f28d",
      "d6611e2c7afe4452a793b9d6c94542c2",
      "2d3697a067bc4b5199922b5afb456f86",
      "f865ec7d76cf4024be321b6c074f9f1c",
      "1c6ebf9571d348d9ad6d139b0cb43723",
      "26a4f7e904084e289e057d4353eed58e",
      "d99780a454194de68f300913474f5e3c",
      "ef817496c8584f5d89b49ace94dd97f6",
      "35b97f10ee8d4de1a43ba48c615b89c6",
      "1a47c0744d214fceb0c350cd113e14b2",
      "eeb75678879e43d8a88dd5e1b33ebfa0",
      "97bd811a52034ee6a88d1b9564c87e33",
      "13edbbc7c3d14781906ff27e98c015b4",
      "1f69163f2fed4cdc9fc0466456e22125",
      "948e0e2232cb43ce888168522d1d9b9a",
      "2fae166ffa1f437da0ef385f88622919",
      "59fcbae260dc4185a406c3882a85f0be",
      "8e341882a5ba456197cf275d8f488aa4",
      "ea28d72ca8c842f48c4059e6f2729e15",
      "6b078ea4fce24f8fb95ac7a8d5160ec5",
      "c92e9364e06040f88c11a7142dfb4946",
      "bf00414575214c88a021c0b57b965461",
      "b623635b6c56487182ed83d2eb210900",
      "e257084a7d134638be62fb7fdc36e375",
      "6bc04e14c7984512a99c0b6be2ab9f97",
      "8eea0ee54cad4566b61f64bc425929c5",
      "b754ffd68a4140dc9f7281129489c037",
      "7da16378e6fc44f58cd8e884c54d407b",
      "507da96d6b3a4277af4d3e28458e8c39",
      "511e5f793a944746a21a1575b4a0ff28",
      "b2bccfd9fb634d12b39b6fb55eaedbe1",
      "c1f4e501312c4fa9bc82012ffd6921db",
      "b92d369c52d348a69d86b89c6976424a",
      "cb8c9d339d40454cae7c834cec31f250",
      "bd6e3530e48b49518ea54947a5bbb1e5",
      "19ee4257b04b49e09f1bb19d41408522",
      "884db5734fcd450ab5909be19a556396",
      "86f33258d74b498b84a6edf26e01dabb",
      "fc820d1aa80f4921965424dbc1c9d04d",
      "a3769f4984a84278ac86ee0e33c9888e",
      "e11964bef87a44c7834b6b019bfc8d20",
      "11b708b2577b427a93af6756f16f3f3a",
      "16509f025d7c40a58d27465796ca8141",
      "1d6cf87b0d3f4b768627cbd9005d9055",
      "4d72823662304cd29fe336e15739454c",
      "ec5c7957fb7742948a3e48ead985d222",
      "f6c4b609b8054925ad5d4f4d8c322486",
      "2fca7d2348d7418a9e57b644c502d532",
      "d6ed2f329082456a9555cd8801ac3aaa",
      "8d3c3d55b0ca4c2ba715594d0c1ee31f",
      "aa401af85e7a4ee6bb78edf6ec8cfd4b",
      "06e585afb6a147e896dbb665ae4571c7",
      "a4ab54cf801244afb8807871d9813dff",
      "2da8e5f043a24b599703784f6612c276",
      "4fa3ebc5508a4ceda658449a08512af3",
      "3272ec540e79474b92919912d4b27d3e",
      "fec658cfe44046eb801f3c018519e04d",
      "217e35e458b6409b8da74da2fe154515",
      "00e537eab62a45ed88ffb89cbdff082f",
      "156d834593b04f72a6a706c4108d4299",
      "0f27547e17a04d24b624417148be421d",
      "114265cdec724b85a82750cb34ed70e0",
      "bfa0a4914a6447f9900b344d872257f3",
      "6e2aac00e1614e8993f8f063f6576161",
      "c63b4e4294f14b55b3c7e09b9800e669",
      "9cb24068792e453fbb509415c0a3ce0c",
      "dbd9b230c4484c4bba88304885b73cbb",
      "c82e2a1d8fc24f69ba9ee61894589370",
      "aed7b0bbf06f4446a8258380f29d9e09",
      "c8ffd1701e54435697662df0a9cb2079",
      "5a65393137d94da58581e75119769101",
      "54da91a6b17b44be9dad60b48411ca02",
      "00805cbfd2fe4493b876cc21e004b707",
      "2d852ff7ede4478bb586acd0b452392e",
      "f6a64eb192b3435eb6bcbf8c08a976a0",
      "c31c32478f8f4368bcfb7a97eebbce96",
      "4f195c80e29a42a1bfaf415e60e20feb",
      "162e3ed613fb4b0ca641f108d8960afd",
      "fa033d375bce41e3b31f8c0d293f00f4",
      "a49dfb31d5954a02a230eee8516cbbb0",
      "27d9373100d745ae944e37feafb34d1e",
      "33e583ac8f9545c186870f142774511a",
      "5e5ae75730df412f90ce030797702408",
      "191850f2240543788715189c5da0696b",
      "af4f4f8aa8e44bda8d8d47e670bf8557",
      "1c4d1f9514d4481fb5cebab946e9068b",
      "3e294a6099e242618727a9756c7b4838",
      "31da31e98fd04162a742af3355a44d90",
      "d2da9ffb4cad493bab423bd68fca438f",
      "4fd63cedae1a4fd8aa0a6c3b9bd53241",
      "cd875e6839d949d29f6a240b2d4a9f82",
      "1e1d9e53b41e425b9c0d265f9d730add",
      "03f674828f9c4f0da375c225249d8669",
      "8143f6db76ea47c189b2e4fdc47dff14",
      "365bb10f155d4f8a938917bebbc6a88a",
      "93aca524541842ceb5e5bae91f88946a",
      "536e6201e7df4e9b9eaa2c011433fdb6",
      "704c49719e034f16bba77082738905e3",
      "4308cb2c76704c9e8871c24dfb043dfa",
      "2bd7aaa71fee47379ee3a9fa1f41db50",
      "ad2a4bd780fb4189ac0416cc497367d8",
      "7c6c17f95f8e473d89097a4f80010eb7",
      "8c0dd0decbcf4473bc75355040f8a3dd",
      "4ef1809d1bc44c42bd2d20528c565a60",
      "9e55b72ad5dd4f2d94769ca144e97b8c",
      "d32de2c7251d4c228fcba27583f47f9c",
      "21a9e32d779d46eeaf9d1983662ca20e",
      "eeb387bd41154cb285129ec62e8dc1c8",
      "1ca1611d70a84c6d8cdd77868538d139",
      "ecf0ab93669342e1af7fd6980c44d99b",
      "22c7e995088a454cb9de52baaffbb63a",
      "4bde740a32ef465094a2c006f350e036",
      "26f6527b1e0645de9564f5a28e71507e",
      "861b1d170c9a418eb0a9f99f7c185d26",
      "2c7ea6563697459eb8641f15004f8cf1",
      "0038177b0ce24fb0a206577ef5416705",
      "4aa352a8137942598750a2b06822c83b",
      "c67a9dfaa05841a9bca2bb4e249aadad",
      "ad8b0fb9b93542d184ba887644816a57",
      "f72f3e5a2aa346e78b1e6e37247b5081",
      "e529ce4a50c24ca881e1e01d1e4b156b",
      "ee09087c490e4d5eb6d2be555f09e9cd",
      "3c2546f7dfbe46faa65cebacf5c4166e",
      "82cda2ccf7f942f9bed3e65f724813ee",
      "ab1c2816e03a46eea1e9fcc45b566b07",
      "f67538a7b02941bfa521b3938969f645",
      "55d46cd102bd4d7db14dc35e8227ec8f",
      "9f8ae54671484441ae08f21aadfa5c52",
      "e73b767a870640599e4388ca4d7ecd1d",
      "df7a636ac6ab4f5480df40aff0a3c666",
      "565886cc4c4742ae9a7df7daaeb58b37",
      "7db3f3c038d84a3faf33ee80482de33f",
      "ce321a71af24458199dd2ded5536ce9d",
      "1a32bc93cbd141c69aed8b817ed3cb6e",
      "0fa576f7d02d453395d514abeb57b8dd",
      "d95f42a4c22144d1b35b84a4f2185a8b",
      "994c89f860bf48749ec5c0f4da44c6e2",
      "ed2f10ef42f14126ad36dc069aa215d4",
      "8ec1839aa5644f0d91194a25bc3f1e89",
      "cc2a07c0b50b4d12b0ed69172c4354d0",
      "17c8d4feb1b446b3b2f22c25c4006d74",
      "3b0bfdc0822a4b3f9188c6aa380b00a2",
      "91efe3dc369947168f33636724b280ac",
      "b1bc60fe3ad84cbf85481efccbf10fcc",
      "482d6a2433734cba969e797f5ca3eb16",
      "b1f10e3d7a9749cfb4e2aeede5a0b51a",
      "df1922a4aeb5410c98764b05d8a3dc85",
      "932811c2c4e045969a2ca3c907b8bb91",
      "ea624089e99e4f28adef89ba2640ad8f",
      "cc821f5978af446ca9c038eb9376c361",
      "3092d6c082134c20ba2f67e27d68d76b",
      "1c505b5101264b3c9bdcde05c9c7ff2f",
      "59e204468db14289967cedc723fffd79",
      "64fd58e60803403eb4adb97e3d05c0ac",
      "855005c68d794c77aa3f04404bab222a",
      "886b31afa02440eaabdbd414af0d70c5",
      "a93fbe97e7434bef8147b6fbc1575de7",
      "f7d8e1ea911547fdb7dae05e2a1c67e0",
      "2ecf4ef35c4f4f9cafd26c294ab55855",
      "935081ca470c44728b27096e6abdf186",
      "ba8a394b915b4796916f1059fb79794a",
      "23bcb14efaa24875972b0e941ccca929",
      "438949b66ba64a26814b76bb7115dae6",
      "3599a0446f7f496d9e37e5f832fcee95",
      "e95ff2b795684c2e91d6cac355672843",
      "7b11138a76724d8398dd3723a7a13a7d",
      "1480676cf775416ab5c1d2008582e656",
      "2d7a999e158c4c81a581e8d8b2bde32d",
      "8d702f9d9819495bb9354664bdb3d08b",
      "8a27362c23cf443399102900491a5c29",
      "147063cb96cd476698003c7770040e70",
      "05d4af342720487088151dfb7ad2e402",
      "06225fc84d194abcb5d1eaf352a71d72",
      "f96e876d65f24c4487459df60cf1a61c",
      "e99d9219653d460098c7be25907074bf",
      "576e8d3fccdc4c1c9beb167c62fca66f",
      "3e70e1ce21454230abdd62dc6b21340a",
      "a5bfdb411a0948b6b2b7d8142be5d5fc",
      "9aa83b2eeb57427783c1c67874be2021",
      "9efbb21cd6e64c0bb5f9815b048fa9b7",
      "66a837dc50a1401bb3dd8cf894d13920",
      "71b4b4f0c2db49ca85bd57f2f348087d",
      "ad86d0d416dd4aa89513956aeff81141",
      "ae1bae9179ef4c95be2d837c48185301",
      "646582d372ef49b79f0f37ad76e8d518",
      "ac907c8167d44166b32b60f9a0a1a422",
      "aef3fa4e9b26403dbda10845353fc729",
      "2544aaa8ada24c55ba158e4e33056e4d",
      "b9e6b582bf87415ab66e2fc5ba9ea6c6",
      "b4b5d885143347aeb7f8dd05f9759343",
      "ef7e6dbebd524a7bbe7ce44fe5b1159f",
      "6101af83f17d42ee8e3c0c9971f56f71",
      "feac35b895644c12838f755d8c5f641b",
      "d82e7894b3f14754a16643acf1cb9361",
      "49d638f2ed2246dc90c3291413d29e05",
      "a52336ae2d9b4c41b2fd15b22a4ae1e4",
      "912d46c090f4483f88132fd545f79595",
      "b7ebddcceb334a489d784ac3ce862788",
      "d6114583fa944d5fb62afc8229d93106",
      "388cb827fe1042d5af16743369916b71",
      "6a01f3048e4f4141a19e62f2fc3ea094",
      "8a87986207654398b6e8f4bc7f286761",
      "f7130cfa6a894a468fbad244e4dd8e4e",
      "09c746e97cef431bbbe3985c2c3bda7b",
      "137d3e9dc150424c94aefcf7fbabcae7",
      "e47af0a7424244d2802dac7b223fd5ab",
      "6f958854cfca4658967e5e3ed14b05b1",
      "c45867182f054311b59ddbf8580c0b9d",
      "1f9faf5c0e0c40e38e4853f041601a10",
      "eec225557ff34518a2049cb97c17945e",
      "ea9eafd6d3e94348953aa745182d595a",
      "cfb86bd0855e4476af3bf53df5412f85",
      "f63d28b0bb5f48a5a4d7b51e8dbfb686",
      "830bba0a710940bfaccda8747895cca3",
      "0d5fddd201a1453b954f6a323c868ded",
      "e37b52987e564ebf9090902468e077a1",
      "e7672164aaa44c6d9785592c742f7753",
      "ad90849a922b44088e3e2c10952e2322",
      "6f97014ed4474c43924d43c171b08dc8",
      "9204b54333d94430bdf5cfe38be37e5d",
      "774d001a66604affaec7e8ef7c6bd4b8",
      "8d3e467d8a944688b72365e84ffa39db",
      "37f979aaa9184004a61923438c5c0555"
     ]
    },
    "executionInfo": {
     "elapsed": 269015,
     "status": "ok",
     "timestamp": 1685276635210,
     "user": {
      "displayName": "Maged Saeed",
      "userId": "08011552846066909361"
     },
     "user_tz": -180
    },
    "id": "8j22GoAtFhUt",
    "outputId": "f60bf2b3-4089-4ca7-9a24-226b2c25817b"
   },
   "outputs": [
    {
     "name": "stderr",
     "output_type": "stream",
     "text": [
      "GPU available: True (cuda), used: True\n",
      "TPU available: False, using: 0 TPU cores\n",
      "IPU available: False, using: 0 IPUs\n",
      "HPU available: False, using: 0 HPUs\n",
      "LOCAL_RANK: 0 - CUDA_VISIBLE_DEVICES: [0,1]\n"
     ]
    },
    {
     "data": {
      "application/vnd.jupyter.widget-view+json": {
       "model_id": "2ba99d1dc36844798593154bc89a43a3",
       "version_major": 2,
       "version_minor": 0
      },
      "text/plain": [
       "Output()"
      ]
     },
     "metadata": {},
     "output_type": "display_data"
    },
    {
     "data": {
      "text/html": [
       "<pre style=\"white-space:pre;overflow-x:auto;line-height:normal;font-family:Menlo,'DejaVu Sans Mono',consolas,'Courier New',monospace\">┏━━━━━━━━━━━━━━━━━━━━━━━━━━━┳━━━━━━━━━━━━━━━━━━━━━━━━━━━┓\n",
       "┃<span style=\"font-weight: bold\">      Validate metric      </span>┃<span style=\"font-weight: bold\">       DataLoader 0        </span>┃\n",
       "┡━━━━━━━━━━━━━━━━━━━━━━━━━━━╇━━━━━━━━━━━━━━━━━━━━━━━━━━━┩\n",
       "│<span style=\"color: #008080; text-decoration-color: #008080\">         val_loss          </span>│<span style=\"color: #800080; text-decoration-color: #800080\">    2.2756261825561523     </span>│\n",
       "└───────────────────────────┴───────────────────────────┘\n",
       "</pre>\n"
      ],
      "text/plain": [
       "┏━━━━━━━━━━━━━━━━━━━━━━━━━━━┳━━━━━━━━━━━━━━━━━━━━━━━━━━━┓\n",
       "┃\u001b[1m \u001b[0m\u001b[1m     Validate metric     \u001b[0m\u001b[1m \u001b[0m┃\u001b[1m \u001b[0m\u001b[1m      DataLoader 0       \u001b[0m\u001b[1m \u001b[0m┃\n",
       "┡━━━━━━━━━━━━━━━━━━━━━━━━━━━╇━━━━━━━━━━━━━━━━━━━━━━━━━━━┩\n",
       "│\u001b[36m \u001b[0m\u001b[36m        val_loss         \u001b[0m\u001b[36m \u001b[0m│\u001b[35m \u001b[0m\u001b[35m   2.2756261825561523    \u001b[0m\u001b[35m \u001b[0m│\n",
       "└───────────────────────────┴───────────────────────────┘\n"
      ]
     },
     "metadata": {},
     "output_type": "display_data"
    },
    {
     "data": {
      "text/html": [
       "<pre style=\"white-space:pre;overflow-x:auto;line-height:normal;font-family:Menlo,'DejaVu Sans Mono',consolas,'Courier New',monospace\"></pre>\n"
      ],
      "text/plain": []
     },
     "metadata": {},
     "output_type": "display_data"
    },
    {
     "data": {
      "text/html": [
       "<pre style=\"white-space:pre;overflow-x:auto;line-height:normal;font-family:Menlo,'DejaVu Sans Mono',consolas,'Courier New',monospace\">\n",
       "</pre>\n"
      ],
      "text/plain": [
       "\n"
      ]
     },
     "metadata": {},
     "output_type": "display_data"
    },
    {
     "name": "stderr",
     "output_type": "stream",
     "text": [
      "LOCAL_RANK: 0 - CUDA_VISIBLE_DEVICES: [0,1]\n"
     ]
    },
    {
     "data": {
      "text/html": [
       "<pre style=\"white-space:pre;overflow-x:auto;line-height:normal;font-family:Menlo,'DejaVu Sans Mono',consolas,'Courier New',monospace\">┏━━━━┳━━━━━━━━━━━━━━━━━━━┳━━━━━━━━━━━━━━━━━━━━━┳━━━━━━━━┓\n",
       "┃<span style=\"color: #800080; text-decoration-color: #800080; font-weight: bold\">    </span>┃<span style=\"color: #800080; text-decoration-color: #800080; font-weight: bold\"> Name              </span>┃<span style=\"color: #800080; text-decoration-color: #800080; font-weight: bold\"> Type                </span>┃<span style=\"color: #800080; text-decoration-color: #800080; font-weight: bold\"> Params </span>┃\n",
       "┡━━━━╇━━━━━━━━━━━━━━━━━━━╇━━━━━━━━━━━━━━━━━━━━━╇━━━━━━━━┩\n",
       "│<span style=\"color: #7f7f7f; text-decoration-color: #7f7f7f\"> 0  </span>│ train_accuracy    │ MulticlassAccuracy  │      0 │\n",
       "│<span style=\"color: #7f7f7f; text-decoration-color: #7f7f7f\"> 1  </span>│ val_accuracy      │ MulticlassAccuracy  │      0 │\n",
       "│<span style=\"color: #7f7f7f; text-decoration-color: #7f7f7f\"> 2  </span>│ test_accuracy     │ MulticlassAccuracy  │      0 │\n",
       "│<span style=\"color: #7f7f7f; text-decoration-color: #7f7f7f\"> 3  </span>│ test_recall       │ MulticlassRecall    │      0 │\n",
       "│<span style=\"color: #7f7f7f; text-decoration-color: #7f7f7f\"> 4  </span>│ test_precision    │ MulticlassPrecision │      0 │\n",
       "│<span style=\"color: #7f7f7f; text-decoration-color: #7f7f7f\"> 5  </span>│ test_f1_score     │ MulticlassF1Score   │      0 │\n",
       "│<span style=\"color: #7f7f7f; text-decoration-color: #7f7f7f\"> 6  </span>│ embedding         │ Embedding           │  6.2 M │\n",
       "│<span style=\"color: #7f7f7f; text-decoration-color: #7f7f7f\"> 7  </span>│ lstm              │ LSTM                │ 15.8 M │\n",
       "│<span style=\"color: #7f7f7f; text-decoration-color: #7f7f7f\"> 8  </span>│ dropout           │ Dropout             │      0 │\n",
       "│<span style=\"color: #7f7f7f; text-decoration-color: #7f7f7f\"> 9  </span>│ embedding_dropout │ Dropout             │      0 │\n",
       "│<span style=\"color: #7f7f7f; text-decoration-color: #7f7f7f\"> 10 </span>│ fc                │ Linear              │  5.1 K │\n",
       "└────┴───────────────────┴─────────────────────┴────────┘\n",
       "</pre>\n"
      ],
      "text/plain": [
       "┏━━━━┳━━━━━━━━━━━━━━━━━━━┳━━━━━━━━━━━━━━━━━━━━━┳━━━━━━━━┓\n",
       "┃\u001b[1;35m \u001b[0m\u001b[1;35m  \u001b[0m\u001b[1;35m \u001b[0m┃\u001b[1;35m \u001b[0m\u001b[1;35mName             \u001b[0m\u001b[1;35m \u001b[0m┃\u001b[1;35m \u001b[0m\u001b[1;35mType               \u001b[0m\u001b[1;35m \u001b[0m┃\u001b[1;35m \u001b[0m\u001b[1;35mParams\u001b[0m\u001b[1;35m \u001b[0m┃\n",
       "┡━━━━╇━━━━━━━━━━━━━━━━━━━╇━━━━━━━━━━━━━━━━━━━━━╇━━━━━━━━┩\n",
       "│\u001b[2m \u001b[0m\u001b[2m0 \u001b[0m\u001b[2m \u001b[0m│ train_accuracy    │ MulticlassAccuracy  │      0 │\n",
       "│\u001b[2m \u001b[0m\u001b[2m1 \u001b[0m\u001b[2m \u001b[0m│ val_accuracy      │ MulticlassAccuracy  │      0 │\n",
       "│\u001b[2m \u001b[0m\u001b[2m2 \u001b[0m\u001b[2m \u001b[0m│ test_accuracy     │ MulticlassAccuracy  │      0 │\n",
       "│\u001b[2m \u001b[0m\u001b[2m3 \u001b[0m\u001b[2m \u001b[0m│ test_recall       │ MulticlassRecall    │      0 │\n",
       "│\u001b[2m \u001b[0m\u001b[2m4 \u001b[0m\u001b[2m \u001b[0m│ test_precision    │ MulticlassPrecision │      0 │\n",
       "│\u001b[2m \u001b[0m\u001b[2m5 \u001b[0m\u001b[2m \u001b[0m│ test_f1_score     │ MulticlassF1Score   │      0 │\n",
       "│\u001b[2m \u001b[0m\u001b[2m6 \u001b[0m\u001b[2m \u001b[0m│ embedding         │ Embedding           │  6.2 M │\n",
       "│\u001b[2m \u001b[0m\u001b[2m7 \u001b[0m\u001b[2m \u001b[0m│ lstm              │ LSTM                │ 15.8 M │\n",
       "│\u001b[2m \u001b[0m\u001b[2m8 \u001b[0m\u001b[2m \u001b[0m│ dropout           │ Dropout             │      0 │\n",
       "│\u001b[2m \u001b[0m\u001b[2m9 \u001b[0m\u001b[2m \u001b[0m│ embedding_dropout │ Dropout             │      0 │\n",
       "│\u001b[2m \u001b[0m\u001b[2m10\u001b[0m\u001b[2m \u001b[0m│ fc                │ Linear              │  5.1 K │\n",
       "└────┴───────────────────┴─────────────────────┴────────┘\n"
      ]
     },
     "metadata": {},
     "output_type": "display_data"
    },
    {
     "data": {
      "text/html": [
       "<pre style=\"white-space:pre;overflow-x:auto;line-height:normal;font-family:Menlo,'DejaVu Sans Mono',consolas,'Courier New',monospace\"><span style=\"font-weight: bold\">Trainable params</span>: 22.0 M                                                                                           \n",
       "<span style=\"font-weight: bold\">Non-trainable params</span>: 0                                                                                            \n",
       "<span style=\"font-weight: bold\">Total params</span>: 22.0 M                                                                                               \n",
       "<span style=\"font-weight: bold\">Total estimated model params size (MB)</span>: 87                                                                         \n",
       "</pre>\n"
      ],
      "text/plain": [
       "\u001b[1mTrainable params\u001b[0m: 22.0 M                                                                                           \n",
       "\u001b[1mNon-trainable params\u001b[0m: 0                                                                                            \n",
       "\u001b[1mTotal params\u001b[0m: 22.0 M                                                                                               \n",
       "\u001b[1mTotal estimated model params size (MB)\u001b[0m: 87                                                                         \n"
      ]
     },
     "metadata": {},
     "output_type": "display_data"
    },
    {
     "data": {
      "application/vnd.jupyter.widget-view+json": {
       "model_id": "8bc1115b712e4592add23a9b6b0bf799",
       "version_major": 2,
       "version_minor": 0
      },
      "text/plain": [
       "Output()"
      ]
     },
     "metadata": {},
     "output_type": "display_data"
    },
    {
     "data": {
      "text/html": [
       "<pre style=\"white-space:pre;overflow-x:auto;line-height:normal;font-family:Menlo,'DejaVu Sans Mono',consolas,'Courier New',monospace\">Epoch 00018: reducing learning rate of group 0 to 5.0000e-04.\n",
       "</pre>\n"
      ],
      "text/plain": [
       "Epoch 00018: reducing learning rate of group 0 to 5.0000e-04.\n"
      ]
     },
     "metadata": {},
     "output_type": "display_data"
    },
    {
     "data": {
      "text/html": [
       "<pre style=\"white-space:pre;overflow-x:auto;line-height:normal;font-family:Menlo,'DejaVu Sans Mono',consolas,'Courier New',monospace\">Epoch 00020: reducing learning rate of group 0 to 2.5000e-04.\n",
       "</pre>\n"
      ],
      "text/plain": [
       "Epoch 00020: reducing learning rate of group 0 to 2.5000e-04.\n"
      ]
     },
     "metadata": {},
     "output_type": "display_data"
    },
    {
     "data": {
      "text/html": [
       "<pre style=\"white-space:pre;overflow-x:auto;line-height:normal;font-family:Menlo,'DejaVu Sans Mono',consolas,'Courier New',monospace\"></pre>\n"
      ],
      "text/plain": []
     },
     "metadata": {},
     "output_type": "display_data"
    },
    {
     "data": {
      "text/html": [
       "<pre style=\"white-space:pre;overflow-x:auto;line-height:normal;font-family:Menlo,'DejaVu Sans Mono',consolas,'Courier New',monospace\">\n",
       "</pre>\n"
      ],
      "text/plain": [
       "\n"
      ]
     },
     "metadata": {},
     "output_type": "display_data"
    }
   ],
   "source": [
    "trainer = train_model(\n",
    "    model,\n",
    "    train_dataloader=dotless_trainloader,\n",
    "    val_dataloader=dotless_valloader,\n",
    "    text_type='dotless-text',\n",
    "  )"
   ]
  },
  {
   "cell_type": "code",
   "execution_count": 59,
   "metadata": {
    "colab": {
     "base_uri": "https://localhost:8080/",
     "height": 0,
     "referenced_widgets": [
      "e5a0545bb7704bdaa4797dc6b2a28623",
      "4eb45861929f49a68f40dae9a4bcbb0e",
      "9be8351da0294ed9b48f557733d8c762",
      "3b00b28611764226ae7b87da43a477cc",
      "82d48a6ee12a46c59f6d1780abbc0905",
      "dc30605d28554aab80a01ab7d905c129",
      "aa2a02a5a0e94804a04e24759ea83bae",
      "75c3063e217548c2af6edbf5ecdd0245",
      "c5cf8e2f643f4edda796657ef1bd9b34",
      "5b01e8dee26b4cc9a64993a7a590872b",
      "7c5e760cecf84f1cbb7c5306786e5f9a"
     ]
    },
    "executionInfo": {
     "elapsed": 2409,
     "status": "ok",
     "timestamp": 1685276637586,
     "user": {
      "displayName": "Maged Saeed",
      "userId": "08011552846066909361"
     },
     "user_tz": -180
    },
    "id": "8Nso18GHGr62",
    "outputId": "627b9c74-d5ff-4f0d-a9a9-53d31ced503f",
    "tags": []
   },
   "outputs": [
    {
     "name": "stderr",
     "output_type": "stream",
     "text": [
      "Restoring states from the checkpoint path at /home/majed_alshaibani/Experiments/DotlessArabic/NER/dotless-text/checkpoints/epoch=15-val_loss=0.203-step=224.ckpt\n"
     ]
    },
    {
     "name": "stderr",
     "output_type": "stream",
     "text": [
      "LOCAL_RANK: 0 - CUDA_VISIBLE_DEVICES: [0,1]\n",
      "Loaded model weights from the checkpoint at /home/majed_alshaibani/Experiments/DotlessArabic/NER/dotless-text/checkpoints/epoch=15-val_loss=0.203-step=224.ckpt\n"
     ]
    },
    {
     "data": {
      "application/vnd.jupyter.widget-view+json": {
       "model_id": "1de1ee538f0e4ebf8522921eda7721d4",
       "version_major": 2,
       "version_minor": 0
      },
      "text/plain": [
       "Output()"
      ]
     },
     "metadata": {},
     "output_type": "display_data"
    },
    {
     "data": {
      "text/html": [
       "<pre style=\"white-space:pre;overflow-x:auto;line-height:normal;font-family:Menlo,'DejaVu Sans Mono',consolas,'Courier New',monospace\">┏━━━━━━━━━━━━━━━━━━━━━━━━━━━┳━━━━━━━━━━━━━━━━━━━━━━━━━━━┓\n",
       "┃<span style=\"font-weight: bold\">        Test metric        </span>┃<span style=\"font-weight: bold\">       DataLoader 0        </span>┃\n",
       "┡━━━━━━━━━━━━━━━━━━━━━━━━━━━╇━━━━━━━━━━━━━━━━━━━━━━━━━━━┩\n",
       "│<span style=\"color: #008080; text-decoration-color: #008080\">         test_acc          </span>│<span style=\"color: #800080; text-decoration-color: #800080\">    0.9130377173423767     </span>│\n",
       "│<span style=\"color: #008080; text-decoration-color: #008080\">       test_f1_score       </span>│<span style=\"color: #800080; text-decoration-color: #800080\">    0.5534211993217468     </span>│\n",
       "│<span style=\"color: #008080; text-decoration-color: #008080\">         test_loss         </span>│<span style=\"color: #800080; text-decoration-color: #800080\">    0.4390001595020294     </span>│\n",
       "│<span style=\"color: #008080; text-decoration-color: #008080\">      test_precision       </span>│<span style=\"color: #800080; text-decoration-color: #800080\">    0.7081059813499451     </span>│\n",
       "│<span style=\"color: #008080; text-decoration-color: #008080\">        test_recall        </span>│<span style=\"color: #800080; text-decoration-color: #800080\">    0.4811074137687683     </span>│\n",
       "└───────────────────────────┴───────────────────────────┘\n",
       "</pre>\n"
      ],
      "text/plain": [
       "┏━━━━━━━━━━━━━━━━━━━━━━━━━━━┳━━━━━━━━━━━━━━━━━━━━━━━━━━━┓\n",
       "┃\u001b[1m \u001b[0m\u001b[1m       Test metric       \u001b[0m\u001b[1m \u001b[0m┃\u001b[1m \u001b[0m\u001b[1m      DataLoader 0       \u001b[0m\u001b[1m \u001b[0m┃\n",
       "┡━━━━━━━━━━━━━━━━━━━━━━━━━━━╇━━━━━━━━━━━━━━━━━━━━━━━━━━━┩\n",
       "│\u001b[36m \u001b[0m\u001b[36m        test_acc         \u001b[0m\u001b[36m \u001b[0m│\u001b[35m \u001b[0m\u001b[35m   0.9130377173423767    \u001b[0m\u001b[35m \u001b[0m│\n",
       "│\u001b[36m \u001b[0m\u001b[36m      test_f1_score      \u001b[0m\u001b[36m \u001b[0m│\u001b[35m \u001b[0m\u001b[35m   0.5534211993217468    \u001b[0m\u001b[35m \u001b[0m│\n",
       "│\u001b[36m \u001b[0m\u001b[36m        test_loss        \u001b[0m\u001b[36m \u001b[0m│\u001b[35m \u001b[0m\u001b[35m   0.4390001595020294    \u001b[0m\u001b[35m \u001b[0m│\n",
       "│\u001b[36m \u001b[0m\u001b[36m     test_precision      \u001b[0m\u001b[36m \u001b[0m│\u001b[35m \u001b[0m\u001b[35m   0.7081059813499451    \u001b[0m\u001b[35m \u001b[0m│\n",
       "│\u001b[36m \u001b[0m\u001b[36m       test_recall       \u001b[0m\u001b[36m \u001b[0m│\u001b[35m \u001b[0m\u001b[35m   0.4811074137687683    \u001b[0m\u001b[35m \u001b[0m│\n",
       "└───────────────────────────┴───────────────────────────┘\n"
      ]
     },
     "metadata": {},
     "output_type": "display_data"
    },
    {
     "data": {
      "text/html": [
       "<pre style=\"white-space:pre;overflow-x:auto;line-height:normal;font-family:Menlo,'DejaVu Sans Mono',consolas,'Courier New',monospace\"></pre>\n"
      ],
      "text/plain": []
     },
     "metadata": {},
     "output_type": "display_data"
    },
    {
     "data": {
      "text/html": [
       "<pre style=\"white-space:pre;overflow-x:auto;line-height:normal;font-family:Menlo,'DejaVu Sans Mono',consolas,'Courier New',monospace\">\n",
       "</pre>\n"
      ],
      "text/plain": [
       "\n"
      ]
     },
     "metadata": {},
     "output_type": "display_data"
    },
    {
     "data": {
      "text/plain": [
       "[{'test_acc': 0.9130377173423767,\n",
       "  'test_precision': 0.7081059813499451,\n",
       "  'test_recall': 0.4811074137687683,\n",
       "  'test_f1_score': 0.5534211993217468,\n",
       "  'test_loss': 0.4390001595020294}]"
      ]
     },
     "execution_count": 59,
     "metadata": {},
     "output_type": "execute_result"
    },
    {
     "data": {
      "image/png": "[encoded data removed]",
      "text/plain": [
       "<Figure size 1000x700 with 2 Axes>"
      ]
     },
     "metadata": {},
     "output_type": "display_data"
    }
   ],
   "source": [
    "# test on the last model\n",
    "trainer.test(model,dotless_testloader,ckpt_path='best')"
   ]
  },
  {
   "cell_type": "code",
   "execution_count": 60,
   "metadata": {},
   "outputs": [],
   "source": [
    "epoch_timer_callback = list(filter(lambda callback: callback.__class__ == EpochTimerCallback , trainer.callbacks))[0]"
   ]
  },
  {
   "cell_type": "code",
   "execution_count": 61,
   "metadata": {},
   "outputs": [
    {
     "data": {
      "text/plain": [
       "5.279452630451748"
      ]
     },
     "execution_count": 61,
     "metadata": {},
     "output_type": "execute_result"
    }
   ],
   "source": [
    "epoch_timer_callback.average_epochs_time"
   ]
  }
 ],
 "metadata": {
  "accelerator": "GPU",
  "colab": {
   "authorship_tag": "ABX9TyPIAt/ovrCFS6Nf/kP6VZOe",
   "collapsed_sections": [
    "VS8VuCfcKbfT",
    "iIrleOV9KjxL",
    "tgz78Q6cgXMe",
    "3jSDekqiQ5Pq",
    "t1BBdUhqCweL",
    "gPUYz2nw0nkS",
    "sxCzDUe0fBIa",
    "xaKOw0Ohf18K",
    "n5OeFZK4phJ4",
    "mfX4J4YGGRx0",
    "w2mmsGhtphKC",
    "SnpCBZuhphKG",
    "PlPqclc-FhUd",
    "VJsefZjXGUAI",
    "AONwJh-dFhUq",
    "5CKefGLcFhUr",
    "1FjK2yxJL5xz",
    "fZnUsUAJL5x0",
    "yOD_XOHyL5x1",
    "ua4WZfN7S9x_",
    "scZcKBR4S9yG"
   ],
   "gpuType": "T4",
   "machine_shape": "hm",
   "provenance": []
  },
  "gpuClass": "standard",
  "kernelspec": {
   "display_name": "Python 3 (ipykernel)",
   "language": "python",
   "name": "python3"
  },
  "language_info": {
   "codemirror_mode": {
    "name": "ipython",
    "version": 3
   },
   "file_extension": ".py",
   "mimetype": "text/x-python",
   "name": "python",
   "nbconvert_exporter": "python",
   "pygments_lexer": "ipython3",
   "version": "3.10.12"
  },
  "widgets": {
   "application/vnd.jupyter.widget-state+json": {
    "state": {
     "01e62841a2f54e34a77a4f7af45e89fe": {
      "model_module": "@jupyter-widgets/controls",
      "model_module_version": "1.5.0",
      "model_name": "DescriptionStyleModel",
      "state": {
       "description_width": ""
      }
     },
     "05a4b762d6124116a9e699f2ca6fa9b4": {
      "model_module": "@jupyter-widgets/base",
      "model_module_version": "1.2.0",
      "model_name": "LayoutModel",
      "state": {
       "width": "20px"
      }
     },
     "064f91d7736643e787d7aa21a5f1293a": {
      "model_module": "@jupyter-widgets/controls",
      "model_module_version": "1.5.0",
      "model_name": "FloatProgressModel",
      "state": {
       "bar_style": "success",
       "layout": "IPY_MODEL_2bf35d770bd742a395dfc1b4d15f6d9a",
       "max": 906,
       "style": "IPY_MODEL_66d017a699ea47bdabd75f9359619ee3",
       "value": 906
      }
     },
     "0ac8c813a70444bc92837794f9451648": {
      "model_module": "@jupyter-widgets/controls",
      "model_module_version": "1.5.0",
      "model_name": "DescriptionStyleModel",
      "state": {
       "description_width": ""
      }
     },
     "0ba27bb0effb4026b37a3663cfd3e74c": {
      "model_module": "@jupyter-widgets/base",
      "model_module_version": "1.2.0",
      "model_name": "LayoutModel",
      "state": {
       "width": "20px"
      }
     },
     "0d1a07de4e764b9a81c78729534d56ab": {
      "model_module": "@jupyter-widgets/base",
      "model_module_version": "1.2.0",
      "model_name": "LayoutModel",
      "state": {}
     },
     "0d85f52c04e943b3a34082959765241c": {
      "model_module": "@jupyter-widgets/controls",
      "model_module_version": "1.5.0",
      "model_name": "DescriptionStyleModel",
      "state": {
       "description_width": ""
      }
     },
     "10125a164e134d7fa26086b7d367a71e": {
      "model_module": "@jupyter-widgets/controls",
      "model_module_version": "1.5.0",
      "model_name": "DescriptionStyleModel",
      "state": {
       "description_width": ""
      }
     },
     "119b3c9934ae4f73bf38684824acff86": {
      "model_module": "@jupyter-widgets/output",
      "model_module_version": "1.0.0",
      "model_name": "OutputModel",
      "state": {
       "layout": "IPY_MODEL_3bdf9affa387437bb4cf62efda191905",
       "outputs": [
        {
         "data": {
          "text/html": "<pre style=\"white-space:pre;overflow-x:auto;line-height:normal;font-family:Menlo,'DejaVu Sans Mono',consolas,'Courier New',monospace\"><span style=\"color: #c0c0c0; text-decoration-color: #c0c0c0\">Validation</span> <span style=\"color: #6206e0; text-decoration-color: #6206e0\">━━━━━━━━━━━━━━━━━━━━━━━━━━━━━━━━━━━━━━━━</span> <span style=\"color: #c0c0c0; text-decoration-color: #c0c0c0\">4/4</span> <span style=\"color: #8a8a8a; text-decoration-color: #8a8a8a\">0:00:00 • 0:00:00</span> <span style=\"color: #b2b2b2; text-decoration-color: #b2b2b2\">13.41it/s</span>  \n</pre>\n",
          "text/plain": "\u001b[37mValidation\u001b[0m \u001b[38;2;98;6;224m━━━━━━━━━━━━━━━━━━━━━━━━━━━━━━━━━━━━━━━━\u001b[0m \u001b[37m4/4\u001b[0m \u001b[38;5;245m0:00:00 • 0:00:00\u001b[0m \u001b[38;5;249m13.41it/s\u001b[0m  \n"
         },
         "metadata": {},
         "output_type": "display_data"
        }
       ]
      }
     },
     "178be41848394ad187e77c7eef2a3e28": {
      "model_module": "@jupyter-widgets/controls",
      "model_module_version": "1.5.0",
      "model_name": "HTMLModel",
      "state": {
       "layout": "IPY_MODEL_3a124a87103d41da8f0f38223cc81e78",
       "style": "IPY_MODEL_5cf07dfc62db4868827c9c219d718ddb",
       "value": " 906/? [00:00&lt;00:00, 5647.34it/s]"
      }
     },
     "187c4d48095544479a6c1d6405bee04c": {
      "model_module": "@jupyter-widgets/base",
      "model_module_version": "1.2.0",
      "model_name": "LayoutModel",
      "state": {}
     },
     "1ee39ada76f843caad2cb6f04eef6f06": {
      "model_module": "@jupyter-widgets/base",
      "model_module_version": "1.2.0",
      "model_name": "LayoutModel",
      "state": {}
     },
     "25af0e2932184ca886e499663058b492": {
      "model_module": "@jupyter-widgets/output",
      "model_module_version": "1.0.0",
      "model_name": "OutputModel",
      "state": {
       "layout": "IPY_MODEL_5f59d53fca3b40acba971239287cd899",
       "outputs": [
        {
         "data": {
          "text/html": "<pre style=\"white-space:pre;overflow-x:auto;line-height:normal;font-family:Menlo,'DejaVu Sans Mono',consolas,'Courier New',monospace\">Epoch 32/49 <span style=\"color: #6206e0; text-decoration-color: #6206e0\">━━━━━━━━━━━━━━━━━━━━━━━━━━━━━━━━━━</span> <span style=\"color: #c0c0c0; text-decoration-color: #c0c0c0\">24/24</span> <span style=\"color: #8a8a8a; text-decoration-color: #8a8a8a\">0:00:14 • 0:00:00</span> <span style=\"color: #b2b2b2; text-decoration-color: #b2b2b2\">1.66it/s</span> <span style=\"color: #c0c0c0; text-decoration-color: #c0c0c0\">v_num: 6 loss: 0.134 train_acc:    </span>\n                                                                                <span style=\"color: #c0c0c0; text-decoration-color: #c0c0c0\">0.959 val_acc: 0.932 val_loss:     </span>\n                                                                                <span style=\"color: #c0c0c0; text-decoration-color: #c0c0c0\">0.194                              </span>\n</pre>\n",
          "text/plain": "Epoch 32/49 \u001b[38;2;98;6;224m━━━━━━━━━━━━━━━━━━━━━━━━━━━━━━━━━━\u001b[0m \u001b[37m24/24\u001b[0m \u001b[38;5;245m0:00:14 • 0:00:00\u001b[0m \u001b[38;5;249m1.66it/s\u001b[0m \u001b[37mv_num: 6 loss: 0.134 train_acc:    \u001b[0m\n                                                                                \u001b[37m0.959 val_acc: 0.932 val_loss:     \u001b[0m\n                                                                                \u001b[37m0.194                              \u001b[0m\n"
         },
         "metadata": {},
         "output_type": "display_data"
        }
       ]
      }
     },
     "290fe64028964dad85f093d8c10f6b1e": {
      "model_module": "@jupyter-widgets/controls",
      "model_module_version": "1.5.0",
      "model_name": "HBoxModel",
      "state": {
       "children": [
        "IPY_MODEL_93bbd588d70a4bb292ecca0230fab090",
        "IPY_MODEL_3b669f01ff5c44dab5f2fbe8ecb0b2e7",
        "IPY_MODEL_458265559b8947de901ad5e77b31a39b"
       ],
       "layout": "IPY_MODEL_87d68d88d5804c03aa4e4d37eac32419"
      }
     },
     "2b8172fa805240a7afc8e4112349ab66": {
      "model_module": "@jupyter-widgets/controls",
      "model_module_version": "1.5.0",
      "model_name": "HTMLModel",
      "state": {
       "layout": "IPY_MODEL_c4795f95363c403d835be96a35f5bb88",
       "style": "IPY_MODEL_ee27056972d343cf990eb8576333bd81",
       "value": " 906/? [00:00&lt;00:00, 10327.01it/s]"
      }
     },
     "2bf35d770bd742a395dfc1b4d15f6d9a": {
      "model_module": "@jupyter-widgets/base",
      "model_module_version": "1.2.0",
      "model_name": "LayoutModel",
      "state": {}
     },
     "2cf01fa95fd44dfd9853c089ea4879d0": {
      "model_module": "@jupyter-widgets/controls",
      "model_module_version": "1.5.0",
      "model_name": "FloatProgressModel",
      "state": {
       "bar_style": "success",
       "layout": "IPY_MODEL_05a4b762d6124116a9e699f2ca6fa9b4",
       "max": 1,
       "style": "IPY_MODEL_80125eba498f480ab5363584e292deb5",
       "value": 1
      }
     },
     "2d83190c8eb14285a01307234157f491": {
      "model_module": "@jupyter-widgets/base",
      "model_module_version": "1.2.0",
      "model_name": "LayoutModel",
      "state": {}
     },
     "2e0c5020c95649399fa23087750fe9fb": {
      "model_module": "@jupyter-widgets/controls",
      "model_module_version": "1.5.0",
      "model_name": "DescriptionStyleModel",
      "state": {
       "description_width": ""
      }
     },
     "2ee6f537efcc46bfb42edd1a1f091ba9": {
      "model_module": "@jupyter-widgets/controls",
      "model_module_version": "1.5.0",
      "model_name": "HTMLModel",
      "state": {
       "layout": "IPY_MODEL_38a88e2cdb354a67811cef212945f94e",
       "style": "IPY_MODEL_01e62841a2f54e34a77a4f7af45e89fe"
      }
     },
     "3894690988604002af951e2186694f61": {
      "model_module": "@jupyter-widgets/base",
      "model_module_version": "1.2.0",
      "model_name": "LayoutModel",
      "state": {}
     },
     "38a88e2cdb354a67811cef212945f94e": {
      "model_module": "@jupyter-widgets/base",
      "model_module_version": "1.2.0",
      "model_name": "LayoutModel",
      "state": {}
     },
     "39c41e9cdca24d198f3f89c2045d86eb": {
      "model_module": "@jupyter-widgets/base",
      "model_module_version": "1.2.0",
      "model_name": "LayoutModel",
      "state": {}
     },
     "3a124a87103d41da8f0f38223cc81e78": {
      "model_module": "@jupyter-widgets/base",
      "model_module_version": "1.2.0",
      "model_name": "LayoutModel",
      "state": {}
     },
     "3b669f01ff5c44dab5f2fbe8ecb0b2e7": {
      "model_module": "@jupyter-widgets/controls",
      "model_module_version": "1.5.0",
      "model_name": "FloatProgressModel",
      "state": {
       "bar_style": "success",
       "layout": "IPY_MODEL_cff831b684904eddbf31fbe0bc1b2c80",
       "max": 3,
       "style": "IPY_MODEL_9c0661f4564348e3b75cc74d279ab22d",
       "value": 3
      }
     },
     "3bdf9affa387437bb4cf62efda191905": {
      "model_module": "@jupyter-widgets/base",
      "model_module_version": "1.2.0",
      "model_name": "LayoutModel",
      "state": {}
     },
     "3dff866cc33c43b1a0e781de27ef8f37": {
      "model_module": "@jupyter-widgets/controls",
      "model_module_version": "1.5.0",
      "model_name": "FloatProgressModel",
      "state": {
       "bar_style": "success",
       "layout": "IPY_MODEL_c256160d60f349499f97095c6344f5c9",
       "max": 3,
       "style": "IPY_MODEL_9fe16289ffbe47b7ae65b12b5faaa840",
       "value": 3
      }
     },
     "3f6b8ca4f4624837aa4d2675772e75d2": {
      "model_module": "@jupyter-widgets/controls",
      "model_module_version": "1.5.0",
      "model_name": "HBoxModel",
      "state": {
       "children": [
        "IPY_MODEL_93c291c147f14790a044055c1617a16b",
        "IPY_MODEL_a4edac328d1a480eb0b64cf4fbd31016",
        "IPY_MODEL_ef6fdaf188d949fd925a30e4d2bb78c4"
       ],
       "layout": "IPY_MODEL_d07c4949635d4922abf0e1eac2fed62e"
      }
     },
     "3fc8c47b1f784f54ba43c7cc11b5d42e": {
      "model_module": "@jupyter-widgets/controls",
      "model_module_version": "1.5.0",
      "model_name": "HBoxModel",
      "state": {
       "children": [
        "IPY_MODEL_493293eb533f48319420d3000a4c6320",
        "IPY_MODEL_f57e030740fe44cfacab13a84c198dce",
        "IPY_MODEL_46fb53cd3df0485dbd66b9ad1ea0179d"
       ],
       "layout": "IPY_MODEL_1ee39ada76f843caad2cb6f04eef6f06"
      }
     },
     "400ab60bcb4b40df894b0d07fc14b893": {
      "model_module": "@jupyter-widgets/controls",
      "model_module_version": "1.5.0",
      "model_name": "FloatProgressModel",
      "state": {
       "bar_style": "success",
       "layout": "IPY_MODEL_9c87c2622ed84c60bfa8905f85edabab",
       "max": 1,
       "style": "IPY_MODEL_c73a967f89f74bacaba122ed8e6af7a1",
       "value": 1
      }
     },
     "41f4160d8e1d49808951fcf6d9a7e8f2": {
      "model_module": "@jupyter-widgets/controls",
      "model_module_version": "1.5.0",
      "model_name": "HBoxModel",
      "state": {
       "children": [
        "IPY_MODEL_2ee6f537efcc46bfb42edd1a1f091ba9",
        "IPY_MODEL_59419f7111de487880d2de3993b8cb1b",
        "IPY_MODEL_84bcd0d020aa44e2bc8ae76a53e2a7c3"
       ],
       "layout": "IPY_MODEL_f7a1d208b53f4a2fb93db3379bed2755"
      }
     },
     "42c66b0912f04a02a716990e8f60cb10": {
      "model_module": "@jupyter-widgets/controls",
      "model_module_version": "1.5.0",
      "model_name": "ProgressStyleModel",
      "state": {
       "description_width": ""
      }
     },
     "42d1826653264db5918f8ade3810dc58": {
      "model_module": "@jupyter-widgets/controls",
      "model_module_version": "1.5.0",
      "model_name": "DescriptionStyleModel",
      "state": {
       "description_width": ""
      }
     },
     "458265559b8947de901ad5e77b31a39b": {
      "model_module": "@jupyter-widgets/controls",
      "model_module_version": "1.5.0",
      "model_name": "HTMLModel",
      "state": {
       "layout": "IPY_MODEL_56573300368249fe959eb270897cf05c",
       "style": "IPY_MODEL_ef7738b336fe4300818400bedbc4762b",
       "value": " 3/3 [00:00&lt;00:00, 252.03it/s]"
      }
     },
     "459999cf560b4b71b72d8d9924d32102": {
      "model_module": "@jupyter-widgets/controls",
      "model_module_version": "1.5.0",
      "model_name": "DescriptionStyleModel",
      "state": {
       "description_width": ""
      }
     },
     "46fb53cd3df0485dbd66b9ad1ea0179d": {
      "model_module": "@jupyter-widgets/controls",
      "model_module_version": "1.5.0",
      "model_name": "HTMLModel",
      "state": {
       "layout": "IPY_MODEL_39c41e9cdca24d198f3f89c2045d86eb",
       "style": "IPY_MODEL_a3b05ff29fa145b88d48e54301be9f7c",
       "value": " 674/674 [00:00&lt;00:00, 1990.32it/s]"
      }
     },
     "4913971411464d12892fec627707532b": {
      "model_module": "@jupyter-widgets/controls",
      "model_module_version": "1.5.0",
      "model_name": "DescriptionStyleModel",
      "state": {
       "description_width": ""
      }
     },
     "493293eb533f48319420d3000a4c6320": {
      "model_module": "@jupyter-widgets/controls",
      "model_module_version": "1.5.0",
      "model_name": "HTMLModel",
      "state": {
       "layout": "IPY_MODEL_88cbfd5d6933491e833d2e24264e34d8",
       "style": "IPY_MODEL_893930b429a24a9d9e536dba79932dab",
       "value": "100%"
      }
     },
     "496df323a37a49caae87607539c9f2e2": {
      "model_module": "@jupyter-widgets/controls",
      "model_module_version": "1.5.0",
      "model_name": "DescriptionStyleModel",
      "state": {
       "description_width": ""
      }
     },
     "4b45c28c1c81482d9fbf0addc3f40e4a": {
      "model_module": "@jupyter-widgets/controls",
      "model_module_version": "1.5.0",
      "model_name": "HTMLModel",
      "state": {
       "layout": "IPY_MODEL_e73c53a1d95147c0970d3fc4f695d4b3",
       "style": "IPY_MODEL_b14509ae4a1e48afb06e6ba88f1a0157",
       "value": " 3/3 [00:00&lt;00:00, 181.21it/s]"
      }
     },
     "4ce7d9ca351a4db7a92e0001ba1e05fe": {
      "model_module": "@jupyter-widgets/controls",
      "model_module_version": "1.5.0",
      "model_name": "ProgressStyleModel",
      "state": {
       "description_width": ""
      }
     },
     "506cc78b4bb94ca48d11a4035d96713a": {
      "model_module": "@jupyter-widgets/controls",
      "model_module_version": "1.5.0",
      "model_name": "HBoxModel",
      "state": {
       "children": [
        "IPY_MODEL_a32d9dc8364743b68f469621c1b9b88b",
        "IPY_MODEL_bfd587709d4a440a8e385dcba221cd9e",
        "IPY_MODEL_879fe5dede644f5eac0962539d4be541"
       ],
       "layout": "IPY_MODEL_3894690988604002af951e2186694f61"
      }
     },
     "513c72c04c5d4981876d8952ccda73fc": {
      "model_module": "@jupyter-widgets/controls",
      "model_module_version": "1.5.0",
      "model_name": "DescriptionStyleModel",
      "state": {
       "description_width": ""
      }
     },
     "56460344c24e4ac3b54fdc046c36a3b2": {
      "model_module": "@jupyter-widgets/base",
      "model_module_version": "1.2.0",
      "model_name": "LayoutModel",
      "state": {}
     },
     "56573300368249fe959eb270897cf05c": {
      "model_module": "@jupyter-widgets/base",
      "model_module_version": "1.2.0",
      "model_name": "LayoutModel",
      "state": {}
     },
     "57a67c7df4fe4d90b11409160d20c967": {
      "model_module": "@jupyter-widgets/base",
      "model_module_version": "1.2.0",
      "model_name": "LayoutModel",
      "state": {}
     },
     "59419f7111de487880d2de3993b8cb1b": {
      "model_module": "@jupyter-widgets/controls",
      "model_module_version": "1.5.0",
      "model_name": "FloatProgressModel",
      "state": {
       "bar_style": "success",
       "layout": "IPY_MODEL_886ef47ff74d424fb6cc7767945ce90f",
       "max": 1,
       "style": "IPY_MODEL_b023a19aa7864041ab42a22fb1ebccef",
       "value": 1
      }
     },
     "59535fd6b567434086a311705a951ba7": {
      "model_module": "@jupyter-widgets/controls",
      "model_module_version": "1.5.0",
      "model_name": "ProgressStyleModel",
      "state": {
       "description_width": ""
      }
     },
     "5b95113d93a44e21804a36ce16c381c8": {
      "model_module": "@jupyter-widgets/controls",
      "model_module_version": "1.5.0",
      "model_name": "ProgressStyleModel",
      "state": {
       "description_width": ""
      }
     },
     "5cf07dfc62db4868827c9c219d718ddb": {
      "model_module": "@jupyter-widgets/controls",
      "model_module_version": "1.5.0",
      "model_name": "DescriptionStyleModel",
      "state": {
       "description_width": ""
      }
     },
     "5dda7f0ccc034873ac0e131d7a7af665": {
      "model_module": "@jupyter-widgets/controls",
      "model_module_version": "1.5.0",
      "model_name": "ProgressStyleModel",
      "state": {
       "description_width": ""
      }
     },
     "5f59d53fca3b40acba971239287cd899": {
      "model_module": "@jupyter-widgets/base",
      "model_module_version": "1.2.0",
      "model_name": "LayoutModel",
      "state": {}
     },
     "60af38e05a8a44a8900f51b837cd2db6": {
      "model_module": "@jupyter-widgets/controls",
      "model_module_version": "1.5.0",
      "model_name": "HTMLModel",
      "state": {
       "layout": "IPY_MODEL_d68c4e08fda1491a8e0b4b9e8af72fa8",
       "style": "IPY_MODEL_42d1826653264db5918f8ade3810dc58",
       "value": " 906/906 [00:00&lt;00:00, 754.31it/s]"
      }
     },
     "66d017a699ea47bdabd75f9359619ee3": {
      "model_module": "@jupyter-widgets/controls",
      "model_module_version": "1.5.0",
      "model_name": "ProgressStyleModel",
      "state": {
       "description_width": ""
      }
     },
     "6ac45cc0605d4e118569a12aaf97892a": {
      "model_module": "@jupyter-widgets/controls",
      "model_module_version": "1.5.0",
      "model_name": "DescriptionStyleModel",
      "state": {
       "description_width": ""
      }
     },
     "6be27c54250e4194b59bf59275d65ba8": {
      "model_module": "@jupyter-widgets/base",
      "model_module_version": "1.2.0",
      "model_name": "LayoutModel",
      "state": {}
     },
     "6c49e1bfa7e04aabba27d27b22626d52": {
      "model_module": "@jupyter-widgets/base",
      "model_module_version": "1.2.0",
      "model_name": "LayoutModel",
      "state": {}
     },
     "6cc59a855f9446abb1980b547d434706": {
      "model_module": "@jupyter-widgets/output",
      "model_module_version": "1.0.0",
      "model_name": "OutputModel",
      "state": {
       "layout": "IPY_MODEL_7e14009a88304910bd63ea6d62cba251",
       "outputs": [
        {
         "data": {
          "text/html": "<pre style=\"white-space:pre;overflow-x:auto;line-height:normal;font-family:Menlo,'DejaVu Sans Mono',consolas,'Courier New',monospace\"><span style=\"color: #c0c0c0; text-decoration-color: #c0c0c0\">Testing</span> <span style=\"color: #6206e0; text-decoration-color: #6206e0\">━━━━━━━━━━━━━━━━━━━━━━━━━━━━━━━━━━━━━━━━</span> <span style=\"color: #c0c0c0; text-decoration-color: #c0c0c0\">3/3</span> <span style=\"color: #8a8a8a; text-decoration-color: #8a8a8a\">0:00:00 • 0:00:00</span> <span style=\"color: #b2b2b2; text-decoration-color: #b2b2b2\">13.22it/s</span>  \n</pre>\n",
          "text/plain": "\u001b[37mTesting\u001b[0m \u001b[38;2;98;6;224m━━━━━━━━━━━━━━━━━━━━━━━━━━━━━━━━━━━━━━━━\u001b[0m \u001b[37m3/3\u001b[0m \u001b[38;5;245m0:00:00 • 0:00:00\u001b[0m \u001b[38;5;249m13.22it/s\u001b[0m  \n"
         },
         "metadata": {},
         "output_type": "display_data"
        }
       ]
      }
     },
     "6ee08343faa94e65811f07b1683e793c": {
      "model_module": "@jupyter-widgets/controls",
      "model_module_version": "1.5.0",
      "model_name": "HTMLModel",
      "state": {
       "layout": "IPY_MODEL_56460344c24e4ac3b54fdc046c36a3b2",
       "style": "IPY_MODEL_c2a8bbd199b84425ab46fd3630c0d5a0"
      }
     },
     "70a9483aff56436baf7ef4d7dde28720": {
      "model_module": "@jupyter-widgets/base",
      "model_module_version": "1.2.0",
      "model_name": "LayoutModel",
      "state": {}
     },
     "719f5aa76fff4e1a80f693eb75d484eb": {
      "model_module": "@jupyter-widgets/base",
      "model_module_version": "1.2.0",
      "model_name": "LayoutModel",
      "state": {}
     },
     "71a3cde918ec4ba6b5f7299b98233a3a": {
      "model_module": "@jupyter-widgets/base",
      "model_module_version": "1.2.0",
      "model_name": "LayoutModel",
      "state": {}
     },
     "71d4dc07e8fb461c8d6fffb4b4bd0108": {
      "model_module": "@jupyter-widgets/base",
      "model_module_version": "1.2.0",
      "model_name": "LayoutModel",
      "state": {}
     },
     "7664d8cd30124eb9a3053812a554c4cc": {
      "model_module": "@jupyter-widgets/base",
      "model_module_version": "1.2.0",
      "model_name": "LayoutModel",
      "state": {}
     },
     "7bf2722ca9d1494f953fc3535b264086": {
      "model_module": "@jupyter-widgets/base",
      "model_module_version": "1.2.0",
      "model_name": "LayoutModel",
      "state": {}
     },
     "7e14009a88304910bd63ea6d62cba251": {
      "model_module": "@jupyter-widgets/base",
      "model_module_version": "1.2.0",
      "model_name": "LayoutModel",
      "state": {}
     },
     "7f7195b4db7844aba5c6673c418c6e7d": {
      "model_module": "@jupyter-widgets/base",
      "model_module_version": "1.2.0",
      "model_name": "LayoutModel",
      "state": {}
     },
     "80125eba498f480ab5363584e292deb5": {
      "model_module": "@jupyter-widgets/controls",
      "model_module_version": "1.5.0",
      "model_name": "ProgressStyleModel",
      "state": {
       "description_width": ""
      }
     },
     "8077d2b77ad347698c4c0cf810c55705": {
      "model_module": "@jupyter-widgets/controls",
      "model_module_version": "1.5.0",
      "model_name": "HBoxModel",
      "state": {
       "children": [
        "IPY_MODEL_ff0fc7c521c647479079add24195aae1",
        "IPY_MODEL_d7f830f026d64b2eab3238227a3ac638",
        "IPY_MODEL_d31a7c43b64e406786f765886ef0728d"
       ],
       "layout": "IPY_MODEL_71a3cde918ec4ba6b5f7299b98233a3a"
      }
     },
     "8444e9ff16be4af1b9e205026ef76a59": {
      "model_module": "@jupyter-widgets/controls",
      "model_module_version": "1.5.0",
      "model_name": "HBoxModel",
      "state": {
       "children": [
        "IPY_MODEL_b8781290c2ee4dc2b931486cf374200f",
        "IPY_MODEL_3dff866cc33c43b1a0e781de27ef8f37",
        "IPY_MODEL_4b45c28c1c81482d9fbf0addc3f40e4a"
       ],
       "layout": "IPY_MODEL_7664d8cd30124eb9a3053812a554c4cc"
      }
     },
     "84bcd0d020aa44e2bc8ae76a53e2a7c3": {
      "model_module": "@jupyter-widgets/controls",
      "model_module_version": "1.5.0",
      "model_name": "HTMLModel",
      "state": {
       "layout": "IPY_MODEL_8c5291cdbc174e22bfa4cf4ac36a0421",
       "style": "IPY_MODEL_0ac8c813a70444bc92837794f9451648",
       "value": " 674/? [00:00&lt;00:00, 5994.16it/s]"
      }
     },
     "87164e887b0e45ce88407600401acba5": {
      "model_module": "@jupyter-widgets/output",
      "model_module_version": "1.0.0",
      "model_name": "OutputModel",
      "state": {
       "layout": "IPY_MODEL_187c4d48095544479a6c1d6405bee04c",
       "outputs": [
        {
         "data": {
          "text/html": "<pre style=\"white-space:pre;overflow-x:auto;line-height:normal;font-family:Menlo,'DejaVu Sans Mono',consolas,'Courier New',monospace\"><span style=\"color: #c0c0c0; text-decoration-color: #c0c0c0\">Validation</span> <span style=\"color: #6206e0; text-decoration-color: #6206e0\">━━━━━━━━━━━━━━━━━━━━━━━━━━━━━━━━━━━━━━━━</span> <span style=\"color: #c0c0c0; text-decoration-color: #c0c0c0\">4/4</span> <span style=\"color: #8a8a8a; text-decoration-color: #8a8a8a\">0:00:00 • 0:00:00</span> <span style=\"color: #b2b2b2; text-decoration-color: #b2b2b2\">13.91it/s</span>  \n</pre>\n",
          "text/plain": "\u001b[37mValidation\u001b[0m \u001b[38;2;98;6;224m━━━━━━━━━━━━━━━━━━━━━━━━━━━━━━━━━━━━━━━━\u001b[0m \u001b[37m4/4\u001b[0m \u001b[38;5;245m0:00:00 • 0:00:00\u001b[0m \u001b[38;5;249m13.91it/s\u001b[0m  \n"
         },
         "metadata": {},
         "output_type": "display_data"
        }
       ]
      }
     },
     "879fe5dede644f5eac0962539d4be541": {
      "model_module": "@jupyter-widgets/controls",
      "model_module_version": "1.5.0",
      "model_name": "HTMLModel",
      "state": {
       "layout": "IPY_MODEL_9bb96fb2531144eca98e1ccbb826e2c4",
       "style": "IPY_MODEL_f0416299c0cf4d80920a00e900302a1b",
       "value": " 5959/5959 [00:02&lt;00:00, 2507.85it/s]"
      }
     },
     "87d68d88d5804c03aa4e4d37eac32419": {
      "model_module": "@jupyter-widgets/base",
      "model_module_version": "1.2.0",
      "model_name": "LayoutModel",
      "state": {}
     },
     "886ef47ff74d424fb6cc7767945ce90f": {
      "model_module": "@jupyter-widgets/base",
      "model_module_version": "1.2.0",
      "model_name": "LayoutModel",
      "state": {
       "width": "20px"
      }
     },
     "88cbfd5d6933491e833d2e24264e34d8": {
      "model_module": "@jupyter-widgets/base",
      "model_module_version": "1.2.0",
      "model_name": "LayoutModel",
      "state": {}
     },
     "893930b429a24a9d9e536dba79932dab": {
      "model_module": "@jupyter-widgets/controls",
      "model_module_version": "1.5.0",
      "model_name": "DescriptionStyleModel",
      "state": {
       "description_width": ""
      }
     },
     "8be465b2b42e4edd9c2ebfcde7ab5f5b": {
      "model_module": "@jupyter-widgets/controls",
      "model_module_version": "1.5.0",
      "model_name": "HBoxModel",
      "state": {
       "children": [
        "IPY_MODEL_ac8fd82f6ab94469be215bb7479842d0",
        "IPY_MODEL_064f91d7736643e787d7aa21a5f1293a",
        "IPY_MODEL_60af38e05a8a44a8900f51b837cd2db6"
       ],
       "layout": "IPY_MODEL_8c53e983f9e247988d0c74623e62329e"
      }
     },
     "8c5291cdbc174e22bfa4cf4ac36a0421": {
      "model_module": "@jupyter-widgets/base",
      "model_module_version": "1.2.0",
      "model_name": "LayoutModel",
      "state": {}
     },
     "8c53e983f9e247988d0c74623e62329e": {
      "model_module": "@jupyter-widgets/base",
      "model_module_version": "1.2.0",
      "model_name": "LayoutModel",
      "state": {}
     },
     "93bbd588d70a4bb292ecca0230fab090": {
      "model_module": "@jupyter-widgets/controls",
      "model_module_version": "1.5.0",
      "model_name": "HTMLModel",
      "state": {
       "layout": "IPY_MODEL_c0ceacab98a2458fb5348556c4d15c2d",
       "style": "IPY_MODEL_cde7a2ba1b31492ea01a6df1c13c8379",
       "value": "100%"
      }
     },
     "93c291c147f14790a044055c1617a16b": {
      "model_module": "@jupyter-widgets/controls",
      "model_module_version": "1.5.0",
      "model_name": "HTMLModel",
      "state": {
       "layout": "IPY_MODEL_f31bf234dc9e48cc819c7a97f3c7bad1",
       "style": "IPY_MODEL_4913971411464d12892fec627707532b",
       "value": "100%"
      }
     },
     "93fb83b6372848a0a663b5576a45496f": {
      "model_module": "@jupyter-widgets/base",
      "model_module_version": "1.2.0",
      "model_name": "LayoutModel",
      "state": {
       "width": "20px"
      }
     },
     "942f0b622cbe4a1791e89a1d94959392": {
      "model_module": "@jupyter-widgets/base",
      "model_module_version": "1.2.0",
      "model_name": "LayoutModel",
      "state": {}
     },
     "9bb96fb2531144eca98e1ccbb826e2c4": {
      "model_module": "@jupyter-widgets/base",
      "model_module_version": "1.2.0",
      "model_name": "LayoutModel",
      "state": {}
     },
     "9c0661f4564348e3b75cc74d279ab22d": {
      "model_module": "@jupyter-widgets/controls",
      "model_module_version": "1.5.0",
      "model_name": "ProgressStyleModel",
      "state": {
       "description_width": ""
      }
     },
     "9c87c2622ed84c60bfa8905f85edabab": {
      "model_module": "@jupyter-widgets/base",
      "model_module_version": "1.2.0",
      "model_name": "LayoutModel",
      "state": {
       "width": "20px"
      }
     },
     "9ed60eb346a04b50b457ff00e94d3e66": {
      "model_module": "@jupyter-widgets/controls",
      "model_module_version": "1.5.0",
      "model_name": "HTMLModel",
      "state": {
       "layout": "IPY_MODEL_dc98574702a04221bbdb94310f8d301a",
       "style": "IPY_MODEL_0d85f52c04e943b3a34082959765241c",
       "value": " 5959/? [00:00&lt;00:00, 11544.56it/s]"
      }
     },
     "9fe16289ffbe47b7ae65b12b5faaa840": {
      "model_module": "@jupyter-widgets/controls",
      "model_module_version": "1.5.0",
      "model_name": "ProgressStyleModel",
      "state": {
       "description_width": ""
      }
     },
     "a0341dea08f445e8ad24080154c8b872": {
      "model_module": "@jupyter-widgets/base",
      "model_module_version": "1.2.0",
      "model_name": "LayoutModel",
      "state": {}
     },
     "a32d9dc8364743b68f469621c1b9b88b": {
      "model_module": "@jupyter-widgets/controls",
      "model_module_version": "1.5.0",
      "model_name": "HTMLModel",
      "state": {
       "layout": "IPY_MODEL_b6b74f52b86d4fac9aefc73b64a5e361",
       "style": "IPY_MODEL_496df323a37a49caae87607539c9f2e2",
       "value": "100%"
      }
     },
     "a3b05ff29fa145b88d48e54301be9f7c": {
      "model_module": "@jupyter-widgets/controls",
      "model_module_version": "1.5.0",
      "model_name": "DescriptionStyleModel",
      "state": {
       "description_width": ""
      }
     },
     "a4edac328d1a480eb0b64cf4fbd31016": {
      "model_module": "@jupyter-widgets/controls",
      "model_module_version": "1.5.0",
      "model_name": "FloatProgressModel",
      "state": {
       "bar_style": "success",
       "layout": "IPY_MODEL_719f5aa76fff4e1a80f693eb75d484eb",
       "max": 3,
       "style": "IPY_MODEL_4ce7d9ca351a4db7a92e0001ba1e05fe",
       "value": 3
      }
     },
     "ac8fd82f6ab94469be215bb7479842d0": {
      "model_module": "@jupyter-widgets/controls",
      "model_module_version": "1.5.0",
      "model_name": "HTMLModel",
      "state": {
       "layout": "IPY_MODEL_a0341dea08f445e8ad24080154c8b872",
       "style": "IPY_MODEL_e9174037f5734dd3a393e50c4db89e77",
       "value": "100%"
      }
     },
     "ad4f31974cbb468fb1add7b35242dfe6": {
      "model_module": "@jupyter-widgets/controls",
      "model_module_version": "1.5.0",
      "model_name": "DescriptionStyleModel",
      "state": {
       "description_width": ""
      }
     },
     "b023a19aa7864041ab42a22fb1ebccef": {
      "model_module": "@jupyter-widgets/controls",
      "model_module_version": "1.5.0",
      "model_name": "ProgressStyleModel",
      "state": {
       "description_width": ""
      }
     },
     "b123b3fdddad4287afdbbaba470debce": {
      "model_module": "@jupyter-widgets/controls",
      "model_module_version": "1.5.0",
      "model_name": "FloatProgressModel",
      "state": {
       "bar_style": "success",
       "layout": "IPY_MODEL_b1482eef96754c1ab33a414f5afa38fb",
       "max": 1,
       "style": "IPY_MODEL_42c66b0912f04a02a716990e8f60cb10",
       "value": 1
      }
     },
     "b14509ae4a1e48afb06e6ba88f1a0157": {
      "model_module": "@jupyter-widgets/controls",
      "model_module_version": "1.5.0",
      "model_name": "DescriptionStyleModel",
      "state": {
       "description_width": ""
      }
     },
     "b1482eef96754c1ab33a414f5afa38fb": {
      "model_module": "@jupyter-widgets/base",
      "model_module_version": "1.2.0",
      "model_name": "LayoutModel",
      "state": {
       "width": "20px"
      }
     },
     "b58ae874e8864d4b93bde833d6307385": {
      "model_module": "@jupyter-widgets/controls",
      "model_module_version": "1.5.0",
      "model_name": "DescriptionStyleModel",
      "state": {
       "description_width": ""
      }
     },
     "b6b74f52b86d4fac9aefc73b64a5e361": {
      "model_module": "@jupyter-widgets/base",
      "model_module_version": "1.2.0",
      "model_name": "LayoutModel",
      "state": {}
     },
     "b8781290c2ee4dc2b931486cf374200f": {
      "model_module": "@jupyter-widgets/controls",
      "model_module_version": "1.5.0",
      "model_name": "HTMLModel",
      "state": {
       "layout": "IPY_MODEL_7f7195b4db7844aba5c6673c418c6e7d",
       "style": "IPY_MODEL_513c72c04c5d4981876d8952ccda73fc",
       "value": "100%"
      }
     },
     "b8801dbb3b9f4cb484f0ab758e264a23": {
      "model_module": "@jupyter-widgets/controls",
      "model_module_version": "1.5.0",
      "model_name": "HTMLModel",
      "state": {
       "layout": "IPY_MODEL_942f0b622cbe4a1791e89a1d94959392",
       "style": "IPY_MODEL_10125a164e134d7fa26086b7d367a71e"
      }
     },
     "bfd587709d4a440a8e385dcba221cd9e": {
      "model_module": "@jupyter-widgets/controls",
      "model_module_version": "1.5.0",
      "model_name": "FloatProgressModel",
      "state": {
       "bar_style": "success",
       "layout": "IPY_MODEL_cecdbb96d08646019d359aa158137016",
       "max": 5959,
       "style": "IPY_MODEL_59535fd6b567434086a311705a951ba7",
       "value": 5959
      }
     },
     "c0ceacab98a2458fb5348556c4d15c2d": {
      "model_module": "@jupyter-widgets/base",
      "model_module_version": "1.2.0",
      "model_name": "LayoutModel",
      "state": {}
     },
     "c256160d60f349499f97095c6344f5c9": {
      "model_module": "@jupyter-widgets/base",
      "model_module_version": "1.2.0",
      "model_name": "LayoutModel",
      "state": {}
     },
     "c2a8bbd199b84425ab46fd3630c0d5a0": {
      "model_module": "@jupyter-widgets/controls",
      "model_module_version": "1.5.0",
      "model_name": "DescriptionStyleModel",
      "state": {
       "description_width": ""
      }
     },
     "c2bab4231be04d6f9c76a902372a587f": {
      "model_module": "@jupyter-widgets/base",
      "model_module_version": "1.2.0",
      "model_name": "LayoutModel",
      "state": {}
     },
     "c367c7316f1d408db77faa0f5e584d86": {
      "model_module": "@jupyter-widgets/base",
      "model_module_version": "1.2.0",
      "model_name": "LayoutModel",
      "state": {}
     },
     "c40be1007002442f991ffa390e3f38cc": {
      "model_module": "@jupyter-widgets/base",
      "model_module_version": "1.2.0",
      "model_name": "LayoutModel",
      "state": {}
     },
     "c4795f95363c403d835be96a35f5bb88": {
      "model_module": "@jupyter-widgets/base",
      "model_module_version": "1.2.0",
      "model_name": "LayoutModel",
      "state": {}
     },
     "c6e1687744a247c3bc56464efa778499": {
      "model_module": "@jupyter-widgets/controls",
      "model_module_version": "1.5.0",
      "model_name": "HBoxModel",
      "state": {
       "children": [
        "IPY_MODEL_eead7c52ac094234bf4c7293ab173565",
        "IPY_MODEL_400ab60bcb4b40df894b0d07fc14b893",
        "IPY_MODEL_9ed60eb346a04b50b457ff00e94d3e66"
       ],
       "layout": "IPY_MODEL_70a9483aff56436baf7ef4d7dde28720"
      }
     },
     "c7038a0103c541aa9d33be9452223ef6": {
      "model_module": "@jupyter-widgets/controls",
      "model_module_version": "1.5.0",
      "model_name": "HTMLModel",
      "state": {
       "layout": "IPY_MODEL_cba4b265c07f4092b43e68086bdbef8d",
       "style": "IPY_MODEL_ad4f31974cbb468fb1add7b35242dfe6",
       "value": " 674/? [00:00&lt;00:00, 7243.64it/s]"
      }
     },
     "c73a967f89f74bacaba122ed8e6af7a1": {
      "model_module": "@jupyter-widgets/controls",
      "model_module_version": "1.5.0",
      "model_name": "ProgressStyleModel",
      "state": {
       "description_width": ""
      }
     },
     "cba4b265c07f4092b43e68086bdbef8d": {
      "model_module": "@jupyter-widgets/base",
      "model_module_version": "1.2.0",
      "model_name": "LayoutModel",
      "state": {}
     },
     "cde7a2ba1b31492ea01a6df1c13c8379": {
      "model_module": "@jupyter-widgets/controls",
      "model_module_version": "1.5.0",
      "model_name": "DescriptionStyleModel",
      "state": {
       "description_width": ""
      }
     },
     "cecdbb96d08646019d359aa158137016": {
      "model_module": "@jupyter-widgets/base",
      "model_module_version": "1.2.0",
      "model_name": "LayoutModel",
      "state": {}
     },
     "cff831b684904eddbf31fbe0bc1b2c80": {
      "model_module": "@jupyter-widgets/base",
      "model_module_version": "1.2.0",
      "model_name": "LayoutModel",
      "state": {}
     },
     "d07c4949635d4922abf0e1eac2fed62e": {
      "model_module": "@jupyter-widgets/base",
      "model_module_version": "1.2.0",
      "model_name": "LayoutModel",
      "state": {}
     },
     "d31a7c43b64e406786f765886ef0728d": {
      "model_module": "@jupyter-widgets/controls",
      "model_module_version": "1.5.0",
      "model_name": "HTMLModel",
      "state": {
       "layout": "IPY_MODEL_c2bab4231be04d6f9c76a902372a587f",
       "style": "IPY_MODEL_b58ae874e8864d4b93bde833d6307385",
       "value": " 5959/? [00:01&lt;00:00, 6128.99it/s]"
      }
     },
     "d68c4e08fda1491a8e0b4b9e8af72fa8": {
      "model_module": "@jupyter-widgets/base",
      "model_module_version": "1.2.0",
      "model_name": "LayoutModel",
      "state": {}
     },
     "d7f830f026d64b2eab3238227a3ac638": {
      "model_module": "@jupyter-widgets/controls",
      "model_module_version": "1.5.0",
      "model_name": "FloatProgressModel",
      "state": {
       "bar_style": "success",
       "layout": "IPY_MODEL_0ba27bb0effb4026b37a3663cfd3e74c",
       "max": 1,
       "style": "IPY_MODEL_fc6f2d00c2ad4102938fbfad4614a84a",
       "value": 1
      }
     },
     "d969b1d4098843ad948d3c4e6e6bf263": {
      "model_module": "@jupyter-widgets/controls",
      "model_module_version": "1.5.0",
      "model_name": "FloatProgressModel",
      "state": {
       "bar_style": "success",
       "layout": "IPY_MODEL_93fb83b6372848a0a663b5576a45496f",
       "max": 1,
       "style": "IPY_MODEL_5b95113d93a44e21804a36ce16c381c8",
       "value": 1
      }
     },
     "dc98574702a04221bbdb94310f8d301a": {
      "model_module": "@jupyter-widgets/base",
      "model_module_version": "1.2.0",
      "model_name": "LayoutModel",
      "state": {}
     },
     "dcaea436ea8d475c94817abc58e3fcb0": {
      "model_module": "@jupyter-widgets/controls",
      "model_module_version": "1.5.0",
      "model_name": "HBoxModel",
      "state": {
       "children": [
        "IPY_MODEL_6ee08343faa94e65811f07b1683e793c",
        "IPY_MODEL_b123b3fdddad4287afdbbaba470debce",
        "IPY_MODEL_c7038a0103c541aa9d33be9452223ef6"
       ],
       "layout": "IPY_MODEL_6be27c54250e4194b59bf59275d65ba8"
      }
     },
     "df38fd1206da46beb452fb5ec3a9cf68": {
      "model_module": "@jupyter-widgets/output",
      "model_module_version": "1.0.0",
      "model_name": "OutputModel",
      "state": {
       "layout": "IPY_MODEL_71d4dc07e8fb461c8d6fffb4b4bd0108",
       "outputs": [
        {
         "data": {
          "text/html": "<pre style=\"white-space:pre;overflow-x:auto;line-height:normal;font-family:Menlo,'DejaVu Sans Mono',consolas,'Courier New',monospace\"><span style=\"color: #c0c0c0; text-decoration-color: #c0c0c0\">Testing</span> <span style=\"color: #6206e0; text-decoration-color: #6206e0\">━━━━━━━━━━━━━━━━━━━━━━━━━━━━━━━━━━━━━━━━</span> <span style=\"color: #c0c0c0; text-decoration-color: #c0c0c0\">3/3</span> <span style=\"color: #8a8a8a; text-decoration-color: #8a8a8a\">0:00:00 • 0:00:00</span> <span style=\"color: #b2b2b2; text-decoration-color: #b2b2b2\">10.82it/s</span>  \n</pre>\n",
          "text/plain": "\u001b[37mTesting\u001b[0m \u001b[38;2;98;6;224m━━━━━━━━━━━━━━━━━━━━━━━━━━━━━━━━━━━━━━━━\u001b[0m \u001b[37m3/3\u001b[0m \u001b[38;5;245m0:00:00 • 0:00:00\u001b[0m \u001b[38;5;249m10.82it/s\u001b[0m  \n"
         },
         "metadata": {},
         "output_type": "display_data"
        }
       ]
      }
     },
     "e402c774c6ee4172a6aef240786f4727": {
      "model_module": "@jupyter-widgets/controls",
      "model_module_version": "1.5.0",
      "model_name": "HTMLModel",
      "state": {
       "layout": "IPY_MODEL_57a67c7df4fe4d90b11409160d20c967",
       "style": "IPY_MODEL_2e0c5020c95649399fa23087750fe9fb"
      }
     },
     "e5dee524aa544abda119ecffbe78f416": {
      "model_module": "@jupyter-widgets/controls",
      "model_module_version": "1.5.0",
      "model_name": "DescriptionStyleModel",
      "state": {
       "description_width": ""
      }
     },
     "e73c53a1d95147c0970d3fc4f695d4b3": {
      "model_module": "@jupyter-widgets/base",
      "model_module_version": "1.2.0",
      "model_name": "LayoutModel",
      "state": {}
     },
     "e9174037f5734dd3a393e50c4db89e77": {
      "model_module": "@jupyter-widgets/controls",
      "model_module_version": "1.5.0",
      "model_name": "DescriptionStyleModel",
      "state": {
       "description_width": ""
      }
     },
     "ee27056972d343cf990eb8576333bd81": {
      "model_module": "@jupyter-widgets/controls",
      "model_module_version": "1.5.0",
      "model_name": "DescriptionStyleModel",
      "state": {
       "description_width": ""
      }
     },
     "eead7c52ac094234bf4c7293ab173565": {
      "model_module": "@jupyter-widgets/controls",
      "model_module_version": "1.5.0",
      "model_name": "HTMLModel",
      "state": {
       "layout": "IPY_MODEL_6c49e1bfa7e04aabba27d27b22626d52",
       "style": "IPY_MODEL_e5dee524aa544abda119ecffbe78f416"
      }
     },
     "ef08ffc999e549efb80628b6308d3b9d": {
      "model_module": "@jupyter-widgets/base",
      "model_module_version": "1.2.0",
      "model_name": "LayoutModel",
      "state": {}
     },
     "ef6fdaf188d949fd925a30e4d2bb78c4": {
      "model_module": "@jupyter-widgets/controls",
      "model_module_version": "1.5.0",
      "model_name": "HTMLModel",
      "state": {
       "layout": "IPY_MODEL_2d83190c8eb14285a01307234157f491",
       "style": "IPY_MODEL_6ac45cc0605d4e118569a12aaf97892a",
       "value": " 3/3 [00:00&lt;00:00, 268.80it/s]"
      }
     },
     "ef7738b336fe4300818400bedbc4762b": {
      "model_module": "@jupyter-widgets/controls",
      "model_module_version": "1.5.0",
      "model_name": "DescriptionStyleModel",
      "state": {
       "description_width": ""
      }
     },
     "f0416299c0cf4d80920a00e900302a1b": {
      "model_module": "@jupyter-widgets/controls",
      "model_module_version": "1.5.0",
      "model_name": "DescriptionStyleModel",
      "state": {
       "description_width": ""
      }
     },
     "f31bf234dc9e48cc819c7a97f3c7bad1": {
      "model_module": "@jupyter-widgets/base",
      "model_module_version": "1.2.0",
      "model_name": "LayoutModel",
      "state": {}
     },
     "f4746465f898408fa16c69aad8b68196": {
      "model_module": "@jupyter-widgets/controls",
      "model_module_version": "1.5.0",
      "model_name": "HBoxModel",
      "state": {
       "children": [
        "IPY_MODEL_e402c774c6ee4172a6aef240786f4727",
        "IPY_MODEL_2cf01fa95fd44dfd9853c089ea4879d0",
        "IPY_MODEL_178be41848394ad187e77c7eef2a3e28"
       ],
       "layout": "IPY_MODEL_c367c7316f1d408db77faa0f5e584d86"
      }
     },
     "f56753f9f0024b559692be20d6267ada": {
      "model_module": "@jupyter-widgets/output",
      "model_module_version": "1.0.0",
      "model_name": "OutputModel",
      "state": {
       "layout": "IPY_MODEL_ef08ffc999e549efb80628b6308d3b9d",
       "outputs": [
        {
         "data": {
          "text/html": "<pre style=\"white-space:pre;overflow-x:auto;line-height:normal;font-family:Menlo,'DejaVu Sans Mono',consolas,'Courier New',monospace\">Epoch 25/49 <span style=\"color: #6206e0; text-decoration-color: #6206e0\">━━━━━━━━━━━━━━━━━</span><span style=\"color: #3a3a3a; text-decoration-color: #3a3a3a\">╺━━━━━━━━━━━━━━━━</span> <span style=\"color: #c0c0c0; text-decoration-color: #c0c0c0\">12/24</span> <span style=\"color: #8a8a8a; text-decoration-color: #8a8a8a\">0:00:07 • 0:00:07</span> <span style=\"color: #b2b2b2; text-decoration-color: #b2b2b2\">1.94it/s</span> <span style=\"color: #c0c0c0; text-decoration-color: #c0c0c0\">v_num: 7 loss: 0.167 train_acc:    </span>\n                                                                                <span style=\"color: #c0c0c0; text-decoration-color: #c0c0c0\">0.945 val_acc: 0.934 val_loss:     </span>\n                                                                                <span style=\"color: #c0c0c0; text-decoration-color: #c0c0c0\">0.233                              </span>\n</pre>\n",
          "text/plain": "Epoch 25/49 \u001b[38;2;98;6;224m━━━━━━━━━━━━━━━━━\u001b[0m\u001b[38;5;237m╺\u001b[0m\u001b[38;5;237m━━━━━━━━━━━━━━━━\u001b[0m \u001b[37m12/24\u001b[0m \u001b[38;5;245m0:00:07 • 0:00:07\u001b[0m \u001b[38;5;249m1.94it/s\u001b[0m \u001b[37mv_num: 7 loss: 0.167 train_acc:    \u001b[0m\n                                                                                \u001b[37m0.945 val_acc: 0.934 val_loss:     \u001b[0m\n                                                                                \u001b[37m0.233                              \u001b[0m\n"
         },
         "metadata": {},
         "output_type": "display_data"
        }
       ]
      }
     },
     "f57e030740fe44cfacab13a84c198dce": {
      "model_module": "@jupyter-widgets/controls",
      "model_module_version": "1.5.0",
      "model_name": "FloatProgressModel",
      "state": {
       "bar_style": "success",
       "layout": "IPY_MODEL_0d1a07de4e764b9a81c78729534d56ab",
       "max": 674,
       "style": "IPY_MODEL_5dda7f0ccc034873ac0e131d7a7af665",
       "value": 674
      }
     },
     "f7a1d208b53f4a2fb93db3379bed2755": {
      "model_module": "@jupyter-widgets/base",
      "model_module_version": "1.2.0",
      "model_name": "LayoutModel",
      "state": {}
     },
     "fa73ff53336b4016ab069bba6d1b2a14": {
      "model_module": "@jupyter-widgets/controls",
      "model_module_version": "1.5.0",
      "model_name": "HBoxModel",
      "state": {
       "children": [
        "IPY_MODEL_b8801dbb3b9f4cb484f0ab758e264a23",
        "IPY_MODEL_d969b1d4098843ad948d3c4e6e6bf263",
        "IPY_MODEL_2b8172fa805240a7afc8e4112349ab66"
       ],
       "layout": "IPY_MODEL_7bf2722ca9d1494f953fc3535b264086"
      }
     },
     "fc6f2d00c2ad4102938fbfad4614a84a": {
      "model_module": "@jupyter-widgets/controls",
      "model_module_version": "1.5.0",
      "model_name": "ProgressStyleModel",
      "state": {
       "description_width": ""
      }
     },
     "ff0fc7c521c647479079add24195aae1": {
      "model_module": "@jupyter-widgets/controls",
      "model_module_version": "1.5.0",
      "model_name": "HTMLModel",
      "state": {
       "layout": "IPY_MODEL_c40be1007002442f991ffa390e3f38cc",
       "style": "IPY_MODEL_459999cf560b4b71b72d8d9924d32102"
      }
     }
    },
    "version_major": 2,
    "version_minor": 0
   }
  }
 },
 "nbformat": 4,
 "nbformat_minor": 4
}
