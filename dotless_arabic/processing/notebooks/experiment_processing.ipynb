{
 "cells": [
  {
   "cell_type": "code",
   "execution_count": 1,
   "metadata": {},
   "outputs": [],
   "source": [
    "from dotless_arabic.processing import process,undot"
   ]
  },
  {
   "cell_type": "code",
   "execution_count": 2,
   "metadata": {},
   "outputs": [],
   "source": [
    "text = '''\n",
    "اللُّغَةُ العَرَبِيَّة هي أكثر اللغات السامية تحدثًا، وإحدى أكثر اللغات انتشاراً في العالم، يتحدثها أكثر من 467 مليون \n",
    "نسمة.(1) ويتوزع متحدثوها في الوطن العربي، بالإضافة إلى العديد من المناطق الأخرى المجاورة كالأحواز وتركيا وتشاد ومالي \n",
    "والسنغال وإرتيريا وإثيوبيا وجنوب السودان وإيران. وبذلك فهي تحتل المركز الرابع أو الخامس من حيث اللغات الأكثر انتشارًا في العالم، وهي تحتل المركز الثالث تبعًا لعدد الدول التي تعترف بها كلغة رسمية؛ إذ تعترف بها 27 دولة كلغة رسمية.\n",
    "'''"
   ]
  },
  {
   "cell_type": "code",
   "execution_count": 3,
   "metadata": {},
   "outputs": [
    {
     "data": {
      "text/plain": [
       "'اللغة العربية هي اكثر اللغات السامية تحدثا واحدى اكثر اللغات انتشارا في العالم يتحدثها اكثر من مليون نسمة ويتوزع متحدثوها في الوطن العربي بالاضافة الى العديد من المناطق الاخرى المجاورة كالاحواز وتركيا وتشاد ومالي والسنغال وارتيريا واثيوبيا وجنوب السودان وايران وبذلك فهي تحتل المركز الرابع او الخامس من حيث اللغات الاكثر انتشارا في العالم وهي تحتل المركز الثالث تبعا لعدد الدول التي تعترف بها كلغة رسمية اذ تعترف بها دولة كلغة رسمية'"
      ]
     },
     "execution_count": 3,
     "metadata": {},
     "output_type": "execute_result"
    }
   ],
   "source": [
    "process(text)"
   ]
  },
  {
   "cell_type": "code",
   "execution_count": 4,
   "metadata": {},
   "outputs": [
    {
     "data": {
      "text/plain": [
       "'اللعه العرٮىه هى اكٮر اللعاٮ السامىه ٮحدٮا واحدى اكٮر اللعاٮ اٮٮسارا ڡى العالم ٮٮحدٮها اكٮر مں ملىوں ٮسمه وىٮورع مٮحدٮوها ڡى الوطں العرٮى ٮالاصاڡه الى العدىد مں المٮاطٯ الاحرى المحاوره كالاحوار وٮركىا وٮساد ومالى والسٮعال وارٮىرىا واٮىوٮىا وحٮوٮ السوداں واىراں وٮدلك ڡهى ٮحٮل المركر الراٮع او الحامس مں حىٮ اللعاٮ الاكٮر اٮٮسارا ڡى العالم وهى ٮحٮل المركر الٮالٮ ٮٮعا لعدد الدول الٮى ٮعٮرڡ ٮها كلعه رسمىه اد ٮعٮرڡ ٮها دوله كلعه رسمىه'"
      ]
     },
     "execution_count": 4,
     "metadata": {},
     "output_type": "execute_result"
    }
   ],
   "source": [
    "undot(process(text))"
   ]
  },
  {
   "cell_type": "code",
   "execution_count": 5,
   "metadata": {},
   "outputs": [
    {
     "data": {
      "text/plain": [
       "True"
      ]
     },
     "execution_count": 5,
     "metadata": {},
     "output_type": "execute_result"
    }
   ],
   "source": [
    "undot('يتحدثها') == undot('تتحدثها')"
   ]
  },
  {
   "cell_type": "code",
   "execution_count": 8,
   "metadata": {},
   "outputs": [
    {
     "data": {
      "text/plain": [
       "('ٮكٮٮ', 'ٮكٮٮ')"
      ]
     },
     "execution_count": 8,
     "metadata": {},
     "output_type": "execute_result"
    }
   ],
   "source": [
    "undot('يكتب'),undot('نكتب')"
   ]
  }
 ],
 "metadata": {
  "kernelspec": {
   "display_name": "dotless_arabic",
   "language": "python",
   "name": "python3"
  },
  "language_info": {
   "codemirror_mode": {
    "name": "ipython",
    "version": 3
   },
   "file_extension": ".py",
   "mimetype": "text/x-python",
   "name": "python",
   "nbconvert_exporter": "python",
   "pygments_lexer": "ipython3",
   "version": "3.8.10"
  },
  "orig_nbformat": 4
 },
 "nbformat": 4,
 "nbformat_minor": 2
}
