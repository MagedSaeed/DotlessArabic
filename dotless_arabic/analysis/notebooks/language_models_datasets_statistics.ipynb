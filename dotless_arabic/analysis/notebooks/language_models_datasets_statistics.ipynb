{
 "cells": [
  {
   "cell_type": "code",
   "execution_count": 1,
   "id": "4ad92794-18fb-46d8-9045-e462516fa039",
   "metadata": {
    "tags": []
   },
   "outputs": [
    {
     "name": "stdout",
     "output_type": "stream",
     "text": [
      "/home/majed_alshaibani/Experiments/DotlessArabic\n"
     ]
    }
   ],
   "source": [
    "%cd ../../.."
   ]
  },
  {
   "cell_type": "code",
   "execution_count": 2,
   "id": "2fe25310-0734-4cf5-ab9c-d2403aef4924",
   "metadata": {
    "tags": []
   },
   "outputs": [],
   "source": [
    "from tqdm.auto import tqdm\n",
    "from beautifultable import BeautifulTable\n",
    "\n",
    "from dotless_arabic.processing import process,undot\n",
    "from dotless_arabic.datasets.utils import tokens_frequency\n",
    "\n",
    "\n",
    "from dotless_arabic.datasets.quran.collect import collect_dataset_for_language_modeling as collect_quran_dataset\n",
    "from dotless_arabic.datasets.sanadset_hadeeth.collect import collect_dataset_for_language_modeling as collect_sanadset_hadeeth_dataset\n",
    "from dotless_arabic.datasets.poems.collect import collect_dataset_for_language_modeling as collect_poems_dataset\n",
    "from dotless_arabic.datasets.news.collect import collect_dataset_for_language_modeling as collect_news_dataset\n",
    "from dotless_arabic.datasets.wikipedia.collect import collect_dataset_for_language_modeling as collect_wikipedia_dataset\n",
    "from dotless_arabic.datasets.aggregated.collect import collect_dataset_for_language_modeling as collect_aggregated_dataset"
   ]
  },
  {
   "cell_type": "code",
   "execution_count": 3,
   "id": "16970fec-a9d1-4917-8144-b1f2053a59e2",
   "metadata": {
    "tags": []
   },
   "outputs": [
    {
     "name": "stdout",
     "output_type": "stream",
     "text": [
      "####################################################################################################\n",
      "Number of samples:\n",
      "6236\n",
      "####################################################################################################\n"
     ]
    },
    {
     "data": {
      "application/vnd.jupyter.widget-view+json": {
       "model_id": "54b08a99e9ed488caedfb30cb33a944e",
       "version_major": 2,
       "version_minor": 0
      },
      "text/plain": [
       "  0%|          | 0/6057 [00:00<?, ?it/s]"
      ]
     },
     "metadata": {},
     "output_type": "display_data"
    },
    {
     "name": "stdout",
     "output_type": "stream",
     "text": [
      "####################################################################################################\n",
      "Original Number of Samples:\n",
      "650,986\n",
      "####################################################################################################\n",
      "####################################################################################################\n",
      "Number of Samples after dropping duplicates:\n",
      "637,565\n",
      "####################################################################################################\n",
      "####################################################################################################\n",
      "Sample of datasets documents:\n",
      "يَتَوَضَّأُ ثَلَاثًا \" ، يَرْفَعُهُ إِلَى النَّبِيِّ صَلَّى اللَّهُ عَلَيْهِ وَسَلَّمَ .\n",
      "يَغْتَسِلُ مِنَ الْجَنَابَةِ ، ثُمَّ يَجِيءُ ، وَلَهُ قَفْقَفَةٌ ، فَيَسْتَدْفِئُ بِي ، وَلَمْ أَغْتَسِلْ \" .\n",
      "! ، لا تَبُلْ قَائِمًا \" ، فَمَا بُلْتُ بَعْدُ قَائِمًا  .\n",
      "! أَنْتَ نَهَيْتَ النَّاسَ أَنْ يُصَلُّوا فِي نِعَالِهِمْ ؟ , فَقَالَ : لا , لَعَمْرُ اللَّهِ ! مَا نَهَيْتُ النَّاسَ أَنْ يُصَلُّوا فِي نِعَالِهِمْ , غَيْرَ أَنِّي وَرَبِّ هَذِهِ الْحُرْمَةِ , حَتَّى قَالَهَا : ثَلاثًا ، لَقَدْ رَأَيْتُ النَّبِيَّ صَلَّى اللَّهُ عَلَيْهِ وَسَلَّمَ ، هَهُنَا عِنْدَ الْمَقَامِ \" يُصَلِّي وَعَلَيْهِ نَعْلاهُ ، ثُمَّ انْصَرَفَ وَهُمَا عَلَيْهِ \"  .\n",
      "! إِنْ أَنَا صَدَقْتُ فَصَدِّقْنِي ، وَإِنْ أَنَا كَذَبْتُ فَكَذِّبْنِي ، قَالَ : فَافْعَلْ ، قَالَ \" فَأَنْشُدُكَ بِاللَّهِ ، هَلْ سَمِعْتَ رَسُولَ اللَّهِ صَلَّى اللَّهُ عَلَيْهِ وَسَلَّمَ يَنْهَى عَنْ لُبْسِ الذَّهَبِ ؟ ، قَالَ : نَعَمْ . قَالَ : فَأَنْشُدُكَ بِاللَّهِ ، هَلْ تَعْلَمُ أَنَّ رَسُولَ اللَّهِ صَلَّى اللَّهُ عَلَيْهِ وَسَلَّمَ نَهَى عَنْ لُبْسِ الْحَرِيرِ ؟ ، قَالَ : نَعَمْ . قَالَ : فَأَنْشُدُكَ بِاللَّهِ ، هَلْ تَعْلَمُ أَنَّ رَسُولَ اللَّهِ صَلَّى اللَّهُ عَلَيْهِ وَسَلَّمَ نَهَى عَنْ لُبْسِ جُلُودِ السِّبَاعِ وَالرُّكُوبِ عَلَيْهَا ؟ قَالَ : نَعَمْ \"  .\n",
      "####################################################################################################\n"
     ]
    },
    {
     "data": {
      "application/vnd.jupyter.widget-view+json": {
       "model_id": "0e347d3f30d84c3f87f8db30291c89fd",
       "version_major": 2,
       "version_minor": 0
      },
      "text/plain": [
       "  0%|          | 0/637565 [00:00<?, ?it/s]"
      ]
     },
     "metadata": {},
     "output_type": "display_data"
    },
    {
     "data": {
      "application/vnd.jupyter.widget-view+json": {
       "model_id": "7a4460960aba431795f45fdf11db736f",
       "version_major": 2,
       "version_minor": 0
      },
      "text/plain": [
       "  0%|          | 0/637565 [00:00<?, ?it/s]"
      ]
     },
     "metadata": {},
     "output_type": "display_data"
    },
    {
     "name": "stdout",
     "output_type": "stream",
     "text": [
      "####################################################################################################\n",
      "Number of Samples after splitting on dots:\n",
      "837,798\n",
      "####################################################################################################\n"
     ]
    },
    {
     "data": {
      "application/vnd.jupyter.widget-view+json": {
       "model_id": "aed21086fc9948628a4e7cf5980eb1f5",
       "version_major": 2,
       "version_minor": 0
      },
      "text/plain": [
       "  0%|          | 0/818354 [00:00<?, ?it/s]"
      ]
     },
     "metadata": {},
     "output_type": "display_data"
    },
    {
     "name": "stderr",
     "output_type": "stream",
     "text": [
      "Found cached dataset parquet (/home/majed_alshaibani/.cache/huggingface/datasets/arbml___parquet/MagedSaeed--ashaar-719bb58a76ea0092/0.0.0/2a3b91fbd88a2c90d1dbbb32b460cf621d31bd5b05b934492fdef7d8d6f236ec)\n",
      "Loading cached processed dataset at /home/majed_alshaibani/.cache/huggingface/datasets/arbml___parquet/MagedSaeed--ashaar-719bb58a76ea0092/0.0.0/2a3b91fbd88a2c90d1dbbb32b460cf621d31bd5b05b934492fdef7d8d6f236ec/cache-ad374fe98444926c.arrow\n"
     ]
    },
    {
     "name": "stdout",
     "output_type": "stream",
     "text": [
      "####################################################################################################\n",
      "Number datasets samples:\n",
      "254630\n",
      "####################################################################################################\n",
      "####################################################################################################\n",
      "Number datasets samples after filtering non accepted meters:\n",
      "249880\n",
      "####################################################################################################\n"
     ]
    },
    {
     "data": {
      "application/vnd.jupyter.widget-view+json": {
       "model_id": "4a1bb0abfd3f4bdeab71e84f1816cd1d",
       "version_major": 2,
       "version_minor": 0
      },
      "text/plain": [
       "  0%|          | 0/249880 [00:00<?, ?it/s]"
      ]
     },
     "metadata": {},
     "output_type": "display_data"
    },
    {
     "name": "stdout",
     "output_type": "stream",
     "text": [
      "####################################################################################################\n",
      "Sample of datasets samples:\n",
      "أَصبَحَ المُلك لِلَّذي فَطر الخَل قَ بِتَقديرٍ للعَزيز العَليمِ\n",
      "غافر الذَنب للمسيءِ بِعَفوٍ قابل التَوب ذي العَطاء العَميمِ\n",
      "مُرسل المُصطَفى البَشير إِلَينا رَحمة مِنهُ بِالكَلام القَديمِ\n",
      "رَبَنا رَبّنا إِلَيكَ أَنينا فَأَجرنا مِن حَر نار الجَحيمِ\n",
      "وَاكفِنا شَرّ ما نَخاف بِلُطفٍ يا عَظيماً يَرجى لِكُل عَظيمِ\n",
      "####################################################################################################\n",
      "####################################################################################################\n",
      "Number of Baits:\n",
      "3,774,110\n",
      "####################################################################################################\n"
     ]
    },
    {
     "data": {
      "application/vnd.jupyter.widget-view+json": {
       "model_id": "45cfe190ce4048a5ac11487415458a24",
       "version_major": 2,
       "version_minor": 0
      },
      "text/plain": [
       "  0%|          | 0/3774110 [00:00<?, ?it/s]"
      ]
     },
     "metadata": {},
     "output_type": "display_data"
    },
    {
     "name": "stdout",
     "output_type": "stream",
     "text": [
      "####################################################################################################\n",
      "Number of baits after deleting 60>= len(bait) chars >= 30 chars:\n",
      "3,207,158\n",
      "####################################################################################################\n"
     ]
    },
    {
     "data": {
      "application/vnd.jupyter.widget-view+json": {
       "model_id": "9259a778ef9043d89b3d230187acda36",
       "version_major": 2,
       "version_minor": 0
      },
      "text/plain": [
       "  0%|          | 0/3090273 [00:00<?, ?it/s]"
      ]
     },
     "metadata": {},
     "output_type": "display_data"
    },
    {
     "name": "stdout",
     "output_type": "stream",
     "text": [
      "####################################################################################################\n",
      "Sample of datasets samples:\n",
      "أكد المهندس مروان بن غليطة المدير التنفيذي لمؤسسة التنظيم العقاري بدبي أن استخدام العقوبات والغرامات المنصوص عليها في القانون ضد الشركات العقارية غير المسجلة بحسابات الضمان، أو تلك التي لم تحصل على ترخيص لممارسة النشاط العقاري، آخر ما تفكر فيه المؤسسة. وشدد على أن ''''التنظيم العقاري'''' لا تستخدم القانون سيفاً مسلطاً ضد الشركات بل هدفها العمل على خلق شراكات عمل واضحة ومرنة مع كل الشركات والفاعلين في قطاع التطوير العقاري من أجل تحقيق الهدف الاستراتيجي من إنشاء المؤسسة والرامي إلى تنظيم القطاع وايجاد قاعدة بيانات تساهم في تطوير وتعزيز هذا القطاع الحيوي.\n",
      "وأضاف مروان بن غليطة في تصريحات لـ ''''الاتحاد'''': أن إعلان المؤسسة عن قائمة الشركات المرخصة لها، لا يعني بالضرورة البدء في توقيع الغرامات المنصوص عليها في القانون ضد الشركات التي لم تلتزم بالمهلة الممنوحة لتوفيق أوضاع المطورين العقاريين، فالبرغم من حق الهيئة في فرض غرامات فانها تفتح أبوابها أمام الشركات التي لم تحصل على تراخيص وفقاً للقانون رقم 8 لسنة 2007 الخاص بحسابات ضمان التطوير العقاري، لتصحيح أوضاعها، ونعمل من جانبنا على توعية وتثقيف الشركات بأهمية الالتزام بالقانون ليعمل الجميع في ظل منظومة متكاملة، لافتاً إلى أن القانون منح المؤسسة حق فرض غرامات تصل إلى 100 ألف درهم على الشركات التي لم تقم بالتسجيل وتصحيح أوضاعها، إلا أن هذا النص لن تستخدمه المؤسسة، حتى تتيح المجال أمام الشركات الأخرى للدخول للمنظومة الجديدة.\n",
      "####################################################################################################\n",
      "####################################################################################################\n",
      "Number of Samples before transformations:\n",
      "2,784,041\n",
      "####################################################################################################\n"
     ]
    },
    {
     "data": {
      "application/vnd.jupyter.widget-view+json": {
       "model_id": "1473ea3ca667414c9d830a50f8924efb",
       "version_major": 2,
       "version_minor": 0
      },
      "text/plain": [
       "  0%|          | 0/2784041 [00:00<?, ?it/s]"
      ]
     },
     "metadata": {},
     "output_type": "display_data"
    },
    {
     "data": {
      "application/vnd.jupyter.widget-view+json": {
       "model_id": "5698ce16ac184e79897d4af3d6522295",
       "version_major": 2,
       "version_minor": 0
      },
      "text/plain": [
       "  0%|          | 0/2784036 [00:00<?, ?it/s]"
      ]
     },
     "metadata": {},
     "output_type": "display_data"
    },
    {
     "name": "stdout",
     "output_type": "stream",
     "text": [
      "####################################################################################################\n",
      "Number of Samples after transformations:\n",
      "4,296,015\n",
      "####################################################################################################\n"
     ]
    },
    {
     "data": {
      "application/vnd.jupyter.widget-view+json": {
       "model_id": "d29764c5bb4b48c48cb0baf6edaf7ef8",
       "version_major": 2,
       "version_minor": 0
      },
      "text/plain": [
       "  0%|          | 0/4203375 [00:00<?, ?it/s]"
      ]
     },
     "metadata": {},
     "output_type": "display_data"
    },
    {
     "name": "stdout",
     "output_type": "stream",
     "text": [
      "####################################################################################################\n",
      "Sample of datasets samples:\n",
      "الماء مادةٌ شفافةٌ عديمة اللون والرائحة، وهو المكوّن الأساسي للجداول والبحيرات والبحار والمحيطات وكذلك للسوائل في جميع الكائنات الحيّة، وهو أكثر المركّبات الكيميائيّة انتشاراً على سطح الأرض. يتألّف جزيء الماء من ذرّة أكسجين مركزية ترتبط بها ذرّتا هيدروجين على طرفيها برابطة تساهميّة بحيث تكون صيغته الكيميائية H2O. عند الظروف القياسية من الضغط ودرجة الحرارة يكون الماء سائلاً؛ أمّا الحالة الصلبة فتتشكّل عند نقطة التجمّد، وتدعى بالجليد؛ أمّا الحالة الغازية فتتشكّل عند نقطة الغليان، وتسمّى بخار الماء.\n",
      "إنّ الماء هو أساس وجود الحياة على كوكب الأرض، وهو يغطّي 71% من سطحها، وتمثّل مياه البحار والمحيطات أكبر نسبة للماء على الأرض، حيث تبلغ حوالي 96.5%. وتتوزّع النسب الباقية بين المياه الجوفيّة وبين جليد المناطق القطبيّة (1.7% لكليهما)، مع وجود نسبة صغيرة على شكل بخار ماء معلّق في الهواء على هيئة سحاب (غيوم)، وأحياناً أخرى على هيئة ضباب أو ندى، بالإضافة إلى الزخات المطريّة أو الثلجيّة. تبلغ نسبة الماء العذب حوالي 2.5% فقط من الماء الموجود على الأرض، وأغلب هذه الكمّيّة (حوالي 99%) موجودة في الكتل الجليديّة في المناطق القطبيّة، في حين تتواجد 0.3% من الماء العذب في الأنهار والبحيرات وفي الغلاف الجوّي.\n",
      "####################################################################################################\n",
      "####################################################################################################\n",
      "Number of Samples before transformations:\n",
      "4,636,663\n",
      "####################################################################################################\n"
     ]
    },
    {
     "data": {
      "application/vnd.jupyter.widget-view+json": {
       "model_id": "df5711d8cb3b4a74bcd8be24a430e2e5",
       "version_major": 2,
       "version_minor": 0
      },
      "text/plain": [
       "  0%|          | 0/4636663 [00:00<?, ?it/s]"
      ]
     },
     "metadata": {},
     "output_type": "display_data"
    },
    {
     "data": {
      "application/vnd.jupyter.widget-view+json": {
       "model_id": "5f8fdee9c9294fefb57ccd231b06a330",
       "version_major": 2,
       "version_minor": 0
      },
      "text/plain": [
       "  0%|          | 0/4636645 [00:00<?, ?it/s]"
      ]
     },
     "metadata": {},
     "output_type": "display_data"
    },
    {
     "name": "stdout",
     "output_type": "stream",
     "text": [
      "####################################################################################################\n",
      "Number of Samples after transformations:\n",
      "10,867,699\n",
      "####################################################################################################\n"
     ]
    },
    {
     "data": {
      "application/vnd.jupyter.widget-view+json": {
       "model_id": "40dd5c72571f4364a1b804feff30ccae",
       "version_major": 2,
       "version_minor": 0
      },
      "text/plain": [
       "  0%|          | 0/10867699 [00:00<?, ?it/s]"
      ]
     },
     "metadata": {},
     "output_type": "display_data"
    },
    {
     "name": "stdout",
     "output_type": "stream",
     "text": [
      "####################################################################################################\n",
      "Number of Samples when considering sample with 30 tokens or more:\n",
      "1,460,225\n",
      "####################################################################################################\n"
     ]
    },
    {
     "data": {
      "application/vnd.jupyter.widget-view+json": {
       "model_id": "a13cad4528eb438da32dab1d96801c71",
       "version_major": 2,
       "version_minor": 0
      },
      "text/plain": [
       "  0%|          | 0/1440782 [00:00<?, ?it/s]"
      ]
     },
     "metadata": {},
     "output_type": "display_data"
    },
    {
     "name": "stdout",
     "output_type": "stream",
     "text": [
      "####################################################################################################\n",
      "Number of samples:\n",
      "6236\n",
      "####################################################################################################\n",
      "####################################################################################################\n",
      "Original Number of Samples:\n",
      "650,986\n",
      "####################################################################################################\n",
      "####################################################################################################\n",
      "Number of Samples after dropping duplicates:\n",
      "637,565\n",
      "####################################################################################################\n",
      "####################################################################################################\n",
      "Sample of datasets documents:\n",
      "يَتَوَضَّأُ ثَلَاثًا \" ، يَرْفَعُهُ إِلَى النَّبِيِّ صَلَّى اللَّهُ عَلَيْهِ وَسَلَّمَ .\n",
      "يَغْتَسِلُ مِنَ الْجَنَابَةِ ، ثُمَّ يَجِيءُ ، وَلَهُ قَفْقَفَةٌ ، فَيَسْتَدْفِئُ بِي ، وَلَمْ أَغْتَسِلْ \" .\n",
      "! ، لا تَبُلْ قَائِمًا \" ، فَمَا بُلْتُ بَعْدُ قَائِمًا  .\n",
      "! أَنْتَ نَهَيْتَ النَّاسَ أَنْ يُصَلُّوا فِي نِعَالِهِمْ ؟ , فَقَالَ : لا , لَعَمْرُ اللَّهِ ! مَا نَهَيْتُ النَّاسَ أَنْ يُصَلُّوا فِي نِعَالِهِمْ , غَيْرَ أَنِّي وَرَبِّ هَذِهِ الْحُرْمَةِ , حَتَّى قَالَهَا : ثَلاثًا ، لَقَدْ رَأَيْتُ النَّبِيَّ صَلَّى اللَّهُ عَلَيْهِ وَسَلَّمَ ، هَهُنَا عِنْدَ الْمَقَامِ \" يُصَلِّي وَعَلَيْهِ نَعْلاهُ ، ثُمَّ انْصَرَفَ وَهُمَا عَلَيْهِ \"  .\n",
      "! إِنْ أَنَا صَدَقْتُ فَصَدِّقْنِي ، وَإِنْ أَنَا كَذَبْتُ فَكَذِّبْنِي ، قَالَ : فَافْعَلْ ، قَالَ \" فَأَنْشُدُكَ بِاللَّهِ ، هَلْ سَمِعْتَ رَسُولَ اللَّهِ صَلَّى اللَّهُ عَلَيْهِ وَسَلَّمَ يَنْهَى عَنْ لُبْسِ الذَّهَبِ ؟ ، قَالَ : نَعَمْ . قَالَ : فَأَنْشُدُكَ بِاللَّهِ ، هَلْ تَعْلَمُ أَنَّ رَسُولَ اللَّهِ صَلَّى اللَّهُ عَلَيْهِ وَسَلَّمَ نَهَى عَنْ لُبْسِ الْحَرِيرِ ؟ ، قَالَ : نَعَمْ . قَالَ : فَأَنْشُدُكَ بِاللَّهِ ، هَلْ تَعْلَمُ أَنَّ رَسُولَ اللَّهِ صَلَّى اللَّهُ عَلَيْهِ وَسَلَّمَ نَهَى عَنْ لُبْسِ جُلُودِ السِّبَاعِ وَالرُّكُوبِ عَلَيْهَا ؟ قَالَ : نَعَمْ \"  .\n",
      "####################################################################################################\n"
     ]
    },
    {
     "data": {
      "application/vnd.jupyter.widget-view+json": {
       "model_id": "b032cc26c7dc4dccb1a519faa81cb37c",
       "version_major": 2,
       "version_minor": 0
      },
      "text/plain": [
       "  0%|          | 0/637565 [00:00<?, ?it/s]"
      ]
     },
     "metadata": {},
     "output_type": "display_data"
    },
    {
     "data": {
      "application/vnd.jupyter.widget-view+json": {
       "model_id": "a31e3d8b20464d95a555c73fa35af38a",
       "version_major": 2,
       "version_minor": 0
      },
      "text/plain": [
       "  0%|          | 0/637565 [00:00<?, ?it/s]"
      ]
     },
     "metadata": {},
     "output_type": "display_data"
    },
    {
     "name": "stdout",
     "output_type": "stream",
     "text": [
      "####################################################################################################\n",
      "Number of Samples after splitting on dots:\n",
      "837,798\n",
      "####################################################################################################\n"
     ]
    },
    {
     "name": "stderr",
     "output_type": "stream",
     "text": [
      "Found cached dataset parquet (/home/majed_alshaibani/.cache/huggingface/datasets/arbml___parquet/MagedSaeed--ashaar-719bb58a76ea0092/0.0.0/2a3b91fbd88a2c90d1dbbb32b460cf621d31bd5b05b934492fdef7d8d6f236ec)\n",
      "Loading cached processed dataset at /home/majed_alshaibani/.cache/huggingface/datasets/arbml___parquet/MagedSaeed--ashaar-719bb58a76ea0092/0.0.0/2a3b91fbd88a2c90d1dbbb32b460cf621d31bd5b05b934492fdef7d8d6f236ec/cache-ad374fe98444926c.arrow\n"
     ]
    },
    {
     "name": "stdout",
     "output_type": "stream",
     "text": [
      "####################################################################################################\n",
      "Number datasets samples:\n",
      "254630\n",
      "####################################################################################################\n",
      "####################################################################################################\n",
      "Number datasets samples after filtering non accepted meters:\n",
      "249880\n",
      "####################################################################################################\n"
     ]
    },
    {
     "data": {
      "application/vnd.jupyter.widget-view+json": {
       "model_id": "3781c6a0eedb400e9ecad9083c794367",
       "version_major": 2,
       "version_minor": 0
      },
      "text/plain": [
       "  0%|          | 0/249880 [00:00<?, ?it/s]"
      ]
     },
     "metadata": {},
     "output_type": "display_data"
    },
    {
     "name": "stdout",
     "output_type": "stream",
     "text": [
      "####################################################################################################\n",
      "Sample of datasets samples:\n",
      "أَصبَحَ المُلك لِلَّذي فَطر الخَل قَ بِتَقديرٍ للعَزيز العَليمِ\n",
      "غافر الذَنب للمسيءِ بِعَفوٍ قابل التَوب ذي العَطاء العَميمِ\n",
      "مُرسل المُصطَفى البَشير إِلَينا رَحمة مِنهُ بِالكَلام القَديمِ\n",
      "رَبَنا رَبّنا إِلَيكَ أَنينا فَأَجرنا مِن حَر نار الجَحيمِ\n",
      "وَاكفِنا شَرّ ما نَخاف بِلُطفٍ يا عَظيماً يَرجى لِكُل عَظيمِ\n",
      "####################################################################################################\n",
      "####################################################################################################\n",
      "Number of Baits:\n",
      "3,774,110\n",
      "####################################################################################################\n"
     ]
    },
    {
     "data": {
      "application/vnd.jupyter.widget-view+json": {
       "model_id": "fca9bbddcbea4ff88b39c4bd3e123581",
       "version_major": 2,
       "version_minor": 0
      },
      "text/plain": [
       "  0%|          | 0/3774110 [00:00<?, ?it/s]"
      ]
     },
     "metadata": {},
     "output_type": "display_data"
    },
    {
     "name": "stdout",
     "output_type": "stream",
     "text": [
      "####################################################################################################\n",
      "Number of baits after deleting 60>= len(bait) chars >= 30 chars:\n",
      "3,207,158\n",
      "####################################################################################################\n",
      "####################################################################################################\n",
      "Sample of datasets samples:\n",
      "أكد المهندس مروان بن غليطة المدير التنفيذي لمؤسسة التنظيم العقاري بدبي أن استخدام العقوبات والغرامات المنصوص عليها في القانون ضد الشركات العقارية غير المسجلة بحسابات الضمان، أو تلك التي لم تحصل على ترخيص لممارسة النشاط العقاري، آخر ما تفكر فيه المؤسسة. وشدد على أن ''''التنظيم العقاري'''' لا تستخدم القانون سيفاً مسلطاً ضد الشركات بل هدفها العمل على خلق شراكات عمل واضحة ومرنة مع كل الشركات والفاعلين في قطاع التطوير العقاري من أجل تحقيق الهدف الاستراتيجي من إنشاء المؤسسة والرامي إلى تنظيم القطاع وايجاد قاعدة بيانات تساهم في تطوير وتعزيز هذا القطاع الحيوي.\n",
      "وأضاف مروان بن غليطة في تصريحات لـ ''''الاتحاد'''': أن إعلان المؤسسة عن قائمة الشركات المرخصة لها، لا يعني بالضرورة البدء في توقيع الغرامات المنصوص عليها في القانون ضد الشركات التي لم تلتزم بالمهلة الممنوحة لتوفيق أوضاع المطورين العقاريين، فالبرغم من حق الهيئة في فرض غرامات فانها تفتح أبوابها أمام الشركات التي لم تحصل على تراخيص وفقاً للقانون رقم 8 لسنة 2007 الخاص بحسابات ضمان التطوير العقاري، لتصحيح أوضاعها، ونعمل من جانبنا على توعية وتثقيف الشركات بأهمية الالتزام بالقانون ليعمل الجميع في ظل منظومة متكاملة، لافتاً إلى أن القانون منح المؤسسة حق فرض غرامات تصل إلى 100 ألف درهم على الشركات التي لم تقم بالتسجيل وتصحيح أوضاعها، إلا أن هذا النص لن تستخدمه المؤسسة، حتى تتيح المجال أمام الشركات الأخرى للدخول للمنظومة الجديدة.\n",
      "####################################################################################################\n",
      "####################################################################################################\n",
      "Number of Samples before transformations:\n",
      "2,784,041\n",
      "####################################################################################################\n"
     ]
    },
    {
     "data": {
      "application/vnd.jupyter.widget-view+json": {
       "model_id": "df615a6b27b14462a650b9bced5d55c5",
       "version_major": 2,
       "version_minor": 0
      },
      "text/plain": [
       "  0%|          | 0/2784041 [00:00<?, ?it/s]"
      ]
     },
     "metadata": {},
     "output_type": "display_data"
    },
    {
     "data": {
      "application/vnd.jupyter.widget-view+json": {
       "model_id": "77ec53b9832d44c7b51653d600b8495b",
       "version_major": 2,
       "version_minor": 0
      },
      "text/plain": [
       "  0%|          | 0/2784036 [00:00<?, ?it/s]"
      ]
     },
     "metadata": {},
     "output_type": "display_data"
    },
    {
     "name": "stdout",
     "output_type": "stream",
     "text": [
      "####################################################################################################\n",
      "Number of Samples after transformations:\n",
      "4,296,015\n",
      "####################################################################################################\n",
      "####################################################################################################\n",
      "Sample of datasets samples:\n",
      "الماء مادةٌ شفافةٌ عديمة اللون والرائحة، وهو المكوّن الأساسي للجداول والبحيرات والبحار والمحيطات وكذلك للسوائل في جميع الكائنات الحيّة، وهو أكثر المركّبات الكيميائيّة انتشاراً على سطح الأرض. يتألّف جزيء الماء من ذرّة أكسجين مركزية ترتبط بها ذرّتا هيدروجين على طرفيها برابطة تساهميّة بحيث تكون صيغته الكيميائية H2O. عند الظروف القياسية من الضغط ودرجة الحرارة يكون الماء سائلاً؛ أمّا الحالة الصلبة فتتشكّل عند نقطة التجمّد، وتدعى بالجليد؛ أمّا الحالة الغازية فتتشكّل عند نقطة الغليان، وتسمّى بخار الماء.\n",
      "إنّ الماء هو أساس وجود الحياة على كوكب الأرض، وهو يغطّي 71% من سطحها، وتمثّل مياه البحار والمحيطات أكبر نسبة للماء على الأرض، حيث تبلغ حوالي 96.5%. وتتوزّع النسب الباقية بين المياه الجوفيّة وبين جليد المناطق القطبيّة (1.7% لكليهما)، مع وجود نسبة صغيرة على شكل بخار ماء معلّق في الهواء على هيئة سحاب (غيوم)، وأحياناً أخرى على هيئة ضباب أو ندى، بالإضافة إلى الزخات المطريّة أو الثلجيّة. تبلغ نسبة الماء العذب حوالي 2.5% فقط من الماء الموجود على الأرض، وأغلب هذه الكمّيّة (حوالي 99%) موجودة في الكتل الجليديّة في المناطق القطبيّة، في حين تتواجد 0.3% من الماء العذب في الأنهار والبحيرات وفي الغلاف الجوّي.\n",
      "####################################################################################################\n",
      "####################################################################################################\n",
      "Number of Samples before transformations:\n",
      "4,636,663\n",
      "####################################################################################################\n"
     ]
    },
    {
     "data": {
      "application/vnd.jupyter.widget-view+json": {
       "model_id": "d65d8009b7cd4389b4e513c7450435b9",
       "version_major": 2,
       "version_minor": 0
      },
      "text/plain": [
       "  0%|          | 0/4636663 [00:01<?, ?it/s]"
      ]
     },
     "metadata": {},
     "output_type": "display_data"
    },
    {
     "data": {
      "application/vnd.jupyter.widget-view+json": {
       "model_id": "ee270fc2a65e4751aff5c2086b6fee67",
       "version_major": 2,
       "version_minor": 0
      },
      "text/plain": [
       "  0%|          | 0/4636645 [00:00<?, ?it/s]"
      ]
     },
     "metadata": {},
     "output_type": "display_data"
    },
    {
     "name": "stdout",
     "output_type": "stream",
     "text": [
      "####################################################################################################\n",
      "Number of Samples after transformations:\n",
      "10,867,699\n",
      "####################################################################################################\n"
     ]
    },
    {
     "data": {
      "application/vnd.jupyter.widget-view+json": {
       "model_id": "f157fba5b895405b9ae70ce42d7e6635",
       "version_major": 2,
       "version_minor": 0
      },
      "text/plain": [
       "  0%|          | 0/10867699 [00:00<?, ?it/s]"
      ]
     },
     "metadata": {},
     "output_type": "display_data"
    },
    {
     "name": "stdout",
     "output_type": "stream",
     "text": [
      "####################################################################################################\n",
      "Number of Samples when considering sample with 30 tokens or more:\n",
      "1,460,225\n",
      "####################################################################################################\n",
      "####################################################################################################\n",
      "Sample of datasets samples:\n",
      "بِسْمِ اللَّهِ الرَّحْمَٰنِ الرَّحِيمِ\n",
      "الْحَمْدُ لِلَّهِ رَبِّ الْعَالَمِينَ\n",
      "####################################################################################################\n",
      "####################################################################################################\n",
      "Number of Samples before transformations:\n",
      "9,807,432\n",
      "####################################################################################################\n"
     ]
    },
    {
     "data": {
      "application/vnd.jupyter.widget-view+json": {
       "model_id": "0511e0a945944c4ea3f410c8429245ad",
       "version_major": 2,
       "version_minor": 0
      },
      "text/plain": [
       "  0%|          | 0/9807432 [00:00<?, ?it/s]"
      ]
     },
     "metadata": {},
     "output_type": "display_data"
    },
    {
     "data": {
      "application/vnd.jupyter.widget-view+json": {
       "model_id": "13ca059529294e7aa9e4e75bb4e3a04b",
       "version_major": 2,
       "version_minor": 0
      },
      "text/plain": [
       "  0%|          | 0/9808355 [00:00<?, ?it/s]"
      ]
     },
     "metadata": {},
     "output_type": "display_data"
    },
    {
     "name": "stdout",
     "output_type": "stream",
     "text": [
      "####################################################################################################\n",
      "Number of Samples after transformations:\n",
      "9,936,920\n",
      "####################################################################################################\n"
     ]
    },
    {
     "data": {
      "application/vnd.jupyter.widget-view+json": {
       "model_id": "914a70d92fee43c98ff884860bc76e7b",
       "version_major": 2,
       "version_minor": 0
      },
      "text/plain": [
       "  0%|          | 0/9651620 [00:01<?, ?it/s]"
      ]
     },
     "metadata": {},
     "output_type": "display_data"
    }
   ],
   "source": [
    "prepare_dataset = lambda dataset: list(filter(lambda item: len(item)>0,tqdm(list(dict.fromkeys(dataset)))))\n",
    "datasets = {\n",
    "    'quran':prepare_dataset(collect_quran_dataset()),\n",
    "    'sanadset_hadeeth':prepare_dataset(collect_sanadset_hadeeth_dataset()),\n",
    "    'poems':prepare_dataset(collect_poems_dataset()),\n",
    "    'news':prepare_dataset(collect_news_dataset()),\n",
    "    'wikipedia':prepare_dataset(collect_wikipedia_dataset()),\n",
    "    'aggregated':prepare_dataset(collect_aggregated_dataset()),\n",
    "}"
   ]
  },
  {
   "cell_type": "code",
   "execution_count": 4,
   "id": "ebd109d7-989b-4950-b7e9-503e74a041de",
   "metadata": {
    "tags": []
   },
   "outputs": [
    {
     "data": {
      "application/vnd.jupyter.widget-view+json": {
       "model_id": "786e391368874da789f89ad992d78f1a",
       "version_major": 2,
       "version_minor": 0
      },
      "text/plain": [
       "  0%|          | 0/6057 [00:00<?, ?it/s]"
      ]
     },
     "metadata": {},
     "output_type": "display_data"
    },
    {
     "data": {
      "application/vnd.jupyter.widget-view+json": {
       "model_id": "e22c4a4430b745409e9f9700e31e8e72",
       "version_major": 2,
       "version_minor": 0
      },
      "text/plain": [
       "  0%|          | 0/6057 [00:00<?, ?it/s]"
      ]
     },
     "metadata": {},
     "output_type": "display_data"
    },
    {
     "data": {
      "application/vnd.jupyter.widget-view+json": {
       "model_id": "6ce5fb2b903e444992d25b10ecaa7e31",
       "version_major": 2,
       "version_minor": 0
      },
      "text/plain": [
       "  0%|          | 0/6057 [00:00<?, ?it/s]"
      ]
     },
     "metadata": {},
     "output_type": "display_data"
    },
    {
     "data": {
      "application/vnd.jupyter.widget-view+json": {
       "model_id": "4b4e2f9654174585ba0412dc27e92d79",
       "version_major": 2,
       "version_minor": 0
      },
      "text/plain": [
       "  0%|          | 0/6057 [00:00<?, ?it/s]"
      ]
     },
     "metadata": {},
     "output_type": "display_data"
    },
    {
     "data": {
      "application/vnd.jupyter.widget-view+json": {
       "model_id": "58b3e644ea784b5986e5ee22881183df",
       "version_major": 2,
       "version_minor": 0
      },
      "text/plain": [
       "  0%|          | 0/818354 [00:00<?, ?it/s]"
      ]
     },
     "metadata": {},
     "output_type": "display_data"
    },
    {
     "data": {
      "application/vnd.jupyter.widget-view+json": {
       "model_id": "b8472908b50d40ab871cde2dda479ad8",
       "version_major": 2,
       "version_minor": 0
      },
      "text/plain": [
       "  0%|          | 0/818354 [00:00<?, ?it/s]"
      ]
     },
     "metadata": {},
     "output_type": "display_data"
    },
    {
     "data": {
      "application/vnd.jupyter.widget-view+json": {
       "model_id": "881cdc23a41144f9adfc242cde1e62e5",
       "version_major": 2,
       "version_minor": 0
      },
      "text/plain": [
       "  0%|          | 0/818354 [00:00<?, ?it/s]"
      ]
     },
     "metadata": {},
     "output_type": "display_data"
    },
    {
     "data": {
      "application/vnd.jupyter.widget-view+json": {
       "model_id": "e837550cd4b54f69983f6ced5b4d69b2",
       "version_major": 2,
       "version_minor": 0
      },
      "text/plain": [
       "  0%|          | 0/818354 [00:00<?, ?it/s]"
      ]
     },
     "metadata": {},
     "output_type": "display_data"
    },
    {
     "data": {
      "application/vnd.jupyter.widget-view+json": {
       "model_id": "db2567c23387404a884c85da320c1b1c",
       "version_major": 2,
       "version_minor": 0
      },
      "text/plain": [
       "  0%|          | 0/3090273 [00:00<?, ?it/s]"
      ]
     },
     "metadata": {},
     "output_type": "display_data"
    },
    {
     "data": {
      "application/vnd.jupyter.widget-view+json": {
       "model_id": "01016da6f44d4542a19108108d92bd8c",
       "version_major": 2,
       "version_minor": 0
      },
      "text/plain": [
       "  0%|          | 0/3090273 [00:00<?, ?it/s]"
      ]
     },
     "metadata": {},
     "output_type": "display_data"
    },
    {
     "data": {
      "application/vnd.jupyter.widget-view+json": {
       "model_id": "52736f52eb03418d9da0614500e460d5",
       "version_major": 2,
       "version_minor": 0
      },
      "text/plain": [
       "  0%|          | 0/3090273 [00:00<?, ?it/s]"
      ]
     },
     "metadata": {},
     "output_type": "display_data"
    },
    {
     "data": {
      "application/vnd.jupyter.widget-view+json": {
       "model_id": "158c84c1e68948a187bf2120007fb4f3",
       "version_major": 2,
       "version_minor": 0
      },
      "text/plain": [
       "  0%|          | 0/3090273 [00:00<?, ?it/s]"
      ]
     },
     "metadata": {},
     "output_type": "display_data"
    },
    {
     "data": {
      "application/vnd.jupyter.widget-view+json": {
       "model_id": "35fdf14b3f8c4e3a986efd1fe3ff69ce",
       "version_major": 2,
       "version_minor": 0
      },
      "text/plain": [
       "  0%|          | 0/4203375 [00:00<?, ?it/s]"
      ]
     },
     "metadata": {},
     "output_type": "display_data"
    },
    {
     "data": {
      "application/vnd.jupyter.widget-view+json": {
       "model_id": "fab9ae1b53d844c08637463c49f43a10",
       "version_major": 2,
       "version_minor": 0
      },
      "text/plain": [
       "  0%|          | 0/4203375 [00:00<?, ?it/s]"
      ]
     },
     "metadata": {},
     "output_type": "display_data"
    },
    {
     "data": {
      "application/vnd.jupyter.widget-view+json": {
       "model_id": "6f5c36e7bdf44cd6b22067f398e20010",
       "version_major": 2,
       "version_minor": 0
      },
      "text/plain": [
       "  0%|          | 0/4203375 [00:00<?, ?it/s]"
      ]
     },
     "metadata": {},
     "output_type": "display_data"
    },
    {
     "data": {
      "application/vnd.jupyter.widget-view+json": {
       "model_id": "da4d2a74e3b3464bab2dc8293849880c",
       "version_major": 2,
       "version_minor": 0
      },
      "text/plain": [
       "  0%|          | 0/4203375 [00:00<?, ?it/s]"
      ]
     },
     "metadata": {},
     "output_type": "display_data"
    },
    {
     "data": {
      "application/vnd.jupyter.widget-view+json": {
       "model_id": "a54e52614fca453e948717c6b51b1e7d",
       "version_major": 2,
       "version_minor": 0
      },
      "text/plain": [
       "  0%|          | 0/1440782 [00:00<?, ?it/s]"
      ]
     },
     "metadata": {},
     "output_type": "display_data"
    },
    {
     "data": {
      "application/vnd.jupyter.widget-view+json": {
       "model_id": "3d3f5c31d3d24937996bdc26b25a4139",
       "version_major": 2,
       "version_minor": 0
      },
      "text/plain": [
       "  0%|          | 0/1440782 [00:00<?, ?it/s]"
      ]
     },
     "metadata": {},
     "output_type": "display_data"
    },
    {
     "data": {
      "application/vnd.jupyter.widget-view+json": {
       "model_id": "491c92ab6ef948e1ba0994168f072b1d",
       "version_major": 2,
       "version_minor": 0
      },
      "text/plain": [
       "  0%|          | 0/1440782 [00:00<?, ?it/s]"
      ]
     },
     "metadata": {},
     "output_type": "display_data"
    },
    {
     "data": {
      "application/vnd.jupyter.widget-view+json": {
       "model_id": "904da0e0ee644efe97d314df71a30226",
       "version_major": 2,
       "version_minor": 0
      },
      "text/plain": [
       "  0%|          | 0/1440782 [00:00<?, ?it/s]"
      ]
     },
     "metadata": {},
     "output_type": "display_data"
    },
    {
     "data": {
      "application/vnd.jupyter.widget-view+json": {
       "model_id": "1790e0df051549ebabbee9735928099d",
       "version_major": 2,
       "version_minor": 0
      },
      "text/plain": [
       "  0%|          | 0/9651620 [00:00<?, ?it/s]"
      ]
     },
     "metadata": {},
     "output_type": "display_data"
    },
    {
     "data": {
      "application/vnd.jupyter.widget-view+json": {
       "model_id": "b4d08dee711647ee92eebfc7de2a01c2",
       "version_major": 2,
       "version_minor": 0
      },
      "text/plain": [
       "  0%|          | 0/9651620 [00:00<?, ?it/s]"
      ]
     },
     "metadata": {},
     "output_type": "display_data"
    },
    {
     "data": {
      "application/vnd.jupyter.widget-view+json": {
       "model_id": "47b9f5fba5604fd6adc74ae55fd997d7",
       "version_major": 2,
       "version_minor": 0
      },
      "text/plain": [
       "  0%|          | 0/9651620 [00:00<?, ?it/s]"
      ]
     },
     "metadata": {},
     "output_type": "display_data"
    },
    {
     "data": {
      "application/vnd.jupyter.widget-view+json": {
       "model_id": "9e785d70214342f09bfc580189fb4cb7",
       "version_major": 2,
       "version_minor": 0
      },
      "text/plain": [
       "  0%|          | 0/9651620 [00:02<?, ?it/s]"
      ]
     },
     "metadata": {},
     "output_type": "display_data"
    },
    {
     "name": "stdout",
     "output_type": "stream",
     "text": [
      "+------------------+---------+-------------+----------------+----------------------------+---------+----------+\n",
      "|     dataset      | samples | all words N | unique words V | unique words (undotted) V` | V/N (%) | V`/N (%) |\n",
      "+------------------+---------+-------------+----------------+----------------------------+---------+----------+\n",
      "|      quran       |  6057   |   76,911    |     14,748     |           13,229           | 19.175  |   17.2   |\n",
      "+------------------+---------+-------------+----------------+----------------------------+---------+----------+\n",
      "| sanadset_hadeeth | 818354  | 28,759,423  |    317,331     |          227,590           |  1.103  |  0.791   |\n",
      "+------------------+---------+-------------+----------------+----------------------------+---------+----------+\n",
      "|      poems       | 3090273 | 29,615,715  |    938,664     |          592,600           |  3.17   |  2.001   |\n",
      "+------------------+---------+-------------+----------------+----------------------------+---------+----------+\n",
      "|       news       | 4203375 | 134,427,152 |    892,583     |          654,982           |  0.664  |  0.487   |\n",
      "+------------------+---------+-------------+----------------+----------------------------+---------+----------+\n",
      "|    wikipedia     | 1440782 | 62,413,075  |   1,050,038    |          787,643           |  1.682  |  1.262   |\n",
      "+------------------+---------+-------------+----------------+----------------------------+---------+----------+\n",
      "|    aggregated    | 9651620 | 255,129,750 |   2,067,444    |         1,382,039          |  0.81   |  0.542   |\n",
      "+------------------+---------+-------------+----------------+----------------------------+---------+----------+\n"
     ]
    }
   ],
   "source": [
    "words_analysis_table = BeautifulTable(maxwidth=300)\n",
    "words_analysis_table.columns.header = [\n",
    "    'dataset',\n",
    "    'samples',\n",
    "    'all words N',\n",
    "    'unique words V',\n",
    "    'unique words (undotted) V`',\n",
    "    'V/N (%)',\n",
    "    'V`/N (%)',\n",
    "  ]\n",
    "\n",
    "for dataset_name in datasets.keys():\n",
    "    dataset = list(map(process,tqdm(datasets[dataset_name])))\n",
    "    counter = tokens_frequency(dataset=tuple(dataset))\n",
    "    \n",
    "    undotted_dataset = list(map(undot,tqdm(dataset)))\n",
    "    undotted_counter = tokens_frequency(dataset=tuple(undotted_dataset))\n",
    "    \n",
    "    assert sum(counter.values()) == sum(undotted_counter.values()), f'{sum(counter.values())} != {sum(undotted_counter.values())}'\n",
    "    \n",
    "    words_analysis_table.rows.append([\n",
    "      dataset_name,\n",
    "      f'{len(dataset)}',\n",
    "      f'{sum(counter.values()):,}',\n",
    "      f'{len(counter.keys()):,}',\n",
    "      f'{len(undotted_counter.keys()):,}',\n",
    "      f'{(len(counter.keys())/sum(counter.values()))*100:.4f}',\n",
    "      f'{(len(undotted_counter.keys())/sum(counter.values()))*100:.4f}',\n",
    "  ]\n",
    ")\n",
    "\n",
    "print(words_analysis_table)"
   ]
  }
 ],
 "metadata": {
  "kernelspec": {
   "display_name": "Python 3 (ipykernel)",
   "language": "python",
   "name": "python3"
  },
  "language_info": {
   "codemirror_mode": {
    "name": "ipython",
    "version": 3
   },
   "file_extension": ".py",
   "mimetype": "text/x-python",
   "name": "python",
   "nbconvert_exporter": "python",
   "pygments_lexer": "ipython3",
   "version": "3.10.6"
  }
 },
 "nbformat": 4,
 "nbformat_minor": 5
}
