{
 "cells": [
  {
   "cell_type": "code",
   "execution_count": 1,
   "id": "4ad92794-18fb-46d8-9045-e462516fa039",
   "metadata": {
    "tags": []
   },
   "outputs": [
    {
     "name": "stdout",
     "output_type": "stream",
     "text": [
      "/home/majed_alshaibani/Experiments/DotlessArabic\n"
     ]
    }
   ],
   "source": [
    "%cd ../../.."
   ]
  },
  {
   "cell_type": "code",
   "execution_count": 2,
   "id": "2fe25310-0734-4cf5-ab9c-d2403aef4924",
   "metadata": {
    "tags": []
   },
   "outputs": [],
   "source": [
    "from tqdm.auto import tqdm\n",
    "from beautifultable import BeautifulTable\n",
    "\n",
    "from dotless_arabic.processing import process,undot\n",
    "from dotless_arabic.datasets.utils import tokens_frequency\n",
    "\n",
    "\n",
    "from dotless_arabic.datasets.quran.collect import collect_dataset_for_language_modeling as collect_quran_dataset\n",
    "from dotless_arabic.datasets.sanadset_hadeeth.collect import collect_dataset_for_language_modeling as collect_sanadset_hadeeth_dataset\n",
    "from dotless_arabic.datasets.poems.collect import collect_dataset_for_language_modeling as collect_poems_dataset\n",
    "from dotless_arabic.datasets.news.collect import collect_dataset_for_language_modeling as collect_news_dataset\n",
    "from dotless_arabic.datasets.wikipedia.collect import collect_dataset_for_language_modeling as collect_wikipedia_dataset\n",
    "from dotless_arabic.datasets.aggregated.collect import collect_dataset as collect_aggregated_dataset"
   ]
  },
  {
   "cell_type": "code",
   "execution_count": 3,
   "id": "16970fec-a9d1-4917-8144-b1f2053a59e2",
   "metadata": {
    "tags": []
   },
   "outputs": [
    {
     "name": "stdout",
     "output_type": "stream",
     "text": [
      "####################################################################################################\n",
      "Number of samples:\n",
      "6236\n",
      "####################################################################################################\n"
     ]
    },
    {
     "data": {
      "application/vnd.jupyter.widget-view+json": {
       "model_id": "f3a40f47ad524412b6e61106739fc13d",
       "version_major": 2,
       "version_minor": 0
      },
      "text/plain": [
       "  0%|          | 0/6057 [00:00<?, ?it/s]"
      ]
     },
     "metadata": {},
     "output_type": "display_data"
    },
    {
     "name": "stdout",
     "output_type": "stream",
     "text": [
      "####################################################################################################\n",
      "Original Number of Samples:\n",
      "650,986\n",
      "####################################################################################################\n",
      "####################################################################################################\n",
      "Number of Samples after dropping duplicates:\n",
      "637,565\n",
      "####################################################################################################\n",
      "####################################################################################################\n",
      "Sample of datasets documents:\n",
      "يَتَوَضَّأُ ثَلَاثًا \" ، يَرْفَعُهُ إِلَى النَّبِيِّ صَلَّى اللَّهُ عَلَيْهِ وَسَلَّمَ .\n",
      "يَغْتَسِلُ مِنَ الْجَنَابَةِ ، ثُمَّ يَجِيءُ ، وَلَهُ قَفْقَفَةٌ ، فَيَسْتَدْفِئُ بِي ، وَلَمْ أَغْتَسِلْ \" .\n",
      "! ، لا تَبُلْ قَائِمًا \" ، فَمَا بُلْتُ بَعْدُ قَائِمًا  .\n",
      "! أَنْتَ نَهَيْتَ النَّاسَ أَنْ يُصَلُّوا فِي نِعَالِهِمْ ؟ , فَقَالَ : لا , لَعَمْرُ اللَّهِ ! مَا نَهَيْتُ النَّاسَ أَنْ يُصَلُّوا فِي نِعَالِهِمْ , غَيْرَ أَنِّي وَرَبِّ هَذِهِ الْحُرْمَةِ , حَتَّى قَالَهَا : ثَلاثًا ، لَقَدْ رَأَيْتُ النَّبِيَّ صَلَّى اللَّهُ عَلَيْهِ وَسَلَّمَ ، هَهُنَا عِنْدَ الْمَقَامِ \" يُصَلِّي وَعَلَيْهِ نَعْلاهُ ، ثُمَّ انْصَرَفَ وَهُمَا عَلَيْهِ \"  .\n",
      "! إِنْ أَنَا صَدَقْتُ فَصَدِّقْنِي ، وَإِنْ أَنَا كَذَبْتُ فَكَذِّبْنِي ، قَالَ : فَافْعَلْ ، قَالَ \" فَأَنْشُدُكَ بِاللَّهِ ، هَلْ سَمِعْتَ رَسُولَ اللَّهِ صَلَّى اللَّهُ عَلَيْهِ وَسَلَّمَ يَنْهَى عَنْ لُبْسِ الذَّهَبِ ؟ ، قَالَ : نَعَمْ . قَالَ : فَأَنْشُدُكَ بِاللَّهِ ، هَلْ تَعْلَمُ أَنَّ رَسُولَ اللَّهِ صَلَّى اللَّهُ عَلَيْهِ وَسَلَّمَ نَهَى عَنْ لُبْسِ الْحَرِيرِ ؟ ، قَالَ : نَعَمْ . قَالَ : فَأَنْشُدُكَ بِاللَّهِ ، هَلْ تَعْلَمُ أَنَّ رَسُولَ اللَّهِ صَلَّى اللَّهُ عَلَيْهِ وَسَلَّمَ نَهَى عَنْ لُبْسِ جُلُودِ السِّبَاعِ وَالرُّكُوبِ عَلَيْهَا ؟ قَالَ : نَعَمْ \"  .\n",
      "####################################################################################################\n"
     ]
    },
    {
     "data": {
      "application/vnd.jupyter.widget-view+json": {
       "model_id": "d514558ce2fb44f8875494ae27b24a07",
       "version_major": 2,
       "version_minor": 0
      },
      "text/plain": [
       "  0%|          | 0/637565 [00:00<?, ?it/s]"
      ]
     },
     "metadata": {},
     "output_type": "display_data"
    },
    {
     "data": {
      "application/vnd.jupyter.widget-view+json": {
       "model_id": "d85a3c6a547545cb86dc47e1615041e6",
       "version_major": 2,
       "version_minor": 0
      },
      "text/plain": [
       "  0%|          | 0/637565 [00:00<?, ?it/s]"
      ]
     },
     "metadata": {},
     "output_type": "display_data"
    },
    {
     "name": "stdout",
     "output_type": "stream",
     "text": [
      "####################################################################################################\n",
      "Number of Samples after splitting on dots:\n",
      "837,798\n",
      "####################################################################################################\n"
     ]
    },
    {
     "data": {
      "application/vnd.jupyter.widget-view+json": {
       "model_id": "51d6708465cd4917a12dc0ade842b438",
       "version_major": 2,
       "version_minor": 0
      },
      "text/plain": [
       "  0%|          | 0/818354 [00:00<?, ?it/s]"
      ]
     },
     "metadata": {},
     "output_type": "display_data"
    },
    {
     "name": "stderr",
     "output_type": "stream",
     "text": [
      "Found cached dataset parquet (/home/majed_alshaibani/.cache/huggingface/datasets/arbml___parquet/MagedSaeed--ashaar-719bb58a76ea0092/0.0.0/2a3b91fbd88a2c90d1dbbb32b460cf621d31bd5b05b934492fdef7d8d6f236ec)\n",
      "Loading cached processed dataset at /home/majed_alshaibani/.cache/huggingface/datasets/arbml___parquet/MagedSaeed--ashaar-719bb58a76ea0092/0.0.0/2a3b91fbd88a2c90d1dbbb32b460cf621d31bd5b05b934492fdef7d8d6f236ec/cache-ad374fe98444926c.arrow\n"
     ]
    },
    {
     "name": "stdout",
     "output_type": "stream",
     "text": [
      "####################################################################################################\n",
      "Number datasets samples:\n",
      "254630\n",
      "####################################################################################################\n",
      "####################################################################################################\n",
      "Number datasets samples after filtering non accepted meters:\n",
      "249880\n",
      "####################################################################################################\n"
     ]
    },
    {
     "data": {
      "application/vnd.jupyter.widget-view+json": {
       "model_id": "f3beba5bd22847c1889b31ef897c2dc6",
       "version_major": 2,
       "version_minor": 0
      },
      "text/plain": [
       "  0%|          | 0/249880 [00:00<?, ?it/s]"
      ]
     },
     "metadata": {},
     "output_type": "display_data"
    },
    {
     "name": "stdout",
     "output_type": "stream",
     "text": [
      "####################################################################################################\n",
      "Sample of datasets samples:\n",
      "أَصبَحَ المُلك لِلَّذي فَطر الخَل قَ بِتَقديرٍ للعَزيز العَليمِ\n",
      "غافر الذَنب للمسيءِ بِعَفوٍ قابل التَوب ذي العَطاء العَميمِ\n",
      "مُرسل المُصطَفى البَشير إِلَينا رَحمة مِنهُ بِالكَلام القَديمِ\n",
      "رَبَنا رَبّنا إِلَيكَ أَنينا فَأَجرنا مِن حَر نار الجَحيمِ\n",
      "وَاكفِنا شَرّ ما نَخاف بِلُطفٍ يا عَظيماً يَرجى لِكُل عَظيمِ\n",
      "####################################################################################################\n",
      "####################################################################################################\n",
      "Number of Baits:\n",
      "3,774,110\n",
      "####################################################################################################\n"
     ]
    },
    {
     "data": {
      "application/vnd.jupyter.widget-view+json": {
       "model_id": "8e7c2c45b93049abbf736f63e00e44d0",
       "version_major": 2,
       "version_minor": 0
      },
      "text/plain": [
       "  0%|          | 0/3774110 [00:00<?, ?it/s]"
      ]
     },
     "metadata": {},
     "output_type": "display_data"
    },
    {
     "name": "stdout",
     "output_type": "stream",
     "text": [
      "####################################################################################################\n",
      "Number of baits after deleting 60>= len(bait) chars >= 30 chars:\n",
      "3,207,158\n",
      "####################################################################################################\n"
     ]
    },
    {
     "data": {
      "application/vnd.jupyter.widget-view+json": {
       "model_id": "564c85d09f54400faaa55659ee531673",
       "version_major": 2,
       "version_minor": 0
      },
      "text/plain": [
       "  0%|          | 0/3090273 [00:00<?, ?it/s]"
      ]
     },
     "metadata": {},
     "output_type": "display_data"
    },
    {
     "name": "stdout",
     "output_type": "stream",
     "text": [
      "####################################################################################################\n",
      "Sample of datasets samples:\n",
      "\n",
      "وأكد خطاب الاتحاد الدولي الذي تسلمته إدارة نادي الوحدة أمس الأول على حق النادي في استبدال اللاعب المصاب قبل المباراة الأولى بأربع وعشرين ساعة، مبيناً أن يكون ذلك مدعماً بتقرير طبي بخصوص اصابة اللاعب، إضافة إلى عرض اللاعب على الجهاز الطبي الخاص الذي يشرف على فرق البطولة.\n",
      "####################################################################################################\n",
      "####################################################################################################\n",
      "Number of Samples before transformations:\n",
      "2,784,041\n",
      "####################################################################################################\n"
     ]
    },
    {
     "data": {
      "application/vnd.jupyter.widget-view+json": {
       "model_id": "5894634d5605474baed2ca2d4abb9bdd",
       "version_major": 2,
       "version_minor": 0
      },
      "text/plain": [
       "  0%|          | 0/2784041 [00:00<?, ?it/s]"
      ]
     },
     "metadata": {},
     "output_type": "display_data"
    },
    {
     "data": {
      "application/vnd.jupyter.widget-view+json": {
       "model_id": "36602a52aa894936a77814242652f879",
       "version_major": 2,
       "version_minor": 0
      },
      "text/plain": [
       "  0%|          | 0/2784036 [00:00<?, ?it/s]"
      ]
     },
     "metadata": {},
     "output_type": "display_data"
    },
    {
     "name": "stdout",
     "output_type": "stream",
     "text": [
      "####################################################################################################\n",
      "Number of Samples after transformations:\n",
      "4,296,015\n",
      "####################################################################################################\n"
     ]
    },
    {
     "data": {
      "application/vnd.jupyter.widget-view+json": {
       "model_id": "5e1fe6c5bbbe4328a71cc856dd62842e",
       "version_major": 2,
       "version_minor": 0
      },
      "text/plain": [
       "  0%|          | 0/4203375 [00:00<?, ?it/s]"
      ]
     },
     "metadata": {},
     "output_type": "display_data"
    },
    {
     "name": "stdout",
     "output_type": "stream",
     "text": [
      "####################################################################################################\n",
      "Sample of datasets samples:\n",
      "\n",
      "تأثر دولوز بابن موريس «بيير هالبواكس» في أربعينيات القرن الماضي.\n",
      "####################################################################################################\n",
      "####################################################################################################\n",
      "Number of Samples before transformations:\n",
      "4,636,663\n",
      "####################################################################################################\n"
     ]
    },
    {
     "data": {
      "application/vnd.jupyter.widget-view+json": {
       "model_id": "519506a92f2f41bd9776fb11e3e92af9",
       "version_major": 2,
       "version_minor": 0
      },
      "text/plain": [
       "  0%|          | 0/4636663 [00:00<?, ?it/s]"
      ]
     },
     "metadata": {},
     "output_type": "display_data"
    },
    {
     "data": {
      "application/vnd.jupyter.widget-view+json": {
       "model_id": "bb3cdcae1fc34173946439dc38d84a0d",
       "version_major": 2,
       "version_minor": 0
      },
      "text/plain": [
       "  0%|          | 0/4636645 [00:00<?, ?it/s]"
      ]
     },
     "metadata": {},
     "output_type": "display_data"
    },
    {
     "name": "stdout",
     "output_type": "stream",
     "text": [
      "####################################################################################################\n",
      "Number of Samples after transformations:\n",
      "10,867,699\n",
      "####################################################################################################\n"
     ]
    },
    {
     "data": {
      "application/vnd.jupyter.widget-view+json": {
       "model_id": "86c30c8e94444d248fc60e69ff21b4e4",
       "version_major": 2,
       "version_minor": 0
      },
      "text/plain": [
       "  0%|          | 0/10867699 [00:00<?, ?it/s]"
      ]
     },
     "metadata": {},
     "output_type": "display_data"
    },
    {
     "name": "stdout",
     "output_type": "stream",
     "text": [
      "####################################################################################################\n",
      "Number of Samples when considering sample with 30 tokens or more:\n",
      "1,460,225\n",
      "####################################################################################################\n"
     ]
    },
    {
     "data": {
      "application/vnd.jupyter.widget-view+json": {
       "model_id": "852513e7c4bd4799bf71609d20de5657",
       "version_major": 2,
       "version_minor": 0
      },
      "text/plain": [
       "  0%|          | 0/1440782 [00:00<?, ?it/s]"
      ]
     },
     "metadata": {},
     "output_type": "display_data"
    },
    {
     "name": "stdout",
     "output_type": "stream",
     "text": [
      "####################################################################################################\n",
      "Number of samples:\n",
      "6236\n",
      "####################################################################################################\n",
      "####################################################################################################\n",
      "Original Number of Samples:\n",
      "650,986\n",
      "####################################################################################################\n",
      "####################################################################################################\n",
      "Number of Samples after dropping duplicates:\n",
      "637,565\n",
      "####################################################################################################\n",
      "####################################################################################################\n",
      "Sample of datasets documents:\n",
      "يَتَوَضَّأُ ثَلَاثًا \" ، يَرْفَعُهُ إِلَى النَّبِيِّ صَلَّى اللَّهُ عَلَيْهِ وَسَلَّمَ .\n",
      "يَغْتَسِلُ مِنَ الْجَنَابَةِ ، ثُمَّ يَجِيءُ ، وَلَهُ قَفْقَفَةٌ ، فَيَسْتَدْفِئُ بِي ، وَلَمْ أَغْتَسِلْ \" .\n",
      "! ، لا تَبُلْ قَائِمًا \" ، فَمَا بُلْتُ بَعْدُ قَائِمًا  .\n",
      "! أَنْتَ نَهَيْتَ النَّاسَ أَنْ يُصَلُّوا فِي نِعَالِهِمْ ؟ , فَقَالَ : لا , لَعَمْرُ اللَّهِ ! مَا نَهَيْتُ النَّاسَ أَنْ يُصَلُّوا فِي نِعَالِهِمْ , غَيْرَ أَنِّي وَرَبِّ هَذِهِ الْحُرْمَةِ , حَتَّى قَالَهَا : ثَلاثًا ، لَقَدْ رَأَيْتُ النَّبِيَّ صَلَّى اللَّهُ عَلَيْهِ وَسَلَّمَ ، هَهُنَا عِنْدَ الْمَقَامِ \" يُصَلِّي وَعَلَيْهِ نَعْلاهُ ، ثُمَّ انْصَرَفَ وَهُمَا عَلَيْهِ \"  .\n",
      "! إِنْ أَنَا صَدَقْتُ فَصَدِّقْنِي ، وَإِنْ أَنَا كَذَبْتُ فَكَذِّبْنِي ، قَالَ : فَافْعَلْ ، قَالَ \" فَأَنْشُدُكَ بِاللَّهِ ، هَلْ سَمِعْتَ رَسُولَ اللَّهِ صَلَّى اللَّهُ عَلَيْهِ وَسَلَّمَ يَنْهَى عَنْ لُبْسِ الذَّهَبِ ؟ ، قَالَ : نَعَمْ . قَالَ : فَأَنْشُدُكَ بِاللَّهِ ، هَلْ تَعْلَمُ أَنَّ رَسُولَ اللَّهِ صَلَّى اللَّهُ عَلَيْهِ وَسَلَّمَ نَهَى عَنْ لُبْسِ الْحَرِيرِ ؟ ، قَالَ : نَعَمْ . قَالَ : فَأَنْشُدُكَ بِاللَّهِ ، هَلْ تَعْلَمُ أَنَّ رَسُولَ اللَّهِ صَلَّى اللَّهُ عَلَيْهِ وَسَلَّمَ نَهَى عَنْ لُبْسِ جُلُودِ السِّبَاعِ وَالرُّكُوبِ عَلَيْهَا ؟ قَالَ : نَعَمْ \"  .\n",
      "####################################################################################################\n"
     ]
    },
    {
     "data": {
      "application/vnd.jupyter.widget-view+json": {
       "model_id": "2cb6cc12236d476ba41ce838fce918e3",
       "version_major": 2,
       "version_minor": 0
      },
      "text/plain": [
       "  0%|          | 0/637565 [00:00<?, ?it/s]"
      ]
     },
     "metadata": {},
     "output_type": "display_data"
    },
    {
     "data": {
      "application/vnd.jupyter.widget-view+json": {
       "model_id": "45fd5a2cf00d4754b07e37eb1bbdfe7e",
       "version_major": 2,
       "version_minor": 0
      },
      "text/plain": [
       "  0%|          | 0/637565 [00:00<?, ?it/s]"
      ]
     },
     "metadata": {},
     "output_type": "display_data"
    },
    {
     "name": "stdout",
     "output_type": "stream",
     "text": [
      "####################################################################################################\n",
      "Number of Samples after splitting on dots:\n",
      "837,798\n",
      "####################################################################################################\n"
     ]
    },
    {
     "name": "stderr",
     "output_type": "stream",
     "text": [
      "Found cached dataset parquet (/home/majed_alshaibani/.cache/huggingface/datasets/arbml___parquet/MagedSaeed--ashaar-719bb58a76ea0092/0.0.0/2a3b91fbd88a2c90d1dbbb32b460cf621d31bd5b05b934492fdef7d8d6f236ec)\n",
      "Loading cached processed dataset at /home/majed_alshaibani/.cache/huggingface/datasets/arbml___parquet/MagedSaeed--ashaar-719bb58a76ea0092/0.0.0/2a3b91fbd88a2c90d1dbbb32b460cf621d31bd5b05b934492fdef7d8d6f236ec/cache-ad374fe98444926c.arrow\n"
     ]
    },
    {
     "name": "stdout",
     "output_type": "stream",
     "text": [
      "####################################################################################################\n",
      "Number datasets samples:\n",
      "254630\n",
      "####################################################################################################\n",
      "####################################################################################################\n",
      "Number datasets samples after filtering non accepted meters:\n",
      "249880\n",
      "####################################################################################################\n"
     ]
    },
    {
     "data": {
      "application/vnd.jupyter.widget-view+json": {
       "model_id": "e2659042a650424a93235a823deb75a1",
       "version_major": 2,
       "version_minor": 0
      },
      "text/plain": [
       "  0%|          | 0/249880 [00:00<?, ?it/s]"
      ]
     },
     "metadata": {},
     "output_type": "display_data"
    },
    {
     "name": "stdout",
     "output_type": "stream",
     "text": [
      "####################################################################################################\n",
      "Sample of datasets samples:\n",
      "أَصبَحَ المُلك لِلَّذي فَطر الخَل قَ بِتَقديرٍ للعَزيز العَليمِ\n",
      "غافر الذَنب للمسيءِ بِعَفوٍ قابل التَوب ذي العَطاء العَميمِ\n",
      "مُرسل المُصطَفى البَشير إِلَينا رَحمة مِنهُ بِالكَلام القَديمِ\n",
      "رَبَنا رَبّنا إِلَيكَ أَنينا فَأَجرنا مِن حَر نار الجَحيمِ\n",
      "وَاكفِنا شَرّ ما نَخاف بِلُطفٍ يا عَظيماً يَرجى لِكُل عَظيمِ\n",
      "####################################################################################################\n",
      "####################################################################################################\n",
      "Number of Baits:\n",
      "3,774,110\n",
      "####################################################################################################\n"
     ]
    },
    {
     "data": {
      "application/vnd.jupyter.widget-view+json": {
       "model_id": "ea1f1813b1e442c48b601172481f6323",
       "version_major": 2,
       "version_minor": 0
      },
      "text/plain": [
       "  0%|          | 0/3774110 [00:00<?, ?it/s]"
      ]
     },
     "metadata": {},
     "output_type": "display_data"
    },
    {
     "name": "stdout",
     "output_type": "stream",
     "text": [
      "####################################################################################################\n",
      "Number of baits after deleting 60>= len(bait) chars >= 30 chars:\n",
      "3,207,158\n",
      "####################################################################################################\n",
      "####################################################################################################\n",
      "Sample of datasets samples:\n",
      "\n",
      "وأكد خطاب الاتحاد الدولي الذي تسلمته إدارة نادي الوحدة أمس الأول على حق النادي في استبدال اللاعب المصاب قبل المباراة الأولى بأربع وعشرين ساعة، مبيناً أن يكون ذلك مدعماً بتقرير طبي بخصوص اصابة اللاعب، إضافة إلى عرض اللاعب على الجهاز الطبي الخاص الذي يشرف على فرق البطولة.\n",
      "####################################################################################################\n",
      "####################################################################################################\n",
      "Number of Samples before transformations:\n",
      "2,784,041\n",
      "####################################################################################################\n"
     ]
    },
    {
     "data": {
      "application/vnd.jupyter.widget-view+json": {
       "model_id": "841f0580625e45bb9b004571f3fcaa2f",
       "version_major": 2,
       "version_minor": 0
      },
      "text/plain": [
       "  0%|          | 0/2784041 [00:00<?, ?it/s]"
      ]
     },
     "metadata": {},
     "output_type": "display_data"
    },
    {
     "data": {
      "application/vnd.jupyter.widget-view+json": {
       "model_id": "f9492f69fb5e48c3906997d046b597b6",
       "version_major": 2,
       "version_minor": 0
      },
      "text/plain": [
       "  0%|          | 0/2784036 [00:00<?, ?it/s]"
      ]
     },
     "metadata": {},
     "output_type": "display_data"
    },
    {
     "name": "stdout",
     "output_type": "stream",
     "text": [
      "####################################################################################################\n",
      "Number of Samples after transformations:\n",
      "4,296,015\n",
      "####################################################################################################\n",
      "####################################################################################################\n",
      "Sample of datasets samples:\n",
      "\n",
      "تأثر دولوز بابن موريس «بيير هالبواكس» في أربعينيات القرن الماضي.\n",
      "####################################################################################################\n",
      "####################################################################################################\n",
      "Number of Samples before transformations:\n",
      "4,636,663\n",
      "####################################################################################################\n"
     ]
    },
    {
     "data": {
      "application/vnd.jupyter.widget-view+json": {
       "model_id": "924c5264f3bd42e093e661126dfe2cff",
       "version_major": 2,
       "version_minor": 0
      },
      "text/plain": [
       "  0%|          | 0/4636663 [00:01<?, ?it/s]"
      ]
     },
     "metadata": {},
     "output_type": "display_data"
    },
    {
     "data": {
      "application/vnd.jupyter.widget-view+json": {
       "model_id": "dbd8a2e669104aa58997cdd2ae8c2649",
       "version_major": 2,
       "version_minor": 0
      },
      "text/plain": [
       "  0%|          | 0/4636645 [00:00<?, ?it/s]"
      ]
     },
     "metadata": {},
     "output_type": "display_data"
    },
    {
     "name": "stdout",
     "output_type": "stream",
     "text": [
      "####################################################################################################\n",
      "Number of Samples after transformations:\n",
      "10,867,699\n",
      "####################################################################################################\n"
     ]
    },
    {
     "data": {
      "application/vnd.jupyter.widget-view+json": {
       "model_id": "a8a4a0f91a394433ae9f06d7852628fa",
       "version_major": 2,
       "version_minor": 0
      },
      "text/plain": [
       "  0%|          | 0/10867699 [00:00<?, ?it/s]"
      ]
     },
     "metadata": {},
     "output_type": "display_data"
    },
    {
     "name": "stdout",
     "output_type": "stream",
     "text": [
      "####################################################################################################\n",
      "Number of Samples when considering sample with 30 tokens or more:\n",
      "1,460,225\n",
      "####################################################################################################\n",
      "####################################################################################################\n",
      "Sample of datasets samples:\n",
      "بِسْمِ اللَّهِ الرَّحْمَٰنِ الرَّحِيمِ\n",
      "الْحَمْدُ لِلَّهِ رَبِّ الْعَالَمِينَ\n",
      "####################################################################################################\n",
      "####################################################################################################\n",
      "Number of Samples before transformations:\n",
      "9,807,432\n",
      "####################################################################################################\n"
     ]
    },
    {
     "data": {
      "application/vnd.jupyter.widget-view+json": {
       "model_id": "6aef4331153f496daf0d317cce992b9f",
       "version_major": 2,
       "version_minor": 0
      },
      "text/plain": [
       "  0%|          | 0/9807432 [00:01<?, ?it/s]"
      ]
     },
     "metadata": {},
     "output_type": "display_data"
    },
    {
     "data": {
      "application/vnd.jupyter.widget-view+json": {
       "model_id": "100b7a8433464c5bad8db11f29e282ec",
       "version_major": 2,
       "version_minor": 0
      },
      "text/plain": [
       "  0%|          | 0/9808355 [00:00<?, ?it/s]"
      ]
     },
     "metadata": {},
     "output_type": "display_data"
    },
    {
     "name": "stdout",
     "output_type": "stream",
     "text": [
      "####################################################################################################\n",
      "Number of Samples after transformations:\n",
      "9,936,920\n",
      "####################################################################################################\n"
     ]
    },
    {
     "data": {
      "application/vnd.jupyter.widget-view+json": {
       "model_id": "1f69d248047e433f98ec1f5dc0ec106e",
       "version_major": 2,
       "version_minor": 0
      },
      "text/plain": [
       "  0%|          | 0/9651620 [00:00<?, ?it/s]"
      ]
     },
     "metadata": {},
     "output_type": "display_data"
    }
   ],
   "source": [
    "prepare_dataset = lambda dataset: list(filter(lambda item: len(item)>0,tqdm(list(dict.fromkeys(dataset)))))\n",
    "datasets = {\n",
    "    'quran':prepare_dataset(collect_quran_dataset()),\n",
    "    'sanadset_hadeeth':prepare_dataset(collect_sanadset_hadeeth_dataset()),\n",
    "    'poems':prepare_dataset(collect_poems_dataset()),\n",
    "    'news':prepare_dataset(collect_news_dataset()),\n",
    "    'wikipedia':prepare_dataset(collect_wikipedia_dataset()),\n",
    "    'aggregated':prepare_dataset(collect_aggregated_dataset()),\n",
    "}"
   ]
  },
  {
   "cell_type": "code",
   "execution_count": 4,
   "id": "ebd109d7-989b-4950-b7e9-503e74a041de",
   "metadata": {
    "tags": []
   },
   "outputs": [
    {
     "data": {
      "application/vnd.jupyter.widget-view+json": {
       "model_id": "7518fa98c27c4b8785ddc2bb8cb5799f",
       "version_major": 2,
       "version_minor": 0
      },
      "text/plain": [
       "  0%|          | 0/6057 [00:00<?, ?it/s]"
      ]
     },
     "metadata": {},
     "output_type": "display_data"
    },
    {
     "data": {
      "application/vnd.jupyter.widget-view+json": {
       "model_id": "45c3125a84c8445f8a15f86e87ddd500",
       "version_major": 2,
       "version_minor": 0
      },
      "text/plain": [
       "  0%|          | 0/6057 [00:00<?, ?it/s]"
      ]
     },
     "metadata": {},
     "output_type": "display_data"
    },
    {
     "data": {
      "application/vnd.jupyter.widget-view+json": {
       "model_id": "5cb437de933d4fa1bd8bb16a92da7d12",
       "version_major": 2,
       "version_minor": 0
      },
      "text/plain": [
       "  0%|          | 0/6057 [00:00<?, ?it/s]"
      ]
     },
     "metadata": {},
     "output_type": "display_data"
    },
    {
     "data": {
      "application/vnd.jupyter.widget-view+json": {
       "model_id": "0b3d372069b84485b484827dd2b17ed4",
       "version_major": 2,
       "version_minor": 0
      },
      "text/plain": [
       "  0%|          | 0/6057 [00:00<?, ?it/s]"
      ]
     },
     "metadata": {},
     "output_type": "display_data"
    },
    {
     "data": {
      "application/vnd.jupyter.widget-view+json": {
       "model_id": "7ffcf30d82a246c691d4949255f32c25",
       "version_major": 2,
       "version_minor": 0
      },
      "text/plain": [
       "  0%|          | 0/818354 [00:00<?, ?it/s]"
      ]
     },
     "metadata": {},
     "output_type": "display_data"
    },
    {
     "data": {
      "application/vnd.jupyter.widget-view+json": {
       "model_id": "e96f66b0a6c64ae4b87bb999b8adb7ac",
       "version_major": 2,
       "version_minor": 0
      },
      "text/plain": [
       "  0%|          | 0/818354 [00:00<?, ?it/s]"
      ]
     },
     "metadata": {},
     "output_type": "display_data"
    },
    {
     "data": {
      "application/vnd.jupyter.widget-view+json": {
       "model_id": "d9f06381b00f4df4a163bcdfc6886b60",
       "version_major": 2,
       "version_minor": 0
      },
      "text/plain": [
       "  0%|          | 0/818354 [00:00<?, ?it/s]"
      ]
     },
     "metadata": {},
     "output_type": "display_data"
    },
    {
     "data": {
      "application/vnd.jupyter.widget-view+json": {
       "model_id": "e3a6cc1bae3a479da52fa26b675ebc31",
       "version_major": 2,
       "version_minor": 0
      },
      "text/plain": [
       "  0%|          | 0/818354 [00:00<?, ?it/s]"
      ]
     },
     "metadata": {},
     "output_type": "display_data"
    },
    {
     "data": {
      "application/vnd.jupyter.widget-view+json": {
       "model_id": "ccddd4b792ca4d01ab10172252d9ca9a",
       "version_major": 2,
       "version_minor": 0
      },
      "text/plain": [
       "  0%|          | 0/3090273 [00:00<?, ?it/s]"
      ]
     },
     "metadata": {},
     "output_type": "display_data"
    },
    {
     "data": {
      "application/vnd.jupyter.widget-view+json": {
       "model_id": "510830ec498b448d807acbb882af276b",
       "version_major": 2,
       "version_minor": 0
      },
      "text/plain": [
       "  0%|          | 0/3090273 [00:00<?, ?it/s]"
      ]
     },
     "metadata": {},
     "output_type": "display_data"
    },
    {
     "data": {
      "application/vnd.jupyter.widget-view+json": {
       "model_id": "9fb98fc045ad4a78a40ca01e3c296931",
       "version_major": 2,
       "version_minor": 0
      },
      "text/plain": [
       "  0%|          | 0/3090273 [00:00<?, ?it/s]"
      ]
     },
     "metadata": {},
     "output_type": "display_data"
    },
    {
     "data": {
      "application/vnd.jupyter.widget-view+json": {
       "model_id": "b9fdbe74884d40e7a1cf37708fe0670e",
       "version_major": 2,
       "version_minor": 0
      },
      "text/plain": [
       "  0%|          | 0/3090273 [00:00<?, ?it/s]"
      ]
     },
     "metadata": {},
     "output_type": "display_data"
    },
    {
     "data": {
      "application/vnd.jupyter.widget-view+json": {
       "model_id": "2b3af4a89a374c4296eaca6916ff7fc2",
       "version_major": 2,
       "version_minor": 0
      },
      "text/plain": [
       "  0%|          | 0/4203375 [00:00<?, ?it/s]"
      ]
     },
     "metadata": {},
     "output_type": "display_data"
    },
    {
     "data": {
      "application/vnd.jupyter.widget-view+json": {
       "model_id": "b9118967b51149c590ff1bcd686d9c41",
       "version_major": 2,
       "version_minor": 0
      },
      "text/plain": [
       "  0%|          | 0/4203375 [00:00<?, ?it/s]"
      ]
     },
     "metadata": {},
     "output_type": "display_data"
    },
    {
     "data": {
      "application/vnd.jupyter.widget-view+json": {
       "model_id": "6562e78652dd44ce88993143c9ff80a1",
       "version_major": 2,
       "version_minor": 0
      },
      "text/plain": [
       "  0%|          | 0/4203375 [00:00<?, ?it/s]"
      ]
     },
     "metadata": {},
     "output_type": "display_data"
    },
    {
     "data": {
      "application/vnd.jupyter.widget-view+json": {
       "model_id": "859c001a02994ac8a7ffb8e39aa324ed",
       "version_major": 2,
       "version_minor": 0
      },
      "text/plain": [
       "  0%|          | 0/4203375 [00:00<?, ?it/s]"
      ]
     },
     "metadata": {},
     "output_type": "display_data"
    },
    {
     "data": {
      "application/vnd.jupyter.widget-view+json": {
       "model_id": "3a7cf77022fb4bc891294f50e365027a",
       "version_major": 2,
       "version_minor": 0
      },
      "text/plain": [
       "  0%|          | 0/1440782 [00:00<?, ?it/s]"
      ]
     },
     "metadata": {},
     "output_type": "display_data"
    },
    {
     "data": {
      "application/vnd.jupyter.widget-view+json": {
       "model_id": "43857d5931604ecdad8af93d94e85572",
       "version_major": 2,
       "version_minor": 0
      },
      "text/plain": [
       "  0%|          | 0/1440782 [00:00<?, ?it/s]"
      ]
     },
     "metadata": {},
     "output_type": "display_data"
    },
    {
     "data": {
      "application/vnd.jupyter.widget-view+json": {
       "model_id": "6104940d007d4f27a7fba577627c44c6",
       "version_major": 2,
       "version_minor": 0
      },
      "text/plain": [
       "  0%|          | 0/1440782 [00:00<?, ?it/s]"
      ]
     },
     "metadata": {},
     "output_type": "display_data"
    },
    {
     "data": {
      "application/vnd.jupyter.widget-view+json": {
       "model_id": "6168ca620e084a5594b08c9327fee5fd",
       "version_major": 2,
       "version_minor": 0
      },
      "text/plain": [
       "  0%|          | 0/1440782 [00:00<?, ?it/s]"
      ]
     },
     "metadata": {},
     "output_type": "display_data"
    },
    {
     "data": {
      "application/vnd.jupyter.widget-view+json": {
       "model_id": "01218a553ea64e418e46d161cff80495",
       "version_major": 2,
       "version_minor": 0
      },
      "text/plain": [
       "  0%|          | 0/9651620 [00:00<?, ?it/s]"
      ]
     },
     "metadata": {},
     "output_type": "display_data"
    },
    {
     "data": {
      "application/vnd.jupyter.widget-view+json": {
       "model_id": "9f7718db44d8426d97663d20855de8d0",
       "version_major": 2,
       "version_minor": 0
      },
      "text/plain": [
       "  0%|          | 0/9651620 [00:00<?, ?it/s]"
      ]
     },
     "metadata": {},
     "output_type": "display_data"
    },
    {
     "data": {
      "application/vnd.jupyter.widget-view+json": {
       "model_id": "52a56d6d29bf423899c4fd667a946a97",
       "version_major": 2,
       "version_minor": 0
      },
      "text/plain": [
       "  0%|          | 0/9651620 [00:00<?, ?it/s]"
      ]
     },
     "metadata": {},
     "output_type": "display_data"
    },
    {
     "data": {
      "application/vnd.jupyter.widget-view+json": {
       "model_id": "72b23ab32a5944de99f7cd287db67e62",
       "version_major": 2,
       "version_minor": 0
      },
      "text/plain": [
       "  0%|          | 0/9651620 [00:02<?, ?it/s]"
      ]
     },
     "metadata": {},
     "output_type": "display_data"
    },
    {
     "name": "stdout",
     "output_type": "stream",
     "text": [
      "+------------------+---------+-------------+----------------+----------------------------+---------+----------+\n",
      "|     dataset      | samples | all words N | unique words V | unique words (undotted) V` | V/N (%) | V`/N (%) |\n",
      "+------------------+---------+-------------+----------------+----------------------------+---------+----------+\n",
      "|      quran       |  6057   |   76,911    |     14,748     |           14,006           | 19.175  |  18.211  |\n",
      "+------------------+---------+-------------+----------------+----------------------------+---------+----------+\n",
      "| sanadset_hadeeth | 818354  | 28,759,423  |    317,331     |          254,014           |  1.103  |  0.883   |\n",
      "+------------------+---------+-------------+----------------+----------------------------+---------+----------+\n",
      "|      poems       | 3090273 | 29,615,715  |    938,664     |          667,043           |  3.17   |  2.252   |\n",
      "+------------------+---------+-------------+----------------+----------------------------+---------+----------+\n",
      "|       news       | 4203375 | 134,427,152 |    892,583     |          728,986           |  0.664  |  0.542   |\n",
      "+------------------+---------+-------------+----------------+----------------------------+---------+----------+\n",
      "|    wikipedia     | 1440782 | 62,413,075  |   1,050,038    |          858,304           |  1.682  |  1.375   |\n",
      "+------------------+---------+-------------+----------------+----------------------------+---------+----------+\n",
      "|    aggregated    | 9651620 | 255,129,750 |   2,067,444    |         1,551,761          |  0.81   |  0.608   |\n",
      "+------------------+---------+-------------+----------------+----------------------------+---------+----------+\n"
     ]
    }
   ],
   "source": [
    "words_analysis_table = BeautifulTable(maxwidth=300)\n",
    "words_analysis_table.columns.header = [\n",
    "    'dataset',\n",
    "    'samples',\n",
    "    'all words N',\n",
    "    'unique words V',\n",
    "    'unique words (undotted) V`',\n",
    "    'V/N (%)',\n",
    "    'V`/N (%)',\n",
    "  ]\n",
    "\n",
    "for dataset_name in datasets.keys():\n",
    "    dataset = list(map(process,tqdm(datasets[dataset_name])))\n",
    "    counter = tokens_frequency(dataset=tuple(dataset))\n",
    "    \n",
    "    undotted_dataset = list(map(undot,tqdm(dataset)))\n",
    "    undotted_counter = tokens_frequency(dataset=tuple(undotted_dataset))\n",
    "    \n",
    "    assert sum(counter.values()) == sum(undotted_counter.values()), f'{sum(counter.values())} != {sum(undotted_counter.values())}'\n",
    "    \n",
    "    words_analysis_table.rows.append([\n",
    "      dataset_name,\n",
    "      f'{len(dataset)}',\n",
    "      f'{sum(counter.values()):,}',\n",
    "      f'{len(counter.keys()):,}',\n",
    "      f'{len(undotted_counter.keys()):,}',\n",
    "      f'{(len(counter.keys())/sum(counter.values()))*100:.4f}',\n",
    "      f'{(len(undotted_counter.keys())/sum(counter.values()))*100:.4f}',\n",
    "  ]\n",
    ")\n",
    "\n",
    "print(words_analysis_table)"
   ]
  }
 ],
 "metadata": {
  "kernelspec": {
   "display_name": "Python 3 (ipykernel)",
   "language": "python",
   "name": "python3"
  },
  "language_info": {
   "codemirror_mode": {
    "name": "ipython",
    "version": 3
   },
   "file_extension": ".py",
   "mimetype": "text/x-python",
   "name": "python",
   "nbconvert_exporter": "python",
   "pygments_lexer": "ipython3",
   "version": "3.10.6"
  }
 },
 "nbformat": 4,
 "nbformat_minor": 5
}
