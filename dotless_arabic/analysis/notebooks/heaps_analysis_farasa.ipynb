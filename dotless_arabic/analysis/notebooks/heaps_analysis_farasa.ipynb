{
 "cells": [
  {
   "cell_type": "code",
   "execution_count": 1,
   "metadata": {},
   "outputs": [
    {
     "data": {
      "text/plain": [
       "['/home/g201381710/ExperimentsGH/DotlessArabic2/DotlessArabic/dotless_arabic/analysis/notebooks',\n",
       " '/usr/lib/python310.zip',\n",
       " '/usr/lib/python3.10',\n",
       " '/usr/lib/python3.10/lib-dynload',\n",
       " '',\n",
       " '/home/g201381710/.local/lib/python3.10/site-packages',\n",
       " '/usr/local/lib/python3.10/dist-packages',\n",
       " '/usr/lib/python3/dist-packages',\n",
       " '/usr/lib/python3.10/dist-packages',\n",
       " '/usr/lib/python3/dist-packages/IPython/extensions',\n",
       " '/home/g201381710/.ipython',\n",
       " '/home/g201381710/ExperimentsGH/DotlessArabic2/DotlessArabic',\n",
       " '/home/g201381710/.local/lib/python3.10/site-packages',\n",
       " '/home/g201381710/anaconda3/envs/dl4/lib/python3.10/site-packages']"
      ]
     },
     "execution_count": 1,
     "metadata": {},
     "output_type": "execute_result"
    }
   ],
   "source": [
    "import sys\n",
    "sys.path.append('/home/g201381710/ExperimentsGH/DotlessArabic2/DotlessArabic')\n",
    "sys.path.append('/home/g201381710/.local/lib/python3.10/site-packages')\n",
    "sys.path.append('/home/g201381710/anaconda3/envs/dl4/lib/python3.10/site-packages')\n",
    "\n",
    "sys.path"
   ]
  },
  {
   "cell_type": "code",
   "execution_count": 2,
   "metadata": {},
   "outputs": [],
   "source": [
    "import re,random,math\n",
    "from collections import Counter\n",
    "from functools import lru_cache\n",
    "\n",
    "from farasa.segmenter import FarasaSegmenter\n",
    "\n",
    "import numpy as np\n",
    "from tqdm.auto import tqdm\n",
    "import matplotlib.pyplot as plt\n",
    "from scipy.stats import linregress\n",
    "\n",
    "from dotless_arabic.processing import process,undot\n",
    "\n",
    "from dotless_arabic.tokenizers import DisjointLetterTokenizer,FarasaMorphologicalTokenizer, WordTokenizer\n",
    "\n",
    "from dotless_arabic.datasets.news.collect import collect_dataset_for_analysis as collect_news_dataset_for_analysis\n",
    "from dotless_arabic.datasets.quran.collect import collect_dataset_for_analysis as collect_quran_dataset_for_analysis\n",
    "from dotless_arabic.datasets.poems.collect import collect_dataset_for_analysis as collect_poems_dataset_for_analysis\n",
    "from dotless_arabic.datasets.wikipedia.collect import collect_dataset_for_analysis as collect_wikipedia_dataset_for_analysis\n",
    "from dotless_arabic.datasets.aggregated.collect import collect_dataset_for_analysis as collect_aggregated_dataset_for_analysis\n",
    "from dotless_arabic.datasets.sanadset_hadeeth.collect import collect_dataset_for_analysis as collect_sanadset_hadeeth_dataset_for_analysis"
   ]
  },
  {
   "cell_type": "code",
   "execution_count": 3,
   "metadata": {},
   "outputs": [],
   "source": [
    "random.seed(42)"
   ]
  },
  {
   "cell_type": "markdown",
   "metadata": {},
   "source": [
    "# functions"
   ]
  },
  {
   "cell_type": "code",
   "execution_count": 4,
   "metadata": {},
   "outputs": [
    {
     "name": "stderr",
     "output_type": "stream",
     "text": [
      "[2023-02-28 00:07:49,577 - farasapy_logger - WARNING]: Be careful with large lines as they may break on interactive mode. You may switch to Standalone mode for such cases.\n"
     ]
    }
   ],
   "source": [
    "tokenizer = FarasaMorphologicalTokenizer()"
   ]
  },
  {
   "cell_type": "code",
   "execution_count": 5,
   "metadata": {},
   "outputs": [],
   "source": [
    "@lru_cache()\n",
    "def tokenize_dataset(dataset):\n",
    "    tokenized_dataset = list()\n",
    "    if isinstance(tokenizer,FarasaMorphologicalTokenizer):\n",
    "        segmenter = FarasaSegmenter(interactive=True)\n",
    "    for document in tqdm(dataset):\n",
    "        if isinstance(tokenizer,FarasaMorphologicalTokenizer):\n",
    "            tokenized_document = \" \".join(\n",
    "                tokenizer.split_text(\n",
    "                    document,\n",
    "                    segmenter=segmenter,\n",
    "                )\n",
    "            )\n",
    "        else:\n",
    "            tokenized_document = \" \".join(tokenizer.split_text(document))\n",
    "        tokenized_document = tokenized_document.replace(\"<##>\", \"\")\n",
    "        tokenized_document = re.sub(\"\\s+\", \" \", tokenized_document)\n",
    "        tokenized_dataset.append(tokenized_document)\n",
    "    return tokenized_dataset"
   ]
  },
  {
   "cell_type": "code",
   "execution_count": 6,
   "metadata": {},
   "outputs": [],
   "source": [
    "@lru_cache()\n",
    "def words_counter(dataset,use_tqdm=True):\n",
    "    if not use_tqdm:\n",
    "        return Counter(word for item in dataset for word in item.split())    \n",
    "    return Counter(word for item in tqdm(dataset) for word in item.split())\n",
    "\n",
    "@lru_cache()\n",
    "def undot_dataset(dataset):\n",
    "    return list(map(undot, tqdm(dataset)))\n",
    "\n",
    "@lru_cache()\n",
    "def process_dataset(dataset):\n",
    "    return list(map(process, tqdm(dataset)))"
   ]
  },
  {
   "cell_type": "code",
   "execution_count": 7,
   "metadata": {},
   "outputs": [
    {
     "name": "stderr",
     "output_type": "stream",
     "text": [
      "[2023-02-28 00:07:51,422 - farasapy_logger - WARNING]: Be careful with large lines as they may break on interactive mode. You may switch to Standalone mode for such cases.\n"
     ]
    },
    {
     "data": {
      "application/vnd.jupyter.widget-view+json": {
       "model_id": "e52c9d0696f64219a55746d3ade4e2a0",
       "version_major": 2,
       "version_minor": 0
      },
      "text/plain": [
       "  0%|          | 0/6236 [00:00<?, ?it/s]"
      ]
     },
     "metadata": {},
     "output_type": "display_data"
    },
    {
     "name": "stdout",
     "output_type": "stream",
     "text": [
      "####################################################################################################\n",
      "Original Number of Samples:\n",
      "650,986\n",
      "####################################################################################################\n"
     ]
    },
    {
     "name": "stderr",
     "output_type": "stream",
     "text": [
      "[2023-02-28 00:08:13,086 - farasapy_logger - WARNING]: Be careful with large lines as they may break on interactive mode. You may switch to Standalone mode for such cases.\n"
     ]
    },
    {
     "name": "stdout",
     "output_type": "stream",
     "text": [
      "####################################################################################################\n",
      "Number of Samples after dropping duplicates:\n",
      "637,565\n",
      "####################################################################################################\n"
     ]
    },
    {
     "data": {
      "application/vnd.jupyter.widget-view+json": {
       "model_id": "be4798a595bb43f9adb4ef008f09ee5c",
       "version_major": 2,
       "version_minor": 0
      },
      "text/plain": [
       "  0%|          | 0/637565 [00:00<?, ?it/s]"
      ]
     },
     "metadata": {},
     "output_type": "display_data"
    },
    {
     "name": "stderr",
     "output_type": "stream",
     "text": [
      "Using custom data configuration MagedSaeed--ashaar-719bb58a76ea0092\n",
      "Found cached dataset parquet (/home/g201381710/.cache/huggingface/datasets/arbml___parquet/MagedSaeed--ashaar-719bb58a76ea0092/0.0.0/2a3b91fbd88a2c90d1dbbb32b460cf621d31bd5b05b934492fdef7d8d6f236ec)\n",
      "[2023-02-28 00:24:27,204 - farasapy_logger - WARNING]: Be careful with large lines as they may break on interactive mode. You may switch to Standalone mode for such cases.\n"
     ]
    },
    {
     "data": {
      "application/vnd.jupyter.widget-view+json": {
       "model_id": "23b0b1852b8b46bca47946ac57c1796b",
       "version_major": 2,
       "version_minor": 0
      },
      "text/plain": [
       "  0%|          | 0/7714858 [00:00<?, ?it/s]"
      ]
     },
     "metadata": {},
     "output_type": "display_data"
    },
    {
     "name": "stderr",
     "output_type": "stream",
     "text": [
      "[2023-02-28 01:00:12,944 - farasapy_logger - WARNING]: Be careful with large lines as they may break on interactive mode. You may switch to Standalone mode for such cases.\n"
     ]
    },
    {
     "data": {
      "application/vnd.jupyter.widget-view+json": {
       "model_id": "e42a9c4417e843d7b08ebdd6f73e638c",
       "version_major": 2,
       "version_minor": 0
      },
      "text/plain": [
       "  0%|          | 0/4636663 [00:00<?, ?it/s]"
      ]
     },
     "metadata": {},
     "output_type": "display_data"
    },
    {
     "name": "stderr",
     "output_type": "stream",
     "text": [
      "[2023-02-28 03:01:56,031 - farasapy_logger - WARNING]: Be careful with large lines as they may break on interactive mode. You may switch to Standalone mode for such cases.\n"
     ]
    },
    {
     "data": {
      "application/vnd.jupyter.widget-view+json": {
       "model_id": "00f9de1a6d4b48809ac7c73a0f9cf2e1",
       "version_major": 2,
       "version_minor": 0
      },
      "text/plain": [
       "  0%|          | 0/2784041 [00:00<?, ?it/s]"
      ]
     },
     "metadata": {},
     "output_type": "display_data"
    }
   ],
   "source": [
    "# tokenize datasets\n",
    "all_datasets = [\n",
    "    tokenize_dataset(dataset=tuple(collect_quran_dataset_for_analysis())),\n",
    "    tokenize_dataset(dataset=tuple(collect_sanadset_hadeeth_dataset_for_analysis())),\n",
    "    tokenize_dataset(dataset=tuple(collect_poems_dataset_for_analysis())),\n",
    "    tokenize_dataset(dataset=tuple(collect_wikipedia_dataset_for_analysis())),\n",
    "    tokenize_dataset(dataset=tuple(collect_news_dataset_for_analysis())),\n",
    "#     tokenize_dataset(dataset=tuple(collect_raw_aggregated_dataset())),\n",
    "]\n",
    "\n",
    "aggregated_dataset = []\n",
    "for _dataset in all_datasets:\n",
    "    aggregated_dataset.extend(_dataset)\n",
    "all_datasets.append(aggregated_dataset)"
   ]
  },
  {
   "cell_type": "code",
   "execution_count": 8,
   "metadata": {},
   "outputs": [
    {
     "data": {
      "application/vnd.jupyter.widget-view+json": {
       "model_id": "8bdb73add3034fa2806133a314d1e510",
       "version_major": 2,
       "version_minor": 0
      },
      "text/plain": [
       "  0%|          | 0/6236 [00:00<?, ?it/s]"
      ]
     },
     "metadata": {},
     "output_type": "display_data"
    },
    {
     "data": {
      "application/vnd.jupyter.widget-view+json": {
       "model_id": "ec1566fa89654229b0c73b4ef84986a6",
       "version_major": 2,
       "version_minor": 0
      },
      "text/plain": [
       "  0%|          | 0/637565 [00:00<?, ?it/s]"
      ]
     },
     "metadata": {},
     "output_type": "display_data"
    },
    {
     "data": {
      "application/vnd.jupyter.widget-view+json": {
       "model_id": "1e5907bbb4fc4eaaba2f854354ccb474",
       "version_major": 2,
       "version_minor": 0
      },
      "text/plain": [
       "  0%|          | 0/7714858 [00:00<?, ?it/s]"
      ]
     },
     "metadata": {},
     "output_type": "display_data"
    },
    {
     "data": {
      "application/vnd.jupyter.widget-view+json": {
       "model_id": "0c6d1407bc3f46968675800ef4812af0",
       "version_major": 2,
       "version_minor": 0
      },
      "text/plain": [
       "  0%|          | 0/4636663 [00:00<?, ?it/s]"
      ]
     },
     "metadata": {},
     "output_type": "display_data"
    },
    {
     "data": {
      "application/vnd.jupyter.widget-view+json": {
       "model_id": "5c40e64d49b14b7cb9ea77a566fba3eb",
       "version_major": 2,
       "version_minor": 0
      },
      "text/plain": [
       "  0%|          | 0/2784041 [00:00<?, ?it/s]"
      ]
     },
     "metadata": {},
     "output_type": "display_data"
    }
   ],
   "source": [
    "# process datasets\n",
    "all_datasets = [\n",
    "    process_dataset(dataset=tuple(all_datasets[0])),\n",
    "    process_dataset(dataset=tuple(all_datasets[1])),\n",
    "    process_dataset(dataset=tuple(all_datasets[2])),\n",
    "    process_dataset(dataset=tuple(all_datasets[3])),\n",
    "    process_dataset(dataset=tuple(all_datasets[4])),\n",
    "#     process_dataset(dataset=tuple(datasets[5])),\n",
    "]\n",
    "\n",
    "aggregated_dataset = []\n",
    "for _dataset in all_datasets:\n",
    "    aggregated_dataset.extend(_dataset)  \n",
    "all_datasets.append(aggregated_dataset)"
   ]
  },
  {
   "cell_type": "code",
   "execution_count": 9,
   "metadata": {},
   "outputs": [
    {
     "data": {
      "application/vnd.jupyter.widget-view+json": {
       "model_id": "dd8f438cee2b47b8927df0547c130974",
       "version_major": 2,
       "version_minor": 0
      },
      "text/plain": [
       "  0%|          | 0/6 [00:00<?, ?it/s]"
      ]
     },
     "metadata": {},
     "output_type": "display_data"
    }
   ],
   "source": [
    "for dataset in tqdm(all_datasets):\n",
    "    random.shuffle(dataset)"
   ]
  },
  {
   "cell_type": "code",
   "execution_count": 10,
   "metadata": {},
   "outputs": [],
   "source": [
    "all_datasets_names = [\n",
    "    'quran',\n",
    "    'sanadset hadeeth',\n",
    "    'poems',\n",
    "    'wikipedia',\n",
    "    'news',\n",
    "    'aggregated',\n",
    "]"
   ]
  },
  {
   "cell_type": "code",
   "execution_count": 11,
   "metadata": {},
   "outputs": [],
   "source": [
    "# we may need to report the error on the regression line: MSE, MAE, etc.\n",
    "def get_heaps_law_constants(dataset,n_points=500,get_points_list=False,clear_lru_cache=False):\n",
    "  X,Y = [],[]\n",
    "  vocabulary = set()\n",
    "  number_of_tokens = 0\n",
    "  for index in tqdm(range(\n",
    "      0,\n",
    "      len(dataset),\n",
    "      len(dataset)//n_points\n",
    "    )):\n",
    "    if index==0:\n",
    "      continue\n",
    "    \n",
    "    counter = words_counter(\n",
    "        tuple(dataset[index-(len(dataset)//n_points):index]),\n",
    "        use_tqdm=False,\n",
    "    )\n",
    "    \n",
    "    number_of_tokens += sum(counter.values())\n",
    "    X.append(\n",
    "        math.log(\n",
    "            number_of_tokens,\n",
    "            10, #base\n",
    "          ),\n",
    "      )\n",
    "    \n",
    "    vocabulary.update(counter.keys())\n",
    "    Y.append(\n",
    "        math.log(\n",
    "            len(vocabulary),\n",
    "            10, #base\n",
    "          ),\n",
    "      )\n",
    "    \n",
    "    if clear_lru_cache:\n",
    "      words_counter.cache_clear()\n",
    "    \n",
    "  slope,intercept,*_= linregress(X,Y)\n",
    "\n",
    "  b = slope\n",
    "  k = 10**intercept\n",
    "\n",
    "  if get_points_list:\n",
    "    return b,k,(X,Y)\n",
    "  return b,k"
   ]
  },
  {
   "cell_type": "code",
   "execution_count": 12,
   "metadata": {
    "scrolled": true
   },
   "outputs": [
    {
     "data": {
      "application/vnd.jupyter.widget-view+json": {
       "model_id": "1258d183e2af45d6a87d1c46d191b913",
       "version_major": 2,
       "version_minor": 0
      },
      "text/plain": [
       "  0%|          | 0/520 [00:00<?, ?it/s]"
      ]
     },
     "metadata": {},
     "output_type": "display_data"
    },
    {
     "data": {
      "text/plain": [
       "(0.5929906831241166, 7.176545322250756)"
      ]
     },
     "execution_count": 12,
     "metadata": {},
     "output_type": "execute_result"
    }
   ],
   "source": [
    "get_heaps_law_constants(dataset=all_datasets[0])"
   ]
  },
  {
   "cell_type": "code",
   "execution_count": 13,
   "metadata": {},
   "outputs": [],
   "source": [
    "def plot_heaps(\n",
    "    datasets=all_datasets,\n",
    "    datasets_names=all_datasets_names,\n",
    "    figsize=(25,15),\n",
    "  ):\n",
    "\n",
    "  unlog = lambda points: list(map(lambda point: 10**point,points))\n",
    "\n",
    "  plt.figure(figsize=figsize)\n",
    "    \n",
    "  for dataset,dataset_name in zip(datasets,datasets_names):\n",
    "        \n",
    "      beta,k,(X,Y) = get_heaps_law_constants(dataset,get_points_list=True)\n",
    "      print()\n",
    "      print('-'*100)\n",
    "      print('-'*100)\n",
    "      print('beta: ',beta,' k ',k,' for dataset: ',dataset_name)\n",
    "\n",
    "      print('some samples of the dotted X,Y lists:')  \n",
    "      print(list(map(lambda item: round(item,2),unlog(X[:10]))))\n",
    "      print(list(map(lambda item: round(item,2),unlog(Y[:10]))))\n",
    "        \n",
    "      if 'aggregated' in dataset_name:\n",
    "        undotted_dataset = []\n",
    "        for dataset in all_datasets[:-1]:\n",
    "            undotted_dataset.extend(undot_dataset(dataset=tuple(dataset)))\n",
    "        random.shuffle(undotted_dataset)\n",
    "      else:\n",
    "        undotted_dataset = undot_dataset(dataset=tuple(dataset))\n",
    "        \n",
    "      undotted_beta,undotted_k,(undotted_X,undotted_Y) = get_heaps_law_constants(undotted_dataset,get_points_list=True)\n",
    "      print('-'*100)\n",
    "      print('undotted beta: ',undotted_beta,' undotted k ',undotted_k, ' for dataset: ',dataset_name)\n",
    "      print('-'*100)\n",
    "      print('-'*100)\n",
    "      print()\n",
    "       \n",
    "      plt.plot(unlog(X),unlog(Y),label=f'{dataset_name} dataset (k={k:.3f},β={beta:.3f})')\n",
    "      # https://stackoverflow.com/a/41308516/4412324\n",
    "      # plt.text(\n",
    "      #     x=0.73,\n",
    "      #     y=0.95,\n",
    "      #     s=f'dotted: k={k:.3f},β={beta:.3f}',\n",
    "      #     transform=plt.gca().transAxes,\n",
    "      #     fontsize=12,\n",
    "      # )\n",
    "    \n",
    "      plt.plot(unlog(undotted_X),unlog(undotted_Y),label=f'undotted {dataset_name} dataset (k={undotted_k:.3f},β={undotted_beta:.3f})')\n",
    "        \n",
    "      # plt.text(\n",
    "      #     x=0.73,\n",
    "      #     y=0.92,\n",
    "      #     s=f'undotted: k={undotted_k:.3f},β={undotted_beta:.3f}',\n",
    "      #     transform=plt.gca().transAxes,\n",
    "      #     fontsize=12,\n",
    "      # )\n",
    "    \n",
    "      plt.legend(loc='upper left',fontsize=14)\n",
    "      plt.ylim(ymin=0)\n",
    "      plt.xlim(xmin=0)\n",
    "      # https://stackoverflow.com/questions/6390393/matplotlib-make-tick-labels-font-size-smaller\n",
    "      plt.xticks(fontsize=14)\n",
    "      plt.yticks(fontsize=14)\n",
    "      # https://stackoverflow.com/questions/34227595/how-to-change-font-size-of-the-scientific-notation-in-matplotlib\n",
    "      # https://stackoverflow.com/questions/21512305/inconsistent-font-size-for-scientific-notation-in-axis\n",
    "      plt.rc('font',size=12)"
   ]
  },
  {
   "cell_type": "code",
   "execution_count": 14,
   "metadata": {},
   "outputs": [
    {
     "data": {
      "application/vnd.jupyter.widget-view+json": {
       "model_id": "37484ecbae7c4af98210c32d1218685f",
       "version_major": 2,
       "version_minor": 0
      },
      "text/plain": [
       "  0%|          | 0/520 [00:00<?, ?it/s]"
      ]
     },
     "metadata": {},
     "output_type": "display_data"
    },
    {
     "name": "stdout",
     "output_type": "stream",
     "text": [
      "\n",
      "----------------------------------------------------------------------------------------------------\n",
      "----------------------------------------------------------------------------------------------------\n",
      "beta:  0.5929906831241166  k  7.176545322250756  for dataset:  quran\n",
      "some samples of the dotted X,Y lists:\n",
      "[273.0, 559.0, 844.0, 1097.0, 1431.0, 1701.0, 1898.0, 2121.0, 2417.0, 2650.0]\n",
      "[122.0, 217.0, 300.0, 364.0, 451.0, 515.0, 566.0, 614.0, 670.0, 714.0]\n"
     ]
    },
    {
     "data": {
      "application/vnd.jupyter.widget-view+json": {
       "model_id": "5ec2310cfe234e878779e23316cae505",
       "version_major": 2,
       "version_minor": 0
      },
      "text/plain": [
       "  0%|          | 0/6236 [00:00<?, ?it/s]"
      ]
     },
     "metadata": {},
     "output_type": "display_data"
    },
    {
     "data": {
      "application/vnd.jupyter.widget-view+json": {
       "model_id": "409a4f30858a47c298baf7601d8da64c",
       "version_major": 2,
       "version_minor": 0
      },
      "text/plain": [
       "  0%|          | 0/520 [00:00<?, ?it/s]"
      ]
     },
     "metadata": {},
     "output_type": "display_data"
    },
    {
     "name": "stdout",
     "output_type": "stream",
     "text": [
      "----------------------------------------------------------------------------------------------------\n",
      "undotted beta:  0.5713655742389527  undotted k  8.202903419083663  for dataset:  quran\n",
      "----------------------------------------------------------------------------------------------------\n",
      "----------------------------------------------------------------------------------------------------\n",
      "\n"
     ]
    },
    {
     "data": {
      "image/png": "[encoded data removed]",
      "text/plain": [
       "<Figure size 1800x1080 with 1 Axes>"
      ]
     },
     "metadata": {
      "needs_background": "light"
     },
     "output_type": "display_data"
    }
   ],
   "source": [
    "plot_heaps(\n",
    "    datasets=[all_datasets[0]],\n",
    "    datasets_names=[all_datasets_names[0]],\n",
    ")"
   ]
  },
  {
   "cell_type": "code",
   "execution_count": null,
   "metadata": {
    "scrolled": false
   },
   "outputs": [
    {
     "data": {
      "application/vnd.jupyter.widget-view+json": {
       "model_id": "22e4f5331bb54fd58ee3af4f2829899d",
       "version_major": 2,
       "version_minor": 0
      },
      "text/plain": [
       "  0%|          | 0/501 [00:00<?, ?it/s]"
      ]
     },
     "metadata": {},
     "output_type": "display_data"
    },
    {
     "name": "stdout",
     "output_type": "stream",
     "text": [
      "\n",
      "----------------------------------------------------------------------------------------------------\n",
      "----------------------------------------------------------------------------------------------------\n",
      "beta:  0.5700553768072459  k  12.697734771514355  for dataset:  aggregated\n",
      "some samples of the dotted X,Y lists:\n",
      "[1289169.0, 2578751.0, 3873519.0, 5172714.0, 6450924.0, 7742862.0, 9061950.0, 10334046.0, 11643606.0, 12938432.0]\n",
      "[42040.0, 60006.0, 74577.0, 87090.0, 98071.0, 108098.0, 117909.0, 126544.0, 135267.0, 143435.0]\n"
     ]
    },
    {
     "data": {
      "application/vnd.jupyter.widget-view+json": {
       "model_id": "8d6817008b004f42a7b3d2989e49c704",
       "version_major": 2,
       "version_minor": 0
      },
      "text/plain": [
       "  0%|          | 0/637565 [00:00<?, ?it/s]"
      ]
     },
     "metadata": {},
     "output_type": "display_data"
    },
    {
     "data": {
      "application/vnd.jupyter.widget-view+json": {
       "model_id": "a3e73262860d4f29b8f76e4476c0b1cc",
       "version_major": 2,
       "version_minor": 0
      },
      "text/plain": [
       "  0%|          | 0/7714858 [00:00<?, ?it/s]"
      ]
     },
     "metadata": {},
     "output_type": "display_data"
    },
    {
     "data": {
      "application/vnd.jupyter.widget-view+json": {
       "model_id": "9acb537260f5450cbb215c537ca5636e",
       "version_major": 2,
       "version_minor": 0
      },
      "text/plain": [
       "  0%|          | 0/4636663 [00:01<?, ?it/s]"
      ]
     },
     "metadata": {},
     "output_type": "display_data"
    }
   ],
   "source": [
    "plot_heaps(\n",
    "    datasets=all_datasets[:0:-1],\n",
    "    datasets_names=all_datasets_names[:0:-1],\n",
    ")"
   ]
  }
 ],
 "metadata": {
  "kernelspec": {
   "display_name": "Python 3 (ipykernel)",
   "language": "python",
   "name": "python3"
  },
  "language_info": {
   "codemirror_mode": {
    "name": "ipython",
    "version": 3
   },
   "file_extension": ".py",
   "mimetype": "text/x-python",
   "name": "python",
   "nbconvert_exporter": "python",
   "pygments_lexer": "ipython3",
   "version": "3.10.6"
  }
 },
 "nbformat": 4,
 "nbformat_minor": 4
}
